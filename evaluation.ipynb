{
 "cells": [
  {
   "cell_type": "markdown",
   "metadata": {},
   "source": [
    "# Statistik für das Projek „Mathe für Nicht-Freaks“ im Jahr 2018\n",
    "\n",
    "Scrolle runter, um die Statistik zu sehen."
   ]
  },
  {
   "cell_type": "code",
   "execution_count": 2,
   "metadata": {
    "collapsed": true
   },
   "outputs": [],
   "source": [
    "import requests\n",
    "import locale\n",
    "import matplotlib.pyplot as plt\n",
    "import numpy as np\n",
    "\n",
    "locale.setlocale(locale.LC_ALL, 'de_DE.utf8')\n",
    "\n",
    "from IPython.display import display, Markdown, HTML"
   ]
  },
  {
   "cell_type": "code",
   "execution_count": 3,
   "metadata": {
    "collapsed": true
   },
   "outputs": [],
   "source": [
    "def display_markdown(markdown):\n",
    "    display(Markdown(markdown))\n",
    "    \n",
    "def display_html(html):\n",
    "    display(HTML(html))\n",
    "    \n",
    "def h(title, level=1, hid=None):\n",
    "    html = \"<h\" + str(level)\n",
    "    \n",
    "    if hid:\n",
    "        html += \" id='\" + hid + \"'\"\n",
    "    \n",
    "    html += \">\"\n",
    "    html += title\n",
    "    html += \"</h\" + str(level) + \">\"\n",
    "    \n",
    "    display_html(html)\n",
    "    \n",
    "def d(x):\n",
    "    return locale.format(\"%9d\", x, grouping=True)\n",
    "\n",
    "def diff(a,b):\n",
    "    return locale.format(\"%+9d\", a-b, grouping=True)\n",
    "\n",
    "def quot(a,b):\n",
    "    if b != 0:\n",
    "        return \"(%+3.0f%%)\" % ((a-b)/b*100)\n",
    "    else:\n",
    "        return \" \" * 7"
   ]
  },
  {
   "cell_type": "code",
   "execution_count": 7,
   "metadata": {
    "collapsed": true
   },
   "outputs": [],
   "source": [
    "import requests\n",
    "\n",
    "from importlib import reload\n",
    "\n",
    "import api\n",
    "reload(api)\n",
    "\n",
    "from sitemap import parse_sitemap\n",
    "from api import MediaWikiSession, MediaWikiAPI\n",
    "from cachecontrol import CacheControl\n",
    "\n",
    "req_session = CacheControl(requests.session())\n",
    "\n",
    "wb = MediaWikiAPI(MediaWikiSession(\"de.wikibooks.org\", req_session))\n",
    "wp = MediaWikiAPI(MediaWikiSession(\"de.wikipedia.org\", req_session))"
   ]
  },
  {
   "cell_type": "code",
   "execution_count": 60,
   "metadata": {
    "collapsed": true
   },
   "outputs": [],
   "source": [
    "sitemap_code = wb.get_content(\"Mathe für Nicht-Freaks: Sitemap\")\n",
    "sitemap = parse_sitemap(sitemap_code)\n",
    "sitemap[\"name\"] = \"Mathe für Nicht-Freaks\"\n",
    "sitemap[\"link\"] = \"Mathe für Nicht-Freaks\""
   ]
  },
  {
   "cell_type": "code",
   "execution_count": 10,
   "metadata": {
    "collapsed": true
   },
   "outputs": [],
   "source": [
    "def node_func(func):\n",
    "    def result_func(node):\n",
    "        if \"link\" in node and node[\"link\"]:\n",
    "            if id(func) not in node:\n",
    "                node[id(func)] = func(node[\"link\"])\n",
    "                \n",
    "            return node[id(func)]\n",
    "        else:\n",
    "            return None\n",
    "    \n",
    "    return result_func\n",
    "\n",
    "def collect(func, node):\n",
    "    result = func(node)\n",
    "    if result != None:\n",
    "        result = [result]\n",
    "    else:\n",
    "        result = []\n",
    "    \n",
    "    for child in node[\"children\"]:\n",
    "        result += collect(func, child)\n",
    "    \n",
    "    return result\n",
    "\n",
    "def collect_pd(func, node):\n",
    "    return pd.Series(collect(func, node))\n",
    "\n",
    "def wb_views(start, end):\n",
    "    return node_func(lambda x: wb.pageviews(x,start,end))\n",
    "\n",
    "def wb_rev_count(start, end):\n",
    "    return node_func(lambda x: wb.revisions_count(x,start,end))"
   ]
  },
  {
   "cell_type": "code",
   "execution_count": 63,
   "metadata": {
    "collapsed": true
   },
   "outputs": [],
   "source": [
    "@node_func\n",
    "def authors_new(link):\n",
    "    return wb.authors(link, \"2018\", \"2019\")\n",
    "\n",
    "@node_func\n",
    "def authors_old(link):\n",
    "    return wb.authors(link, \"2017\", \"2018\")\n",
    "\n",
    "def collect_authors(authors_func, node):\n",
    "    result = authors_func(node)\n",
    "    \n",
    "    if not result:\n",
    "        result = {}\n",
    "    else:\n",
    "        result = dict(result.items())\n",
    "        \n",
    "    for child in node[\"children\"]:\n",
    "        child_result = collect_authors(authors_func, child)\n",
    "        \n",
    "        for k,v in child_result.items():\n",
    "            if k not in result:\n",
    "                result[k] = 0\n",
    "            \n",
    "            result[k] += v\n",
    "    \n",
    "    return result"
   ]
  },
  {
   "cell_type": "code",
   "execution_count": 20,
   "metadata": {
    "collapsed": true
   },
   "outputs": [],
   "source": [
    "views_new = wb_views(\"20180101\", \"20181231\")\n",
    "views_old = wb_views(\"20170101\", \"20171231\")"
   ]
  },
  {
   "cell_type": "code",
   "execution_count": 21,
   "metadata": {
    "collapsed": true
   },
   "outputs": [],
   "source": [
    "revs_new = wb_rev_count(\"2018\", \"2019\")\n",
    "revs_old = wb_rev_count(\"2017\", \"2018\")"
   ]
  },
  {
   "cell_type": "code",
   "execution_count": 22,
   "metadata": {
    "collapsed": true
   },
   "outputs": [],
   "source": [
    "@node_func\n",
    "def views_diff(link):\n",
    "    return  wb.pageviews(link,\"20180101\", \"20181231\") -  wb.pageviews(link,\"20170101\", \"20171231\")\n",
    "\n",
    "@node_func\n",
    "def revs_diff(link):\n",
    "    return  wb.revisions_count(link,\"2018\", \"2019\") -  wb.revisions_count(link,\"2017\", \"2018\")"
   ]
  },
  {
   "cell_type": "code",
   "execution_count": 23,
   "metadata": {
    "collapsed": true
   },
   "outputs": [],
   "source": [
    "def wikipedia_title(x):\n",
    "    params = {\n",
    "        \"action\":\"wbgetentities\",\n",
    "        \"sites\":\"dewikibooks\",\n",
    "        \"titles\":x,\n",
    "        \"props\":\"sitelinks\",\n",
    "        \"languages\":\"nn\",\n",
    "        \"format\":\"json\"\n",
    "    }\n",
    "    \n",
    "    result = req_session.get(\"http://wikidata.org/w/api.php\", params=params).json()[\"entities\"]\n",
    "    key, value = result.popitem()\n",
    "    \n",
    "    if key == \"-1\":\n",
    "        return None\n",
    "    else:\n",
    "        value = value[\"sitelinks\"]\n",
    "        \n",
    "        if \"dewiki\" in value:\n",
    "            return value[\"dewiki\"][\"title\"]\n",
    "        else:\n",
    "            return None\n",
    "        \n",
    "wp_title = node_func(wikipedia_title)\n",
    "        \n",
    "def wp_views(start, end):\n",
    "    def func(link):\n",
    "        res = wikipedia_title(link)\n",
    "        if res != None:\n",
    "            return wp.pageviews(res,start,end)\n",
    "        else:\n",
    "            return 0\n",
    "    return node_func(func)\n",
    "\n",
    "def wp_views_quot(start, end):\n",
    "    def func(link):\n",
    "        res = wikipedia_title(link)\n",
    "        if res != None:\n",
    "            return wb.pageviews(link,start,end) / wp.pageviews(res,start,end)\n",
    "        else:\n",
    "            return 0\n",
    "    return node_func(func)\n",
    "        \n",
    "wp_new = wp_views(\"20180101\", \"20181231\")\n",
    "wp_old = wp_views(\"20170101\", \"20171231\")\n",
    "\n",
    "wp_quot_new = wp_views_quot(\"20180101\", \"20181231\")\n",
    "wp_quot_old = wp_views_quot(\"20170101\", \"20171231\")"
   ]
  },
  {
   "cell_type": "code",
   "execution_count": 26,
   "metadata": {
    "scrolled": false
   },
   "outputs": [
    {
     "data": {
      "text/html": [
       "<h1 id='Inhaltsverzeichnis'>Inhaltsverzeichnis</h1>"
      ],
      "text/plain": [
       "<IPython.core.display.HTML object>"
      ]
     },
     "metadata": {},
     "output_type": "display_data"
    },
    {
     "data": {
      "text/markdown": [
       "* [Mathe für Nicht-Freaks](#Mathe für Nicht-Freaks)\n",
       "    * [Über das Projekt](#Über das Projekt)\n",
       "        * [Über das Projekt](#Über das Projekt)\n",
       "        * [Unterstütze uns!](#Unterstütze uns!)\n",
       "        * [Kopiere uns!](#Kopiere uns!)\n",
       "        * [Spenden](#Spenden)\n",
       "    * [Grundlagen der Mathematik](#Grundlagen der Mathematik)\n",
       "        * [Was ist Mathematik?](#Was ist Mathematik?)\n",
       "            * [Was ist Mathematik?](#Was ist Mathematik?)\n",
       "        * [Einführung in die Logik](#Einführung in die Logik)\n",
       "            * [Logik und Aussagen](#Logik und Aussagen)\n",
       "            * [Junktoren](#Junktoren)\n",
       "            * [Aussagenlogik](#Aussagenlogik)\n",
       "            * [Wahrheitstabelle](#Wahrheitstabelle)\n",
       "            * [Tautologien](#Tautologien)\n",
       "            * [Quantoren](#Quantoren)\n",
       "            * [Aussageform und Substitution](#Aussageform und Substitution)\n",
       "            * [Prädikatenlogik](#Prädikatenlogik)\n",
       "            * [Aussagen formalisieren](#Aussagen formalisieren)\n",
       "            * [Aussagen negieren](#Aussagen negieren)\n",
       "            * [Klassenlogik](#Klassenlogik)\n",
       "            * [Gesetze der Logik](#Gesetze der Logik)\n",
       "            * [Aufgaben](#Aufgaben)\n",
       "        * [Beweise und Beweismethoden](#Beweise und Beweismethoden)\n",
       "            * [Was sind Beweise?](#Was sind Beweise?)\n",
       "            * [Direkter und indirekter Beweis](#Direkter und indirekter Beweis)\n",
       "            * [Fallunterscheidung und Kontraposition](#Fallunterscheidung und Kontraposition)\n",
       "            * [Notwendige und hinreichende Bedingungen](#Notwendige und hinreichende Bedingungen)\n",
       "        * [Vollständige Induktion](#Vollständige Induktion)\n",
       "            * [Definition und Erklärung](#Definition und Erklärung)\n",
       "            * [Beispielaufgaben](#Beispielaufgaben)\n",
       "        * [Mengenlehre](#Mengenlehre)\n",
       "            * [Definition einer Menge](#Definition einer Menge)\n",
       "            * [Mengenschreibweisen](#Mengenschreibweisen)\n",
       "            * [Euler- und Venn-Diagramme](#Euler- und Venn-Diagramme)\n",
       "            * [Teilmenge und echte Teilmenge](#Teilmenge und echte Teilmenge)\n",
       "            * [Potenzmenge](#Potenzmenge)\n",
       "            * [Leere Menge und Allklasse](#Leere Menge und Allklasse)\n",
       "            * [Mengenverknüpfungen](#Mengenverknüpfungen)\n",
       "            * [Durchschnitt von Mengen](#Durchschnitt von Mengen)\n",
       "            * [Vereinigung von Mengen](#Vereinigung von Mengen)\n",
       "            * [Differenz, symmetrische Differenz und Komplement](#Differenz, symmetrische Differenz und Komplement)\n",
       "            * [Boolesche Algebra](#Boolesche Algebra)\n",
       "            * [Disjunkte Mengen](#Disjunkte Mengen)\n",
       "            * [Tupel und geordnetes Paar](#Tupel und geordnetes Paar)\n",
       "            * [Kartesisches Produkt](#Kartesisches Produkt)\n",
       "            * [Formeln der Mengenlehre](#Formeln der Mengenlehre)\n",
       "            * [Russells Antinomie und Klassen](#Russells Antinomie und Klassen)\n",
       "            * [Axiomatische Mengenlehre](#Axiomatische Mengenlehre)\n",
       "        * [Relationen](#Relationen)\n",
       "            * [Relationen](#Relationen)\n",
       "            * [Binäre Relationen](#Binäre Relationen)\n",
       "            * [Eigenschaften binärer Relationen](#Eigenschaften binärer Relationen)\n",
       "            * [Äquivalenzrelationen](#Äquivalenzrelationen)\n",
       "            * [Ordnungsrelationen](#Ordnungsrelationen)\n",
       "        * [Abbildungen](#Abbildungen)\n",
       "            * [Abbildungen](#Abbildungen)\n",
       "            * [Verknüpfungen](#Verknüpfungen)\n",
       "        * [Mächtigkeit von Mengen](#Mächtigkeit von Mengen)\n",
       "            * [Mächtigkeit von Mengen](#Mächtigkeit von Mengen)\n",
       "        * [Gleichungsumformungen](#Gleichungsumformungen)\n",
       "            * [Gleichungsumformungen](#Gleichungsumformungen)\n",
       "            * [Termumformungen](#Termumformungen)\n",
       "            * [Aufgaben](#Aufgaben)\n",
       "        * [Summe, Produkt und Fakultät](#Summe, Produkt und Fakultät)\n",
       "            * [Summe und Produkt](#Summe und Produkt)\n",
       "            * [Gaußsche Summenformel](#Gaußsche Summenformel)\n",
       "            * [Geometrische Summenformel](#Geometrische Summenformel)\n",
       "            * [Eigenschaften für Summe und Produkt](#Eigenschaften für Summe und Produkt)\n",
       "            * [Fakultät](#Fakultät)\n",
       "        * [Binomialkoeffizient](#Binomialkoeffizient)\n",
       "            * [Binomialkoeffizient](#Binomialkoeffizient)\n",
       "            * [Der binomische Lehrsatz](#Der binomische Lehrsatz)\n",
       "            * [Rechenregeln](#Rechenregeln)\n",
       "        * [Anhang](#Anhang)\n",
       "            * [Wörterbuch mathematischer Begriffe](#Wörterbuch mathematischer Begriffe)\n",
       "            * [Liste mathematischer Symbole](#Liste mathematischer Symbole)\n",
       "            * [Zusammenfassung](#Zusammenfassung)\n",
       "            * [PDF-Version (Beta)](#PDF-Version (Beta))\n",
       "    * [Analysis 1](#Analysis 1)\n",
       "        * [Was ist Analysis?](#Was ist Analysis?)\n",
       "            * [Was ist Analysis?](#Was ist Analysis?)\n",
       "            * [Wozu Analysis studieren?](#Wozu Analysis studieren?)\n",
       "        * [Was sind reelle Zahlen?](#Was sind reelle Zahlen?)\n",
       "            * [Was sind reelle Zahlen?](#Was sind reelle Zahlen?)\n",
       "            * [Die Zahlengerade](#Die Zahlengerade)\n",
       "        * [Körperaxiome](#Körperaxiome)\n",
       "            * [Körperaxiome](#Körperaxiome)\n",
       "            * [Folgerungen aus den Körperaxiomen](#Folgerungen aus den Körperaxiomen)\n",
       "            * [Potenzen reeller Zahlen](#Potenzen reeller Zahlen)\n",
       "        * [Anordnungsaxiome](#Anordnungsaxiome)\n",
       "            * [Anordnungsaxiome](#Anordnungsaxiome)\n",
       "            * [Folgerungen der Anordnungsaxiome](#Folgerungen der Anordnungsaxiome)\n",
       "            * [Betragsfunktion, Maximum und Minimum](#Betragsfunktion, Maximum und Minimum)\n",
       "            * [Intervalle](#Intervalle)\n",
       "        * [Vollständigkeit reeller Zahlen](#Vollständigkeit reeller Zahlen)\n",
       "            * [Intervallschachtelung mit rationaler Genauigkeit](#Intervallschachtelung mit rationaler Genauigkeit)\n",
       "            * [Das archimedische Axiom](#Das archimedische Axiom)\n",
       "            * [Bernoullische Ungleichung](#Bernoullische Ungleichung)\n",
       "            * [Allgemeine Intervallschachtelungen](#Allgemeine Intervallschachtelungen)\n",
       "        * [Die komplexen Zahlen](#Die komplexen Zahlen)\n",
       "            * [Einleitung und Motivation](#Einleitung und Motivation)\n",
       "            * [Definition](#Definition)\n",
       "            * [Betrag und Konjugation](#Betrag und Konjugation)\n",
       "            * [Polardarstellung](#Polardarstellung)\n",
       "            * [Darstellung komplexwertiger Funktionen](#Darstellung komplexwertiger Funktionen)\n",
       "            * [Aufgaben](#Aufgaben)\n",
       "        * [Supremum und Infimum](#Supremum und Infimum)\n",
       "            * [Supremum und Infimum](#Supremum und Infimum)\n",
       "            * [Uneigentliches Supremum und Infimum](#Uneigentliches Supremum und Infimum)\n",
       "            * [Supremum und Infimum bestimmen und beweisen](#Supremum und Infimum bestimmen und beweisen)\n",
       "            * [Eigenschaften Supremum und Infimum](#Eigenschaften Supremum und Infimum)\n",
       "        * [Wurzel reeller Zahlen](#Wurzel reeller Zahlen)\n",
       "            * [Wurzel reeller Zahlen](#Wurzel reeller Zahlen)\n",
       "            * [Lösungen von Potenzgleichungen](#Lösungen von Potenzgleichungen)\n",
       "            * [Rechenregeln](#Rechenregeln)\n",
       "            * [Verallgemeinerte Potenzen](#Verallgemeinerte Potenzen)\n",
       "            * [Aufgaben](#Aufgaben)\n",
       "        * [Folgen](#Folgen)\n",
       "            * [Definition](#Definition)\n",
       "            * [Explizite und rekursive Bildungsgesetze](#Explizite und rekursive Bildungsgesetze)\n",
       "            * [Beispiele und Eigenschaften](#Beispiele und Eigenschaften)\n",
       "            * [Aufgaben](#Aufgaben)\n",
       "        * [Konvergenz und Divergenz](#Konvergenz und Divergenz)\n",
       "            * [Definition Grenzwert](#Definition Grenzwert)\n",
       "            * [Konvergenz und Divergenz beweisen](#Konvergenz und Divergenz beweisen)\n",
       "            * [Beispiele für Grenzwerte](#Beispiele für Grenzwerte)\n",
       "            * [Unbeschränkte Folgen divergieren](#Unbeschränkte Folgen divergieren)\n",
       "            * [Grenzwertsätze](#Grenzwertsätze)\n",
       "            * [Der Sandwichsatz](#Der Sandwichsatz)\n",
       "            * [Monotoniekriterium](#Monotoniekriterium)\n",
       "            * [Konvergenzbeweise rekursiver Folgen](#Konvergenzbeweise rekursiver Folgen)\n",
       "            * [Aufgaben](#Aufgaben)\n",
       "        * [Teilfolgen, Häufungspunkte und Cauchy-Folgen](#Teilfolgen, Häufungspunkte und Cauchy-Folgen)\n",
       "            * [Teilfolgen](#Teilfolgen)\n",
       "            * [Häufungspunkte von Folgen](#Häufungspunkte von Folgen)\n",
       "            * [Häufungs- und Berührpunkte von Mengen](#Häufungs- und Berührpunkte von Mengen)\n",
       "            * [Satz von Bolzano-Weierstraß](#Satz von Bolzano-Weierstraß)\n",
       "            * [Bestimmte Divergenz](#Bestimmte Divergenz)\n",
       "            * [Bestimmte Divergenz: Regeln](#Bestimmte Divergenz: Regeln)\n",
       "            * [Lim sup und Lim inf](#Lim sup und Lim inf)\n",
       "            * [Cauchy-Folgen](#Cauchy-Folgen)\n",
       "            * [Aufgaben](#Aufgaben)\n",
       "        * [Reihen](#Reihen)\n",
       "            * [Begriff der Reihe](#Begriff der Reihe)\n",
       "            * [Rechenregeln für Reihen](#Rechenregeln für Reihen)\n",
       "            * [Teleskopsumme und Teleskopreihe](#Teleskopsumme und Teleskopreihe)\n",
       "            * [Geometrische Reihe](#Geometrische Reihe)\n",
       "            * [Harmonische Reihe](#Harmonische Reihe)\n",
       "            * [e-Reihe](#e-Reihe)\n",
       "            * [Absolute Konvergenz einer Reihe](#Absolute Konvergenz einer Reihe)\n",
       "            * [Umordnungssatz für Reihen](#Umordnungssatz für Reihen)\n",
       "            * [Aufgaben](#Aufgaben)\n",
       "        * [Konvergenzkriterien für Reihen](#Konvergenzkriterien für Reihen)\n",
       "            * [Übersicht Konvergenzkriterien](#Übersicht Konvergenzkriterien)\n",
       "            * [Cauchy-Kriterium](#Cauchy-Kriterium)\n",
       "            * [Trivialkriterium](#Trivialkriterium)\n",
       "            * [Beschränkte Reihen und Konvergenz](#Beschränkte Reihen und Konvergenz)\n",
       "            * [Majoranten- und Minorantenkriterium](#Majoranten- und Minorantenkriterium)\n",
       "            * [Wurzelkriterium](#Wurzelkriterium)\n",
       "            * [Quotientenkriterium](#Quotientenkriterium)\n",
       "            * [Leibniz-Kriterium](#Leibniz-Kriterium)\n",
       "            * [Verdichtungskriterium](#Verdichtungskriterium)\n",
       "            * [Anwendung der Konvergenzkriterien](#Anwendung der Konvergenzkriterien)\n",
       "            * [Aufgaben](#Aufgaben)\n",
       "        * [Exponential- und Logarithmusfunktion](#Exponential- und Logarithmusfunktion)\n",
       "            * [Herleitung und Definition der Exponentialfunktion](#Herleitung und Definition der Exponentialfunktion)\n",
       "            * [Eigenschaften der Exponentialfunktion](#Eigenschaften der Exponentialfunktion)\n",
       "            * [Logarithmusfunktion](#Logarithmusfunktion)\n",
       "            * [Verallgemeinerte Potenzen](#Verallgemeinerte Potenzen)\n",
       "            * [Exponential- und Logarithmusfunktion in den komplexen Zahlen](#Exponential- und Logarithmusfunktion in den komplexen Zahlen)\n",
       "            * [Aufgaben](#Aufgaben)\n",
       "        * [Trigonometrische und Hyperbolische Funktionen](#Trigonometrische und Hyperbolische Funktionen)\n",
       "            * [Sinus und Kosinus](#Sinus und Kosinus)\n",
       "            * [Eigenschaften des Sinus und Kosinus](#Eigenschaften des Sinus und Kosinus)\n",
       "            * [Arkussinus und Arkuskosinus](#Arkussinus und Arkuskosinus)\n",
       "            * [Tangens und Kotangens](#Tangens und Kotangens)\n",
       "            * [Arkustangens und Arkuskotangens](#Arkustangens und Arkuskotangens)\n",
       "            * [Sinus Hyperbolicus und Kosinus Hyperbolicus](#Sinus Hyperbolicus und Kosinus Hyperbolicus)\n",
       "            * [Aufgaben](#Aufgaben)\n",
       "        * [Stetigkeit](#Stetigkeit)\n",
       "            * [Stetigkeit von Funktionen](#Stetigkeit von Funktionen)\n",
       "            * [Folgenkriterium](#Folgenkriterium)\n",
       "            * [Epsilon-Delta-Kriterium](#Epsilon-Delta-Kriterium)\n",
       "            * [Grenzwert von Funktionen](#Grenzwert von Funktionen)\n",
       "            * [Komposition stetiger Funktionen](#Komposition stetiger Funktionen)\n",
       "            * [Stetigkeit beweisen](#Stetigkeit beweisen)\n",
       "            * [Unstetigkeit beweisen](#Unstetigkeit beweisen)\n",
       "            * [Zwischenwertsatz](#Zwischenwertsatz)\n",
       "            * [Satz vom Minimum und Maximum](#Satz vom Minimum und Maximum)\n",
       "            * [Stetigkeit der Umkehrfunktion](#Stetigkeit der Umkehrfunktion)\n",
       "            * [Gleichmäßige Stetigkeit](#Gleichmäßige Stetigkeit)\n",
       "            * [Lipschitz-Stetigkeit](#Lipschitz-Stetigkeit)\n",
       "            * [Aufgaben](#Aufgaben)\n",
       "        * [Ableitung](#Ableitung)\n",
       "            * [Ableitung](#Ableitung)\n",
       "            * [Ableitungsregeln](#Ableitungsregeln)\n",
       "            * [Spezielle Ableitungsregeln](#Spezielle Ableitungsregeln)\n",
       "            * [Ableitung der Umkehrfunktion](#Ableitung der Umkehrfunktion)\n",
       "            * [Beispiele für Ableitungen](#Beispiele für Ableitungen)\n",
       "            * [Ableitung höherer Ordnung](#Ableitung höherer Ordnung)\n",
       "            * [Satz von Rolle](#Satz von Rolle)\n",
       "            * [Mittelwertsatz](#Mittelwertsatz)\n",
       "            * [Konstanzkriterium](#Konstanzkriterium)\n",
       "            * [Monotoniekriterium](#Monotoniekriterium)\n",
       "            * [Ableitung und lokale Extrema](#Ableitung und lokale Extrema)\n",
       "            * [Regel von L'Hospital](#Regel von L'Hospital)\n",
       "            * [Übersicht: Stetigkeit und Differenzierbarkeit](#Übersicht: Stetigkeit und Differenzierbarkeit)\n",
       "            * [Aufgaben 1](#Aufgaben 1)\n",
       "            * [Aufgaben 2](#Aufgaben 2)\n",
       "            * [Aufgaben 3](#Aufgaben 3)\n",
       "            * [Aufgaben 4](#Aufgaben 4)\n",
       "        * [Integrale](#Integrale)\n",
       "            * [Das Integral](#Das Integral)\n",
       "            * [Riemannintegral](#Riemannintegral)\n",
       "            * [Eigenschaften des Riemannintegrals](#Eigenschaften des Riemannintegrals)\n",
       "            * [Regelintegral](#Regelintegral)\n",
       "            * [Mittelwertsatz für Integrale](#Mittelwertsatz für Integrale)\n",
       "            * [Hauptsatz der Differential- und Integralrechnung](#Hauptsatz der Differential- und Integralrechnung)\n",
       "            * [Substitutionsregel](#Substitutionsregel)\n",
       "            * [Partielle Integration](#Partielle Integration)\n",
       "            * [Uneigentliche Integrale](#Uneigentliche Integrale)\n",
       "            * [Beispiele für Integrale](#Beispiele für Integrale)\n",
       "            * [Aufgaben](#Aufgaben)\n",
       "    * [Lineare Algebra 1](#Lineare Algebra 1)\n",
       "        * [Einführung in die lineare Algebra](#Einführung in die lineare Algebra)\n",
       "            * [Was ist Algebra?](#Was ist Algebra?)\n",
       "            * [Eigenschaften algebraischer Strukturen](#Eigenschaften algebraischer Strukturen)\n",
       "            * [Gruppen](#Gruppen)\n",
       "            * [Ringe](#Ringe)\n",
       "            * [Körper](#Körper)\n",
       "            * [Übersicht zu algebraischer Strukturen](#Übersicht zu algebraischer Strukturen)\n",
       "            * [Vektorbegriff aus der Schule](#Vektorbegriff aus der Schule)\n",
       "        * [Vektorräume](#Vektorräume)\n",
       "            * [Einführung in den Vektorraum](#Einführung in den Vektorraum)\n",
       "            * [Vektorraum](#Vektorraum)\n",
       "            * [Eigenschaften von Vektorräumen](#Eigenschaften von Vektorräumen)\n",
       "            * [Beweise für Vektorräume führen](#Beweise für Vektorräume führen)\n",
       "            * [Der Körper als Vektorraum](#Der Körper als Vektorraum)\n",
       "            * [Koordinatenräume](#Koordinatenräume)\n",
       "            * [Folgenräume](#Folgenräume)\n",
       "            * [Funktionsräume](#Funktionsräume)\n",
       "            * [Untervektorraum](#Untervektorraum)\n",
       "            * [Vereinigung und Durchschnitt von Vektorräumen](#Vereinigung und Durchschnitt von Vektorräumen)\n",
       "            * [Nebenklassen eines Vektorraums](#Nebenklassen eines Vektorraums)\n",
       "            * [Summe und direkte Summe](#Summe und direkte Summe)\n",
       "            * [Faktorraum](#Faktorraum)\n",
       "            * [Konstruierte direkte Summe](#Konstruierte direkte Summe)\n",
       "        * [Linearkombinationen, Erzeugendensystem und Basis](#Linearkombinationen, Erzeugendensystem und Basis)\n",
       "            * [Linearkombinationen](#Linearkombinationen)\n",
       "            * [Spann einer Menge](#Spann einer Menge)\n",
       "            * [Erzeugendensystem](#Erzeugendensystem)\n",
       "            * [Lineare Unabhängigkeit von Vektoren](#Lineare Unabhängigkeit von Vektoren)\n",
       "            * [Basis eines Vektorraums](#Basis eines Vektorraums)\n",
       "            * [Dimension eines Vektorraums](#Dimension eines Vektorraums)\n",
       "        * [Lineare Abbildungen](#Lineare Abbildungen)\n",
       "            * [Lineare Abbildungen](#Lineare Abbildungen)\n",
       "            * [Eigenschaften linearer Abbildungen](#Eigenschaften linearer Abbildungen)\n",
       "            * [Prinzip der linearen Fortsetzung](#Prinzip der linearen Fortsetzung)\n",
       "            * [Beispiele für lineare Abbildungen](#Beispiele für lineare Abbildungen)\n",
       "            * [Bild einer linearen Abbildung](#Bild einer linearen Abbildung)\n",
       "            * [Kern einer linearen Abbildung](#Kern einer linearen Abbildung)\n",
       "            * [Arten linearer Abbildungen](#Arten linearer Abbildungen)\n",
       "            * [Vektorraum linearer Abbildungen](#Vektorraum linearer Abbildungen)\n",
       "            * [Aufgaben](#Aufgaben)\n",
       "        * [Matrizen](#Matrizen)\n",
       "            * [Definition der Matrix](#Definition der Matrix)\n",
       "            * [Arten von Matrizen](#Arten von Matrizen)\n",
       "            * [Einführung in Abbildungsmatrizen und Rechnen mit Matrizen](#Einführung in Abbildungsmatrizen und Rechnen mit Matrizen)\n",
       "            * [Abbildungsmatrizen](#Abbildungsmatrizen)\n",
       "            * [Gleichheit, Addition und Skalarmultiplikation von Matrizen](#Gleichheit, Addition und Skalarmultiplikation von Matrizen)\n",
       "            * [Matrizenmultiplikation](#Matrizenmultiplikation)\n",
       "            * [Basiswechselmatrizen](#Basiswechselmatrizen)\n",
       "            * [Rang einer Matrix](#Rang einer Matrix)\n",
       "            * [Zeilenstufenform einer Matrix](#Zeilenstufenform einer Matrix)\n",
       "            * [Inverse Matrizen](#Inverse Matrizen)\n",
       "            * [Aufgaben](#Aufgaben)\n",
       "        * [Isomorphiesatz und Dimensionsformel](#Isomorphiesatz und Dimensionsformel)\n",
       "            * [Intuition hinter Isomorphiesatz und Dimensionsformel](#Intuition hinter Isomorphiesatz und Dimensionsformel)\n",
       "            * [Isomorphiesatz](#Isomorphiesatz)\n",
       "            * [Dimensionsformel](#Dimensionsformel)\n",
       "        * [Gleichungssysteme und Matrizen](#Gleichungssysteme und Matrizen)\n",
       "            * [Einführendes Beispiel](#Einführendes Beispiel)\n",
       "            * [Gaußverfahren](#Gaußverfahren)\n",
       "            * [Cramer'sche Regel](#Cramer'sche Regel)\n",
       "            * [Anwendungsbeispiele](#Anwendungsbeispiele)\n",
       "        * [Die Determinante einer Matrix](#Die Determinante einer Matrix)\n",
       "            * [Determinante einer Matrix](#Determinante einer Matrix)\n",
       "            * [Determinante einer Abbildung](#Determinante einer Abbildung)\n",
       "            * [Eigenschaften der Determinante](#Eigenschaften der Determinante)\n",
       "            * [Laplacescher Entwicklungssatz](#Laplacescher Entwicklungssatz)\n",
       "            * [Permutationen](#Permutationen)\n",
       "            * [Leibniz-Formel der Determinante](#Leibniz-Formel der Determinante)\n",
       "            * [Determinante besonderer Matrizen](#Determinante besonderer Matrizen)\n",
       "    * [Buchanfänge](#Buchanfänge)\n",
       "        * [Real Analysis](#Real Analysis)\n",
       "        * [Algebra](#Algebra)\n",
       "        * [Gewöhnliche Differentialgleichungen](#Gewöhnliche Differentialgleichungen)\n",
       "        * [Maßtheorie](#Maßtheorie)\n",
       "        * [Partielle Differentialgleichungen](#Partielle Differentialgleichungen)\n",
       "        * [Kapitelanfänge by Tzeh](#Kapitelanfänge by Tzeh)\n",
       "        * [Lineare Algebra](#Lineare Algebra)\n",
       "        * [Abstellraum](#Abstellraum)\n",
       "        * [Taylor Entwicklung](#Taylor Entwicklung)\n",
       "    * [Autorenportal](#Autorenportal)\n",
       "        * [Hilfeseiten](#Hilfeseiten)\n",
       "            * [Allgemeine Hinweise](#Allgemeine Hinweise)\n",
       "            * [Formatierung von Kapiteln](#Formatierung von Kapiteln)\n",
       "            * [Hilfeseiten und Anleitungen](#Hilfeseiten und Anleitungen)\n",
       "        * [Beispielkapitel](#Beispielkapitel)\n",
       "            * [Grundlegende Formatierungen](#Grundlegende Formatierungen)\n",
       "            * [Semantische Blöcke](#Semantische Blöcke)\n",
       "            * [Inhalte im Druck unterbinden](#Inhalte im Druck unterbinden)\n",
       "        * [Zusammenarbeit](#Zusammenarbeit)\n",
       "            * [Aktuelle Aufgaben](#Aktuelle Aufgaben)\n",
       "            * [Ideen](#Ideen)\n",
       "            * [Umfragen](#Umfragen)\n",
       "            * [Sitemap: Übersicht aller Kapitel](#Sitemap: Übersicht aller Kapitel)\n",
       "            * [Letzte Änderungen am Projekt](#Letzte Änderungen am Projekt)\n",
       "            * [Projektseiten](#Projektseiten)\n",
       "            * [Archiv](#Archiv)\n"
      ],
      "text/plain": [
       "<IPython.core.display.Markdown object>"
      ]
     },
     "metadata": {},
     "output_type": "display_data"
    }
   ],
   "source": [
    "def toc(node, level=0):\n",
    "    result = (\" \" * level * 4) + (\"* [%s](#%s)\\n\" % (node[\"name\"], node[\"name\"]))\n",
    "    \n",
    "    for child in node[\"children\"]:\n",
    "        \n",
    "        result += toc(child, level+1)\n",
    "    \n",
    "    return result\n",
    "\n",
    "h(\"Inhaltsverzeichnis\",1,hid=\"Inhaltsverzeichnis\")\n",
    "\n",
    "display_markdown(toc(sitemap))"
   ]
  },
  {
   "cell_type": "code",
   "execution_count": 73,
   "metadata": {
    "scrolled": false
   },
   "outputs": [
    {
     "data": {
      "text/html": [
       "<h1 id='Mathe für Nicht-Freaks'>= Mathe für Nicht-Freaks =</h1>"
      ],
      "text/plain": [
       "<IPython.core.display.HTML object>"
      ]
     },
     "metadata": {},
     "output_type": "display_data"
    },
    {
     "data": {
      "text/html": [
       "<h6>Artikel + Unterartikel: Seitenaufrufe 2018</h6>"
      ],
      "text/plain": [
       "<IPython.core.display.HTML object>"
      ]
     },
     "metadata": {},
     "output_type": "display_data"
    },
    {
     "data": {
      "image/png": "[encoded data removed]",
      "text/plain": [
       "<matplotlib.figure.Figure at 0x7fc9b5f4bb00>"
      ]
     },
     "metadata": {},
     "output_type": "display_data"
    },
    {
     "name": "stdout",
     "output_type": "stream",
     "text": [
      "Summe: 2.924.068\n",
      "Mean:     10.518\n"
     ]
    },
    {
     "data": {
      "text/html": [
       "<h6>Artikel + Unterartikel: Seitenaufrufe 2017</h6>"
      ],
      "text/plain": [
       "<IPython.core.display.HTML object>"
      ]
     },
     "metadata": {},
     "output_type": "display_data"
    },
    {
     "data": {
      "image/png": "[encoded data removed]",
      "text/plain": [
       "<matplotlib.figure.Figure at 0x7fc9b5eb4748>"
      ]
     },
     "metadata": {},
     "output_type": "display_data"
    },
    {
     "name": "stdout",
     "output_type": "stream",
     "text": [
      "Summe: 2.311.040\n",
      "Mean:      8.313\n"
     ]
    },
    {
     "data": {
      "text/html": [
       "<h6>Artikel + Unterartikel: Differenz Seitenaufrufe 2018 zu 2017</h6>"
      ],
      "text/plain": [
       "<IPython.core.display.HTML object>"
      ]
     },
     "metadata": {},
     "output_type": "display_data"
    },
    {
     "data": {
      "image/png": "[encoded data removed]",
      "text/plain": [
       "<matplotlib.figure.Figure at 0x7fc9b61f45f8>"
      ]
     },
     "metadata": {},
     "output_type": "display_data"
    },
    {
     "name": "stdout",
     "output_type": "stream",
     "text": [
      "Summe:   613.028\n",
      "Mean:      2.205\n"
     ]
    },
    {
     "data": {
      "text/html": [
       "<h6>Artikel + Unterartikel: Bearbeitungen 2018</h6>"
      ],
      "text/plain": [
       "<IPython.core.display.HTML object>"
      ]
     },
     "metadata": {},
     "output_type": "display_data"
    },
    {
     "data": {
      "image/png": "[encoded data removed]",
      "text/plain": [
       "<matplotlib.figure.Figure at 0x7fc9b605f8d0>"
      ]
     },
     "metadata": {},
     "output_type": "display_data"
    },
    {
     "name": "stdout",
     "output_type": "stream",
     "text": [
      "Summe:     3.631\n",
      "Mean:         13\n"
     ]
    },
    {
     "data": {
      "text/html": [
       "<h6>Artikel + Unterartikel: Bearbeitungen 2017</h6>"
      ],
      "text/plain": [
       "<IPython.core.display.HTML object>"
      ]
     },
     "metadata": {},
     "output_type": "display_data"
    },
    {
     "data": {
      "image/png": "[encoded data removed]",
      "text/plain": [
       "<matplotlib.figure.Figure at 0x7fc9b6190390>"
      ]
     },
     "metadata": {},
     "output_type": "display_data"
    },
    {
     "name": "stdout",
     "output_type": "stream",
     "text": [
      "Summe:     5.123\n",
      "Mean:         18\n"
     ]
    },
    {
     "data": {
      "text/html": [
       "<h6>Artikel + Unterartikel: Differenz Bearbeitungen 2018 zu 2017</h6>"
      ],
      "text/plain": [
       "<IPython.core.display.HTML object>"
      ]
     },
     "metadata": {},
     "output_type": "display_data"
    },
    {
     "data": {
      "image/png": "[encoded data removed]",
      "text/plain": [
       "<matplotlib.figure.Figure at 0x7fc9b60f9e48>"
      ]
     },
     "metadata": {},
     "output_type": "display_data"
    },
    {
     "name": "stdout",
     "output_type": "stream",
     "text": [
      "Summe:    -1.492\n",
      "Mean:         -5\n"
     ]
    },
    {
     "data": {
      "text/html": [
       "<h6>Artikel + Unterartikel: Quotient Seitenaufrufe MFNF / Wikipedia</h6>"
      ],
      "text/plain": [
       "<IPython.core.display.HTML object>"
      ]
     },
     "metadata": {},
     "output_type": "display_data"
    },
    {
     "data": {
      "image/png": "[encoded data removed]",
      "text/plain": [
       "<matplotlib.figure.Figure at 0x7fc9b5ed8e48>"
      ]
     },
     "metadata": {},
     "output_type": "display_data"
    },
    {
     "name": "stdout",
     "output_type": "stream",
     "text": [
      "Mean:  22%\n"
     ]
    },
    {
     "data": {
      "text/html": [
       "<h5>Anzahl Autor*innen (Artikel + Unterartikel)</h5>"
      ],
      "text/plain": [
       "<IPython.core.display.HTML object>"
      ]
     },
     "metadata": {},
     "output_type": "display_data"
    },
    {
     "data": {
      "text/markdown": [
       "Autor*in haben mehr als 12 Bearbeitungen im betrachteten Zeitraum "
      ],
      "text/plain": [
       "<IPython.core.display.Markdown object>"
      ]
     },
     "metadata": {},
     "output_type": "display_data"
    },
    {
     "name": "stdout",
     "output_type": "stream",
     "text": [
      "2018:        35 ┬        +5 (+17%)\n",
      "2017:        30 ┘      \n"
     ]
    },
    {
     "data": {
      "text/html": [
       "<h5>Anzahl sehr aktive Autor*innen (Artikel + Unterartikel)</h5>"
      ],
      "text/plain": [
       "<IPython.core.display.HTML object>"
      ]
     },
     "metadata": {},
     "output_type": "display_data"
    },
    {
     "data": {
      "text/markdown": [
       "Autor*in haben mehr als 120 Bearbeitungen im betrachteten Zeitraum"
      ],
      "text/plain": [
       "<IPython.core.display.Markdown object>"
      ]
     },
     "metadata": {},
     "output_type": "display_data"
    },
    {
     "name": "stdout",
     "output_type": "stream",
     "text": [
      "2018:         8 ┬        +3 (+60%)\n",
      "2017:         5 ┘      \n"
     ]
    },
    {
     "data": {
      "text/html": [
       "<h5>Seitenaufrufe des Artikels 'Mathe für Nicht-Freaks'</h5>"
      ],
      "text/plain": [
       "<IPython.core.display.HTML object>"
      ]
     },
     "metadata": {},
     "output_type": "display_data"
    },
    {
     "name": "stdout",
     "output_type": "stream",
     "text": [
      "2018:    58.990 ┬    +1.073 ( +2%)\n",
      "2017:    57.917 ┘      \n"
     ]
    },
    {
     "data": {
      "text/html": [
       "<h5>Bearbeitungen im Artikel 'Mathe für Nicht-Freaks'</h5>"
      ],
      "text/plain": [
       "<IPython.core.display.HTML object>"
      ]
     },
     "metadata": {},
     "output_type": "display_data"
    },
    {
     "name": "stdout",
     "output_type": "stream",
     "text": [
      "2018:         4 ┬        -1 (-20%)\n",
      "2017:         5 ┘      \n"
     ]
    },
    {
     "data": {
      "text/html": [
       "<h5>Vergleich der Seitenaufrufe zum Wikipedia-Artikel</h5>"
      ],
      "text/plain": [
       "<IPython.core.display.HTML object>"
      ]
     },
     "metadata": {},
     "output_type": "display_data"
    },
    {
     "name": "stdout",
     "output_type": "stream",
     "text": [
      "Wikipedia-Artikel: Serlo\n",
      "Views 2018:      2.861 ┬        -6 ( -0%)\n",
      "Views 2017:      2.867 ┘      \n",
      "\n",
      "MFNF / Wikipedia – 2018: 2062%\n",
      "MFNF / Wikipedia – 2017: 2020%\n"
     ]
    },
    {
     "data": {
      "text/markdown": [
       "[Zurück zum Inhaltsverzeichnis](#Inhaltsverzeichnis)"
      ],
      "text/plain": [
       "<IPython.core.display.Markdown object>"
      ]
     },
     "metadata": {},
     "output_type": "display_data"
    },
    {
     "data": {
      "text/html": [
       "<h2 id='Über das Projekt'>== Über das Projekt ==</h2>"
      ],
      "text/plain": [
       "<IPython.core.display.HTML object>"
      ]
     },
     "metadata": {},
     "output_type": "display_data"
    },
    {
     "data": {
      "text/html": [
       "<h6>Artikel + Unterartikel: Seitenaufrufe 2018</h6>"
      ],
      "text/plain": [
       "<IPython.core.display.HTML object>"
      ]
     },
     "metadata": {},
     "output_type": "display_data"
    },
    {
     "data": {
      "image/png": "[encoded data removed]",
      "text/plain": [
       "<matplotlib.figure.Figure at 0x7fc9b6188940>"
      ]
     },
     "metadata": {},
     "output_type": "display_data"
    },
    {
     "name": "stdout",
     "output_type": "stream",
     "text": [
      "Summe:    10.226\n",
      "Mean:      2.045\n"
     ]
    },
    {
     "data": {
      "text/html": [
       "<h6>Artikel + Unterartikel: Seitenaufrufe 2017</h6>"
      ],
      "text/plain": [
       "<IPython.core.display.HTML object>"
      ]
     },
     "metadata": {},
     "output_type": "display_data"
    },
    {
     "data": {
      "image/png": "[encoded data removed]",
      "text/plain": [
       "<matplotlib.figure.Figure at 0x7fc9b6061e80>"
      ]
     },
     "metadata": {},
     "output_type": "display_data"
    },
    {
     "name": "stdout",
     "output_type": "stream",
     "text": [
      "Summe:     9.664\n",
      "Mean:      1.932\n"
     ]
    },
    {
     "data": {
      "text/html": [
       "<h6>Artikel + Unterartikel: Differenz Seitenaufrufe 2018 zu 2017</h6>"
      ],
      "text/plain": [
       "<IPython.core.display.HTML object>"
      ]
     },
     "metadata": {},
     "output_type": "display_data"
    },
    {
     "data": {
      "image/png": "[encoded data removed]",
      "text/plain": [
       "<matplotlib.figure.Figure at 0x7fc9b61f0cc0>"
      ]
     },
     "metadata": {},
     "output_type": "display_data"
    },
    {
     "name": "stdout",
     "output_type": "stream",
     "text": [
      "Summe:       562\n",
      "Mean:        112\n"
     ]
    },
    {
     "data": {
      "text/html": [
       "<h6>Artikel + Unterartikel: Bearbeitungen 2018</h6>"
      ],
      "text/plain": [
       "<IPython.core.display.HTML object>"
      ]
     },
     "metadata": {},
     "output_type": "display_data"
    },
    {
     "data": {
      "image/png": "[encoded data removed]",
      "text/plain": [
       "<matplotlib.figure.Figure at 0x7fc9b4658ef0>"
      ]
     },
     "metadata": {},
     "output_type": "display_data"
    },
    {
     "name": "stdout",
     "output_type": "stream",
     "text": [
      "Summe:         3\n",
      "Mean:          0\n"
     ]
    },
    {
     "data": {
      "text/html": [
       "<h6>Artikel + Unterartikel: Bearbeitungen 2017</h6>"
      ],
      "text/plain": [
       "<IPython.core.display.HTML object>"
      ]
     },
     "metadata": {},
     "output_type": "display_data"
    },
    {
     "data": {
      "image/png": "[encoded data removed]",
      "text/plain": [
       "<matplotlib.figure.Figure at 0x7fc9b60f1a20>"
      ]
     },
     "metadata": {},
     "output_type": "display_data"
    },
    {
     "name": "stdout",
     "output_type": "stream",
     "text": [
      "Summe:        19\n",
      "Mean:          3\n"
     ]
    },
    {
     "data": {
      "text/html": [
       "<h6>Artikel + Unterartikel: Differenz Bearbeitungen 2018 zu 2017</h6>"
      ],
      "text/plain": [
       "<IPython.core.display.HTML object>"
      ]
     },
     "metadata": {},
     "output_type": "display_data"
    },
    {
     "data": {
      "image/png": "[encoded data removed]",
      "text/plain": [
       "<matplotlib.figure.Figure at 0x7fc9b2d1bfd0>"
      ]
     },
     "metadata": {},
     "output_type": "display_data"
    },
    {
     "name": "stdout",
     "output_type": "stream",
     "text": [
      "Summe:       -16\n",
      "Mean:         -3\n"
     ]
    },
    {
     "data": {
      "text/html": [
       "<h6>Artikel + Unterartikel: Quotient Seitenaufrufe MFNF / Wikipedia</h6>"
      ],
      "text/plain": [
       "<IPython.core.display.HTML object>"
      ]
     },
     "metadata": {},
     "output_type": "display_data"
    },
    {
     "data": {
      "image/png": "[encoded data removed]",
      "text/plain": [
       "<matplotlib.figure.Figure at 0x7fc9b5d63978>"
      ]
     },
     "metadata": {},
     "output_type": "display_data"
    },
    {
     "name": "stdout",
     "output_type": "stream",
     "text": [
      "Mean:   0%\n"
     ]
    },
    {
     "data": {
      "text/html": [
       "<h5>Anzahl Autor*innen (Artikel + Unterartikel)</h5>"
      ],
      "text/plain": [
       "<IPython.core.display.HTML object>"
      ]
     },
     "metadata": {},
     "output_type": "display_data"
    },
    {
     "data": {
      "text/markdown": [
       "Autor*in haben mehr als 12 Bearbeitungen im betrachteten Zeitraum "
      ],
      "text/plain": [
       "<IPython.core.display.Markdown object>"
      ]
     },
     "metadata": {},
     "output_type": "display_data"
    },
    {
     "name": "stdout",
     "output_type": "stream",
     "text": [
      "2018:         0 ┬        -1 (-100%)\n",
      "2017:         1 ┘      \n"
     ]
    },
    {
     "data": {
      "text/html": [
       "<h5>Anzahl sehr aktive Autor*innen (Artikel + Unterartikel)</h5>"
      ],
      "text/plain": [
       "<IPython.core.display.HTML object>"
      ]
     },
     "metadata": {},
     "output_type": "display_data"
    },
    {
     "data": {
      "text/markdown": [
       "Autor*in haben mehr als 120 Bearbeitungen im betrachteten Zeitraum"
      ],
      "text/plain": [
       "<IPython.core.display.Markdown object>"
      ]
     },
     "metadata": {},
     "output_type": "display_data"
    },
    {
     "name": "stdout",
     "output_type": "stream",
     "text": [
      "2018:         0 ┬        +0        \n",
      "2017:         0 ┘      \n"
     ]
    },
    {
     "data": {
      "text/html": [
       "<h5>Seitenaufrufe des Artikels 'Mathe für Nicht-Freaks: Über das Projekt'</h5>"
      ],
      "text/plain": [
       "<IPython.core.display.HTML object>"
      ]
     },
     "metadata": {},
     "output_type": "display_data"
    },
    {
     "name": "stdout",
     "output_type": "stream",
     "text": [
      "2018:     3.134 ┬      -753 (-19%)\n",
      "2017:     3.887 ┘      \n"
     ]
    },
    {
     "data": {
      "text/html": [
       "<h5>Bearbeitungen im Artikel 'Mathe für Nicht-Freaks: Über das Projekt'</h5>"
      ],
      "text/plain": [
       "<IPython.core.display.HTML object>"
      ]
     },
     "metadata": {},
     "output_type": "display_data"
    },
    {
     "name": "stdout",
     "output_type": "stream",
     "text": [
      "2018:         0 ┬        -1 (-100%)\n",
      "2017:         1 ┘      \n"
     ]
    },
    {
     "data": {
      "text/markdown": [
       "[Zurück zum Inhaltsverzeichnis](#Inhaltsverzeichnis)"
      ],
      "text/plain": [
       "<IPython.core.display.Markdown object>"
      ]
     },
     "metadata": {},
     "output_type": "display_data"
    },
    {
     "data": {
      "text/html": [
       "<h3 id='Über das Projekt'>=== Über das Projekt ===</h3>"
      ],
      "text/plain": [
       "<IPython.core.display.HTML object>"
      ]
     },
     "metadata": {},
     "output_type": "display_data"
    },
    {
     "data": {
      "text/html": [
       "<h5>Seitenaufrufe des Artikels 'Mathe für Nicht-Freaks: Projektbeschreibung'</h5>"
      ],
      "text/plain": [
       "<IPython.core.display.HTML object>"
      ]
     },
     "metadata": {},
     "output_type": "display_data"
    },
    {
     "name": "stdout",
     "output_type": "stream",
     "text": [
      "2018:     5.200 ┬    +1.525 (+41%)\n",
      "2017:     3.675 ┘      \n"
     ]
    },
    {
     "data": {
      "text/html": [
       "<h5>Bearbeitungen im Artikel 'Mathe für Nicht-Freaks: Projektbeschreibung'</h5>"
      ],
      "text/plain": [
       "<IPython.core.display.HTML object>"
      ]
     },
     "metadata": {},
     "output_type": "display_data"
    },
    {
     "name": "stdout",
     "output_type": "stream",
     "text": [
      "2018:         0 ┬        -7 (-100%)\n",
      "2017:         7 ┘      \n"
     ]
    },
    {
     "data": {
      "text/markdown": [
       "[Zurück zum Inhaltsverzeichnis](#Inhaltsverzeichnis)"
      ],
      "text/plain": [
       "<IPython.core.display.Markdown object>"
      ]
     },
     "metadata": {},
     "output_type": "display_data"
    },
    {
     "data": {
      "text/html": [
       "<h3 id='Unterstütze uns!'>=== Unterstütze uns! ===</h3>"
      ],
      "text/plain": [
       "<IPython.core.display.HTML object>"
      ]
     },
     "metadata": {},
     "output_type": "display_data"
    },
    {
     "data": {
      "text/html": [
       "<h5>Seitenaufrufe des Artikels 'Mathe für Nicht-Freaks: Unterstütze uns'</h5>"
      ],
      "text/plain": [
       "<IPython.core.display.HTML object>"
      ]
     },
     "metadata": {},
     "output_type": "display_data"
    },
    {
     "name": "stdout",
     "output_type": "stream",
     "text": [
      "2018:       550 ┬       -26 ( -5%)\n",
      "2017:       576 ┘      \n"
     ]
    },
    {
     "data": {
      "text/html": [
       "<h5>Bearbeitungen im Artikel 'Mathe für Nicht-Freaks: Unterstütze uns'</h5>"
      ],
      "text/plain": [
       "<IPython.core.display.HTML object>"
      ]
     },
     "metadata": {},
     "output_type": "display_data"
    },
    {
     "name": "stdout",
     "output_type": "stream",
     "text": [
      "2018:         3 ┬        -4 (-57%)\n",
      "2017:         7 ┘      \n"
     ]
    },
    {
     "data": {
      "text/markdown": [
       "[Zurück zum Inhaltsverzeichnis](#Inhaltsverzeichnis)"
      ],
      "text/plain": [
       "<IPython.core.display.Markdown object>"
      ]
     },
     "metadata": {},
     "output_type": "display_data"
    },
    {
     "data": {
      "text/html": [
       "<h3 id='Kopiere uns!'>=== Kopiere uns! ===</h3>"
      ],
      "text/plain": [
       "<IPython.core.display.HTML object>"
      ]
     },
     "metadata": {},
     "output_type": "display_data"
    },
    {
     "data": {
      "text/html": [
       "<h5>Seitenaufrufe des Artikels 'Mathe für Nicht-Freaks: Kopiere uns'</h5>"
      ],
      "text/plain": [
       "<IPython.core.display.HTML object>"
      ]
     },
     "metadata": {},
     "output_type": "display_data"
    },
    {
     "name": "stdout",
     "output_type": "stream",
     "text": [
      "2018:     1.145 ┬       -80 ( -7%)\n",
      "2017:     1.225 ┘      \n"
     ]
    },
    {
     "data": {
      "text/html": [
       "<h5>Bearbeitungen im Artikel 'Mathe für Nicht-Freaks: Kopiere uns'</h5>"
      ],
      "text/plain": [
       "<IPython.core.display.HTML object>"
      ]
     },
     "metadata": {},
     "output_type": "display_data"
    },
    {
     "name": "stdout",
     "output_type": "stream",
     "text": [
      "2018:         0 ┬        -1 (-100%)\n",
      "2017:         1 ┘      \n"
     ]
    },
    {
     "data": {
      "text/markdown": [
       "[Zurück zum Inhaltsverzeichnis](#Inhaltsverzeichnis)"
      ],
      "text/plain": [
       "<IPython.core.display.Markdown object>"
      ]
     },
     "metadata": {},
     "output_type": "display_data"
    },
    {
     "data": {
      "text/html": [
       "<h3 id='Spenden'>=== Spenden ===</h3>"
      ],
      "text/plain": [
       "<IPython.core.display.HTML object>"
      ]
     },
     "metadata": {},
     "output_type": "display_data"
    },
    {
     "data": {
      "text/html": [
       "<h5>Seitenaufrufe des Artikels 'Mathe für Nicht-Freaks: Spenden'</h5>"
      ],
      "text/plain": [
       "<IPython.core.display.HTML object>"
      ]
     },
     "metadata": {},
     "output_type": "display_data"
    },
    {
     "name": "stdout",
     "output_type": "stream",
     "text": [
      "2018:       197 ┬      -104 (-35%)\n",
      "2017:       301 ┘      \n"
     ]
    },
    {
     "data": {
      "text/html": [
       "<h5>Bearbeitungen im Artikel 'Mathe für Nicht-Freaks: Spenden'</h5>"
      ],
      "text/plain": [
       "<IPython.core.display.HTML object>"
      ]
     },
     "metadata": {},
     "output_type": "display_data"
    },
    {
     "name": "stdout",
     "output_type": "stream",
     "text": [
      "2018:         0 ┬        -3 (-100%)\n",
      "2017:         3 ┘      \n"
     ]
    },
    {
     "data": {
      "text/markdown": [
       "[Zurück zum Inhaltsverzeichnis](#Inhaltsverzeichnis)"
      ],
      "text/plain": [
       "<IPython.core.display.Markdown object>"
      ]
     },
     "metadata": {},
     "output_type": "display_data"
    },
    {
     "data": {
      "text/html": [
       "<h2 id='Grundlagen der Mathematik'>== Grundlagen der Mathematik ==</h2>"
      ],
      "text/plain": [
       "<IPython.core.display.HTML object>"
      ]
     },
     "metadata": {},
     "output_type": "display_data"
    },
    {
     "data": {
      "text/html": [
       "<h6>Artikel + Unterartikel: Seitenaufrufe 2018</h6>"
      ],
      "text/plain": [
       "<IPython.core.display.HTML object>"
      ]
     },
     "metadata": {},
     "output_type": "display_data"
    },
    {
     "data": {
      "image/png": "[encoded data removed]",
      "text/plain": [
       "<matplotlib.figure.Figure at 0x7fc9b5d6f550>"
      ]
     },
     "metadata": {},
     "output_type": "display_data"
    },
    {
     "name": "stdout",
     "output_type": "stream",
     "text": [
      "Summe:   902.822\n",
      "Mean:     15.047\n"
     ]
    },
    {
     "data": {
      "text/html": [
       "<h6>Artikel + Unterartikel: Seitenaufrufe 2017</h6>"
      ],
      "text/plain": [
       "<IPython.core.display.HTML object>"
      ]
     },
     "metadata": {},
     "output_type": "display_data"
    },
    {
     "data": {
      "image/png": "[encoded data removed]",
      "text/plain": [
       "<matplotlib.figure.Figure at 0x7fc9b8377ef0>"
      ]
     },
     "metadata": {},
     "output_type": "display_data"
    },
    {
     "name": "stdout",
     "output_type": "stream",
     "text": [
      "Summe:   862.856\n",
      "Mean:     14.380\n"
     ]
    },
    {
     "data": {
      "text/html": [
       "<h6>Artikel + Unterartikel: Differenz Seitenaufrufe 2018 zu 2017</h6>"
      ],
      "text/plain": [
       "<IPython.core.display.HTML object>"
      ]
     },
     "metadata": {},
     "output_type": "display_data"
    },
    {
     "data": {
      "image/png": "[encoded data removed]",
      "text/plain": [
       "<matplotlib.figure.Figure at 0x7fc9b9143470>"
      ]
     },
     "metadata": {},
     "output_type": "display_data"
    },
    {
     "name": "stdout",
     "output_type": "stream",
     "text": [
      "Summe:    39.966\n",
      "Mean:        666\n"
     ]
    },
    {
     "data": {
      "text/html": [
       "<h6>Artikel + Unterartikel: Bearbeitungen 2018</h6>"
      ],
      "text/plain": [
       "<IPython.core.display.HTML object>"
      ]
     },
     "metadata": {},
     "output_type": "display_data"
    },
    {
     "data": {
      "image/png": "[encoded data removed]",
      "text/plain": [
       "<matplotlib.figure.Figure at 0x7fc9b5da2358>"
      ]
     },
     "metadata": {},
     "output_type": "display_data"
    },
    {
     "name": "stdout",
     "output_type": "stream",
     "text": [
      "Summe:       504\n",
      "Mean:          8\n"
     ]
    },
    {
     "data": {
      "text/html": [
       "<h6>Artikel + Unterartikel: Bearbeitungen 2017</h6>"
      ],
      "text/plain": [
       "<IPython.core.display.HTML object>"
      ]
     },
     "metadata": {},
     "output_type": "display_data"
    },
    {
     "data": {
      "image/png": "[encoded data removed]",
      "text/plain": [
       "<matplotlib.figure.Figure at 0x7fc9b61524e0>"
      ]
     },
     "metadata": {},
     "output_type": "display_data"
    },
    {
     "name": "stdout",
     "output_type": "stream",
     "text": [
      "Summe:       136\n",
      "Mean:          2\n"
     ]
    },
    {
     "data": {
      "text/html": [
       "<h6>Artikel + Unterartikel: Differenz Bearbeitungen 2018 zu 2017</h6>"
      ],
      "text/plain": [
       "<IPython.core.display.HTML object>"
      ]
     },
     "metadata": {},
     "output_type": "display_data"
    },
    {
     "data": {
      "image/png": "[encoded data removed]",
      "text/plain": [
       "<matplotlib.figure.Figure at 0x7fc9b608f748>"
      ]
     },
     "metadata": {},
     "output_type": "display_data"
    },
    {
     "name": "stdout",
     "output_type": "stream",
     "text": [
      "Summe:       368\n",
      "Mean:          6\n"
     ]
    },
    {
     "data": {
      "text/html": [
       "<h6>Artikel + Unterartikel: Quotient Seitenaufrufe MFNF / Wikipedia</h6>"
      ],
      "text/plain": [
       "<IPython.core.display.HTML object>"
      ]
     },
     "metadata": {},
     "output_type": "display_data"
    },
    {
     "data": {
      "image/png": "[encoded data removed]",
      "text/plain": [
       "<matplotlib.figure.Figure at 0x7fc9b604def0>"
      ]
     },
     "metadata": {},
     "output_type": "display_data"
    },
    {
     "name": "stdout",
     "output_type": "stream",
     "text": [
      "Mean:  26%\n"
     ]
    },
    {
     "data": {
      "text/html": [
       "<h5>Anzahl Autor*innen (Artikel + Unterartikel)</h5>"
      ],
      "text/plain": [
       "<IPython.core.display.HTML object>"
      ]
     },
     "metadata": {},
     "output_type": "display_data"
    },
    {
     "data": {
      "text/markdown": [
       "Autor*in haben mehr als 12 Bearbeitungen im betrachteten Zeitraum "
      ],
      "text/plain": [
       "<IPython.core.display.Markdown object>"
      ]
     },
     "metadata": {},
     "output_type": "display_data"
    },
    {
     "name": "stdout",
     "output_type": "stream",
     "text": [
      "2018:         3 ┬        +2 (+200%)\n",
      "2017:         1 ┘      \n"
     ]
    },
    {
     "data": {
      "text/html": [
       "<h5>Anzahl sehr aktive Autor*innen (Artikel + Unterartikel)</h5>"
      ],
      "text/plain": [
       "<IPython.core.display.HTML object>"
      ]
     },
     "metadata": {},
     "output_type": "display_data"
    },
    {
     "data": {
      "text/markdown": [
       "Autor*in haben mehr als 120 Bearbeitungen im betrachteten Zeitraum"
      ],
      "text/plain": [
       "<IPython.core.display.Markdown object>"
      ]
     },
     "metadata": {},
     "output_type": "display_data"
    },
    {
     "name": "stdout",
     "output_type": "stream",
     "text": [
      "2018:         1 ┬        +1        \n",
      "2017:         0 ┘      \n"
     ]
    },
    {
     "data": {
      "text/html": [
       "<h5>Seitenaufrufe des Artikels 'Mathe für Nicht-Freaks: Grundlagen der Mathematik'</h5>"
      ],
      "text/plain": [
       "<IPython.core.display.HTML object>"
      ]
     },
     "metadata": {},
     "output_type": "display_data"
    },
    {
     "name": "stdout",
     "output_type": "stream",
     "text": [
      "2018:    38.722 ┬    -6.876 (-15%)\n",
      "2017:    45.598 ┘      \n"
     ]
    },
    {
     "data": {
      "text/html": [
       "<h5>Bearbeitungen im Artikel 'Mathe für Nicht-Freaks: Grundlagen der Mathematik'</h5>"
      ],
      "text/plain": [
       "<IPython.core.display.HTML object>"
      ]
     },
     "metadata": {},
     "output_type": "display_data"
    },
    {
     "name": "stdout",
     "output_type": "stream",
     "text": [
      "2018:         0 ┬        +0        \n",
      "2017:         0 ┘      \n"
     ]
    },
    {
     "data": {
      "text/html": [
       "<h5>Vergleich der Seitenaufrufe zum Wikipedia-Artikel</h5>"
      ],
      "text/plain": [
       "<IPython.core.display.HTML object>"
      ]
     },
     "metadata": {},
     "output_type": "display_data"
    },
    {
     "name": "stdout",
     "output_type": "stream",
     "text": [
      "Wikipedia-Artikel: Grundlagen der Mathematik\n",
      "Views 2018:      6.540 ┬      -442 ( -6%)\n",
      "Views 2017:      6.982 ┘      \n",
      "\n",
      "MFNF / Wikipedia – 2018: 592%\n",
      "MFNF / Wikipedia – 2017: 653%\n"
     ]
    },
    {
     "data": {
      "text/markdown": [
       "[Zurück zum Inhaltsverzeichnis](#Inhaltsverzeichnis)"
      ],
      "text/plain": [
       "<IPython.core.display.Markdown object>"
      ]
     },
     "metadata": {},
     "output_type": "display_data"
    },
    {
     "data": {
      "text/html": [
       "<h3 id='Was ist Mathematik?'>=== Was ist Mathematik? ===</h3>"
      ],
      "text/plain": [
       "<IPython.core.display.HTML object>"
      ]
     },
     "metadata": {},
     "output_type": "display_data"
    },
    {
     "data": {
      "text/markdown": [
       "[Zurück zum Inhaltsverzeichnis](#Inhaltsverzeichnis)"
      ],
      "text/plain": [
       "<IPython.core.display.Markdown object>"
      ]
     },
     "metadata": {},
     "output_type": "display_data"
    },
    {
     "data": {
      "text/html": [
       "<h4 id='Was ist Mathematik?'>==== Was ist Mathematik? ====</h4>"
      ],
      "text/plain": [
       "<IPython.core.display.HTML object>"
      ]
     },
     "metadata": {},
     "output_type": "display_data"
    },
    {
     "data": {
      "text/html": [
       "<h5>Seitenaufrufe des Artikels 'Mathe für Nicht-Freaks: Was ist Mathematik?'</h5>"
      ],
      "text/plain": [
       "<IPython.core.display.HTML object>"
      ]
     },
     "metadata": {},
     "output_type": "display_data"
    },
    {
     "name": "stdout",
     "output_type": "stream",
     "text": [
      "2018:     5.635 ┬      +309 ( +6%)\n",
      "2017:     5.326 ┘      \n"
     ]
    },
    {
     "data": {
      "text/html": [
       "<h5>Bearbeitungen im Artikel 'Mathe für Nicht-Freaks: Was ist Mathematik?'</h5>"
      ],
      "text/plain": [
       "<IPython.core.display.HTML object>"
      ]
     },
     "metadata": {},
     "output_type": "display_data"
    },
    {
     "name": "stdout",
     "output_type": "stream",
     "text": [
      "2018:         7 ┬        +4 (+133%)\n",
      "2017:         3 ┘      \n"
     ]
    },
    {
     "data": {
      "text/html": [
       "<h5>Vergleich der Seitenaufrufe zum Wikipedia-Artikel</h5>"
      ],
      "text/plain": [
       "<IPython.core.display.HTML object>"
      ]
     },
     "metadata": {},
     "output_type": "display_data"
    },
    {
     "name": "stdout",
     "output_type": "stream",
     "text": [
      "Wikipedia-Artikel: Mathematik\n",
      "Views 2018:    192.709 ┬   -23.364 (-11%)\n",
      "Views 2017:    216.073 ┘      \n",
      "\n",
      "MFNF / Wikipedia – 2018:   3%\n",
      "MFNF / Wikipedia – 2017:   2%\n"
     ]
    },
    {
     "data": {
      "text/markdown": [
       "[Zurück zum Inhaltsverzeichnis](#Inhaltsverzeichnis)"
      ],
      "text/plain": [
       "<IPython.core.display.Markdown object>"
      ]
     },
     "metadata": {},
     "output_type": "display_data"
    },
    {
     "data": {
      "text/html": [
       "<h3 id='Einführung in die Logik'>=== Einführung in die Logik ===</h3>"
      ],
      "text/plain": [
       "<IPython.core.display.HTML object>"
      ]
     },
     "metadata": {},
     "output_type": "display_data"
    },
    {
     "data": {
      "text/markdown": [
       "[Zurück zum Inhaltsverzeichnis](#Inhaltsverzeichnis)"
      ],
      "text/plain": [
       "<IPython.core.display.Markdown object>"
      ]
     },
     "metadata": {},
     "output_type": "display_data"
    },
    {
     "data": {
      "text/html": [
       "<h4 id='Logik und Aussagen'>==== Logik und Aussagen ====</h4>"
      ],
      "text/plain": [
       "<IPython.core.display.HTML object>"
      ]
     },
     "metadata": {},
     "output_type": "display_data"
    },
    {
     "data": {
      "text/html": [
       "<h5>Seitenaufrufe des Artikels 'Mathe für Nicht-Freaks: Logik und Aussagen'</h5>"
      ],
      "text/plain": [
       "<IPython.core.display.HTML object>"
      ]
     },
     "metadata": {},
     "output_type": "display_data"
    },
    {
     "name": "stdout",
     "output_type": "stream",
     "text": [
      "2018:    10.806 ┬    -1.828 (-14%)\n",
      "2017:    12.634 ┘      \n"
     ]
    },
    {
     "data": {
      "text/html": [
       "<h5>Bearbeitungen im Artikel 'Mathe für Nicht-Freaks: Logik und Aussagen'</h5>"
      ],
      "text/plain": [
       "<IPython.core.display.HTML object>"
      ]
     },
     "metadata": {},
     "output_type": "display_data"
    },
    {
     "name": "stdout",
     "output_type": "stream",
     "text": [
      "2018:         5 ┬        +1 (+25%)\n",
      "2017:         4 ┘      \n"
     ]
    },
    {
     "data": {
      "text/html": [
       "<h5>Vergleich der Seitenaufrufe zum Wikipedia-Artikel</h5>"
      ],
      "text/plain": [
       "<IPython.core.display.HTML object>"
      ]
     },
     "metadata": {},
     "output_type": "display_data"
    },
    {
     "name": "stdout",
     "output_type": "stream",
     "text": [
      "Wikipedia-Artikel: Aussagenlogik\n",
      "Views 2018:    107.123 ┬    -7.626 ( -7%)\n",
      "Views 2017:    114.749 ┘      \n",
      "\n",
      "MFNF / Wikipedia – 2018:  10%\n",
      "MFNF / Wikipedia – 2017:  11%\n"
     ]
    },
    {
     "data": {
      "text/markdown": [
       "[Zurück zum Inhaltsverzeichnis](#Inhaltsverzeichnis)"
      ],
      "text/plain": [
       "<IPython.core.display.Markdown object>"
      ]
     },
     "metadata": {},
     "output_type": "display_data"
    },
    {
     "data": {
      "text/html": [
       "<h4 id='Junktoren'>==== Junktoren ====</h4>"
      ],
      "text/plain": [
       "<IPython.core.display.HTML object>"
      ]
     },
     "metadata": {},
     "output_type": "display_data"
    },
    {
     "data": {
      "text/html": [
       "<h5>Seitenaufrufe des Artikels 'Mathe für Nicht-Freaks: Junktor'</h5>"
      ],
      "text/plain": [
       "<IPython.core.display.HTML object>"
      ]
     },
     "metadata": {},
     "output_type": "display_data"
    },
    {
     "name": "stdout",
     "output_type": "stream",
     "text": [
      "2018:    16.837 ┬    -1.486 ( -8%)\n",
      "2017:    18.323 ┘      \n"
     ]
    },
    {
     "data": {
      "text/html": [
       "<h5>Bearbeitungen im Artikel 'Mathe für Nicht-Freaks: Junktor'</h5>"
      ],
      "text/plain": [
       "<IPython.core.display.HTML object>"
      ]
     },
     "metadata": {},
     "output_type": "display_data"
    },
    {
     "name": "stdout",
     "output_type": "stream",
     "text": [
      "2018:         4 ┬        +1 (+33%)\n",
      "2017:         3 ┘      \n"
     ]
    },
    {
     "data": {
      "text/html": [
       "<h5>Vergleich der Seitenaufrufe zum Wikipedia-Artikel</h5>"
      ],
      "text/plain": [
       "<IPython.core.display.HTML object>"
      ]
     },
     "metadata": {},
     "output_type": "display_data"
    },
    {
     "name": "stdout",
     "output_type": "stream",
     "text": [
      "Wikipedia-Artikel: Junktor\n",
      "Views 2018:     26.167 ┬      +207 ( +1%)\n",
      "Views 2017:     25.960 ┘      \n",
      "\n",
      "MFNF / Wikipedia – 2018:  64%\n",
      "MFNF / Wikipedia – 2017:  71%\n"
     ]
    },
    {
     "data": {
      "text/markdown": [
       "[Zurück zum Inhaltsverzeichnis](#Inhaltsverzeichnis)"
      ],
      "text/plain": [
       "<IPython.core.display.Markdown object>"
      ]
     },
     "metadata": {},
     "output_type": "display_data"
    },
    {
     "data": {
      "text/html": [
       "<h4 id='Aussagenlogik'>==== Aussagenlogik ====</h4>"
      ],
      "text/plain": [
       "<IPython.core.display.HTML object>"
      ]
     },
     "metadata": {},
     "output_type": "display_data"
    },
    {
     "data": {
      "text/html": [
       "<h5>Seitenaufrufe des Artikels 'Mathe für Nicht-Freaks: Aussagenlogik'</h5>"
      ],
      "text/plain": [
       "<IPython.core.display.HTML object>"
      ]
     },
     "metadata": {},
     "output_type": "display_data"
    },
    {
     "name": "stdout",
     "output_type": "stream",
     "text": [
      "2018:    10.803 ┬    -1.818 (-14%)\n",
      "2017:    12.621 ┘      \n"
     ]
    },
    {
     "data": {
      "text/html": [
       "<h5>Bearbeitungen im Artikel 'Mathe für Nicht-Freaks: Aussagenlogik'</h5>"
      ],
      "text/plain": [
       "<IPython.core.display.HTML object>"
      ]
     },
     "metadata": {},
     "output_type": "display_data"
    },
    {
     "name": "stdout",
     "output_type": "stream",
     "text": [
      "2018:        10 ┬       +10        \n",
      "2017:         0 ┘      \n"
     ]
    },
    {
     "data": {
      "text/markdown": [
       "[Zurück zum Inhaltsverzeichnis](#Inhaltsverzeichnis)"
      ],
      "text/plain": [
       "<IPython.core.display.Markdown object>"
      ]
     },
     "metadata": {},
     "output_type": "display_data"
    },
    {
     "data": {
      "text/html": [
       "<h4 id='Wahrheitstabelle'>==== Wahrheitstabelle ====</h4>"
      ],
      "text/plain": [
       "<IPython.core.display.HTML object>"
      ]
     },
     "metadata": {},
     "output_type": "display_data"
    },
    {
     "data": {
      "text/html": [
       "<h5>Seitenaufrufe des Artikels 'Mathe für Nicht-Freaks: Wahrheitstabelle'</h5>"
      ],
      "text/plain": [
       "<IPython.core.display.HTML object>"
      ]
     },
     "metadata": {},
     "output_type": "display_data"
    },
    {
     "name": "stdout",
     "output_type": "stream",
     "text": [
      "2018:    18.107 ┬    +2.368 (+15%)\n",
      "2017:    15.739 ┘      \n"
     ]
    },
    {
     "data": {
      "text/html": [
       "<h5>Bearbeitungen im Artikel 'Mathe für Nicht-Freaks: Wahrheitstabelle'</h5>"
      ],
      "text/plain": [
       "<IPython.core.display.HTML object>"
      ]
     },
     "metadata": {},
     "output_type": "display_data"
    },
    {
     "name": "stdout",
     "output_type": "stream",
     "text": [
      "2018:        12 ┬       +12        \n",
      "2017:         0 ┘      \n"
     ]
    },
    {
     "data": {
      "text/html": [
       "<h5>Vergleich der Seitenaufrufe zum Wikipedia-Artikel</h5>"
      ],
      "text/plain": [
       "<IPython.core.display.HTML object>"
      ]
     },
     "metadata": {},
     "output_type": "display_data"
    },
    {
     "name": "stdout",
     "output_type": "stream",
     "text": [
      "Wikipedia-Artikel: Wahrheitstabelle\n",
      "Views 2018:     57.386 ┬    -1.705 ( -3%)\n",
      "Views 2017:     59.091 ┘      \n",
      "\n",
      "MFNF / Wikipedia – 2018:  32%\n",
      "MFNF / Wikipedia – 2017:  27%\n"
     ]
    },
    {
     "data": {
      "text/markdown": [
       "[Zurück zum Inhaltsverzeichnis](#Inhaltsverzeichnis)"
      ],
      "text/plain": [
       "<IPython.core.display.Markdown object>"
      ]
     },
     "metadata": {},
     "output_type": "display_data"
    },
    {
     "data": {
      "text/html": [
       "<h4 id='Tautologien'>==== Tautologien ====</h4>"
      ],
      "text/plain": [
       "<IPython.core.display.HTML object>"
      ]
     },
     "metadata": {},
     "output_type": "display_data"
    },
    {
     "data": {
      "text/html": [
       "<h5>Seitenaufrufe des Artikels 'Mathe für Nicht-Freaks: Tautologie'</h5>"
      ],
      "text/plain": [
       "<IPython.core.display.HTML object>"
      ]
     },
     "metadata": {},
     "output_type": "display_data"
    },
    {
     "name": "stdout",
     "output_type": "stream",
     "text": [
      "2018:    11.948 ┬    +1.109 (+10%)\n",
      "2017:    10.839 ┘      \n"
     ]
    },
    {
     "data": {
      "text/html": [
       "<h5>Bearbeitungen im Artikel 'Mathe für Nicht-Freaks: Tautologie'</h5>"
      ],
      "text/plain": [
       "<IPython.core.display.HTML object>"
      ]
     },
     "metadata": {},
     "output_type": "display_data"
    },
    {
     "name": "stdout",
     "output_type": "stream",
     "text": [
      "2018:        18 ┬       +17 (+1700%)\n",
      "2017:         1 ┘      \n"
     ]
    },
    {
     "data": {
      "text/html": [
       "<h5>Vergleich der Seitenaufrufe zum Wikipedia-Artikel</h5>"
      ],
      "text/plain": [
       "<IPython.core.display.HTML object>"
      ]
     },
     "metadata": {},
     "output_type": "display_data"
    },
    {
     "name": "stdout",
     "output_type": "stream",
     "text": [
      "Wikipedia-Artikel: Tautologie (Logik)\n",
      "Views 2018:     90.678 ┬    +1.717 ( +2%)\n",
      "Views 2017:     88.961 ┘      \n",
      "\n",
      "MFNF / Wikipedia – 2018:  13%\n",
      "MFNF / Wikipedia – 2017:  12%\n"
     ]
    },
    {
     "data": {
      "text/markdown": [
       "[Zurück zum Inhaltsverzeichnis](#Inhaltsverzeichnis)"
      ],
      "text/plain": [
       "<IPython.core.display.Markdown object>"
      ]
     },
     "metadata": {},
     "output_type": "display_data"
    },
    {
     "data": {
      "text/html": [
       "<h4 id='Quantoren'>==== Quantoren ====</h4>"
      ],
      "text/plain": [
       "<IPython.core.display.HTML object>"
      ]
     },
     "metadata": {},
     "output_type": "display_data"
    },
    {
     "data": {
      "text/html": [
       "<h5>Seitenaufrufe des Artikels 'Mathe für Nicht-Freaks: Quantor'</h5>"
      ],
      "text/plain": [
       "<IPython.core.display.HTML object>"
      ]
     },
     "metadata": {},
     "output_type": "display_data"
    },
    {
     "name": "stdout",
     "output_type": "stream",
     "text": [
      "2018:    27.349 ┬    +2.082 ( +8%)\n",
      "2017:    25.267 ┘      \n"
     ]
    },
    {
     "data": {
      "text/html": [
       "<h5>Bearbeitungen im Artikel 'Mathe für Nicht-Freaks: Quantor'</h5>"
      ],
      "text/plain": [
       "<IPython.core.display.HTML object>"
      ]
     },
     "metadata": {},
     "output_type": "display_data"
    },
    {
     "name": "stdout",
     "output_type": "stream",
     "text": [
      "2018:        18 ┬       +16 (+800%)\n",
      "2017:         2 ┘      \n"
     ]
    },
    {
     "data": {
      "text/html": [
       "<h5>Vergleich der Seitenaufrufe zum Wikipedia-Artikel</h5>"
      ],
      "text/plain": [
       "<IPython.core.display.HTML object>"
      ]
     },
     "metadata": {},
     "output_type": "display_data"
    },
    {
     "name": "stdout",
     "output_type": "stream",
     "text": [
      "Wikipedia-Artikel: Quantor\n",
      "Views 2018:     47.276 ┬    -1.725 ( -4%)\n",
      "Views 2017:     49.001 ┘      \n",
      "\n",
      "MFNF / Wikipedia – 2018:  58%\n",
      "MFNF / Wikipedia – 2017:  52%\n"
     ]
    },
    {
     "data": {
      "text/markdown": [
       "[Zurück zum Inhaltsverzeichnis](#Inhaltsverzeichnis)"
      ],
      "text/plain": [
       "<IPython.core.display.Markdown object>"
      ]
     },
     "metadata": {},
     "output_type": "display_data"
    },
    {
     "data": {
      "text/html": [
       "<h4 id='Aussageform und Substitution'>==== Aussageform und Substitution ====</h4>"
      ],
      "text/plain": [
       "<IPython.core.display.HTML object>"
      ]
     },
     "metadata": {},
     "output_type": "display_data"
    },
    {
     "data": {
      "text/html": [
       "<h5>Seitenaufrufe des Artikels 'Mathe für Nicht-Freaks: Aussageform und Substitution'</h5>"
      ],
      "text/plain": [
       "<IPython.core.display.HTML object>"
      ]
     },
     "metadata": {},
     "output_type": "display_data"
    },
    {
     "name": "stdout",
     "output_type": "stream",
     "text": [
      "2018:     3.382 ┬      +338 (+11%)\n",
      "2017:     3.044 ┘      \n"
     ]
    },
    {
     "data": {
      "text/html": [
       "<h5>Bearbeitungen im Artikel 'Mathe für Nicht-Freaks: Aussageform und Substitution'</h5>"
      ],
      "text/plain": [
       "<IPython.core.display.HTML object>"
      ]
     },
     "metadata": {},
     "output_type": "display_data"
    },
    {
     "name": "stdout",
     "output_type": "stream",
     "text": [
      "2018:        13 ┬       +12 (+1200%)\n",
      "2017:         1 ┘      \n"
     ]
    },
    {
     "data": {
      "text/html": [
       "<h5>Vergleich der Seitenaufrufe zum Wikipedia-Artikel</h5>"
      ],
      "text/plain": [
       "<IPython.core.display.HTML object>"
      ]
     },
     "metadata": {},
     "output_type": "display_data"
    },
    {
     "name": "stdout",
     "output_type": "stream",
     "text": [
      "Wikipedia-Artikel: Aussageform\n",
      "Views 2018:      3.422 ┬      -391 (-10%)\n",
      "Views 2017:      3.813 ┘      \n",
      "\n",
      "MFNF / Wikipedia – 2018:  99%\n",
      "MFNF / Wikipedia – 2017:  80%\n"
     ]
    },
    {
     "data": {
      "text/markdown": [
       "[Zurück zum Inhaltsverzeichnis](#Inhaltsverzeichnis)"
      ],
      "text/plain": [
       "<IPython.core.display.Markdown object>"
      ]
     },
     "metadata": {},
     "output_type": "display_data"
    },
    {
     "data": {
      "text/html": [
       "<h4 id='Prädikatenlogik'>==== Prädikatenlogik ====</h4>"
      ],
      "text/plain": [
       "<IPython.core.display.HTML object>"
      ]
     },
     "metadata": {},
     "output_type": "display_data"
    },
    {
     "data": {
      "text/html": [
       "<h5>Seitenaufrufe des Artikels 'Mathe für Nicht-Freaks: Prädikatenlogik'</h5>"
      ],
      "text/plain": [
       "<IPython.core.display.HTML object>"
      ]
     },
     "metadata": {},
     "output_type": "display_data"
    },
    {
     "name": "stdout",
     "output_type": "stream",
     "text": [
      "2018:       229 ┬      +229        \n",
      "2017:         0 ┘      \n"
     ]
    },
    {
     "data": {
      "text/html": [
       "<h5>Bearbeitungen im Artikel 'Mathe für Nicht-Freaks: Prädikatenlogik'</h5>"
      ],
      "text/plain": [
       "<IPython.core.display.HTML object>"
      ]
     },
     "metadata": {},
     "output_type": "display_data"
    },
    {
     "name": "stdout",
     "output_type": "stream",
     "text": [
      "2018:         1 ┬        +1        \n",
      "2017:         0 ┘      \n"
     ]
    },
    {
     "data": {
      "text/markdown": [
       "[Zurück zum Inhaltsverzeichnis](#Inhaltsverzeichnis)"
      ],
      "text/plain": [
       "<IPython.core.display.Markdown object>"
      ]
     },
     "metadata": {},
     "output_type": "display_data"
    },
    {
     "data": {
      "text/html": [
       "<h4 id='Aussagen formalisieren'>==== Aussagen formalisieren ====</h4>"
      ],
      "text/plain": [
       "<IPython.core.display.HTML object>"
      ]
     },
     "metadata": {},
     "output_type": "display_data"
    },
    {
     "data": {
      "text/html": [
       "<h5>Seitenaufrufe des Artikels 'Mathe für Nicht-Freaks: Aussagen formalisieren'</h5>"
      ],
      "text/plain": [
       "<IPython.core.display.HTML object>"
      ]
     },
     "metadata": {},
     "output_type": "display_data"
    },
    {
     "name": "stdout",
     "output_type": "stream",
     "text": [
      "2018:     7.116 ┬    +1.346 (+23%)\n",
      "2017:     5.770 ┘      \n"
     ]
    },
    {
     "data": {
      "text/html": [
       "<h5>Bearbeitungen im Artikel 'Mathe für Nicht-Freaks: Aussagen formalisieren'</h5>"
      ],
      "text/plain": [
       "<IPython.core.display.HTML object>"
      ]
     },
     "metadata": {},
     "output_type": "display_data"
    },
    {
     "name": "stdout",
     "output_type": "stream",
     "text": [
      "2018:        11 ┬        +8 (+267%)\n",
      "2017:         3 ┘      \n"
     ]
    },
    {
     "data": {
      "text/markdown": [
       "[Zurück zum Inhaltsverzeichnis](#Inhaltsverzeichnis)"
      ],
      "text/plain": [
       "<IPython.core.display.Markdown object>"
      ]
     },
     "metadata": {},
     "output_type": "display_data"
    },
    {
     "data": {
      "text/html": [
       "<h4 id='Aussagen negieren'>==== Aussagen negieren ====</h4>"
      ],
      "text/plain": [
       "<IPython.core.display.HTML object>"
      ]
     },
     "metadata": {},
     "output_type": "display_data"
    },
    {
     "data": {
      "text/html": [
       "<h5>Seitenaufrufe des Artikels 'Mathe für Nicht-Freaks: Aussagen negieren'</h5>"
      ],
      "text/plain": [
       "<IPython.core.display.HTML object>"
      ]
     },
     "metadata": {},
     "output_type": "display_data"
    },
    {
     "name": "stdout",
     "output_type": "stream",
     "text": [
      "2018:    42.836 ┬    +3.763 (+10%)\n",
      "2017:    39.073 ┘      \n"
     ]
    },
    {
     "data": {
      "text/html": [
       "<h5>Bearbeitungen im Artikel 'Mathe für Nicht-Freaks: Aussagen negieren'</h5>"
      ],
      "text/plain": [
       "<IPython.core.display.HTML object>"
      ]
     },
     "metadata": {},
     "output_type": "display_data"
    },
    {
     "name": "stdout",
     "output_type": "stream",
     "text": [
      "2018:         3 ┬        -4 (-57%)\n",
      "2017:         7 ┘      \n"
     ]
    },
    {
     "data": {
      "text/markdown": [
       "[Zurück zum Inhaltsverzeichnis](#Inhaltsverzeichnis)"
      ],
      "text/plain": [
       "<IPython.core.display.Markdown object>"
      ]
     },
     "metadata": {},
     "output_type": "display_data"
    },
    {
     "data": {
      "text/html": [
       "<h4 id='Klassenlogik'>==== Klassenlogik ====</h4>"
      ],
      "text/plain": [
       "<IPython.core.display.HTML object>"
      ]
     },
     "metadata": {},
     "output_type": "display_data"
    },
    {
     "data": {
      "text/html": [
       "<h5>Seitenaufrufe des Artikels 'Mathe für Nicht-Freaks: Klassenlogik'</h5>"
      ],
      "text/plain": [
       "<IPython.core.display.HTML object>"
      ]
     },
     "metadata": {},
     "output_type": "display_data"
    },
    {
     "name": "stdout",
     "output_type": "stream",
     "text": [
      "2018:       140 ┬      +140        \n",
      "2017:         0 ┘      \n"
     ]
    },
    {
     "data": {
      "text/html": [
       "<h5>Bearbeitungen im Artikel 'Mathe für Nicht-Freaks: Klassenlogik'</h5>"
      ],
      "text/plain": [
       "<IPython.core.display.HTML object>"
      ]
     },
     "metadata": {},
     "output_type": "display_data"
    },
    {
     "name": "stdout",
     "output_type": "stream",
     "text": [
      "2018:         1 ┬        +1        \n",
      "2017:         0 ┘      \n"
     ]
    },
    {
     "data": {
      "text/markdown": [
       "[Zurück zum Inhaltsverzeichnis](#Inhaltsverzeichnis)"
      ],
      "text/plain": [
       "<IPython.core.display.Markdown object>"
      ]
     },
     "metadata": {},
     "output_type": "display_data"
    },
    {
     "data": {
      "text/html": [
       "<h4 id='Gesetze der Logik'>==== Gesetze der Logik ====</h4>"
      ],
      "text/plain": [
       "<IPython.core.display.HTML object>"
      ]
     },
     "metadata": {},
     "output_type": "display_data"
    },
    {
     "data": {
      "text/html": [
       "<h5>Seitenaufrufe des Artikels 'Mathe für Nicht-Freaks: Gesetze der Logik'</h5>"
      ],
      "text/plain": [
       "<IPython.core.display.HTML object>"
      ]
     },
     "metadata": {},
     "output_type": "display_data"
    },
    {
     "name": "stdout",
     "output_type": "stream",
     "text": [
      "2018:    19.269 ┬   +10.346 (+116%)\n",
      "2017:     8.923 ┘      \n"
     ]
    },
    {
     "data": {
      "text/html": [
       "<h5>Bearbeitungen im Artikel 'Mathe für Nicht-Freaks: Gesetze der Logik'</h5>"
      ],
      "text/plain": [
       "<IPython.core.display.HTML object>"
      ]
     },
     "metadata": {},
     "output_type": "display_data"
    },
    {
     "name": "stdout",
     "output_type": "stream",
     "text": [
      "2018:         8 ┬        +8        \n",
      "2017:         0 ┘      \n"
     ]
    },
    {
     "data": {
      "text/markdown": [
       "[Zurück zum Inhaltsverzeichnis](#Inhaltsverzeichnis)"
      ],
      "text/plain": [
       "<IPython.core.display.Markdown object>"
      ]
     },
     "metadata": {},
     "output_type": "display_data"
    },
    {
     "data": {
      "text/html": [
       "<h4 id='Aufgaben'>==== Aufgaben ====</h4>"
      ],
      "text/plain": [
       "<IPython.core.display.HTML object>"
      ]
     },
     "metadata": {},
     "output_type": "display_data"
    },
    {
     "data": {
      "text/html": [
       "<h5>Seitenaufrufe des Artikels 'Mathe für Nicht-Freaks: Aufgaben zur Logik'</h5>"
      ],
      "text/plain": [
       "<IPython.core.display.HTML object>"
      ]
     },
     "metadata": {},
     "output_type": "display_data"
    },
    {
     "name": "stdout",
     "output_type": "stream",
     "text": [
      "2018:     3.776 ┬      +552 (+17%)\n",
      "2017:     3.224 ┘      \n"
     ]
    },
    {
     "data": {
      "text/html": [
       "<h5>Bearbeitungen im Artikel 'Mathe für Nicht-Freaks: Aufgaben zur Logik'</h5>"
      ],
      "text/plain": [
       "<IPython.core.display.HTML object>"
      ]
     },
     "metadata": {},
     "output_type": "display_data"
    },
    {
     "name": "stdout",
     "output_type": "stream",
     "text": [
      "2018:         2 ┬       -11 (-85%)\n",
      "2017:        13 ┘      \n"
     ]
    },
    {
     "data": {
      "text/markdown": [
       "[Zurück zum Inhaltsverzeichnis](#Inhaltsverzeichnis)"
      ],
      "text/plain": [
       "<IPython.core.display.Markdown object>"
      ]
     },
     "metadata": {},
     "output_type": "display_data"
    },
    {
     "data": {
      "text/html": [
       "<h3 id='Beweise und Beweismethoden'>=== Beweise und Beweismethoden ===</h3>"
      ],
      "text/plain": [
       "<IPython.core.display.HTML object>"
      ]
     },
     "metadata": {},
     "output_type": "display_data"
    },
    {
     "data": {
      "text/markdown": [
       "[Zurück zum Inhaltsverzeichnis](#Inhaltsverzeichnis)"
      ],
      "text/plain": [
       "<IPython.core.display.Markdown object>"
      ]
     },
     "metadata": {},
     "output_type": "display_data"
    },
    {
     "data": {
      "text/html": [
       "<h4 id='Was sind Beweise?'>==== Was sind Beweise? ====</h4>"
      ],
      "text/plain": [
       "<IPython.core.display.HTML object>"
      ]
     },
     "metadata": {},
     "output_type": "display_data"
    },
    {
     "data": {
      "text/html": [
       "<h5>Seitenaufrufe des Artikels 'Mathe für Nicht-Freaks: Beweis'</h5>"
      ],
      "text/plain": [
       "<IPython.core.display.HTML object>"
      ]
     },
     "metadata": {},
     "output_type": "display_data"
    },
    {
     "name": "stdout",
     "output_type": "stream",
     "text": [
      "2018:     8.354 ┬    -1.536 (-16%)\n",
      "2017:     9.890 ┘      \n"
     ]
    },
    {
     "data": {
      "text/html": [
       "<h5>Bearbeitungen im Artikel 'Mathe für Nicht-Freaks: Beweis'</h5>"
      ],
      "text/plain": [
       "<IPython.core.display.HTML object>"
      ]
     },
     "metadata": {},
     "output_type": "display_data"
    },
    {
     "name": "stdout",
     "output_type": "stream",
     "text": [
      "2018:         3 ┬        +3        \n",
      "2017:         0 ┘      \n"
     ]
    },
    {
     "data": {
      "text/html": [
       "<h5>Vergleich der Seitenaufrufe zum Wikipedia-Artikel</h5>"
      ],
      "text/plain": [
       "<IPython.core.display.HTML object>"
      ]
     },
     "metadata": {},
     "output_type": "display_data"
    },
    {
     "name": "stdout",
     "output_type": "stream",
     "text": [
      "Wikipedia-Artikel: Beweis (Mathematik)\n",
      "Views 2018:     36.692 ┬      -766 ( -2%)\n",
      "Views 2017:     37.458 ┘      \n",
      "\n",
      "MFNF / Wikipedia – 2018:  23%\n",
      "MFNF / Wikipedia – 2017:  26%\n"
     ]
    },
    {
     "data": {
      "text/markdown": [
       "[Zurück zum Inhaltsverzeichnis](#Inhaltsverzeichnis)"
      ],
      "text/plain": [
       "<IPython.core.display.Markdown object>"
      ]
     },
     "metadata": {},
     "output_type": "display_data"
    },
    {
     "data": {
      "text/html": [
       "<h4 id='Direkter und indirekter Beweis'>==== Direkter und indirekter Beweis ====</h4>"
      ],
      "text/plain": [
       "<IPython.core.display.HTML object>"
      ]
     },
     "metadata": {},
     "output_type": "display_data"
    },
    {
     "data": {
      "text/html": [
       "<h5>Seitenaufrufe des Artikels 'Mathe für Nicht-Freaks: Direkter und indirekter Beweis'</h5>"
      ],
      "text/plain": [
       "<IPython.core.display.HTML object>"
      ]
     },
     "metadata": {},
     "output_type": "display_data"
    },
    {
     "name": "stdout",
     "output_type": "stream",
     "text": [
      "2018:    23.319 ┬    -2.130 ( -8%)\n",
      "2017:    25.449 ┘      \n"
     ]
    },
    {
     "data": {
      "text/html": [
       "<h5>Bearbeitungen im Artikel 'Mathe für Nicht-Freaks: Direkter und indirekter Beweis'</h5>"
      ],
      "text/plain": [
       "<IPython.core.display.HTML object>"
      ]
     },
     "metadata": {},
     "output_type": "display_data"
    },
    {
     "name": "stdout",
     "output_type": "stream",
     "text": [
      "2018:         1 ┬        +1        \n",
      "2017:         0 ┘      \n"
     ]
    },
    {
     "data": {
      "text/html": [
       "<h5>Vergleich der Seitenaufrufe zum Wikipedia-Artikel</h5>"
      ],
      "text/plain": [
       "<IPython.core.display.HTML object>"
      ]
     },
     "metadata": {},
     "output_type": "display_data"
    },
    {
     "name": "stdout",
     "output_type": "stream",
     "text": [
      "Wikipedia-Artikel: Reductio ad absurdum\n",
      "Views 2018:     31.435 ┬      +194 ( +1%)\n",
      "Views 2017:     31.241 ┘      \n",
      "\n",
      "MFNF / Wikipedia – 2018:  74%\n",
      "MFNF / Wikipedia – 2017:  81%\n"
     ]
    },
    {
     "data": {
      "text/markdown": [
       "[Zurück zum Inhaltsverzeichnis](#Inhaltsverzeichnis)"
      ],
      "text/plain": [
       "<IPython.core.display.Markdown object>"
      ]
     },
     "metadata": {},
     "output_type": "display_data"
    },
    {
     "data": {
      "text/html": [
       "<h4 id='Fallunterscheidung und Kontraposition'>==== Fallunterscheidung und Kontraposition ====</h4>"
      ],
      "text/plain": [
       "<IPython.core.display.HTML object>"
      ]
     },
     "metadata": {},
     "output_type": "display_data"
    },
    {
     "data": {
      "text/html": [
       "<h5>Seitenaufrufe des Artikels 'Mathe für Nicht-Freaks: Fallunterscheidung und Kontraposition'</h5>"
      ],
      "text/plain": [
       "<IPython.core.display.HTML object>"
      ]
     },
     "metadata": {},
     "output_type": "display_data"
    },
    {
     "name": "stdout",
     "output_type": "stream",
     "text": [
      "2018:     8.083 ┬    -1.809 (-18%)\n",
      "2017:     9.892 ┘      \n"
     ]
    },
    {
     "data": {
      "text/html": [
       "<h5>Bearbeitungen im Artikel 'Mathe für Nicht-Freaks: Fallunterscheidung und Kontraposition'</h5>"
      ],
      "text/plain": [
       "<IPython.core.display.HTML object>"
      ]
     },
     "metadata": {},
     "output_type": "display_data"
    },
    {
     "name": "stdout",
     "output_type": "stream",
     "text": [
      "2018:         2 ┬        +0 ( +0%)\n",
      "2017:         2 ┘      \n"
     ]
    },
    {
     "data": {
      "text/html": [
       "<h5>Vergleich der Seitenaufrufe zum Wikipedia-Artikel</h5>"
      ],
      "text/plain": [
       "<IPython.core.display.HTML object>"
      ]
     },
     "metadata": {},
     "output_type": "display_data"
    },
    {
     "name": "stdout",
     "output_type": "stream",
     "text": [
      "Wikipedia-Artikel: Kontraposition\n",
      "Views 2018:     13.698 ┬      +308 ( +2%)\n",
      "Views 2017:     13.390 ┘      \n",
      "\n",
      "MFNF / Wikipedia – 2018:  59%\n",
      "MFNF / Wikipedia – 2017:  74%\n"
     ]
    },
    {
     "data": {
      "text/markdown": [
       "[Zurück zum Inhaltsverzeichnis](#Inhaltsverzeichnis)"
      ],
      "text/plain": [
       "<IPython.core.display.Markdown object>"
      ]
     },
     "metadata": {},
     "output_type": "display_data"
    },
    {
     "data": {
      "text/html": [
       "<h4 id='Notwendige und hinreichende Bedingungen'>==== Notwendige und hinreichende Bedingungen ====</h4>"
      ],
      "text/plain": [
       "<IPython.core.display.HTML object>"
      ]
     },
     "metadata": {},
     "output_type": "display_data"
    },
    {
     "data": {
      "text/html": [
       "<h5>Seitenaufrufe des Artikels 'Mathe für Nicht-Freaks: Notwendige und hinreichende Bedingungen'</h5>"
      ],
      "text/plain": [
       "<IPython.core.display.HTML object>"
      ]
     },
     "metadata": {},
     "output_type": "display_data"
    },
    {
     "name": "stdout",
     "output_type": "stream",
     "text": [
      "2018:     6.556 ┬      -495 ( -7%)\n",
      "2017:     7.051 ┘      \n"
     ]
    },
    {
     "data": {
      "text/html": [
       "<h5>Bearbeitungen im Artikel 'Mathe für Nicht-Freaks: Notwendige und hinreichende Bedingungen'</h5>"
      ],
      "text/plain": [
       "<IPython.core.display.HTML object>"
      ]
     },
     "metadata": {},
     "output_type": "display_data"
    },
    {
     "name": "stdout",
     "output_type": "stream",
     "text": [
      "2018:         6 ┬        +5 (+500%)\n",
      "2017:         1 ┘      \n"
     ]
    },
    {
     "data": {
      "text/html": [
       "<h5>Vergleich der Seitenaufrufe zum Wikipedia-Artikel</h5>"
      ],
      "text/plain": [
       "<IPython.core.display.HTML object>"
      ]
     },
     "metadata": {},
     "output_type": "display_data"
    },
    {
     "name": "stdout",
     "output_type": "stream",
     "text": [
      "Wikipedia-Artikel: Notwendige und hinreichende Bedingung\n",
      "Views 2018:     84.083 ┬      +962 ( +1%)\n",
      "Views 2017:     83.121 ┘      \n",
      "\n",
      "MFNF / Wikipedia – 2018:   8%\n",
      "MFNF / Wikipedia – 2017:   8%\n"
     ]
    },
    {
     "data": {
      "text/markdown": [
       "[Zurück zum Inhaltsverzeichnis](#Inhaltsverzeichnis)"
      ],
      "text/plain": [
       "<IPython.core.display.Markdown object>"
      ]
     },
     "metadata": {},
     "output_type": "display_data"
    },
    {
     "data": {
      "text/html": [
       "<h3 id='Vollständige Induktion'>=== Vollständige Induktion ===</h3>"
      ],
      "text/plain": [
       "<IPython.core.display.HTML object>"
      ]
     },
     "metadata": {},
     "output_type": "display_data"
    },
    {
     "data": {
      "text/markdown": [
       "[Zurück zum Inhaltsverzeichnis](#Inhaltsverzeichnis)"
      ],
      "text/plain": [
       "<IPython.core.display.Markdown object>"
      ]
     },
     "metadata": {},
     "output_type": "display_data"
    },
    {
     "data": {
      "text/html": [
       "<h4 id='Definition und Erklärung'>==== Definition und Erklärung ====</h4>"
      ],
      "text/plain": [
       "<IPython.core.display.HTML object>"
      ]
     },
     "metadata": {},
     "output_type": "display_data"
    },
    {
     "data": {
      "text/html": [
       "<h5>Seitenaufrufe des Artikels 'Mathe für Nicht-Freaks: Vollständige Induktion'</h5>"
      ],
      "text/plain": [
       "<IPython.core.display.HTML object>"
      ]
     },
     "metadata": {},
     "output_type": "display_data"
    },
    {
     "name": "stdout",
     "output_type": "stream",
     "text": [
      "2018:    68.188 ┬    -5.440 ( -7%)\n",
      "2017:    73.628 ┘      \n"
     ]
    },
    {
     "data": {
      "text/html": [
       "<h5>Bearbeitungen im Artikel 'Mathe für Nicht-Freaks: Vollständige Induktion'</h5>"
      ],
      "text/plain": [
       "<IPython.core.display.HTML object>"
      ]
     },
     "metadata": {},
     "output_type": "display_data"
    },
    {
     "name": "stdout",
     "output_type": "stream",
     "text": [
      "2018:         2 ┬        +0 ( +0%)\n",
      "2017:         2 ┘      \n"
     ]
    },
    {
     "data": {
      "text/html": [
       "<h5>Vergleich der Seitenaufrufe zum Wikipedia-Artikel</h5>"
      ],
      "text/plain": [
       "<IPython.core.display.HTML object>"
      ]
     },
     "metadata": {},
     "output_type": "display_data"
    },
    {
     "name": "stdout",
     "output_type": "stream",
     "text": [
      "Wikipedia-Artikel: Vollständige Induktion\n",
      "Views 2018:     99.586 ┬   -20.803 (-17%)\n",
      "Views 2017:    120.389 ┘      \n",
      "\n",
      "MFNF / Wikipedia – 2018:  68%\n",
      "MFNF / Wikipedia – 2017:  61%\n"
     ]
    },
    {
     "data": {
      "text/markdown": [
       "[Zurück zum Inhaltsverzeichnis](#Inhaltsverzeichnis)"
      ],
      "text/plain": [
       "<IPython.core.display.Markdown object>"
      ]
     },
     "metadata": {},
     "output_type": "display_data"
    },
    {
     "data": {
      "text/html": [
       "<h4 id='Beispielaufgaben'>==== Beispielaufgaben ====</h4>"
      ],
      "text/plain": [
       "<IPython.core.display.HTML object>"
      ]
     },
     "metadata": {},
     "output_type": "display_data"
    },
    {
     "data": {
      "text/html": [
       "<h5>Seitenaufrufe des Artikels 'Mathe für Nicht-Freaks: Vollständige Induktion: Beispiele'</h5>"
      ],
      "text/plain": [
       "<IPython.core.display.HTML object>"
      ]
     },
     "metadata": {},
     "output_type": "display_data"
    },
    {
     "name": "stdout",
     "output_type": "stream",
     "text": [
      "2018:    37.122 ┬    +3.736 (+11%)\n",
      "2017:    33.386 ┘      \n"
     ]
    },
    {
     "data": {
      "text/html": [
       "<h5>Bearbeitungen im Artikel 'Mathe für Nicht-Freaks: Vollständige Induktion: Beispiele'</h5>"
      ],
      "text/plain": [
       "<IPython.core.display.HTML object>"
      ]
     },
     "metadata": {},
     "output_type": "display_data"
    },
    {
     "name": "stdout",
     "output_type": "stream",
     "text": [
      "2018:         2 ┬        -8 (-80%)\n",
      "2017:        10 ┘      \n"
     ]
    },
    {
     "data": {
      "text/markdown": [
       "[Zurück zum Inhaltsverzeichnis](#Inhaltsverzeichnis)"
      ],
      "text/plain": [
       "<IPython.core.display.Markdown object>"
      ]
     },
     "metadata": {},
     "output_type": "display_data"
    },
    {
     "data": {
      "text/html": [
       "<h3 id='Mengenlehre'>=== Mengenlehre ===</h3>"
      ],
      "text/plain": [
       "<IPython.core.display.HTML object>"
      ]
     },
     "metadata": {},
     "output_type": "display_data"
    },
    {
     "data": {
      "text/markdown": [
       "[Zurück zum Inhaltsverzeichnis](#Inhaltsverzeichnis)"
      ],
      "text/plain": [
       "<IPython.core.display.Markdown object>"
      ]
     },
     "metadata": {},
     "output_type": "display_data"
    },
    {
     "data": {
      "text/html": [
       "<h4 id='Definition einer Menge'>==== Definition einer Menge ====</h4>"
      ],
      "text/plain": [
       "<IPython.core.display.HTML object>"
      ]
     },
     "metadata": {},
     "output_type": "display_data"
    },
    {
     "data": {
      "text/html": [
       "<h5>Seitenaufrufe des Artikels 'Mathe für Nicht-Freaks: Mengenlehre: Menge'</h5>"
      ],
      "text/plain": [
       "<IPython.core.display.HTML object>"
      ]
     },
     "metadata": {},
     "output_type": "display_data"
    },
    {
     "name": "stdout",
     "output_type": "stream",
     "text": [
      "2018:     9.978 ┬    -1.398 (-12%)\n",
      "2017:    11.376 ┘      \n"
     ]
    },
    {
     "data": {
      "text/html": [
       "<h5>Bearbeitungen im Artikel 'Mathe für Nicht-Freaks: Mengenlehre: Menge'</h5>"
      ],
      "text/plain": [
       "<IPython.core.display.HTML object>"
      ]
     },
     "metadata": {},
     "output_type": "display_data"
    },
    {
     "name": "stdout",
     "output_type": "stream",
     "text": [
      "2018:         8 ┬        +4 (+100%)\n",
      "2017:         4 ┘      \n"
     ]
    },
    {
     "data": {
      "text/html": [
       "<h5>Vergleich der Seitenaufrufe zum Wikipedia-Artikel</h5>"
      ],
      "text/plain": [
       "<IPython.core.display.HTML object>"
      ]
     },
     "metadata": {},
     "output_type": "display_data"
    },
    {
     "name": "stdout",
     "output_type": "stream",
     "text": [
      "Wikipedia-Artikel: Mengenlehre\n",
      "Views 2018:    141.353 ┬    -8.399 ( -6%)\n",
      "Views 2017:    149.752 ┘      \n",
      "\n",
      "MFNF / Wikipedia – 2018:   7%\n",
      "MFNF / Wikipedia – 2017:   8%\n"
     ]
    },
    {
     "data": {
      "text/markdown": [
       "[Zurück zum Inhaltsverzeichnis](#Inhaltsverzeichnis)"
      ],
      "text/plain": [
       "<IPython.core.display.Markdown object>"
      ]
     },
     "metadata": {},
     "output_type": "display_data"
    },
    {
     "data": {
      "text/html": [
       "<h4 id='Mengenschreibweisen'>==== Mengenschreibweisen ====</h4>"
      ],
      "text/plain": [
       "<IPython.core.display.HTML object>"
      ]
     },
     "metadata": {},
     "output_type": "display_data"
    },
    {
     "data": {
      "text/html": [
       "<h5>Seitenaufrufe des Artikels 'Mathe für Nicht-Freaks: Aufzählende und beschreibende Mengenschreibweise'</h5>"
      ],
      "text/plain": [
       "<IPython.core.display.HTML object>"
      ]
     },
     "metadata": {},
     "output_type": "display_data"
    },
    {
     "name": "stdout",
     "output_type": "stream",
     "text": [
      "2018:    20.313 ┬    +6.310 (+45%)\n",
      "2017:    14.003 ┘      \n"
     ]
    },
    {
     "data": {
      "text/html": [
       "<h5>Bearbeitungen im Artikel 'Mathe für Nicht-Freaks: Aufzählende und beschreibende Mengenschreibweise'</h5>"
      ],
      "text/plain": [
       "<IPython.core.display.HTML object>"
      ]
     },
     "metadata": {},
     "output_type": "display_data"
    },
    {
     "name": "stdout",
     "output_type": "stream",
     "text": [
      "2018:        13 ┬       +13        \n",
      "2017:         0 ┘      \n"
     ]
    },
    {
     "data": {
      "text/html": [
       "<h5>Vergleich der Seitenaufrufe zum Wikipedia-Artikel</h5>"
      ],
      "text/plain": [
       "<IPython.core.display.HTML object>"
      ]
     },
     "metadata": {},
     "output_type": "display_data"
    },
    {
     "name": "stdout",
     "output_type": "stream",
     "text": [
      "Wikipedia-Artikel: Menge (Mathematik)\n",
      "Views 2018:    120.247 ┬    -8.162 ( -6%)\n",
      "Views 2017:    128.409 ┘      \n",
      "\n",
      "MFNF / Wikipedia – 2018:  17%\n",
      "MFNF / Wikipedia – 2017:  11%\n"
     ]
    },
    {
     "data": {
      "text/markdown": [
       "[Zurück zum Inhaltsverzeichnis](#Inhaltsverzeichnis)"
      ],
      "text/plain": [
       "<IPython.core.display.Markdown object>"
      ]
     },
     "metadata": {},
     "output_type": "display_data"
    },
    {
     "data": {
      "text/html": [
       "<h4 id='Euler- und Venn-Diagramme'>==== Euler- und Venn-Diagramme ====</h4>"
      ],
      "text/plain": [
       "<IPython.core.display.HTML object>"
      ]
     },
     "metadata": {},
     "output_type": "display_data"
    },
    {
     "data": {
      "text/html": [
       "<h5>Seitenaufrufe des Artikels 'Mathe für Nicht-Freaks: Mengendiagramme: Euler- und Venn-Diagramm'</h5>"
      ],
      "text/plain": [
       "<IPython.core.display.HTML object>"
      ]
     },
     "metadata": {},
     "output_type": "display_data"
    },
    {
     "name": "stdout",
     "output_type": "stream",
     "text": [
      "2018:     4.587 ┬      -265 ( -5%)\n",
      "2017:     4.852 ┘      \n"
     ]
    },
    {
     "data": {
      "text/html": [
       "<h5>Bearbeitungen im Artikel 'Mathe für Nicht-Freaks: Mengendiagramme: Euler- und Venn-Diagramm'</h5>"
      ],
      "text/plain": [
       "<IPython.core.display.HTML object>"
      ]
     },
     "metadata": {},
     "output_type": "display_data"
    },
    {
     "name": "stdout",
     "output_type": "stream",
     "text": [
      "2018:         2 ┬        +1 (+100%)\n",
      "2017:         1 ┘      \n"
     ]
    },
    {
     "data": {
      "text/markdown": [
       "[Zurück zum Inhaltsverzeichnis](#Inhaltsverzeichnis)"
      ],
      "text/plain": [
       "<IPython.core.display.Markdown object>"
      ]
     },
     "metadata": {},
     "output_type": "display_data"
    },
    {
     "data": {
      "text/html": [
       "<h4 id='Teilmenge und echte Teilmenge'>==== Teilmenge und echte Teilmenge ====</h4>"
      ],
      "text/plain": [
       "<IPython.core.display.HTML object>"
      ]
     },
     "metadata": {},
     "output_type": "display_data"
    },
    {
     "data": {
      "text/html": [
       "<h5>Seitenaufrufe des Artikels 'Mathe für Nicht-Freaks: Teilmenge und echte Teilmenge'</h5>"
      ],
      "text/plain": [
       "<IPython.core.display.HTML object>"
      ]
     },
     "metadata": {},
     "output_type": "display_data"
    },
    {
     "name": "stdout",
     "output_type": "stream",
     "text": [
      "2018:    27.987 ┬    +4.085 (+17%)\n",
      "2017:    23.902 ┘      \n"
     ]
    },
    {
     "data": {
      "text/html": [
       "<h5>Bearbeitungen im Artikel 'Mathe für Nicht-Freaks: Teilmenge und echte Teilmenge'</h5>"
      ],
      "text/plain": [
       "<IPython.core.display.HTML object>"
      ]
     },
     "metadata": {},
     "output_type": "display_data"
    },
    {
     "name": "stdout",
     "output_type": "stream",
     "text": [
      "2018:         8 ┬        +6 (+300%)\n",
      "2017:         2 ┘      \n"
     ]
    },
    {
     "data": {
      "text/html": [
       "<h5>Vergleich der Seitenaufrufe zum Wikipedia-Artikel</h5>"
      ],
      "text/plain": [
       "<IPython.core.display.HTML object>"
      ]
     },
     "metadata": {},
     "output_type": "display_data"
    },
    {
     "name": "stdout",
     "output_type": "stream",
     "text": [
      "Wikipedia-Artikel: Teilmenge\n",
      "Views 2018:     77.644 ┬    -3.136 ( -4%)\n",
      "Views 2017:     80.780 ┘      \n",
      "\n",
      "MFNF / Wikipedia – 2018:  36%\n",
      "MFNF / Wikipedia – 2017:  30%\n"
     ]
    },
    {
     "data": {
      "text/markdown": [
       "[Zurück zum Inhaltsverzeichnis](#Inhaltsverzeichnis)"
      ],
      "text/plain": [
       "<IPython.core.display.Markdown object>"
      ]
     },
     "metadata": {},
     "output_type": "display_data"
    },
    {
     "data": {
      "text/html": [
       "<h4 id='Potenzmenge'>==== Potenzmenge ====</h4>"
      ],
      "text/plain": [
       "<IPython.core.display.HTML object>"
      ]
     },
     "metadata": {},
     "output_type": "display_data"
    },
    {
     "data": {
      "text/html": [
       "<h5>Seitenaufrufe des Artikels 'Mathe für Nicht-Freaks: Potenzmenge'</h5>"
      ],
      "text/plain": [
       "<IPython.core.display.HTML object>"
      ]
     },
     "metadata": {},
     "output_type": "display_data"
    },
    {
     "name": "stdout",
     "output_type": "stream",
     "text": [
      "2018:     8.970 ┬      -363 ( -4%)\n",
      "2017:     9.333 ┘      \n"
     ]
    },
    {
     "data": {
      "text/html": [
       "<h5>Bearbeitungen im Artikel 'Mathe für Nicht-Freaks: Potenzmenge'</h5>"
      ],
      "text/plain": [
       "<IPython.core.display.HTML object>"
      ]
     },
     "metadata": {},
     "output_type": "display_data"
    },
    {
     "name": "stdout",
     "output_type": "stream",
     "text": [
      "2018:         6 ┬        +6        \n",
      "2017:         0 ┘      \n"
     ]
    },
    {
     "data": {
      "text/html": [
       "<h5>Vergleich der Seitenaufrufe zum Wikipedia-Artikel</h5>"
      ],
      "text/plain": [
       "<IPython.core.display.HTML object>"
      ]
     },
     "metadata": {},
     "output_type": "display_data"
    },
    {
     "name": "stdout",
     "output_type": "stream",
     "text": [
      "Wikipedia-Artikel: Potenzmenge\n",
      "Views 2018:     62.959 ┬      +610 ( +1%)\n",
      "Views 2017:     62.349 ┘      \n",
      "\n",
      "MFNF / Wikipedia – 2018:  14%\n",
      "MFNF / Wikipedia – 2017:  15%\n"
     ]
    },
    {
     "data": {
      "text/markdown": [
       "[Zurück zum Inhaltsverzeichnis](#Inhaltsverzeichnis)"
      ],
      "text/plain": [
       "<IPython.core.display.Markdown object>"
      ]
     },
     "metadata": {},
     "output_type": "display_data"
    },
    {
     "data": {
      "text/html": [
       "<h4 id='Leere Menge und Allklasse'>==== Leere Menge und Allklasse ====</h4>"
      ],
      "text/plain": [
       "<IPython.core.display.HTML object>"
      ]
     },
     "metadata": {},
     "output_type": "display_data"
    },
    {
     "data": {
      "text/html": [
       "<h5>Seitenaufrufe des Artikels 'Mathe für Nicht-Freaks: Leere Menge und Allklasse'</h5>"
      ],
      "text/plain": [
       "<IPython.core.display.HTML object>"
      ]
     },
     "metadata": {},
     "output_type": "display_data"
    },
    {
     "name": "stdout",
     "output_type": "stream",
     "text": [
      "2018:    10.037 ┬    +2.727 (+37%)\n",
      "2017:     7.310 ┘      \n"
     ]
    },
    {
     "data": {
      "text/html": [
       "<h5>Bearbeitungen im Artikel 'Mathe für Nicht-Freaks: Leere Menge und Allklasse'</h5>"
      ],
      "text/plain": [
       "<IPython.core.display.HTML object>"
      ]
     },
     "metadata": {},
     "output_type": "display_data"
    },
    {
     "name": "stdout",
     "output_type": "stream",
     "text": [
      "2018:        12 ┬        +6 (+100%)\n",
      "2017:         6 ┘      \n"
     ]
    },
    {
     "data": {
      "text/html": [
       "<h5>Vergleich der Seitenaufrufe zum Wikipedia-Artikel</h5>"
      ],
      "text/plain": [
       "<IPython.core.display.HTML object>"
      ]
     },
     "metadata": {},
     "output_type": "display_data"
    },
    {
     "name": "stdout",
     "output_type": "stream",
     "text": [
      "Wikipedia-Artikel: Leere Menge\n",
      "Views 2018:     42.781 ┬    -1.258 ( -3%)\n",
      "Views 2017:     44.039 ┘      \n",
      "\n",
      "MFNF / Wikipedia – 2018:  23%\n",
      "MFNF / Wikipedia – 2017:  17%\n"
     ]
    },
    {
     "data": {
      "text/markdown": [
       "[Zurück zum Inhaltsverzeichnis](#Inhaltsverzeichnis)"
      ],
      "text/plain": [
       "<IPython.core.display.Markdown object>"
      ]
     },
     "metadata": {},
     "output_type": "display_data"
    },
    {
     "data": {
      "text/html": [
       "<h4 id='Mengenverknüpfungen'>==== Mengenverknüpfungen ====</h4>"
      ],
      "text/plain": [
       "<IPython.core.display.HTML object>"
      ]
     },
     "metadata": {},
     "output_type": "display_data"
    },
    {
     "data": {
      "text/html": [
       "<h5>Seitenaufrufe des Artikels 'Mathe für Nicht-Freaks: Verknüpfungen zwischen Mengen'</h5>"
      ],
      "text/plain": [
       "<IPython.core.display.HTML object>"
      ]
     },
     "metadata": {},
     "output_type": "display_data"
    },
    {
     "name": "stdout",
     "output_type": "stream",
     "text": [
      "2018:    15.790 ┬      -557 ( -3%)\n",
      "2017:    16.347 ┘      \n"
     ]
    },
    {
     "data": {
      "text/html": [
       "<h5>Bearbeitungen im Artikel 'Mathe für Nicht-Freaks: Verknüpfungen zwischen Mengen'</h5>"
      ],
      "text/plain": [
       "<IPython.core.display.HTML object>"
      ]
     },
     "metadata": {},
     "output_type": "display_data"
    },
    {
     "name": "stdout",
     "output_type": "stream",
     "text": [
      "2018:         4 ┬        +2 (+100%)\n",
      "2017:         2 ┘      \n"
     ]
    },
    {
     "data": {
      "text/markdown": [
       "[Zurück zum Inhaltsverzeichnis](#Inhaltsverzeichnis)"
      ],
      "text/plain": [
       "<IPython.core.display.Markdown object>"
      ]
     },
     "metadata": {},
     "output_type": "display_data"
    },
    {
     "data": {
      "text/html": [
       "<h4 id='Durchschnitt von Mengen'>==== Durchschnitt von Mengen ====</h4>"
      ],
      "text/plain": [
       "<IPython.core.display.HTML object>"
      ]
     },
     "metadata": {},
     "output_type": "display_data"
    },
    {
     "data": {
      "text/html": [
       "<h5>Seitenaufrufe des Artikels 'Mathe für Nicht-Freaks: Durchschnitt von Mengen'</h5>"
      ],
      "text/plain": [
       "<IPython.core.display.HTML object>"
      ]
     },
     "metadata": {},
     "output_type": "display_data"
    },
    {
     "name": "stdout",
     "output_type": "stream",
     "text": [
      "2018:    12.613 ┬    +3.021 (+31%)\n",
      "2017:     9.592 ┘      \n"
     ]
    },
    {
     "data": {
      "text/html": [
       "<h5>Bearbeitungen im Artikel 'Mathe für Nicht-Freaks: Durchschnitt von Mengen'</h5>"
      ],
      "text/plain": [
       "<IPython.core.display.HTML object>"
      ]
     },
     "metadata": {},
     "output_type": "display_data"
    },
    {
     "name": "stdout",
     "output_type": "stream",
     "text": [
      "2018:        28 ┬       +28        \n",
      "2017:         0 ┘      \n"
     ]
    },
    {
     "data": {
      "text/markdown": [
       "[Zurück zum Inhaltsverzeichnis](#Inhaltsverzeichnis)"
      ],
      "text/plain": [
       "<IPython.core.display.Markdown object>"
      ]
     },
     "metadata": {},
     "output_type": "display_data"
    },
    {
     "data": {
      "text/html": [
       "<h4 id='Vereinigung von Mengen'>==== Vereinigung von Mengen ====</h4>"
      ],
      "text/plain": [
       "<IPython.core.display.HTML object>"
      ]
     },
     "metadata": {},
     "output_type": "display_data"
    },
    {
     "data": {
      "text/html": [
       "<h5>Seitenaufrufe des Artikels 'Mathe für Nicht-Freaks: Vereinigung von Mengen'</h5>"
      ],
      "text/plain": [
       "<IPython.core.display.HTML object>"
      ]
     },
     "metadata": {},
     "output_type": "display_data"
    },
    {
     "name": "stdout",
     "output_type": "stream",
     "text": [
      "2018:    10.313 ┬    +4.076 (+65%)\n",
      "2017:     6.237 ┘      \n"
     ]
    },
    {
     "data": {
      "text/html": [
       "<h5>Bearbeitungen im Artikel 'Mathe für Nicht-Freaks: Vereinigung von Mengen'</h5>"
      ],
      "text/plain": [
       "<IPython.core.display.HTML object>"
      ]
     },
     "metadata": {},
     "output_type": "display_data"
    },
    {
     "name": "stdout",
     "output_type": "stream",
     "text": [
      "2018:        19 ┬       +18 (+1800%)\n",
      "2017:         1 ┘      \n"
     ]
    },
    {
     "data": {
      "text/markdown": [
       "[Zurück zum Inhaltsverzeichnis](#Inhaltsverzeichnis)"
      ],
      "text/plain": [
       "<IPython.core.display.Markdown object>"
      ]
     },
     "metadata": {},
     "output_type": "display_data"
    },
    {
     "data": {
      "text/html": [
       "<h4 id='Differenz, symmetrische Differenz und Komplement'>==== Differenz, symmetrische Differenz und Komplement ====</h4>"
      ],
      "text/plain": [
       "<IPython.core.display.HTML object>"
      ]
     },
     "metadata": {},
     "output_type": "display_data"
    },
    {
     "data": {
      "text/html": [
       "<h5>Seitenaufrufe des Artikels 'Mathe für Nicht-Freaks: Differenz, symmetrische Differenz und Komplement'</h5>"
      ],
      "text/plain": [
       "<IPython.core.display.HTML object>"
      ]
     },
     "metadata": {},
     "output_type": "display_data"
    },
    {
     "name": "stdout",
     "output_type": "stream",
     "text": [
      "2018:     4.516 ┬      +818 (+22%)\n",
      "2017:     3.698 ┘      \n"
     ]
    },
    {
     "data": {
      "text/html": [
       "<h5>Bearbeitungen im Artikel 'Mathe für Nicht-Freaks: Differenz, symmetrische Differenz und Komplement'</h5>"
      ],
      "text/plain": [
       "<IPython.core.display.HTML object>"
      ]
     },
     "metadata": {},
     "output_type": "display_data"
    },
    {
     "name": "stdout",
     "output_type": "stream",
     "text": [
      "2018:        23 ┬       +23        \n",
      "2017:         0 ┘      \n"
     ]
    },
    {
     "data": {
      "text/markdown": [
       "[Zurück zum Inhaltsverzeichnis](#Inhaltsverzeichnis)"
      ],
      "text/plain": [
       "<IPython.core.display.Markdown object>"
      ]
     },
     "metadata": {},
     "output_type": "display_data"
    },
    {
     "data": {
      "text/html": [
       "<h4 id='Boolesche Algebra'>==== Boolesche Algebra ====</h4>"
      ],
      "text/plain": [
       "<IPython.core.display.HTML object>"
      ]
     },
     "metadata": {},
     "output_type": "display_data"
    },
    {
     "data": {
      "text/html": [
       "<h5>Seitenaufrufe des Artikels 'Mathe für Nicht-Freaks: Boolesche Algebra'</h5>"
      ],
      "text/plain": [
       "<IPython.core.display.HTML object>"
      ]
     },
     "metadata": {},
     "output_type": "display_data"
    },
    {
     "name": "stdout",
     "output_type": "stream",
     "text": [
      "2018:       603 ┬      +603        \n",
      "2017:         0 ┘      \n"
     ]
    },
    {
     "data": {
      "text/html": [
       "<h5>Bearbeitungen im Artikel 'Mathe für Nicht-Freaks: Boolesche Algebra'</h5>"
      ],
      "text/plain": [
       "<IPython.core.display.HTML object>"
      ]
     },
     "metadata": {},
     "output_type": "display_data"
    },
    {
     "name": "stdout",
     "output_type": "stream",
     "text": [
      "2018:         7 ┬        +7        \n",
      "2017:         0 ┘      \n"
     ]
    },
    {
     "data": {
      "text/markdown": [
       "[Zurück zum Inhaltsverzeichnis](#Inhaltsverzeichnis)"
      ],
      "text/plain": [
       "<IPython.core.display.Markdown object>"
      ]
     },
     "metadata": {},
     "output_type": "display_data"
    },
    {
     "data": {
      "text/html": [
       "<h4 id='Disjunkte Mengen'>==== Disjunkte Mengen ====</h4>"
      ],
      "text/plain": [
       "<IPython.core.display.HTML object>"
      ]
     },
     "metadata": {},
     "output_type": "display_data"
    },
    {
     "data": {
      "text/html": [
       "<h5>Seitenaufrufe des Artikels 'Mathe für Nicht-Freaks: Disjunkte Mengen und paarweise disjunkte Mengensysteme'</h5>"
      ],
      "text/plain": [
       "<IPython.core.display.HTML object>"
      ]
     },
     "metadata": {},
     "output_type": "display_data"
    },
    {
     "name": "stdout",
     "output_type": "stream",
     "text": [
      "2018:    10.943 ┬    -1.253 (-10%)\n",
      "2017:    12.196 ┘      \n"
     ]
    },
    {
     "data": {
      "text/html": [
       "<h5>Bearbeitungen im Artikel 'Mathe für Nicht-Freaks: Disjunkte Mengen und paarweise disjunkte Mengensysteme'</h5>"
      ],
      "text/plain": [
       "<IPython.core.display.HTML object>"
      ]
     },
     "metadata": {},
     "output_type": "display_data"
    },
    {
     "name": "stdout",
     "output_type": "stream",
     "text": [
      "2018:         7 ┬        +7        \n",
      "2017:         0 ┘      \n"
     ]
    },
    {
     "data": {
      "text/html": [
       "<h5>Vergleich der Seitenaufrufe zum Wikipedia-Artikel</h5>"
      ],
      "text/plain": [
       "<IPython.core.display.HTML object>"
      ]
     },
     "metadata": {},
     "output_type": "display_data"
    },
    {
     "name": "stdout",
     "output_type": "stream",
     "text": [
      "Wikipedia-Artikel: Disjunkt\n",
      "Views 2018:     46.201 ┬    -4.679 ( -9%)\n",
      "Views 2017:     50.880 ┘      \n",
      "\n",
      "MFNF / Wikipedia – 2018:  24%\n",
      "MFNF / Wikipedia – 2017:  24%\n"
     ]
    },
    {
     "data": {
      "text/markdown": [
       "[Zurück zum Inhaltsverzeichnis](#Inhaltsverzeichnis)"
      ],
      "text/plain": [
       "<IPython.core.display.Markdown object>"
      ]
     },
     "metadata": {},
     "output_type": "display_data"
    },
    {
     "data": {
      "text/html": [
       "<h4 id='Tupel und geordnetes Paar'>==== Tupel und geordnetes Paar ====</h4>"
      ],
      "text/plain": [
       "<IPython.core.display.HTML object>"
      ]
     },
     "metadata": {},
     "output_type": "display_data"
    },
    {
     "data": {
      "text/html": [
       "<h5>Seitenaufrufe des Artikels 'Mathe für Nicht-Freaks: Tupel und geordnetes Paar'</h5>"
      ],
      "text/plain": [
       "<IPython.core.display.HTML object>"
      ]
     },
     "metadata": {},
     "output_type": "display_data"
    },
    {
     "name": "stdout",
     "output_type": "stream",
     "text": [
      "2018:     5.450 ┬      +134 ( +3%)\n",
      "2017:     5.316 ┘      \n"
     ]
    },
    {
     "data": {
      "text/html": [
       "<h5>Bearbeitungen im Artikel 'Mathe für Nicht-Freaks: Tupel und geordnetes Paar'</h5>"
      ],
      "text/plain": [
       "<IPython.core.display.HTML object>"
      ]
     },
     "metadata": {},
     "output_type": "display_data"
    },
    {
     "name": "stdout",
     "output_type": "stream",
     "text": [
      "2018:         9 ┬        +9        \n",
      "2017:         0 ┘      \n"
     ]
    },
    {
     "data": {
      "text/html": [
       "<h5>Vergleich der Seitenaufrufe zum Wikipedia-Artikel</h5>"
      ],
      "text/plain": [
       "<IPython.core.display.HTML object>"
      ]
     },
     "metadata": {},
     "output_type": "display_data"
    },
    {
     "name": "stdout",
     "output_type": "stream",
     "text": [
      "Wikipedia-Artikel: Tupel\n",
      "Views 2018:     64.523 ┬    +2.569 ( +4%)\n",
      "Views 2017:     61.954 ┘      \n",
      "\n",
      "MFNF / Wikipedia – 2018:   8%\n",
      "MFNF / Wikipedia – 2017:   9%\n"
     ]
    },
    {
     "data": {
      "text/markdown": [
       "[Zurück zum Inhaltsverzeichnis](#Inhaltsverzeichnis)"
      ],
      "text/plain": [
       "<IPython.core.display.Markdown object>"
      ]
     },
     "metadata": {},
     "output_type": "display_data"
    },
    {
     "data": {
      "text/html": [
       "<h4 id='Kartesisches Produkt'>==== Kartesisches Produkt ====</h4>"
      ],
      "text/plain": [
       "<IPython.core.display.HTML object>"
      ]
     },
     "metadata": {},
     "output_type": "display_data"
    },
    {
     "data": {
      "text/html": [
       "<h5>Seitenaufrufe des Artikels 'Mathe für Nicht-Freaks: Kartesisches Produkt'</h5>"
      ],
      "text/plain": [
       "<IPython.core.display.HTML object>"
      ]
     },
     "metadata": {},
     "output_type": "display_data"
    },
    {
     "name": "stdout",
     "output_type": "stream",
     "text": [
      "2018:     9.609 ┬    -1.524 (-14%)\n",
      "2017:    11.133 ┘      \n"
     ]
    },
    {
     "data": {
      "text/html": [
       "<h5>Bearbeitungen im Artikel 'Mathe für Nicht-Freaks: Kartesisches Produkt'</h5>"
      ],
      "text/plain": [
       "<IPython.core.display.HTML object>"
      ]
     },
     "metadata": {},
     "output_type": "display_data"
    },
    {
     "name": "stdout",
     "output_type": "stream",
     "text": [
      "2018:         2 ┬        +0 ( +0%)\n",
      "2017:         2 ┘      \n"
     ]
    },
    {
     "data": {
      "text/html": [
       "<h5>Vergleich der Seitenaufrufe zum Wikipedia-Artikel</h5>"
      ],
      "text/plain": [
       "<IPython.core.display.HTML object>"
      ]
     },
     "metadata": {},
     "output_type": "display_data"
    },
    {
     "name": "stdout",
     "output_type": "stream",
     "text": [
      "Wikipedia-Artikel: Kartesisches Produkt\n",
      "Views 2018:     75.691 ┬    +1.727 ( +2%)\n",
      "Views 2017:     73.964 ┘      \n",
      "\n",
      "MFNF / Wikipedia – 2018:  13%\n",
      "MFNF / Wikipedia – 2017:  15%\n"
     ]
    },
    {
     "data": {
      "text/markdown": [
       "[Zurück zum Inhaltsverzeichnis](#Inhaltsverzeichnis)"
      ],
      "text/plain": [
       "<IPython.core.display.Markdown object>"
      ]
     },
     "metadata": {},
     "output_type": "display_data"
    },
    {
     "data": {
      "text/html": [
       "<h4 id='Formeln der Mengenlehre'>==== Formeln der Mengenlehre ====</h4>"
      ],
      "text/plain": [
       "<IPython.core.display.HTML object>"
      ]
     },
     "metadata": {},
     "output_type": "display_data"
    },
    {
     "data": {
      "text/html": [
       "<h5>Seitenaufrufe des Artikels 'Mathe für Nicht-Freaks: Formeln der Mengenlehre'</h5>"
      ],
      "text/plain": [
       "<IPython.core.display.HTML object>"
      ]
     },
     "metadata": {},
     "output_type": "display_data"
    },
    {
     "name": "stdout",
     "output_type": "stream",
     "text": [
      "2018:     2.572 ┬      +418 (+19%)\n",
      "2017:     2.154 ┘      \n"
     ]
    },
    {
     "data": {
      "text/html": [
       "<h5>Bearbeitungen im Artikel 'Mathe für Nicht-Freaks: Formeln der Mengenlehre'</h5>"
      ],
      "text/plain": [
       "<IPython.core.display.HTML object>"
      ]
     },
     "metadata": {},
     "output_type": "display_data"
    },
    {
     "name": "stdout",
     "output_type": "stream",
     "text": [
      "2018:         7 ┬        +7        \n",
      "2017:         0 ┘      \n"
     ]
    },
    {
     "data": {
      "text/markdown": [
       "[Zurück zum Inhaltsverzeichnis](#Inhaltsverzeichnis)"
      ],
      "text/plain": [
       "<IPython.core.display.Markdown object>"
      ]
     },
     "metadata": {},
     "output_type": "display_data"
    },
    {
     "data": {
      "text/html": [
       "<h4 id='Russells Antinomie und Klassen'>==== Russells Antinomie und Klassen ====</h4>"
      ],
      "text/plain": [
       "<IPython.core.display.HTML object>"
      ]
     },
     "metadata": {},
     "output_type": "display_data"
    },
    {
     "data": {
      "text/html": [
       "<h5>Seitenaufrufe des Artikels 'Mathe für Nicht-Freaks: Russells Antinomie und Klassen'</h5>"
      ],
      "text/plain": [
       "<IPython.core.display.HTML object>"
      ]
     },
     "metadata": {},
     "output_type": "display_data"
    },
    {
     "name": "stdout",
     "output_type": "stream",
     "text": [
      "2018:     2.905 ┬      +461 (+19%)\n",
      "2017:     2.444 ┘      \n"
     ]
    },
    {
     "data": {
      "text/html": [
       "<h5>Bearbeitungen im Artikel 'Mathe für Nicht-Freaks: Russells Antinomie und Klassen'</h5>"
      ],
      "text/plain": [
       "<IPython.core.display.HTML object>"
      ]
     },
     "metadata": {},
     "output_type": "display_data"
    },
    {
     "name": "stdout",
     "output_type": "stream",
     "text": [
      "2018:        22 ┬       +19 (+633%)\n",
      "2017:         3 ┘      \n"
     ]
    },
    {
     "data": {
      "text/html": [
       "<h5>Vergleich der Seitenaufrufe zum Wikipedia-Artikel</h5>"
      ],
      "text/plain": [
       "<IPython.core.display.HTML object>"
      ]
     },
     "metadata": {},
     "output_type": "display_data"
    },
    {
     "name": "stdout",
     "output_type": "stream",
     "text": [
      "Wikipedia-Artikel: Russellsche Antinomie\n",
      "Views 2018:     28.568 ┬      +451 ( +2%)\n",
      "Views 2017:     28.117 ┘      \n",
      "\n",
      "MFNF / Wikipedia – 2018:  10%\n",
      "MFNF / Wikipedia – 2017:   9%\n"
     ]
    },
    {
     "data": {
      "text/markdown": [
       "[Zurück zum Inhaltsverzeichnis](#Inhaltsverzeichnis)"
      ],
      "text/plain": [
       "<IPython.core.display.Markdown object>"
      ]
     },
     "metadata": {},
     "output_type": "display_data"
    },
    {
     "data": {
      "text/html": [
       "<h4 id='Axiomatische Mengenlehre'>==== Axiomatische Mengenlehre ====</h4>"
      ],
      "text/plain": [
       "<IPython.core.display.HTML object>"
      ]
     },
     "metadata": {},
     "output_type": "display_data"
    },
    {
     "data": {
      "text/html": [
       "<h5>Seitenaufrufe des Artikels 'Mathe für Nicht-Freaks: Axiomatische Mengenlehre'</h5>"
      ],
      "text/plain": [
       "<IPython.core.display.HTML object>"
      ]
     },
     "metadata": {},
     "output_type": "display_data"
    },
    {
     "name": "stdout",
     "output_type": "stream",
     "text": [
      "2018:     1.362 ┬    +1.362        \n",
      "2017:         0 ┘      \n"
     ]
    },
    {
     "data": {
      "text/html": [
       "<h5>Bearbeitungen im Artikel 'Mathe für Nicht-Freaks: Axiomatische Mengenlehre'</h5>"
      ],
      "text/plain": [
       "<IPython.core.display.HTML object>"
      ]
     },
     "metadata": {},
     "output_type": "display_data"
    },
    {
     "name": "stdout",
     "output_type": "stream",
     "text": [
      "2018:        77 ┬       +77        \n",
      "2017:         0 ┘      \n"
     ]
    },
    {
     "data": {
      "text/markdown": [
       "[Zurück zum Inhaltsverzeichnis](#Inhaltsverzeichnis)"
      ],
      "text/plain": [
       "<IPython.core.display.Markdown object>"
      ]
     },
     "metadata": {},
     "output_type": "display_data"
    },
    {
     "data": {
      "text/html": [
       "<h3 id='Relationen'>=== Relationen ===</h3>"
      ],
      "text/plain": [
       "<IPython.core.display.HTML object>"
      ]
     },
     "metadata": {},
     "output_type": "display_data"
    },
    {
     "data": {
      "text/markdown": [
       "[Zurück zum Inhaltsverzeichnis](#Inhaltsverzeichnis)"
      ],
      "text/plain": [
       "<IPython.core.display.Markdown object>"
      ]
     },
     "metadata": {},
     "output_type": "display_data"
    },
    {
     "data": {
      "text/html": [
       "<h4 id='Relationen'>==== Relationen ====</h4>"
      ],
      "text/plain": [
       "<IPython.core.display.HTML object>"
      ]
     },
     "metadata": {},
     "output_type": "display_data"
    },
    {
     "data": {
      "text/html": [
       "<h5>Seitenaufrufe des Artikels 'Mathe für Nicht-Freaks: Relation'</h5>"
      ],
      "text/plain": [
       "<IPython.core.display.HTML object>"
      ]
     },
     "metadata": {},
     "output_type": "display_data"
    },
    {
     "name": "stdout",
     "output_type": "stream",
     "text": [
      "2018:    10.950 ┬      +532 ( +5%)\n",
      "2017:    10.418 ┘      \n"
     ]
    },
    {
     "data": {
      "text/html": [
       "<h5>Bearbeitungen im Artikel 'Mathe für Nicht-Freaks: Relation'</h5>"
      ],
      "text/plain": [
       "<IPython.core.display.HTML object>"
      ]
     },
     "metadata": {},
     "output_type": "display_data"
    },
    {
     "name": "stdout",
     "output_type": "stream",
     "text": [
      "2018:         1 ┬        -2 (-67%)\n",
      "2017:         3 ┘      \n"
     ]
    },
    {
     "data": {
      "text/html": [
       "<h5>Vergleich der Seitenaufrufe zum Wikipedia-Artikel</h5>"
      ],
      "text/plain": [
       "<IPython.core.display.HTML object>"
      ]
     },
     "metadata": {},
     "output_type": "display_data"
    },
    {
     "name": "stdout",
     "output_type": "stream",
     "text": [
      "Wikipedia-Artikel: Relation (Mathematik)\n",
      "Views 2018:     72.503 ┬    +1.163 ( +2%)\n",
      "Views 2017:     71.340 ┘      \n",
      "\n",
      "MFNF / Wikipedia – 2018:  15%\n",
      "MFNF / Wikipedia – 2017:  15%\n"
     ]
    },
    {
     "data": {
      "text/markdown": [
       "[Zurück zum Inhaltsverzeichnis](#Inhaltsverzeichnis)"
      ],
      "text/plain": [
       "<IPython.core.display.Markdown object>"
      ]
     },
     "metadata": {},
     "output_type": "display_data"
    },
    {
     "data": {
      "text/html": [
       "<h4 id='Binäre Relationen'>==== Binäre Relationen ====</h4>"
      ],
      "text/plain": [
       "<IPython.core.display.HTML object>"
      ]
     },
     "metadata": {},
     "output_type": "display_data"
    },
    {
     "data": {
      "text/html": [
       "<h5>Seitenaufrufe des Artikels 'Mathe für Nicht-Freaks: Binäre Relation'</h5>"
      ],
      "text/plain": [
       "<IPython.core.display.HTML object>"
      ]
     },
     "metadata": {},
     "output_type": "display_data"
    },
    {
     "name": "stdout",
     "output_type": "stream",
     "text": [
      "2018:     9.341 ┬    +1.854 (+25%)\n",
      "2017:     7.487 ┘      \n"
     ]
    },
    {
     "data": {
      "text/html": [
       "<h5>Bearbeitungen im Artikel 'Mathe für Nicht-Freaks: Binäre Relation'</h5>"
      ],
      "text/plain": [
       "<IPython.core.display.HTML object>"
      ]
     },
     "metadata": {},
     "output_type": "display_data"
    },
    {
     "name": "stdout",
     "output_type": "stream",
     "text": [
      "2018:         5 ┬        +0 ( +0%)\n",
      "2017:         5 ┘      \n"
     ]
    },
    {
     "data": {
      "text/markdown": [
       "[Zurück zum Inhaltsverzeichnis](#Inhaltsverzeichnis)"
      ],
      "text/plain": [
       "<IPython.core.display.Markdown object>"
      ]
     },
     "metadata": {},
     "output_type": "display_data"
    },
    {
     "data": {
      "text/html": [
       "<h4 id='Eigenschaften binärer Relationen'>==== Eigenschaften binärer Relationen ====</h4>"
      ],
      "text/plain": [
       "<IPython.core.display.HTML object>"
      ]
     },
     "metadata": {},
     "output_type": "display_data"
    },
    {
     "data": {
      "text/html": [
       "<h5>Seitenaufrufe des Artikels 'Mathe für Nicht-Freaks: Eigenschaften binärer Relationen'</h5>"
      ],
      "text/plain": [
       "<IPython.core.display.HTML object>"
      ]
     },
     "metadata": {},
     "output_type": "display_data"
    },
    {
     "name": "stdout",
     "output_type": "stream",
     "text": [
      "2018:    12.278 ┬    +4.248 (+53%)\n",
      "2017:     8.030 ┘      \n"
     ]
    },
    {
     "data": {
      "text/html": [
       "<h5>Bearbeitungen im Artikel 'Mathe für Nicht-Freaks: Eigenschaften binärer Relationen'</h5>"
      ],
      "text/plain": [
       "<IPython.core.display.HTML object>"
      ]
     },
     "metadata": {},
     "output_type": "display_data"
    },
    {
     "name": "stdout",
     "output_type": "stream",
     "text": [
      "2018:         2 ┬        -2 (-50%)\n",
      "2017:         4 ┘      \n"
     ]
    },
    {
     "data": {
      "text/markdown": [
       "[Zurück zum Inhaltsverzeichnis](#Inhaltsverzeichnis)"
      ],
      "text/plain": [
       "<IPython.core.display.Markdown object>"
      ]
     },
     "metadata": {},
     "output_type": "display_data"
    },
    {
     "data": {
      "text/html": [
       "<h4 id='Äquivalenzrelationen'>==== Äquivalenzrelationen ====</h4>"
      ],
      "text/plain": [
       "<IPython.core.display.HTML object>"
      ]
     },
     "metadata": {},
     "output_type": "display_data"
    },
    {
     "data": {
      "text/html": [
       "<h5>Seitenaufrufe des Artikels 'Mathe für Nicht-Freaks: Äquivalenzrelation'</h5>"
      ],
      "text/plain": [
       "<IPython.core.display.HTML object>"
      ]
     },
     "metadata": {},
     "output_type": "display_data"
    },
    {
     "name": "stdout",
     "output_type": "stream",
     "text": [
      "2018:    31.298 ┬    +4.288 (+16%)\n",
      "2017:    27.010 ┘      \n"
     ]
    },
    {
     "data": {
      "text/html": [
       "<h5>Bearbeitungen im Artikel 'Mathe für Nicht-Freaks: Äquivalenzrelation'</h5>"
      ],
      "text/plain": [
       "<IPython.core.display.HTML object>"
      ]
     },
     "metadata": {},
     "output_type": "display_data"
    },
    {
     "name": "stdout",
     "output_type": "stream",
     "text": [
      "2018:         1 ┬        -6 (-86%)\n",
      "2017:         7 ┘      \n"
     ]
    },
    {
     "data": {
      "text/html": [
       "<h5>Vergleich der Seitenaufrufe zum Wikipedia-Artikel</h5>"
      ],
      "text/plain": [
       "<IPython.core.display.HTML object>"
      ]
     },
     "metadata": {},
     "output_type": "display_data"
    },
    {
     "name": "stdout",
     "output_type": "stream",
     "text": [
      "Wikipedia-Artikel: Äquivalenzrelation\n",
      "Views 2018:     85.772 ┬    -1.805 ( -2%)\n",
      "Views 2017:     87.577 ┘      \n",
      "\n",
      "MFNF / Wikipedia – 2018:  36%\n",
      "MFNF / Wikipedia – 2017:  31%\n"
     ]
    },
    {
     "data": {
      "text/markdown": [
       "[Zurück zum Inhaltsverzeichnis](#Inhaltsverzeichnis)"
      ],
      "text/plain": [
       "<IPython.core.display.Markdown object>"
      ]
     },
     "metadata": {},
     "output_type": "display_data"
    },
    {
     "data": {
      "text/html": [
       "<h4 id='Ordnungsrelationen'>==== Ordnungsrelationen ====</h4>"
      ],
      "text/plain": [
       "<IPython.core.display.HTML object>"
      ]
     },
     "metadata": {},
     "output_type": "display_data"
    },
    {
     "data": {
      "text/html": [
       "<h5>Seitenaufrufe des Artikels 'Mathe für Nicht-Freaks: Ordnungsrelation'</h5>"
      ],
      "text/plain": [
       "<IPython.core.display.HTML object>"
      ]
     },
     "metadata": {},
     "output_type": "display_data"
    },
    {
     "name": "stdout",
     "output_type": "stream",
     "text": [
      "2018:    19.535 ┬    +1.623 ( +9%)\n",
      "2017:    17.912 ┘      \n"
     ]
    },
    {
     "data": {
      "text/html": [
       "<h5>Bearbeitungen im Artikel 'Mathe für Nicht-Freaks: Ordnungsrelation'</h5>"
      ],
      "text/plain": [
       "<IPython.core.display.HTML object>"
      ]
     },
     "metadata": {},
     "output_type": "display_data"
    },
    {
     "name": "stdout",
     "output_type": "stream",
     "text": [
      "2018:        16 ┬       +15 (+1500%)\n",
      "2017:         1 ┘      \n"
     ]
    },
    {
     "data": {
      "text/html": [
       "<h5>Vergleich der Seitenaufrufe zum Wikipedia-Artikel</h5>"
      ],
      "text/plain": [
       "<IPython.core.display.HTML object>"
      ]
     },
     "metadata": {},
     "output_type": "display_data"
    },
    {
     "name": "stdout",
     "output_type": "stream",
     "text": [
      "Wikipedia-Artikel: Ordnungsrelation\n",
      "Views 2018:     68.577 ┬      +178 ( +0%)\n",
      "Views 2017:     68.399 ┘      \n",
      "\n",
      "MFNF / Wikipedia – 2018:  28%\n",
      "MFNF / Wikipedia – 2017:  26%\n"
     ]
    },
    {
     "data": {
      "text/markdown": [
       "[Zurück zum Inhaltsverzeichnis](#Inhaltsverzeichnis)"
      ],
      "text/plain": [
       "<IPython.core.display.Markdown object>"
      ]
     },
     "metadata": {},
     "output_type": "display_data"
    },
    {
     "data": {
      "text/html": [
       "<h3 id='Abbildungen'>=== Abbildungen ===</h3>"
      ],
      "text/plain": [
       "<IPython.core.display.HTML object>"
      ]
     },
     "metadata": {},
     "output_type": "display_data"
    },
    {
     "data": {
      "text/markdown": [
       "[Zurück zum Inhaltsverzeichnis](#Inhaltsverzeichnis)"
      ],
      "text/plain": [
       "<IPython.core.display.Markdown object>"
      ]
     },
     "metadata": {},
     "output_type": "display_data"
    },
    {
     "data": {
      "text/html": [
       "<h4 id='Abbildungen'>==== Abbildungen ====</h4>"
      ],
      "text/plain": [
       "<IPython.core.display.HTML object>"
      ]
     },
     "metadata": {},
     "output_type": "display_data"
    },
    {
     "data": {
      "text/html": [
       "<h5>Seitenaufrufe des Artikels 'Mathe für Nicht-Freaks: Abbildung, Funktion'</h5>"
      ],
      "text/plain": [
       "<IPython.core.display.HTML object>"
      ]
     },
     "metadata": {},
     "output_type": "display_data"
    },
    {
     "name": "stdout",
     "output_type": "stream",
     "text": [
      "2018:    42.086 ┬    +2.866 ( +7%)\n",
      "2017:    39.220 ┘      \n"
     ]
    },
    {
     "data": {
      "text/html": [
       "<h5>Bearbeitungen im Artikel 'Mathe für Nicht-Freaks: Abbildung, Funktion'</h5>"
      ],
      "text/plain": [
       "<IPython.core.display.HTML object>"
      ]
     },
     "metadata": {},
     "output_type": "display_data"
    },
    {
     "name": "stdout",
     "output_type": "stream",
     "text": [
      "2018:        33 ┬       +22 (+200%)\n",
      "2017:        11 ┘      \n"
     ]
    },
    {
     "data": {
      "text/html": [
       "<h5>Vergleich der Seitenaufrufe zum Wikipedia-Artikel</h5>"
      ],
      "text/plain": [
       "<IPython.core.display.HTML object>"
      ]
     },
     "metadata": {},
     "output_type": "display_data"
    },
    {
     "name": "stdout",
     "output_type": "stream",
     "text": [
      "Wikipedia-Artikel: Funktion (Mathematik)\n",
      "Views 2018:    171.044 ┬    +1.167 ( +1%)\n",
      "Views 2017:    169.877 ┘      \n",
      "\n",
      "MFNF / Wikipedia – 2018:  25%\n",
      "MFNF / Wikipedia – 2017:  23%\n"
     ]
    },
    {
     "data": {
      "text/markdown": [
       "[Zurück zum Inhaltsverzeichnis](#Inhaltsverzeichnis)"
      ],
      "text/plain": [
       "<IPython.core.display.Markdown object>"
      ]
     },
     "metadata": {},
     "output_type": "display_data"
    },
    {
     "data": {
      "text/html": [
       "<h4 id='Verknüpfungen'>==== Verknüpfungen ====</h4>"
      ],
      "text/plain": [
       "<IPython.core.display.HTML object>"
      ]
     },
     "metadata": {},
     "output_type": "display_data"
    },
    {
     "data": {
      "text/html": [
       "<h5>Seitenaufrufe des Artikels 'Mathe für Nicht-Freaks: Verknüpfung'</h5>"
      ],
      "text/plain": [
       "<IPython.core.display.HTML object>"
      ]
     },
     "metadata": {},
     "output_type": "display_data"
    },
    {
     "name": "stdout",
     "output_type": "stream",
     "text": [
      "2018:     8.760 ┬    +1.176 (+16%)\n",
      "2017:     7.584 ┘      \n"
     ]
    },
    {
     "data": {
      "text/html": [
       "<h5>Bearbeitungen im Artikel 'Mathe für Nicht-Freaks: Verknüpfung'</h5>"
      ],
      "text/plain": [
       "<IPython.core.display.HTML object>"
      ]
     },
     "metadata": {},
     "output_type": "display_data"
    },
    {
     "name": "stdout",
     "output_type": "stream",
     "text": [
      "2018:         2 ┬        -1 (-33%)\n",
      "2017:         3 ┘      \n"
     ]
    },
    {
     "data": {
      "text/html": [
       "<h5>Vergleich der Seitenaufrufe zum Wikipedia-Artikel</h5>"
      ],
      "text/plain": [
       "<IPython.core.display.HTML object>"
      ]
     },
     "metadata": {},
     "output_type": "display_data"
    },
    {
     "name": "stdout",
     "output_type": "stream",
     "text": [
      "Wikipedia-Artikel: Verknüpfung (Mathematik)\n",
      "Views 2018:     15.093 ┬      -321 ( -2%)\n",
      "Views 2017:     15.414 ┘      \n",
      "\n",
      "MFNF / Wikipedia – 2018:  58%\n",
      "MFNF / Wikipedia – 2017:  49%\n"
     ]
    },
    {
     "data": {
      "text/markdown": [
       "[Zurück zum Inhaltsverzeichnis](#Inhaltsverzeichnis)"
      ],
      "text/plain": [
       "<IPython.core.display.Markdown object>"
      ]
     },
     "metadata": {},
     "output_type": "display_data"
    },
    {
     "data": {
      "text/html": [
       "<h3 id='Mächtigkeit von Mengen'>=== Mächtigkeit von Mengen ===</h3>"
      ],
      "text/plain": [
       "<IPython.core.display.HTML object>"
      ]
     },
     "metadata": {},
     "output_type": "display_data"
    },
    {
     "data": {
      "text/markdown": [
       "[Zurück zum Inhaltsverzeichnis](#Inhaltsverzeichnis)"
      ],
      "text/plain": [
       "<IPython.core.display.Markdown object>"
      ]
     },
     "metadata": {},
     "output_type": "display_data"
    },
    {
     "data": {
      "text/html": [
       "<h4 id='Mächtigkeit von Mengen'>==== Mächtigkeit von Mengen ====</h4>"
      ],
      "text/plain": [
       "<IPython.core.display.HTML object>"
      ]
     },
     "metadata": {},
     "output_type": "display_data"
    },
    {
     "data": {
      "text/html": [
       "<h5>Seitenaufrufe des Artikels 'Mathe für Nicht-Freaks: Mächtigkeit von Mengen'</h5>"
      ],
      "text/plain": [
       "<IPython.core.display.HTML object>"
      ]
     },
     "metadata": {},
     "output_type": "display_data"
    },
    {
     "name": "stdout",
     "output_type": "stream",
     "text": [
      "2018:    16.505 ┬    -1.128 ( -6%)\n",
      "2017:    17.633 ┘      \n"
     ]
    },
    {
     "data": {
      "text/html": [
       "<h5>Bearbeitungen im Artikel 'Mathe für Nicht-Freaks: Mächtigkeit von Mengen'</h5>"
      ],
      "text/plain": [
       "<IPython.core.display.HTML object>"
      ]
     },
     "metadata": {},
     "output_type": "display_data"
    },
    {
     "name": "stdout",
     "output_type": "stream",
     "text": [
      "2018:        23 ┬       +18 (+360%)\n",
      "2017:         5 ┘      \n"
     ]
    },
    {
     "data": {
      "text/html": [
       "<h5>Vergleich der Seitenaufrufe zum Wikipedia-Artikel</h5>"
      ],
      "text/plain": [
       "<IPython.core.display.HTML object>"
      ]
     },
     "metadata": {},
     "output_type": "display_data"
    },
    {
     "name": "stdout",
     "output_type": "stream",
     "text": [
      "Wikipedia-Artikel: Mächtigkeit (Mathematik)\n",
      "Views 2018:     58.693 ┬    +1.627 ( +3%)\n",
      "Views 2017:     57.066 ┘      \n",
      "\n",
      "MFNF / Wikipedia – 2018:  28%\n",
      "MFNF / Wikipedia – 2017:  31%\n"
     ]
    },
    {
     "data": {
      "text/markdown": [
       "[Zurück zum Inhaltsverzeichnis](#Inhaltsverzeichnis)"
      ],
      "text/plain": [
       "<IPython.core.display.Markdown object>"
      ]
     },
     "metadata": {},
     "output_type": "display_data"
    },
    {
     "data": {
      "text/html": [
       "<h3 id='Gleichungsumformungen'>=== Gleichungsumformungen ===</h3>"
      ],
      "text/plain": [
       "<IPython.core.display.HTML object>"
      ]
     },
     "metadata": {},
     "output_type": "display_data"
    },
    {
     "data": {
      "text/markdown": [
       "[Zurück zum Inhaltsverzeichnis](#Inhaltsverzeichnis)"
      ],
      "text/plain": [
       "<IPython.core.display.Markdown object>"
      ]
     },
     "metadata": {},
     "output_type": "display_data"
    },
    {
     "data": {
      "text/html": [
       "<h4 id='Gleichungsumformungen'>==== Gleichungsumformungen ====</h4>"
      ],
      "text/plain": [
       "<IPython.core.display.HTML object>"
      ]
     },
     "metadata": {},
     "output_type": "display_data"
    },
    {
     "data": {
      "text/html": [
       "<h5>Seitenaufrufe des Artikels 'Mathe für Nicht-Freaks: Gleichungen: Umformungen'</h5>"
      ],
      "text/plain": [
       "<IPython.core.display.HTML object>"
      ]
     },
     "metadata": {},
     "output_type": "display_data"
    },
    {
     "name": "stdout",
     "output_type": "stream",
     "text": [
      "2018:     4.935 ┬      -456 ( -8%)\n",
      "2017:     5.391 ┘      \n"
     ]
    },
    {
     "data": {
      "text/html": [
       "<h5>Bearbeitungen im Artikel 'Mathe für Nicht-Freaks: Gleichungen: Umformungen'</h5>"
      ],
      "text/plain": [
       "<IPython.core.display.HTML object>"
      ]
     },
     "metadata": {},
     "output_type": "display_data"
    },
    {
     "name": "stdout",
     "output_type": "stream",
     "text": [
      "2018:         1 ┬        +1        \n",
      "2017:         0 ┘      \n"
     ]
    },
    {
     "data": {
      "text/html": [
       "<h5>Vergleich der Seitenaufrufe zum Wikipedia-Artikel</h5>"
      ],
      "text/plain": [
       "<IPython.core.display.HTML object>"
      ]
     },
     "metadata": {},
     "output_type": "display_data"
    },
    {
     "name": "stdout",
     "output_type": "stream",
     "text": [
      "Wikipedia-Artikel: Gleichung\n",
      "Views 2018:     49.191 ┬    -8.272 (-14%)\n",
      "Views 2017:     57.463 ┘      \n",
      "\n",
      "MFNF / Wikipedia – 2018:  10%\n",
      "MFNF / Wikipedia – 2017:   9%\n"
     ]
    },
    {
     "data": {
      "text/markdown": [
       "[Zurück zum Inhaltsverzeichnis](#Inhaltsverzeichnis)"
      ],
      "text/plain": [
       "<IPython.core.display.Markdown object>"
      ]
     },
     "metadata": {},
     "output_type": "display_data"
    },
    {
     "data": {
      "text/html": [
       "<h4 id='Termumformungen'>==== Termumformungen ====</h4>"
      ],
      "text/plain": [
       "<IPython.core.display.HTML object>"
      ]
     },
     "metadata": {},
     "output_type": "display_data"
    },
    {
     "data": {
      "text/html": [
       "<h5>Seitenaufrufe des Artikels 'Mathe für Nicht-Freaks: Terme: Umformungen'</h5>"
      ],
      "text/plain": [
       "<IPython.core.display.HTML object>"
      ]
     },
     "metadata": {},
     "output_type": "display_data"
    },
    {
     "name": "stdout",
     "output_type": "stream",
     "text": [
      "2018:     1.875 ┬      -424 (-18%)\n",
      "2017:     2.299 ┘      \n"
     ]
    },
    {
     "data": {
      "text/html": [
       "<h5>Bearbeitungen im Artikel 'Mathe für Nicht-Freaks: Terme: Umformungen'</h5>"
      ],
      "text/plain": [
       "<IPython.core.display.HTML object>"
      ]
     },
     "metadata": {},
     "output_type": "display_data"
    },
    {
     "name": "stdout",
     "output_type": "stream",
     "text": [
      "2018:         0 ┬        +0        \n",
      "2017:         0 ┘      \n"
     ]
    },
    {
     "data": {
      "text/markdown": [
       "[Zurück zum Inhaltsverzeichnis](#Inhaltsverzeichnis)"
      ],
      "text/plain": [
       "<IPython.core.display.Markdown object>"
      ]
     },
     "metadata": {},
     "output_type": "display_data"
    },
    {
     "data": {
      "text/html": [
       "<h4 id='Aufgaben'>==== Aufgaben ====</h4>"
      ],
      "text/plain": [
       "<IPython.core.display.HTML object>"
      ]
     },
     "metadata": {},
     "output_type": "display_data"
    },
    {
     "data": {
      "text/html": [
       "<h5>Seitenaufrufe des Artikels 'Mathe für Nicht-Freaks: Aufgaben zu Gleichungsumformungen'</h5>"
      ],
      "text/plain": [
       "<IPython.core.display.HTML object>"
      ]
     },
     "metadata": {},
     "output_type": "display_data"
    },
    {
     "name": "stdout",
     "output_type": "stream",
     "text": [
      "2018:       818 ┬       -34 ( -4%)\n",
      "2017:       852 ┘      \n"
     ]
    },
    {
     "data": {
      "text/html": [
       "<h5>Bearbeitungen im Artikel 'Mathe für Nicht-Freaks: Aufgaben zu Gleichungsumformungen'</h5>"
      ],
      "text/plain": [
       "<IPython.core.display.HTML object>"
      ]
     },
     "metadata": {},
     "output_type": "display_data"
    },
    {
     "name": "stdout",
     "output_type": "stream",
     "text": [
      "2018:         0 ┬        -6 (-100%)\n",
      "2017:         6 ┘      \n"
     ]
    },
    {
     "data": {
      "text/markdown": [
       "[Zurück zum Inhaltsverzeichnis](#Inhaltsverzeichnis)"
      ],
      "text/plain": [
       "<IPython.core.display.Markdown object>"
      ]
     },
     "metadata": {},
     "output_type": "display_data"
    },
    {
     "data": {
      "text/html": [
       "<h3 id='Summe, Produkt und Fakultät'>=== Summe, Produkt und Fakultät ===</h3>"
      ],
      "text/plain": [
       "<IPython.core.display.HTML object>"
      ]
     },
     "metadata": {},
     "output_type": "display_data"
    },
    {
     "data": {
      "text/markdown": [
       "[Zurück zum Inhaltsverzeichnis](#Inhaltsverzeichnis)"
      ],
      "text/plain": [
       "<IPython.core.display.Markdown object>"
      ]
     },
     "metadata": {},
     "output_type": "display_data"
    },
    {
     "data": {
      "text/html": [
       "<h4 id='Summe und Produkt'>==== Summe und Produkt ====</h4>"
      ],
      "text/plain": [
       "<IPython.core.display.HTML object>"
      ]
     },
     "metadata": {},
     "output_type": "display_data"
    },
    {
     "data": {
      "text/html": [
       "<h5>Seitenaufrufe des Artikels 'Mathe für Nicht-Freaks: Summe und Produkt'</h5>"
      ],
      "text/plain": [
       "<IPython.core.display.HTML object>"
      ]
     },
     "metadata": {},
     "output_type": "display_data"
    },
    {
     "name": "stdout",
     "output_type": "stream",
     "text": [
      "2018:    26.602 ┬    -5.779 (-18%)\n",
      "2017:    32.381 ┘      \n"
     ]
    },
    {
     "data": {
      "text/html": [
       "<h5>Bearbeitungen im Artikel 'Mathe für Nicht-Freaks: Summe und Produkt'</h5>"
      ],
      "text/plain": [
       "<IPython.core.display.HTML object>"
      ]
     },
     "metadata": {},
     "output_type": "display_data"
    },
    {
     "name": "stdout",
     "output_type": "stream",
     "text": [
      "2018:         3 ┬        -2 (-40%)\n",
      "2017:         5 ┘      \n"
     ]
    },
    {
     "data": {
      "text/html": [
       "<h5>Vergleich der Seitenaufrufe zum Wikipedia-Artikel</h5>"
      ],
      "text/plain": [
       "<IPython.core.display.HTML object>"
      ]
     },
     "metadata": {},
     "output_type": "display_data"
    },
    {
     "name": "stdout",
     "output_type": "stream",
     "text": [
      "Wikipedia-Artikel: Summe\n",
      "Views 2018:    135.864 ┬    +4.606 ( +4%)\n",
      "Views 2017:    131.258 ┘      \n",
      "\n",
      "MFNF / Wikipedia – 2018:  20%\n",
      "MFNF / Wikipedia – 2017:  25%\n"
     ]
    },
    {
     "data": {
      "text/markdown": [
       "[Zurück zum Inhaltsverzeichnis](#Inhaltsverzeichnis)"
      ],
      "text/plain": [
       "<IPython.core.display.Markdown object>"
      ]
     },
     "metadata": {},
     "output_type": "display_data"
    },
    {
     "data": {
      "text/html": [
       "<h4 id='Gaußsche Summenformel'>==== Gaußsche Summenformel ====</h4>"
      ],
      "text/plain": [
       "<IPython.core.display.HTML object>"
      ]
     },
     "metadata": {},
     "output_type": "display_data"
    },
    {
     "data": {
      "text/html": [
       "<h5>Seitenaufrufe des Artikels 'Mathe für Nicht-Freaks: Gaußsche Summenformel'</h5>"
      ],
      "text/plain": [
       "<IPython.core.display.HTML object>"
      ]
     },
     "metadata": {},
     "output_type": "display_data"
    },
    {
     "name": "stdout",
     "output_type": "stream",
     "text": [
      "2018:    21.419 ┬    +1.512 ( +8%)\n",
      "2017:    19.907 ┘      \n"
     ]
    },
    {
     "data": {
      "text/html": [
       "<h5>Bearbeitungen im Artikel 'Mathe für Nicht-Freaks: Gaußsche Summenformel'</h5>"
      ],
      "text/plain": [
       "<IPython.core.display.HTML object>"
      ]
     },
     "metadata": {},
     "output_type": "display_data"
    },
    {
     "name": "stdout",
     "output_type": "stream",
     "text": [
      "2018:         3 ┬        +3        \n",
      "2017:         0 ┘      \n"
     ]
    },
    {
     "data": {
      "text/html": [
       "<h5>Vergleich der Seitenaufrufe zum Wikipedia-Artikel</h5>"
      ],
      "text/plain": [
       "<IPython.core.display.HTML object>"
      ]
     },
     "metadata": {},
     "output_type": "display_data"
    },
    {
     "name": "stdout",
     "output_type": "stream",
     "text": [
      "Wikipedia-Artikel: Gaußsche Summenformel\n",
      "Views 2018:    171.589 ┬   -11.878 ( -6%)\n",
      "Views 2017:    183.467 ┘      \n",
      "\n",
      "MFNF / Wikipedia – 2018:  12%\n",
      "MFNF / Wikipedia – 2017:  11%\n"
     ]
    },
    {
     "data": {
      "text/markdown": [
       "[Zurück zum Inhaltsverzeichnis](#Inhaltsverzeichnis)"
      ],
      "text/plain": [
       "<IPython.core.display.Markdown object>"
      ]
     },
     "metadata": {},
     "output_type": "display_data"
    },
    {
     "data": {
      "text/html": [
       "<h4 id='Geometrische Summenformel'>==== Geometrische Summenformel ====</h4>"
      ],
      "text/plain": [
       "<IPython.core.display.HTML object>"
      ]
     },
     "metadata": {},
     "output_type": "display_data"
    },
    {
     "data": {
      "text/html": [
       "<h5>Seitenaufrufe des Artikels 'Mathe für Nicht-Freaks: Geometrische Summenformel'</h5>"
      ],
      "text/plain": [
       "<IPython.core.display.HTML object>"
      ]
     },
     "metadata": {},
     "output_type": "display_data"
    },
    {
     "name": "stdout",
     "output_type": "stream",
     "text": [
      "2018:    40.826 ┬    +1.339 ( +3%)\n",
      "2017:    39.487 ┘      \n"
     ]
    },
    {
     "data": {
      "text/html": [
       "<h5>Bearbeitungen im Artikel 'Mathe für Nicht-Freaks: Geometrische Summenformel'</h5>"
      ],
      "text/plain": [
       "<IPython.core.display.HTML object>"
      ]
     },
     "metadata": {},
     "output_type": "display_data"
    },
    {
     "name": "stdout",
     "output_type": "stream",
     "text": [
      "2018:         8 ┬        -1 (-11%)\n",
      "2017:         9 ┘      \n"
     ]
    },
    {
     "data": {
      "text/markdown": [
       "[Zurück zum Inhaltsverzeichnis](#Inhaltsverzeichnis)"
      ],
      "text/plain": [
       "<IPython.core.display.Markdown object>"
      ]
     },
     "metadata": {},
     "output_type": "display_data"
    },
    {
     "data": {
      "text/html": [
       "<h4 id='Eigenschaften für Summe und Produkt'>==== Eigenschaften für Summe und Produkt ====</h4>"
      ],
      "text/plain": [
       "<IPython.core.display.HTML object>"
      ]
     },
     "metadata": {},
     "output_type": "display_data"
    },
    {
     "data": {
      "text/html": [
       "<h5>Seitenaufrufe des Artikels 'Mathe für Nicht-Freaks: Eigenschaften für Summe und Produkt'</h5>"
      ],
      "text/plain": [
       "<IPython.core.display.HTML object>"
      ]
     },
     "metadata": {},
     "output_type": "display_data"
    },
    {
     "name": "stdout",
     "output_type": "stream",
     "text": [
      "2018:     2.312 ┬      +469 (+25%)\n",
      "2017:     1.843 ┘      \n"
     ]
    },
    {
     "data": {
      "text/html": [
       "<h5>Bearbeitungen im Artikel 'Mathe für Nicht-Freaks: Eigenschaften für Summe und Produkt'</h5>"
      ],
      "text/plain": [
       "<IPython.core.display.HTML object>"
      ]
     },
     "metadata": {},
     "output_type": "display_data"
    },
    {
     "name": "stdout",
     "output_type": "stream",
     "text": [
      "2018:         0 ┬        +0        \n",
      "2017:         0 ┘      \n"
     ]
    },
    {
     "data": {
      "text/markdown": [
       "[Zurück zum Inhaltsverzeichnis](#Inhaltsverzeichnis)"
      ],
      "text/plain": [
       "<IPython.core.display.Markdown object>"
      ]
     },
     "metadata": {},
     "output_type": "display_data"
    },
    {
     "data": {
      "text/html": [
       "<h4 id='Fakultät'>==== Fakultät ====</h4>"
      ],
      "text/plain": [
       "<IPython.core.display.HTML object>"
      ]
     },
     "metadata": {},
     "output_type": "display_data"
    },
    {
     "data": {
      "text/html": [
       "<h5>Seitenaufrufe des Artikels 'Mathe für Nicht-Freaks: Fakultät'</h5>"
      ],
      "text/plain": [
       "<IPython.core.display.HTML object>"
      ]
     },
     "metadata": {},
     "output_type": "display_data"
    },
    {
     "name": "stdout",
     "output_type": "stream",
     "text": [
      "2018:    29.430 ┬    +4.561 (+18%)\n",
      "2017:    24.869 ┘      \n"
     ]
    },
    {
     "data": {
      "text/html": [
       "<h5>Bearbeitungen im Artikel 'Mathe für Nicht-Freaks: Fakultät'</h5>"
      ],
      "text/plain": [
       "<IPython.core.display.HTML object>"
      ]
     },
     "metadata": {},
     "output_type": "display_data"
    },
    {
     "name": "stdout",
     "output_type": "stream",
     "text": [
      "2018:        13 ┬       +11 (+550%)\n",
      "2017:         2 ┘      \n"
     ]
    },
    {
     "data": {
      "text/html": [
       "<h5>Vergleich der Seitenaufrufe zum Wikipedia-Artikel</h5>"
      ],
      "text/plain": [
       "<IPython.core.display.HTML object>"
      ]
     },
     "metadata": {},
     "output_type": "display_data"
    },
    {
     "name": "stdout",
     "output_type": "stream",
     "text": [
      "Wikipedia-Artikel: Fakultät (Mathematik)\n",
      "Views 2018:    232.901 ┬    -4.516 ( -2%)\n",
      "Views 2017:    237.417 ┘      \n",
      "\n",
      "MFNF / Wikipedia – 2018:  13%\n",
      "MFNF / Wikipedia – 2017:  10%\n"
     ]
    },
    {
     "data": {
      "text/markdown": [
       "[Zurück zum Inhaltsverzeichnis](#Inhaltsverzeichnis)"
      ],
      "text/plain": [
       "<IPython.core.display.Markdown object>"
      ]
     },
     "metadata": {},
     "output_type": "display_data"
    },
    {
     "data": {
      "text/html": [
       "<h3 id='Binomialkoeffizient'>=== Binomialkoeffizient ===</h3>"
      ],
      "text/plain": [
       "<IPython.core.display.HTML object>"
      ]
     },
     "metadata": {},
     "output_type": "display_data"
    },
    {
     "data": {
      "text/markdown": [
       "[Zurück zum Inhaltsverzeichnis](#Inhaltsverzeichnis)"
      ],
      "text/plain": [
       "<IPython.core.display.Markdown object>"
      ]
     },
     "metadata": {},
     "output_type": "display_data"
    },
    {
     "data": {
      "text/html": [
       "<h4 id='Binomialkoeffizient'>==== Binomialkoeffizient ====</h4>"
      ],
      "text/plain": [
       "<IPython.core.display.HTML object>"
      ]
     },
     "metadata": {},
     "output_type": "display_data"
    },
    {
     "data": {
      "text/html": [
       "<h5>Seitenaufrufe des Artikels 'Mathe für Nicht-Freaks: Binomialkoeffizient'</h5>"
      ],
      "text/plain": [
       "<IPython.core.display.HTML object>"
      ]
     },
     "metadata": {},
     "output_type": "display_data"
    },
    {
     "name": "stdout",
     "output_type": "stream",
     "text": [
      "2018:    21.026 ┬    -6.110 (-23%)\n",
      "2017:    27.136 ┘      \n"
     ]
    },
    {
     "data": {
      "text/html": [
       "<h5>Bearbeitungen im Artikel 'Mathe für Nicht-Freaks: Binomialkoeffizient'</h5>"
      ],
      "text/plain": [
       "<IPython.core.display.HTML object>"
      ]
     },
     "metadata": {},
     "output_type": "display_data"
    },
    {
     "name": "stdout",
     "output_type": "stream",
     "text": [
      "2018:         2 ┬        +2        \n",
      "2017:         0 ┘      \n"
     ]
    },
    {
     "data": {
      "text/html": [
       "<h5>Vergleich der Seitenaufrufe zum Wikipedia-Artikel</h5>"
      ],
      "text/plain": [
       "<IPython.core.display.HTML object>"
      ]
     },
     "metadata": {},
     "output_type": "display_data"
    },
    {
     "name": "stdout",
     "output_type": "stream",
     "text": [
      "Wikipedia-Artikel: Binomialkoeffizient\n",
      "Views 2018:    280.823 ┬   -21.534 ( -7%)\n",
      "Views 2017:    302.357 ┘      \n",
      "\n",
      "MFNF / Wikipedia – 2018:   7%\n",
      "MFNF / Wikipedia – 2017:   9%\n"
     ]
    },
    {
     "data": {
      "text/markdown": [
       "[Zurück zum Inhaltsverzeichnis](#Inhaltsverzeichnis)"
      ],
      "text/plain": [
       "<IPython.core.display.Markdown object>"
      ]
     },
     "metadata": {},
     "output_type": "display_data"
    },
    {
     "data": {
      "text/html": [
       "<h4 id='Der binomische Lehrsatz'>==== Der binomische Lehrsatz ====</h4>"
      ],
      "text/plain": [
       "<IPython.core.display.HTML object>"
      ]
     },
     "metadata": {},
     "output_type": "display_data"
    },
    {
     "data": {
      "text/html": [
       "<h5>Seitenaufrufe des Artikels 'Mathe für Nicht-Freaks: Binomischer Lehrsatz'</h5>"
      ],
      "text/plain": [
       "<IPython.core.display.HTML object>"
      ]
     },
     "metadata": {},
     "output_type": "display_data"
    },
    {
     "name": "stdout",
     "output_type": "stream",
     "text": [
      "2018:    17.386 ┬      +691 ( +4%)\n",
      "2017:    16.695 ┘      \n"
     ]
    },
    {
     "data": {
      "text/html": [
       "<h5>Bearbeitungen im Artikel 'Mathe für Nicht-Freaks: Binomischer Lehrsatz'</h5>"
      ],
      "text/plain": [
       "<IPython.core.display.HTML object>"
      ]
     },
     "metadata": {},
     "output_type": "display_data"
    },
    {
     "name": "stdout",
     "output_type": "stream",
     "text": [
      "2018:         0 ┬        +0        \n",
      "2017:         0 ┘      \n"
     ]
    },
    {
     "data": {
      "text/html": [
       "<h5>Vergleich der Seitenaufrufe zum Wikipedia-Artikel</h5>"
      ],
      "text/plain": [
       "<IPython.core.display.HTML object>"
      ]
     },
     "metadata": {},
     "output_type": "display_data"
    },
    {
     "name": "stdout",
     "output_type": "stream",
     "text": [
      "Wikipedia-Artikel: Binomischer Lehrsatz\n",
      "Views 2018:     88.870 ┬    +3.201 ( +4%)\n",
      "Views 2017:     85.669 ┘      \n",
      "\n",
      "MFNF / Wikipedia – 2018:  20%\n",
      "MFNF / Wikipedia – 2017:  19%\n"
     ]
    },
    {
     "data": {
      "text/markdown": [
       "[Zurück zum Inhaltsverzeichnis](#Inhaltsverzeichnis)"
      ],
      "text/plain": [
       "<IPython.core.display.Markdown object>"
      ]
     },
     "metadata": {},
     "output_type": "display_data"
    },
    {
     "data": {
      "text/html": [
       "<h4 id='Rechenregeln'>==== Rechenregeln ====</h4>"
      ],
      "text/plain": [
       "<IPython.core.display.HTML object>"
      ]
     },
     "metadata": {},
     "output_type": "display_data"
    },
    {
     "data": {
      "text/html": [
       "<h5>Seitenaufrufe des Artikels 'Mathe für Nicht-Freaks: Binomialkoeffizient: Rechenregeln'</h5>"
      ],
      "text/plain": [
       "<IPython.core.display.HTML object>"
      ]
     },
     "metadata": {},
     "output_type": "display_data"
    },
    {
     "name": "stdout",
     "output_type": "stream",
     "text": [
      "2018:    37.298 ┬    +6.836 (+22%)\n",
      "2017:    30.462 ┘      \n"
     ]
    },
    {
     "data": {
      "text/html": [
       "<h5>Bearbeitungen im Artikel 'Mathe für Nicht-Freaks: Binomialkoeffizient: Rechenregeln'</h5>"
      ],
      "text/plain": [
       "<IPython.core.display.HTML object>"
      ]
     },
     "metadata": {},
     "output_type": "display_data"
    },
    {
     "name": "stdout",
     "output_type": "stream",
     "text": [
      "2018:         5 ┬        +5        \n",
      "2017:         0 ┘      \n"
     ]
    },
    {
     "data": {
      "text/markdown": [
       "[Zurück zum Inhaltsverzeichnis](#Inhaltsverzeichnis)"
      ],
      "text/plain": [
       "<IPython.core.display.Markdown object>"
      ]
     },
     "metadata": {},
     "output_type": "display_data"
    },
    {
     "data": {
      "text/html": [
       "<h3 id='Anhang'>=== Anhang ===</h3>"
      ],
      "text/plain": [
       "<IPython.core.display.HTML object>"
      ]
     },
     "metadata": {},
     "output_type": "display_data"
    },
    {
     "data": {
      "text/markdown": [
       "[Zurück zum Inhaltsverzeichnis](#Inhaltsverzeichnis)"
      ],
      "text/plain": [
       "<IPython.core.display.Markdown object>"
      ]
     },
     "metadata": {},
     "output_type": "display_data"
    },
    {
     "data": {
      "text/html": [
       "<h4 id='Wörterbuch mathematischer Begriffe'>==== Wörterbuch mathematischer Begriffe ====</h4>"
      ],
      "text/plain": [
       "<IPython.core.display.HTML object>"
      ]
     },
     "metadata": {},
     "output_type": "display_data"
    },
    {
     "data": {
      "text/html": [
       "<h5>Seitenaufrufe des Artikels 'Mathe für Nicht-Freaks: Wörterbuch'</h5>"
      ],
      "text/plain": [
       "<IPython.core.display.HTML object>"
      ]
     },
     "metadata": {},
     "output_type": "display_data"
    },
    {
     "name": "stdout",
     "output_type": "stream",
     "text": [
      "2018:     5.492 ┬      +420 ( +8%)\n",
      "2017:     5.072 ┘      \n"
     ]
    },
    {
     "data": {
      "text/html": [
       "<h5>Bearbeitungen im Artikel 'Mathe für Nicht-Freaks: Wörterbuch'</h5>"
      ],
      "text/plain": [
       "<IPython.core.display.HTML object>"
      ]
     },
     "metadata": {},
     "output_type": "display_data"
    },
    {
     "name": "stdout",
     "output_type": "stream",
     "text": [
      "2018:         3 ┬        +3        \n",
      "2017:         0 ┘      \n"
     ]
    },
    {
     "data": {
      "text/markdown": [
       "[Zurück zum Inhaltsverzeichnis](#Inhaltsverzeichnis)"
      ],
      "text/plain": [
       "<IPython.core.display.Markdown object>"
      ]
     },
     "metadata": {},
     "output_type": "display_data"
    },
    {
     "data": {
      "text/html": [
       "<h4 id='Liste mathematischer Symbole'>==== Liste mathematischer Symbole ====</h4>"
      ],
      "text/plain": [
       "<IPython.core.display.HTML object>"
      ]
     },
     "metadata": {},
     "output_type": "display_data"
    },
    {
     "data": {
      "text/html": [
       "<h5>Seitenaufrufe des Artikels 'Mathe für Nicht-Freaks: Liste mathematischer Symbole'</h5>"
      ],
      "text/plain": [
       "<IPython.core.display.HTML object>"
      ]
     },
     "metadata": {},
     "output_type": "display_data"
    },
    {
     "name": "stdout",
     "output_type": "stream",
     "text": [
      "2018:    12.157 ┬      -409 ( -3%)\n",
      "2017:    12.566 ┘      \n"
     ]
    },
    {
     "data": {
      "text/html": [
       "<h5>Bearbeitungen im Artikel 'Mathe für Nicht-Freaks: Liste mathematischer Symbole'</h5>"
      ],
      "text/plain": [
       "<IPython.core.display.HTML object>"
      ]
     },
     "metadata": {},
     "output_type": "display_data"
    },
    {
     "name": "stdout",
     "output_type": "stream",
     "text": [
      "2018:         0 ┬        +0        \n",
      "2017:         0 ┘      \n"
     ]
    },
    {
     "data": {
      "text/html": [
       "<h5>Vergleich der Seitenaufrufe zum Wikipedia-Artikel</h5>"
      ],
      "text/plain": [
       "<IPython.core.display.HTML object>"
      ]
     },
     "metadata": {},
     "output_type": "display_data"
    },
    {
     "name": "stdout",
     "output_type": "stream",
     "text": [
      "Wikipedia-Artikel: Liste mathematischer Symbole\n",
      "Views 2018:    718.297 ┬    +5.442 ( +1%)\n",
      "Views 2017:    712.855 ┘      \n",
      "\n",
      "MFNF / Wikipedia – 2018:   2%\n",
      "MFNF / Wikipedia – 2017:   2%\n"
     ]
    },
    {
     "data": {
      "text/markdown": [
       "[Zurück zum Inhaltsverzeichnis](#Inhaltsverzeichnis)"
      ],
      "text/plain": [
       "<IPython.core.display.Markdown object>"
      ]
     },
     "metadata": {},
     "output_type": "display_data"
    },
    {
     "data": {
      "text/html": [
       "<h4 id='Zusammenfassung'>==== Zusammenfassung ====</h4>"
      ],
      "text/plain": [
       "<IPython.core.display.HTML object>"
      ]
     },
     "metadata": {},
     "output_type": "display_data"
    },
    {
     "data": {
      "text/html": [
       "<h5>Seitenaufrufe des Artikels 'Mathe für Nicht-Freaks: Grundlagen der Mathematik: Zusammenfassung'</h5>"
      ],
      "text/plain": [
       "<IPython.core.display.HTML object>"
      ]
     },
     "metadata": {},
     "output_type": "display_data"
    },
    {
     "name": "stdout",
     "output_type": "stream",
     "text": [
      "2018:     3.368 ┬      +336 (+11%)\n",
      "2017:     3.032 ┘      \n"
     ]
    },
    {
     "data": {
      "text/html": [
       "<h5>Bearbeitungen im Artikel 'Mathe für Nicht-Freaks: Grundlagen der Mathematik: Zusammenfassung'</h5>"
      ],
      "text/plain": [
       "<IPython.core.display.HTML object>"
      ]
     },
     "metadata": {},
     "output_type": "display_data"
    },
    {
     "name": "stdout",
     "output_type": "stream",
     "text": [
      "2018:         0 ┬        -2 (-100%)\n",
      "2017:         2 ┘      \n"
     ]
    },
    {
     "data": {
      "text/markdown": [
       "[Zurück zum Inhaltsverzeichnis](#Inhaltsverzeichnis)"
      ],
      "text/plain": [
       "<IPython.core.display.Markdown object>"
      ]
     },
     "metadata": {},
     "output_type": "display_data"
    },
    {
     "data": {
      "text/html": [
       "<h4 id='PDF-Version (Beta)'>==== PDF-Version (Beta) ====</h4>"
      ],
      "text/plain": [
       "<IPython.core.display.HTML object>"
      ]
     },
     "metadata": {},
     "output_type": "display_data"
    },
    {
     "data": {
      "text/markdown": [
       "[Zurück zum Inhaltsverzeichnis](#Inhaltsverzeichnis)"
      ],
      "text/plain": [
       "<IPython.core.display.Markdown object>"
      ]
     },
     "metadata": {},
     "output_type": "display_data"
    },
    {
     "data": {
      "text/html": [
       "<h2 id='Analysis 1'>== Analysis 1 ==</h2>"
      ],
      "text/plain": [
       "<IPython.core.display.HTML object>"
      ]
     },
     "metadata": {},
     "output_type": "display_data"
    },
    {
     "data": {
      "text/html": [
       "<h6>Artikel + Unterartikel: Seitenaufrufe 2018</h6>"
      ],
      "text/plain": [
       "<IPython.core.display.HTML object>"
      ]
     },
     "metadata": {},
     "output_type": "display_data"
    },
    {
     "data": {
      "image/png": "[encoded data removed]",
      "text/plain": [
       "<matplotlib.figure.Figure at 0x7fc9b2d0b160>"
      ]
     },
     "metadata": {},
     "output_type": "display_data"
    },
    {
     "name": "stdout",
     "output_type": "stream",
     "text": [
      "Summe: 1.578.581\n",
      "Mean:     12.429\n"
     ]
    },
    {
     "data": {
      "text/html": [
       "<h6>Artikel + Unterartikel: Seitenaufrufe 2017</h6>"
      ],
      "text/plain": [
       "<IPython.core.display.HTML object>"
      ]
     },
     "metadata": {},
     "output_type": "display_data"
    },
    {
     "data": {
      "image/png": "[encoded data removed]",
      "text/plain": [
       "<matplotlib.figure.Figure at 0x7fc9b5d36dd8>"
      ]
     },
     "metadata": {},
     "output_type": "display_data"
    },
    {
     "name": "stdout",
     "output_type": "stream",
     "text": [
      "Summe: 1.173.706\n",
      "Mean:      9.241\n"
     ]
    },
    {
     "data": {
      "text/html": [
       "<h6>Artikel + Unterartikel: Differenz Seitenaufrufe 2018 zu 2017</h6>"
      ],
      "text/plain": [
       "<IPython.core.display.HTML object>"
      ]
     },
     "metadata": {},
     "output_type": "display_data"
    },
    {
     "data": {
      "image/png": "[encoded data removed]",
      "text/plain": [
       "<matplotlib.figure.Figure at 0x7fc9b5df54e0>"
      ]
     },
     "metadata": {},
     "output_type": "display_data"
    },
    {
     "name": "stdout",
     "output_type": "stream",
     "text": [
      "Summe:   404.875\n",
      "Mean:      3.187\n"
     ]
    },
    {
     "data": {
      "text/html": [
       "<h6>Artikel + Unterartikel: Bearbeitungen 2018</h6>"
      ],
      "text/plain": [
       "<IPython.core.display.HTML object>"
      ]
     },
     "metadata": {},
     "output_type": "display_data"
    },
    {
     "data": {
      "image/png": "[encoded data removed]",
      "text/plain": [
       "<matplotlib.figure.Figure at 0x7fc9b6231ac8>"
      ]
     },
     "metadata": {},
     "output_type": "display_data"
    },
    {
     "name": "stdout",
     "output_type": "stream",
     "text": [
      "Summe:     1.231\n",
      "Mean:          9\n"
     ]
    },
    {
     "data": {
      "text/html": [
       "<h6>Artikel + Unterartikel: Bearbeitungen 2017</h6>"
      ],
      "text/plain": [
       "<IPython.core.display.HTML object>"
      ]
     },
     "metadata": {},
     "output_type": "display_data"
    },
    {
     "data": {
      "image/png": "[encoded data removed]",
      "text/plain": [
       "<matplotlib.figure.Figure at 0x7fc9b608fac8>"
      ]
     },
     "metadata": {},
     "output_type": "display_data"
    },
    {
     "name": "stdout",
     "output_type": "stream",
     "text": [
      "Summe:     3.600\n",
      "Mean:         28\n"
     ]
    },
    {
     "data": {
      "text/html": [
       "<h6>Artikel + Unterartikel: Differenz Bearbeitungen 2018 zu 2017</h6>"
      ],
      "text/plain": [
       "<IPython.core.display.HTML object>"
      ]
     },
     "metadata": {},
     "output_type": "display_data"
    },
    {
     "data": {
      "image/png": "[encoded data removed]",
      "text/plain": [
       "<matplotlib.figure.Figure at 0x7fc9b6073128>"
      ]
     },
     "metadata": {},
     "output_type": "display_data"
    },
    {
     "name": "stdout",
     "output_type": "stream",
     "text": [
      "Summe:    -2.369\n",
      "Mean:        -18\n"
     ]
    },
    {
     "data": {
      "text/html": [
       "<h6>Artikel + Unterartikel: Quotient Seitenaufrufe MFNF / Wikipedia</h6>"
      ],
      "text/plain": [
       "<IPython.core.display.HTML object>"
      ]
     },
     "metadata": {},
     "output_type": "display_data"
    },
    {
     "data": {
      "image/png": "[encoded data removed]",
      "text/plain": [
       "<matplotlib.figure.Figure at 0x7fc9b615a828>"
      ]
     },
     "metadata": {},
     "output_type": "display_data"
    },
    {
     "name": "stdout",
     "output_type": "stream",
     "text": [
      "Mean:  20%\n"
     ]
    },
    {
     "data": {
      "text/html": [
       "<h5>Anzahl Autor*innen (Artikel + Unterartikel)</h5>"
      ],
      "text/plain": [
       "<IPython.core.display.HTML object>"
      ]
     },
     "metadata": {},
     "output_type": "display_data"
    },
    {
     "data": {
      "text/markdown": [
       "Autor*in haben mehr als 12 Bearbeitungen im betrachteten Zeitraum "
      ],
      "text/plain": [
       "<IPython.core.display.Markdown object>"
      ]
     },
     "metadata": {},
     "output_type": "display_data"
    },
    {
     "name": "stdout",
     "output_type": "stream",
     "text": [
      "2018:        15 ┬       -11 (-42%)\n",
      "2017:        26 ┘      \n"
     ]
    },
    {
     "data": {
      "text/html": [
       "<h5>Anzahl sehr aktive Autor*innen (Artikel + Unterartikel)</h5>"
      ],
      "text/plain": [
       "<IPython.core.display.HTML object>"
      ]
     },
     "metadata": {},
     "output_type": "display_data"
    },
    {
     "data": {
      "text/markdown": [
       "Autor*in haben mehr als 120 Bearbeitungen im betrachteten Zeitraum"
      ],
      "text/plain": [
       "<IPython.core.display.Markdown object>"
      ]
     },
     "metadata": {},
     "output_type": "display_data"
    },
    {
     "name": "stdout",
     "output_type": "stream",
     "text": [
      "2018:         3 ┬        -1 (-25%)\n",
      "2017:         4 ┘      \n"
     ]
    },
    {
     "data": {
      "text/html": [
       "<h5>Seitenaufrufe des Artikels 'Mathe für Nicht-Freaks: Analysis 1'</h5>"
      ],
      "text/plain": [
       "<IPython.core.display.HTML object>"
      ]
     },
     "metadata": {},
     "output_type": "display_data"
    },
    {
     "name": "stdout",
     "output_type": "stream",
     "text": [
      "2018:    64.570 ┬    -2.942 ( -4%)\n",
      "2017:    67.512 ┘      \n"
     ]
    },
    {
     "data": {
      "text/html": [
       "<h5>Bearbeitungen im Artikel 'Mathe für Nicht-Freaks: Analysis 1'</h5>"
      ],
      "text/plain": [
       "<IPython.core.display.HTML object>"
      ]
     },
     "metadata": {},
     "output_type": "display_data"
    },
    {
     "name": "stdout",
     "output_type": "stream",
     "text": [
      "2018:         0 ┬        +0        \n",
      "2017:         0 ┘      \n"
     ]
    },
    {
     "data": {
      "text/html": [
       "<h5>Vergleich der Seitenaufrufe zum Wikipedia-Artikel</h5>"
      ],
      "text/plain": [
       "<IPython.core.display.HTML object>"
      ]
     },
     "metadata": {},
     "output_type": "display_data"
    },
    {
     "name": "stdout",
     "output_type": "stream",
     "text": [
      "Wikipedia-Artikel: Analysis\n",
      "Views 2018:     82.114 ┬    +3.779 ( +5%)\n",
      "Views 2017:     78.335 ┘      \n",
      "\n",
      "MFNF / Wikipedia – 2018:  79%\n",
      "MFNF / Wikipedia – 2017:  86%\n"
     ]
    },
    {
     "data": {
      "text/markdown": [
       "[Zurück zum Inhaltsverzeichnis](#Inhaltsverzeichnis)"
      ],
      "text/plain": [
       "<IPython.core.display.Markdown object>"
      ]
     },
     "metadata": {},
     "output_type": "display_data"
    },
    {
     "data": {
      "text/html": [
       "<h3 id='Was ist Analysis?'>=== Was ist Analysis? ===</h3>"
      ],
      "text/plain": [
       "<IPython.core.display.HTML object>"
      ]
     },
     "metadata": {},
     "output_type": "display_data"
    },
    {
     "data": {
      "text/markdown": [
       "[Zurück zum Inhaltsverzeichnis](#Inhaltsverzeichnis)"
      ],
      "text/plain": [
       "<IPython.core.display.Markdown object>"
      ]
     },
     "metadata": {},
     "output_type": "display_data"
    },
    {
     "data": {
      "text/html": [
       "<h4 id='Was ist Analysis?'>==== Was ist Analysis? ====</h4>"
      ],
      "text/plain": [
       "<IPython.core.display.HTML object>"
      ]
     },
     "metadata": {},
     "output_type": "display_data"
    },
    {
     "data": {
      "text/html": [
       "<h5>Seitenaufrufe des Artikels 'Mathe für Nicht-Freaks: Was ist Analysis?'</h5>"
      ],
      "text/plain": [
       "<IPython.core.display.HTML object>"
      ]
     },
     "metadata": {},
     "output_type": "display_data"
    },
    {
     "name": "stdout",
     "output_type": "stream",
     "text": [
      "2018:     7.788 ┬      -566 ( -7%)\n",
      "2017:     8.354 ┘      \n"
     ]
    },
    {
     "data": {
      "text/html": [
       "<h5>Bearbeitungen im Artikel 'Mathe für Nicht-Freaks: Was ist Analysis?'</h5>"
      ],
      "text/plain": [
       "<IPython.core.display.HTML object>"
      ]
     },
     "metadata": {},
     "output_type": "display_data"
    },
    {
     "name": "stdout",
     "output_type": "stream",
     "text": [
      "2018:         2 ┬        -4 (-67%)\n",
      "2017:         6 ┘      \n"
     ]
    },
    {
     "data": {
      "text/markdown": [
       "[Zurück zum Inhaltsverzeichnis](#Inhaltsverzeichnis)"
      ],
      "text/plain": [
       "<IPython.core.display.Markdown object>"
      ]
     },
     "metadata": {},
     "output_type": "display_data"
    },
    {
     "data": {
      "text/html": [
       "<h4 id='Wozu Analysis studieren?'>==== Wozu Analysis studieren? ====</h4>"
      ],
      "text/plain": [
       "<IPython.core.display.HTML object>"
      ]
     },
     "metadata": {},
     "output_type": "display_data"
    },
    {
     "data": {
      "text/html": [
       "<h5>Seitenaufrufe des Artikels 'Mathe für Nicht-Freaks: Wozu Analysis studieren?'</h5>"
      ],
      "text/plain": [
       "<IPython.core.display.HTML object>"
      ]
     },
     "metadata": {},
     "output_type": "display_data"
    },
    {
     "name": "stdout",
     "output_type": "stream",
     "text": [
      "2018:     2.547 ┬      -182 ( -7%)\n",
      "2017:     2.729 ┘      \n"
     ]
    },
    {
     "data": {
      "text/html": [
       "<h5>Bearbeitungen im Artikel 'Mathe für Nicht-Freaks: Wozu Analysis studieren?'</h5>"
      ],
      "text/plain": [
       "<IPython.core.display.HTML object>"
      ]
     },
     "metadata": {},
     "output_type": "display_data"
    },
    {
     "name": "stdout",
     "output_type": "stream",
     "text": [
      "2018:         0 ┬        +0        \n",
      "2017:         0 ┘      \n"
     ]
    },
    {
     "data": {
      "text/markdown": [
       "[Zurück zum Inhaltsverzeichnis](#Inhaltsverzeichnis)"
      ],
      "text/plain": [
       "<IPython.core.display.Markdown object>"
      ]
     },
     "metadata": {},
     "output_type": "display_data"
    },
    {
     "data": {
      "text/html": [
       "<h3 id='Was sind reelle Zahlen?'>=== Was sind reelle Zahlen? ===</h3>"
      ],
      "text/plain": [
       "<IPython.core.display.HTML object>"
      ]
     },
     "metadata": {},
     "output_type": "display_data"
    },
    {
     "data": {
      "text/markdown": [
       "[Zurück zum Inhaltsverzeichnis](#Inhaltsverzeichnis)"
      ],
      "text/plain": [
       "<IPython.core.display.Markdown object>"
      ]
     },
     "metadata": {},
     "output_type": "display_data"
    },
    {
     "data": {
      "text/html": [
       "<h4 id='Was sind reelle Zahlen?'>==== Was sind reelle Zahlen? ====</h4>"
      ],
      "text/plain": [
       "<IPython.core.display.HTML object>"
      ]
     },
     "metadata": {},
     "output_type": "display_data"
    },
    {
     "data": {
      "text/html": [
       "<h5>Seitenaufrufe des Artikels 'Mathe für Nicht-Freaks: Reelle Zahlen'</h5>"
      ],
      "text/plain": [
       "<IPython.core.display.HTML object>"
      ]
     },
     "metadata": {},
     "output_type": "display_data"
    },
    {
     "name": "stdout",
     "output_type": "stream",
     "text": [
      "2018:     7.168 ┬    +1.836 (+34%)\n",
      "2017:     5.332 ┘      \n"
     ]
    },
    {
     "data": {
      "text/html": [
       "<h5>Bearbeitungen im Artikel 'Mathe für Nicht-Freaks: Reelle Zahlen'</h5>"
      ],
      "text/plain": [
       "<IPython.core.display.HTML object>"
      ]
     },
     "metadata": {},
     "output_type": "display_data"
    },
    {
     "name": "stdout",
     "output_type": "stream",
     "text": [
      "2018:         3 ┬       -18 (-86%)\n",
      "2017:        21 ┘      \n"
     ]
    },
    {
     "data": {
      "text/html": [
       "<h5>Vergleich der Seitenaufrufe zum Wikipedia-Artikel</h5>"
      ],
      "text/plain": [
       "<IPython.core.display.HTML object>"
      ]
     },
     "metadata": {},
     "output_type": "display_data"
    },
    {
     "name": "stdout",
     "output_type": "stream",
     "text": [
      "Wikipedia-Artikel: Reelle Zahl\n",
      "Views 2018:    245.280 ┬   -10.047 ( -4%)\n",
      "Views 2017:    255.327 ┘      \n",
      "\n",
      "MFNF / Wikipedia – 2018:   3%\n",
      "MFNF / Wikipedia – 2017:   2%\n"
     ]
    },
    {
     "data": {
      "text/markdown": [
       "[Zurück zum Inhaltsverzeichnis](#Inhaltsverzeichnis)"
      ],
      "text/plain": [
       "<IPython.core.display.Markdown object>"
      ]
     },
     "metadata": {},
     "output_type": "display_data"
    },
    {
     "data": {
      "text/html": [
       "<h4 id='Die Zahlengerade'>==== Die Zahlengerade ====</h4>"
      ],
      "text/plain": [
       "<IPython.core.display.HTML object>"
      ]
     },
     "metadata": {},
     "output_type": "display_data"
    },
    {
     "data": {
      "text/html": [
       "<h5>Seitenaufrufe des Artikels 'Mathe für Nicht-Freaks: Zahlengerade'</h5>"
      ],
      "text/plain": [
       "<IPython.core.display.HTML object>"
      ]
     },
     "metadata": {},
     "output_type": "display_data"
    },
    {
     "name": "stdout",
     "output_type": "stream",
     "text": [
      "2018:     2.700 ┬      -223 ( -8%)\n",
      "2017:     2.923 ┘      \n"
     ]
    },
    {
     "data": {
      "text/html": [
       "<h5>Bearbeitungen im Artikel 'Mathe für Nicht-Freaks: Zahlengerade'</h5>"
      ],
      "text/plain": [
       "<IPython.core.display.HTML object>"
      ]
     },
     "metadata": {},
     "output_type": "display_data"
    },
    {
     "name": "stdout",
     "output_type": "stream",
     "text": [
      "2018:         1 ┬        +1        \n",
      "2017:         0 ┘      \n"
     ]
    },
    {
     "data": {
      "text/html": [
       "<h5>Vergleich der Seitenaufrufe zum Wikipedia-Artikel</h5>"
      ],
      "text/plain": [
       "<IPython.core.display.HTML object>"
      ]
     },
     "metadata": {},
     "output_type": "display_data"
    },
    {
     "name": "stdout",
     "output_type": "stream",
     "text": [
      "Wikipedia-Artikel: Zahlengerade\n",
      "Views 2018:      8.080 ┬      -675 ( -8%)\n",
      "Views 2017:      8.755 ┘      \n",
      "\n",
      "MFNF / Wikipedia – 2018:  33%\n",
      "MFNF / Wikipedia – 2017:  33%\n"
     ]
    },
    {
     "data": {
      "text/markdown": [
       "[Zurück zum Inhaltsverzeichnis](#Inhaltsverzeichnis)"
      ],
      "text/plain": [
       "<IPython.core.display.Markdown object>"
      ]
     },
     "metadata": {},
     "output_type": "display_data"
    },
    {
     "data": {
      "text/html": [
       "<h3 id='Körperaxiome'>=== Körperaxiome ===</h3>"
      ],
      "text/plain": [
       "<IPython.core.display.HTML object>"
      ]
     },
     "metadata": {},
     "output_type": "display_data"
    },
    {
     "data": {
      "text/markdown": [
       "[Zurück zum Inhaltsverzeichnis](#Inhaltsverzeichnis)"
      ],
      "text/plain": [
       "<IPython.core.display.Markdown object>"
      ]
     },
     "metadata": {},
     "output_type": "display_data"
    },
    {
     "data": {
      "text/html": [
       "<h4 id='Körperaxiome'>==== Körperaxiome ====</h4>"
      ],
      "text/plain": [
       "<IPython.core.display.HTML object>"
      ]
     },
     "metadata": {},
     "output_type": "display_data"
    },
    {
     "data": {
      "text/html": [
       "<h5>Seitenaufrufe des Artikels 'Mathe für Nicht-Freaks: Körperaxiome'</h5>"
      ],
      "text/plain": [
       "<IPython.core.display.HTML object>"
      ]
     },
     "metadata": {},
     "output_type": "display_data"
    },
    {
     "name": "stdout",
     "output_type": "stream",
     "text": [
      "2018:    16.909 ┬      -359 ( -2%)\n",
      "2017:    17.268 ┘      \n"
     ]
    },
    {
     "data": {
      "text/html": [
       "<h5>Bearbeitungen im Artikel 'Mathe für Nicht-Freaks: Körperaxiome'</h5>"
      ],
      "text/plain": [
       "<IPython.core.display.HTML object>"
      ]
     },
     "metadata": {},
     "output_type": "display_data"
    },
    {
     "name": "stdout",
     "output_type": "stream",
     "text": [
      "2018:         2 ┬       -10 (-83%)\n",
      "2017:        12 ┘      \n"
     ]
    },
    {
     "data": {
      "text/html": [
       "<h5>Vergleich der Seitenaufrufe zum Wikipedia-Artikel</h5>"
      ],
      "text/plain": [
       "<IPython.core.display.HTML object>"
      ]
     },
     "metadata": {},
     "output_type": "display_data"
    },
    {
     "name": "stdout",
     "output_type": "stream",
     "text": [
      "Wikipedia-Artikel: Körper (Algebra)\n",
      "Views 2018:     84.774 ┬    +1.809 ( +2%)\n",
      "Views 2017:     82.965 ┘      \n",
      "\n",
      "MFNF / Wikipedia – 2018:  20%\n",
      "MFNF / Wikipedia – 2017:  21%\n"
     ]
    },
    {
     "data": {
      "text/markdown": [
       "[Zurück zum Inhaltsverzeichnis](#Inhaltsverzeichnis)"
      ],
      "text/plain": [
       "<IPython.core.display.Markdown object>"
      ]
     },
     "metadata": {},
     "output_type": "display_data"
    },
    {
     "data": {
      "text/html": [
       "<h4 id='Folgerungen aus den Körperaxiomen'>==== Folgerungen aus den Körperaxiomen ====</h4>"
      ],
      "text/plain": [
       "<IPython.core.display.HTML object>"
      ]
     },
     "metadata": {},
     "output_type": "display_data"
    },
    {
     "data": {
      "text/html": [
       "<h5>Seitenaufrufe des Artikels 'Mathe für Nicht-Freaks: Folgerungen aus den Körperaxiomen'</h5>"
      ],
      "text/plain": [
       "<IPython.core.display.HTML object>"
      ]
     },
     "metadata": {},
     "output_type": "display_data"
    },
    {
     "name": "stdout",
     "output_type": "stream",
     "text": [
      "2018:    14.077 ┬    +2.221 (+19%)\n",
      "2017:    11.856 ┘      \n"
     ]
    },
    {
     "data": {
      "text/html": [
       "<h5>Bearbeitungen im Artikel 'Mathe für Nicht-Freaks: Folgerungen aus den Körperaxiomen'</h5>"
      ],
      "text/plain": [
       "<IPython.core.display.HTML object>"
      ]
     },
     "metadata": {},
     "output_type": "display_data"
    },
    {
     "name": "stdout",
     "output_type": "stream",
     "text": [
      "2018:        29 ┬       +13 (+81%)\n",
      "2017:        16 ┘      \n"
     ]
    },
    {
     "data": {
      "text/markdown": [
       "[Zurück zum Inhaltsverzeichnis](#Inhaltsverzeichnis)"
      ],
      "text/plain": [
       "<IPython.core.display.Markdown object>"
      ]
     },
     "metadata": {},
     "output_type": "display_data"
    },
    {
     "data": {
      "text/html": [
       "<h4 id='Potenzen reeller Zahlen'>==== Potenzen reeller Zahlen ====</h4>"
      ],
      "text/plain": [
       "<IPython.core.display.HTML object>"
      ]
     },
     "metadata": {},
     "output_type": "display_data"
    },
    {
     "data": {
      "text/html": [
       "<h5>Seitenaufrufe des Artikels 'Mathe für Nicht-Freaks: Potenz'</h5>"
      ],
      "text/plain": [
       "<IPython.core.display.HTML object>"
      ]
     },
     "metadata": {},
     "output_type": "display_data"
    },
    {
     "name": "stdout",
     "output_type": "stream",
     "text": [
      "2018:     4.025 ┬    +1.595 (+66%)\n",
      "2017:     2.430 ┘      \n"
     ]
    },
    {
     "data": {
      "text/html": [
       "<h5>Bearbeitungen im Artikel 'Mathe für Nicht-Freaks: Potenz'</h5>"
      ],
      "text/plain": [
       "<IPython.core.display.HTML object>"
      ]
     },
     "metadata": {},
     "output_type": "display_data"
    },
    {
     "name": "stdout",
     "output_type": "stream",
     "text": [
      "2018:         6 ┬       -29 (-83%)\n",
      "2017:        35 ┘      \n"
     ]
    },
    {
     "data": {
      "text/html": [
       "<h5>Vergleich der Seitenaufrufe zum Wikipedia-Artikel</h5>"
      ],
      "text/plain": [
       "<IPython.core.display.HTML object>"
      ]
     },
     "metadata": {},
     "output_type": "display_data"
    },
    {
     "name": "stdout",
     "output_type": "stream",
     "text": [
      "Wikipedia-Artikel: Potenz (Mathematik)\n",
      "Views 2018:    203.505 ┬    -8.728 ( -4%)\n",
      "Views 2017:    212.233 ┘      \n",
      "\n",
      "MFNF / Wikipedia – 2018:   2%\n",
      "MFNF / Wikipedia – 2017:   1%\n"
     ]
    },
    {
     "data": {
      "text/markdown": [
       "[Zurück zum Inhaltsverzeichnis](#Inhaltsverzeichnis)"
      ],
      "text/plain": [
       "<IPython.core.display.Markdown object>"
      ]
     },
     "metadata": {},
     "output_type": "display_data"
    },
    {
     "data": {
      "text/html": [
       "<h3 id='Anordnungsaxiome'>=== Anordnungsaxiome ===</h3>"
      ],
      "text/plain": [
       "<IPython.core.display.HTML object>"
      ]
     },
     "metadata": {},
     "output_type": "display_data"
    },
    {
     "data": {
      "text/markdown": [
       "[Zurück zum Inhaltsverzeichnis](#Inhaltsverzeichnis)"
      ],
      "text/plain": [
       "<IPython.core.display.Markdown object>"
      ]
     },
     "metadata": {},
     "output_type": "display_data"
    },
    {
     "data": {
      "text/html": [
       "<h4 id='Anordnungsaxiome'>==== Anordnungsaxiome ====</h4>"
      ],
      "text/plain": [
       "<IPython.core.display.HTML object>"
      ]
     },
     "metadata": {},
     "output_type": "display_data"
    },
    {
     "data": {
      "text/html": [
       "<h5>Seitenaufrufe des Artikels 'Mathe für Nicht-Freaks: Anordnungsaxiome'</h5>"
      ],
      "text/plain": [
       "<IPython.core.display.HTML object>"
      ]
     },
     "metadata": {},
     "output_type": "display_data"
    },
    {
     "name": "stdout",
     "output_type": "stream",
     "text": [
      "2018:     6.418 ┬      +184 ( +3%)\n",
      "2017:     6.234 ┘      \n"
     ]
    },
    {
     "data": {
      "text/html": [
       "<h5>Bearbeitungen im Artikel 'Mathe für Nicht-Freaks: Anordnungsaxiome'</h5>"
      ],
      "text/plain": [
       "<IPython.core.display.HTML object>"
      ]
     },
     "metadata": {},
     "output_type": "display_data"
    },
    {
     "name": "stdout",
     "output_type": "stream",
     "text": [
      "2018:         1 ┬        -6 (-86%)\n",
      "2017:         7 ┘      \n"
     ]
    },
    {
     "data": {
      "text/html": [
       "<h5>Vergleich der Seitenaufrufe zum Wikipedia-Artikel</h5>"
      ],
      "text/plain": [
       "<IPython.core.display.HTML object>"
      ]
     },
     "metadata": {},
     "output_type": "display_data"
    },
    {
     "name": "stdout",
     "output_type": "stream",
     "text": [
      "Wikipedia-Artikel: Geordneter Körper\n",
      "Views 2018:     11.089 ┬      +201 ( +2%)\n",
      "Views 2017:     10.888 ┘      \n",
      "\n",
      "MFNF / Wikipedia – 2018:  58%\n",
      "MFNF / Wikipedia – 2017:  57%\n"
     ]
    },
    {
     "data": {
      "text/markdown": [
       "[Zurück zum Inhaltsverzeichnis](#Inhaltsverzeichnis)"
      ],
      "text/plain": [
       "<IPython.core.display.Markdown object>"
      ]
     },
     "metadata": {},
     "output_type": "display_data"
    },
    {
     "data": {
      "text/html": [
       "<h4 id='Folgerungen der Anordnungsaxiome'>==== Folgerungen der Anordnungsaxiome ====</h4>"
      ],
      "text/plain": [
       "<IPython.core.display.HTML object>"
      ]
     },
     "metadata": {},
     "output_type": "display_data"
    },
    {
     "data": {
      "text/html": [
       "<h5>Seitenaufrufe des Artikels 'Mathe für Nicht-Freaks: Folgerungen der Anordnungsaxiome'</h5>"
      ],
      "text/plain": [
       "<IPython.core.display.HTML object>"
      ]
     },
     "metadata": {},
     "output_type": "display_data"
    },
    {
     "name": "stdout",
     "output_type": "stream",
     "text": [
      "2018:     5.350 ┬      +768 (+17%)\n",
      "2017:     4.582 ┘      \n"
     ]
    },
    {
     "data": {
      "text/html": [
       "<h5>Bearbeitungen im Artikel 'Mathe für Nicht-Freaks: Folgerungen der Anordnungsaxiome'</h5>"
      ],
      "text/plain": [
       "<IPython.core.display.HTML object>"
      ]
     },
     "metadata": {},
     "output_type": "display_data"
    },
    {
     "name": "stdout",
     "output_type": "stream",
     "text": [
      "2018:         0 ┬       -39 (-100%)\n",
      "2017:        39 ┘      \n"
     ]
    },
    {
     "data": {
      "text/markdown": [
       "[Zurück zum Inhaltsverzeichnis](#Inhaltsverzeichnis)"
      ],
      "text/plain": [
       "<IPython.core.display.Markdown object>"
      ]
     },
     "metadata": {},
     "output_type": "display_data"
    },
    {
     "data": {
      "text/html": [
       "<h4 id='Betragsfunktion, Maximum und Minimum'>==== Betragsfunktion, Maximum und Minimum ====</h4>"
      ],
      "text/plain": [
       "<IPython.core.display.HTML object>"
      ]
     },
     "metadata": {},
     "output_type": "display_data"
    },
    {
     "data": {
      "text/html": [
       "<h5>Seitenaufrufe des Artikels 'Mathe für Nicht-Freaks: Betrag, Maximum und Minimum'</h5>"
      ],
      "text/plain": [
       "<IPython.core.display.HTML object>"
      ]
     },
     "metadata": {},
     "output_type": "display_data"
    },
    {
     "name": "stdout",
     "output_type": "stream",
     "text": [
      "2018:    22.991 ┬    +3.918 (+21%)\n",
      "2017:    19.073 ┘      \n"
     ]
    },
    {
     "data": {
      "text/html": [
       "<h5>Bearbeitungen im Artikel 'Mathe für Nicht-Freaks: Betrag, Maximum und Minimum'</h5>"
      ],
      "text/plain": [
       "<IPython.core.display.HTML object>"
      ]
     },
     "metadata": {},
     "output_type": "display_data"
    },
    {
     "name": "stdout",
     "output_type": "stream",
     "text": [
      "2018:         8 ┬       -23 (-74%)\n",
      "2017:        31 ┘      \n"
     ]
    },
    {
     "data": {
      "text/html": [
       "<h5>Vergleich der Seitenaufrufe zum Wikipedia-Artikel</h5>"
      ],
      "text/plain": [
       "<IPython.core.display.HTML object>"
      ]
     },
     "metadata": {},
     "output_type": "display_data"
    },
    {
     "name": "stdout",
     "output_type": "stream",
     "text": [
      "Wikipedia-Artikel: Betragsfunktion\n",
      "Views 2018:     74.696 ┬      -832 ( -1%)\n",
      "Views 2017:     75.528 ┘      \n",
      "\n",
      "MFNF / Wikipedia – 2018:  31%\n",
      "MFNF / Wikipedia – 2017:  25%\n"
     ]
    },
    {
     "data": {
      "text/markdown": [
       "[Zurück zum Inhaltsverzeichnis](#Inhaltsverzeichnis)"
      ],
      "text/plain": [
       "<IPython.core.display.Markdown object>"
      ]
     },
     "metadata": {},
     "output_type": "display_data"
    },
    {
     "data": {
      "text/html": [
       "<h4 id='Intervalle'>==== Intervalle ====</h4>"
      ],
      "text/plain": [
       "<IPython.core.display.HTML object>"
      ]
     },
     "metadata": {},
     "output_type": "display_data"
    },
    {
     "data": {
      "text/html": [
       "<h5>Seitenaufrufe des Artikels 'Mathe für Nicht-Freaks: Intervall'</h5>"
      ],
      "text/plain": [
       "<IPython.core.display.HTML object>"
      ]
     },
     "metadata": {},
     "output_type": "display_data"
    },
    {
     "name": "stdout",
     "output_type": "stream",
     "text": [
      "2018:    10.609 ┬    -1.220 (-10%)\n",
      "2017:    11.829 ┘      \n"
     ]
    },
    {
     "data": {
      "text/html": [
       "<h5>Bearbeitungen im Artikel 'Mathe für Nicht-Freaks: Intervall'</h5>"
      ],
      "text/plain": [
       "<IPython.core.display.HTML object>"
      ]
     },
     "metadata": {},
     "output_type": "display_data"
    },
    {
     "name": "stdout",
     "output_type": "stream",
     "text": [
      "2018:         0 ┬        -5 (-100%)\n",
      "2017:         5 ┘      \n"
     ]
    },
    {
     "data": {
      "text/html": [
       "<h5>Vergleich der Seitenaufrufe zum Wikipedia-Artikel</h5>"
      ],
      "text/plain": [
       "<IPython.core.display.HTML object>"
      ]
     },
     "metadata": {},
     "output_type": "display_data"
    },
    {
     "name": "stdout",
     "output_type": "stream",
     "text": [
      "Wikipedia-Artikel: Intervall (Mathematik)\n",
      "Views 2018:     93.165 ┬    -7.722 ( -8%)\n",
      "Views 2017:    100.887 ┘      \n",
      "\n",
      "MFNF / Wikipedia – 2018:  11%\n",
      "MFNF / Wikipedia – 2017:  12%\n"
     ]
    },
    {
     "data": {
      "text/markdown": [
       "[Zurück zum Inhaltsverzeichnis](#Inhaltsverzeichnis)"
      ],
      "text/plain": [
       "<IPython.core.display.Markdown object>"
      ]
     },
     "metadata": {},
     "output_type": "display_data"
    },
    {
     "data": {
      "text/html": [
       "<h3 id='Vollständigkeit reeller Zahlen'>=== Vollständigkeit reeller Zahlen ===</h3>"
      ],
      "text/plain": [
       "<IPython.core.display.HTML object>"
      ]
     },
     "metadata": {},
     "output_type": "display_data"
    },
    {
     "data": {
      "text/markdown": [
       "[Zurück zum Inhaltsverzeichnis](#Inhaltsverzeichnis)"
      ],
      "text/plain": [
       "<IPython.core.display.Markdown object>"
      ]
     },
     "metadata": {},
     "output_type": "display_data"
    },
    {
     "data": {
      "text/html": [
       "<h4 id='Intervallschachtelung mit rationaler Genauigkeit'>==== Intervallschachtelung mit rationaler Genauigkeit ====</h4>"
      ],
      "text/plain": [
       "<IPython.core.display.HTML object>"
      ]
     },
     "metadata": {},
     "output_type": "display_data"
    },
    {
     "data": {
      "text/html": [
       "<h5>Seitenaufrufe des Artikels 'Mathe für Nicht-Freaks: Intervallschachtelung mit rationaler Genauigkeit'</h5>"
      ],
      "text/plain": [
       "<IPython.core.display.HTML object>"
      ]
     },
     "metadata": {},
     "output_type": "display_data"
    },
    {
     "name": "stdout",
     "output_type": "stream",
     "text": [
      "2018:     3.700 ┬    -1.231 (-25%)\n",
      "2017:     4.931 ┘      \n"
     ]
    },
    {
     "data": {
      "text/html": [
       "<h5>Bearbeitungen im Artikel 'Mathe für Nicht-Freaks: Intervallschachtelung mit rationaler Genauigkeit'</h5>"
      ],
      "text/plain": [
       "<IPython.core.display.HTML object>"
      ]
     },
     "metadata": {},
     "output_type": "display_data"
    },
    {
     "name": "stdout",
     "output_type": "stream",
     "text": [
      "2018:         0 ┬        -9 (-100%)\n",
      "2017:         9 ┘      \n"
     ]
    },
    {
     "data": {
      "text/markdown": [
       "[Zurück zum Inhaltsverzeichnis](#Inhaltsverzeichnis)"
      ],
      "text/plain": [
       "<IPython.core.display.Markdown object>"
      ]
     },
     "metadata": {},
     "output_type": "display_data"
    },
    {
     "data": {
      "text/html": [
       "<h4 id='Das archimedische Axiom'>==== Das archimedische Axiom ====</h4>"
      ],
      "text/plain": [
       "<IPython.core.display.HTML object>"
      ]
     },
     "metadata": {},
     "output_type": "display_data"
    },
    {
     "data": {
      "text/html": [
       "<h5>Seitenaufrufe des Artikels 'Mathe für Nicht-Freaks: Archimedisches Axiom'</h5>"
      ],
      "text/plain": [
       "<IPython.core.display.HTML object>"
      ]
     },
     "metadata": {},
     "output_type": "display_data"
    },
    {
     "name": "stdout",
     "output_type": "stream",
     "text": [
      "2018:     6.988 ┬      +499 ( +8%)\n",
      "2017:     6.489 ┘      \n"
     ]
    },
    {
     "data": {
      "text/html": [
       "<h5>Bearbeitungen im Artikel 'Mathe für Nicht-Freaks: Archimedisches Axiom'</h5>"
      ],
      "text/plain": [
       "<IPython.core.display.HTML object>"
      ]
     },
     "metadata": {},
     "output_type": "display_data"
    },
    {
     "name": "stdout",
     "output_type": "stream",
     "text": [
      "2018:         1 ┬        -4 (-80%)\n",
      "2017:         5 ┘      \n"
     ]
    },
    {
     "data": {
      "text/html": [
       "<h5>Vergleich der Seitenaufrufe zum Wikipedia-Artikel</h5>"
      ],
      "text/plain": [
       "<IPython.core.display.HTML object>"
      ]
     },
     "metadata": {},
     "output_type": "display_data"
    },
    {
     "name": "stdout",
     "output_type": "stream",
     "text": [
      "Wikipedia-Artikel: Archimedisches Axiom\n",
      "Views 2018:     16.775 ┬    -1.287 ( -7%)\n",
      "Views 2017:     18.062 ┘      \n",
      "\n",
      "MFNF / Wikipedia – 2018:  42%\n",
      "MFNF / Wikipedia – 2017:  36%\n"
     ]
    },
    {
     "data": {
      "text/markdown": [
       "[Zurück zum Inhaltsverzeichnis](#Inhaltsverzeichnis)"
      ],
      "text/plain": [
       "<IPython.core.display.Markdown object>"
      ]
     },
     "metadata": {},
     "output_type": "display_data"
    },
    {
     "data": {
      "text/html": [
       "<h4 id='Bernoullische Ungleichung'>==== Bernoullische Ungleichung ====</h4>"
      ],
      "text/plain": [
       "<IPython.core.display.HTML object>"
      ]
     },
     "metadata": {},
     "output_type": "display_data"
    },
    {
     "data": {
      "text/html": [
       "<h5>Seitenaufrufe des Artikels 'Mathe für Nicht-Freaks: Bernoulli-Ungleichung'</h5>"
      ],
      "text/plain": [
       "<IPython.core.display.HTML object>"
      ]
     },
     "metadata": {},
     "output_type": "display_data"
    },
    {
     "name": "stdout",
     "output_type": "stream",
     "text": [
      "2018:    14.517 ┬       +83 ( +1%)\n",
      "2017:    14.434 ┘      \n"
     ]
    },
    {
     "data": {
      "text/html": [
       "<h5>Bearbeitungen im Artikel 'Mathe für Nicht-Freaks: Bernoulli-Ungleichung'</h5>"
      ],
      "text/plain": [
       "<IPython.core.display.HTML object>"
      ]
     },
     "metadata": {},
     "output_type": "display_data"
    },
    {
     "name": "stdout",
     "output_type": "stream",
     "text": [
      "2018:         0 ┬       -13 (-100%)\n",
      "2017:        13 ┘      \n"
     ]
    },
    {
     "data": {
      "text/html": [
       "<h5>Vergleich der Seitenaufrufe zum Wikipedia-Artikel</h5>"
      ],
      "text/plain": [
       "<IPython.core.display.HTML object>"
      ]
     },
     "metadata": {},
     "output_type": "display_data"
    },
    {
     "name": "stdout",
     "output_type": "stream",
     "text": [
      "Wikipedia-Artikel: Bernoullische Ungleichung\n",
      "Views 2018:     32.975 ┬    -3.100 ( -9%)\n",
      "Views 2017:     36.075 ┘      \n",
      "\n",
      "MFNF / Wikipedia – 2018:  44%\n",
      "MFNF / Wikipedia – 2017:  40%\n"
     ]
    },
    {
     "data": {
      "text/markdown": [
       "[Zurück zum Inhaltsverzeichnis](#Inhaltsverzeichnis)"
      ],
      "text/plain": [
       "<IPython.core.display.Markdown object>"
      ]
     },
     "metadata": {},
     "output_type": "display_data"
    },
    {
     "data": {
      "text/html": [
       "<h4 id='Allgemeine Intervallschachtelungen'>==== Allgemeine Intervallschachtelungen ====</h4>"
      ],
      "text/plain": [
       "<IPython.core.display.HTML object>"
      ]
     },
     "metadata": {},
     "output_type": "display_data"
    },
    {
     "data": {
      "text/html": [
       "<h5>Seitenaufrufe des Artikels 'Mathe für Nicht-Freaks: Allgemeine Intervallschachtelung'</h5>"
      ],
      "text/plain": [
       "<IPython.core.display.HTML object>"
      ]
     },
     "metadata": {},
     "output_type": "display_data"
    },
    {
     "name": "stdout",
     "output_type": "stream",
     "text": [
      "2018:     5.488 ┬    -1.797 (-25%)\n",
      "2017:     7.285 ┘      \n"
     ]
    },
    {
     "data": {
      "text/html": [
       "<h5>Bearbeitungen im Artikel 'Mathe für Nicht-Freaks: Allgemeine Intervallschachtelung'</h5>"
      ],
      "text/plain": [
       "<IPython.core.display.HTML object>"
      ]
     },
     "metadata": {},
     "output_type": "display_data"
    },
    {
     "name": "stdout",
     "output_type": "stream",
     "text": [
      "2018:         4 ┬        +2 (+100%)\n",
      "2017:         2 ┘      \n"
     ]
    },
    {
     "data": {
      "text/html": [
       "<h5>Vergleich der Seitenaufrufe zum Wikipedia-Artikel</h5>"
      ],
      "text/plain": [
       "<IPython.core.display.HTML object>"
      ]
     },
     "metadata": {},
     "output_type": "display_data"
    },
    {
     "name": "stdout",
     "output_type": "stream",
     "text": [
      "Wikipedia-Artikel: Intervallschachtelung\n",
      "Views 2018:     12.931 ┬    -2.163 (-14%)\n",
      "Views 2017:     15.094 ┘      \n",
      "\n",
      "MFNF / Wikipedia – 2018:  42%\n",
      "MFNF / Wikipedia – 2017:  48%\n"
     ]
    },
    {
     "data": {
      "text/markdown": [
       "[Zurück zum Inhaltsverzeichnis](#Inhaltsverzeichnis)"
      ],
      "text/plain": [
       "<IPython.core.display.Markdown object>"
      ]
     },
     "metadata": {},
     "output_type": "display_data"
    },
    {
     "data": {
      "text/html": [
       "<h3 id='Die komplexen Zahlen'>=== Die komplexen Zahlen ===</h3>"
      ],
      "text/plain": [
       "<IPython.core.display.HTML object>"
      ]
     },
     "metadata": {},
     "output_type": "display_data"
    },
    {
     "data": {
      "text/markdown": [
       "[Zurück zum Inhaltsverzeichnis](#Inhaltsverzeichnis)"
      ],
      "text/plain": [
       "<IPython.core.display.Markdown object>"
      ]
     },
     "metadata": {},
     "output_type": "display_data"
    },
    {
     "data": {
      "text/html": [
       "<h4 id='Einleitung und Motivation'>==== Einleitung und Motivation ====</h4>"
      ],
      "text/plain": [
       "<IPython.core.display.HTML object>"
      ]
     },
     "metadata": {},
     "output_type": "display_data"
    },
    {
     "data": {
      "text/html": [
       "<h5>Seitenaufrufe des Artikels 'Mathe für Nicht-Freaks: Komplexe Zahlen: Einleitung und Motivation'</h5>"
      ],
      "text/plain": [
       "<IPython.core.display.HTML object>"
      ]
     },
     "metadata": {},
     "output_type": "display_data"
    },
    {
     "name": "stdout",
     "output_type": "stream",
     "text": [
      "2018:     3.544 ┬    +2.071 (+141%)\n",
      "2017:     1.473 ┘      \n"
     ]
    },
    {
     "data": {
      "text/html": [
       "<h5>Bearbeitungen im Artikel 'Mathe für Nicht-Freaks: Komplexe Zahlen: Einleitung und Motivation'</h5>"
      ],
      "text/plain": [
       "<IPython.core.display.HTML object>"
      ]
     },
     "metadata": {},
     "output_type": "display_data"
    },
    {
     "name": "stdout",
     "output_type": "stream",
     "text": [
      "2018:        55 ┬       +47 (+588%)\n",
      "2017:         8 ┘      \n"
     ]
    },
    {
     "data": {
      "text/markdown": [
       "[Zurück zum Inhaltsverzeichnis](#Inhaltsverzeichnis)"
      ],
      "text/plain": [
       "<IPython.core.display.Markdown object>"
      ]
     },
     "metadata": {},
     "output_type": "display_data"
    },
    {
     "data": {
      "text/html": [
       "<h4 id='Definition'>==== Definition ====</h4>"
      ],
      "text/plain": [
       "<IPython.core.display.HTML object>"
      ]
     },
     "metadata": {},
     "output_type": "display_data"
    },
    {
     "data": {
      "text/html": [
       "<h5>Seitenaufrufe des Artikels 'Mathe für Nicht-Freaks: Definition der komplexen Zahlen'</h5>"
      ],
      "text/plain": [
       "<IPython.core.display.HTML object>"
      ]
     },
     "metadata": {},
     "output_type": "display_data"
    },
    {
     "name": "stdout",
     "output_type": "stream",
     "text": [
      "2018:     2.575 ┬    +1.932 (+300%)\n",
      "2017:       643 ┘      \n"
     ]
    },
    {
     "data": {
      "text/html": [
       "<h5>Bearbeitungen im Artikel 'Mathe für Nicht-Freaks: Definition der komplexen Zahlen'</h5>"
      ],
      "text/plain": [
       "<IPython.core.display.HTML object>"
      ]
     },
     "metadata": {},
     "output_type": "display_data"
    },
    {
     "name": "stdout",
     "output_type": "stream",
     "text": [
      "2018:       109 ┬      +107 (+5350%)\n",
      "2017:         2 ┘      \n"
     ]
    },
    {
     "data": {
      "text/markdown": [
       "[Zurück zum Inhaltsverzeichnis](#Inhaltsverzeichnis)"
      ],
      "text/plain": [
       "<IPython.core.display.Markdown object>"
      ]
     },
     "metadata": {},
     "output_type": "display_data"
    },
    {
     "data": {
      "text/html": [
       "<h4 id='Betrag und Konjugation'>==== Betrag und Konjugation ====</h4>"
      ],
      "text/plain": [
       "<IPython.core.display.HTML object>"
      ]
     },
     "metadata": {},
     "output_type": "display_data"
    },
    {
     "data": {
      "text/html": [
       "<h5>Seitenaufrufe des Artikels 'Mathe für Nicht-Freaks: Komplexe Konjugation und Betrag komplexer Zahlen'</h5>"
      ],
      "text/plain": [
       "<IPython.core.display.HTML object>"
      ]
     },
     "metadata": {},
     "output_type": "display_data"
    },
    {
     "name": "stdout",
     "output_type": "stream",
     "text": [
      "2018:     6.466 ┬    +4.765 (+280%)\n",
      "2017:     1.701 ┘      \n"
     ]
    },
    {
     "data": {
      "text/html": [
       "<h5>Bearbeitungen im Artikel 'Mathe für Nicht-Freaks: Komplexe Konjugation und Betrag komplexer Zahlen'</h5>"
      ],
      "text/plain": [
       "<IPython.core.display.HTML object>"
      ]
     },
     "metadata": {},
     "output_type": "display_data"
    },
    {
     "name": "stdout",
     "output_type": "stream",
     "text": [
      "2018:       163 ┬      +137 (+527%)\n",
      "2017:        26 ┘      \n"
     ]
    },
    {
     "data": {
      "text/markdown": [
       "[Zurück zum Inhaltsverzeichnis](#Inhaltsverzeichnis)"
      ],
      "text/plain": [
       "<IPython.core.display.Markdown object>"
      ]
     },
     "metadata": {},
     "output_type": "display_data"
    },
    {
     "data": {
      "text/html": [
       "<h4 id='Polardarstellung'>==== Polardarstellung ====</h4>"
      ],
      "text/plain": [
       "<IPython.core.display.HTML object>"
      ]
     },
     "metadata": {},
     "output_type": "display_data"
    },
    {
     "data": {
      "text/html": [
       "<h5>Seitenaufrufe des Artikels 'Mathe für Nicht-Freaks: Polarform bzw. Polardarstellung komplexer Zahlen'</h5>"
      ],
      "text/plain": [
       "<IPython.core.display.HTML object>"
      ]
     },
     "metadata": {},
     "output_type": "display_data"
    },
    {
     "name": "stdout",
     "output_type": "stream",
     "text": [
      "2018:     5.692 ┬    +5.514 (+3098%)\n",
      "2017:       178 ┘      \n"
     ]
    },
    {
     "data": {
      "text/html": [
       "<h5>Bearbeitungen im Artikel 'Mathe für Nicht-Freaks: Polarform bzw. Polardarstellung komplexer Zahlen'</h5>"
      ],
      "text/plain": [
       "<IPython.core.display.HTML object>"
      ]
     },
     "metadata": {},
     "output_type": "display_data"
    },
    {
     "name": "stdout",
     "output_type": "stream",
     "text": [
      "2018:        92 ┬       +91 (+9100%)\n",
      "2017:         1 ┘      \n"
     ]
    },
    {
     "data": {
      "text/markdown": [
       "[Zurück zum Inhaltsverzeichnis](#Inhaltsverzeichnis)"
      ],
      "text/plain": [
       "<IPython.core.display.Markdown object>"
      ]
     },
     "metadata": {},
     "output_type": "display_data"
    },
    {
     "data": {
      "text/html": [
       "<h4 id='Darstellung komplexwertiger Funktionen'>==== Darstellung komplexwertiger Funktionen ====</h4>"
      ],
      "text/plain": [
       "<IPython.core.display.HTML object>"
      ]
     },
     "metadata": {},
     "output_type": "display_data"
    },
    {
     "data": {
      "text/html": [
       "<h5>Seitenaufrufe des Artikels 'Mathe für Nicht-Freaks: Komplexe Zahlen: Darstellung komplexwertiger Funktionen'</h5>"
      ],
      "text/plain": [
       "<IPython.core.display.HTML object>"
      ]
     },
     "metadata": {},
     "output_type": "display_data"
    },
    {
     "name": "stdout",
     "output_type": "stream",
     "text": [
      "2018:     7.341 ┬    +4.126 (+128%)\n",
      "2017:     3.215 ┘      \n"
     ]
    },
    {
     "data": {
      "text/html": [
       "<h5>Bearbeitungen im Artikel 'Mathe für Nicht-Freaks: Komplexe Zahlen: Darstellung komplexwertiger Funktionen'</h5>"
      ],
      "text/plain": [
       "<IPython.core.display.HTML object>"
      ]
     },
     "metadata": {},
     "output_type": "display_data"
    },
    {
     "name": "stdout",
     "output_type": "stream",
     "text": [
      "2018:         1 ┬      -136 (-99%)\n",
      "2017:       137 ┘      \n"
     ]
    },
    {
     "data": {
      "text/markdown": [
       "[Zurück zum Inhaltsverzeichnis](#Inhaltsverzeichnis)"
      ],
      "text/plain": [
       "<IPython.core.display.Markdown object>"
      ]
     },
     "metadata": {},
     "output_type": "display_data"
    },
    {
     "data": {
      "text/html": [
       "<h4 id='Aufgaben'>==== Aufgaben ====</h4>"
      ],
      "text/plain": [
       "<IPython.core.display.HTML object>"
      ]
     },
     "metadata": {},
     "output_type": "display_data"
    },
    {
     "data": {
      "text/html": [
       "<h5>Seitenaufrufe des Artikels 'Mathe für Nicht-Freaks: Aufgaben zu komplexen Zahlen'</h5>"
      ],
      "text/plain": [
       "<IPython.core.display.HTML object>"
      ]
     },
     "metadata": {},
     "output_type": "display_data"
    },
    {
     "name": "stdout",
     "output_type": "stream",
     "text": [
      "2018:     2.235 ┬    +1.606 (+255%)\n",
      "2017:       629 ┘      \n"
     ]
    },
    {
     "data": {
      "text/html": [
       "<h5>Bearbeitungen im Artikel 'Mathe für Nicht-Freaks: Aufgaben zu komplexen Zahlen'</h5>"
      ],
      "text/plain": [
       "<IPython.core.display.HTML object>"
      ]
     },
     "metadata": {},
     "output_type": "display_data"
    },
    {
     "name": "stdout",
     "output_type": "stream",
     "text": [
      "2018:        39 ┬       +33 (+550%)\n",
      "2017:         6 ┘      \n"
     ]
    },
    {
     "data": {
      "text/markdown": [
       "[Zurück zum Inhaltsverzeichnis](#Inhaltsverzeichnis)"
      ],
      "text/plain": [
       "<IPython.core.display.Markdown object>"
      ]
     },
     "metadata": {},
     "output_type": "display_data"
    },
    {
     "data": {
      "text/html": [
       "<h3 id='Supremum und Infimum'>=== Supremum und Infimum ===</h3>"
      ],
      "text/plain": [
       "<IPython.core.display.HTML object>"
      ]
     },
     "metadata": {},
     "output_type": "display_data"
    },
    {
     "data": {
      "text/markdown": [
       "[Zurück zum Inhaltsverzeichnis](#Inhaltsverzeichnis)"
      ],
      "text/plain": [
       "<IPython.core.display.Markdown object>"
      ]
     },
     "metadata": {},
     "output_type": "display_data"
    },
    {
     "data": {
      "text/html": [
       "<h4 id='Supremum und Infimum'>==== Supremum und Infimum ====</h4>"
      ],
      "text/plain": [
       "<IPython.core.display.HTML object>"
      ]
     },
     "metadata": {},
     "output_type": "display_data"
    },
    {
     "data": {
      "text/html": [
       "<h5>Seitenaufrufe des Artikels 'Mathe für Nicht-Freaks: Supremum und Infimum'</h5>"
      ],
      "text/plain": [
       "<IPython.core.display.HTML object>"
      ]
     },
     "metadata": {},
     "output_type": "display_data"
    },
    {
     "name": "stdout",
     "output_type": "stream",
     "text": [
      "2018:    23.203 ┬    +1.135 ( +5%)\n",
      "2017:    22.068 ┘      \n"
     ]
    },
    {
     "data": {
      "text/html": [
       "<h5>Bearbeitungen im Artikel 'Mathe für Nicht-Freaks: Supremum und Infimum'</h5>"
      ],
      "text/plain": [
       "<IPython.core.display.HTML object>"
      ]
     },
     "metadata": {},
     "output_type": "display_data"
    },
    {
     "name": "stdout",
     "output_type": "stream",
     "text": [
      "2018:         0 ┬       -34 (-100%)\n",
      "2017:        34 ┘      \n"
     ]
    },
    {
     "data": {
      "text/html": [
       "<h5>Vergleich der Seitenaufrufe zum Wikipedia-Artikel</h5>"
      ],
      "text/plain": [
       "<IPython.core.display.HTML object>"
      ]
     },
     "metadata": {},
     "output_type": "display_data"
    },
    {
     "name": "stdout",
     "output_type": "stream",
     "text": [
      "Wikipedia-Artikel: Infimum und Supremum\n",
      "Views 2018:     65.823 ┬    +3.310 ( +5%)\n",
      "Views 2017:     62.513 ┘      \n",
      "\n",
      "MFNF / Wikipedia – 2018:  35%\n",
      "MFNF / Wikipedia – 2017:  35%\n"
     ]
    },
    {
     "data": {
      "text/markdown": [
       "[Zurück zum Inhaltsverzeichnis](#Inhaltsverzeichnis)"
      ],
      "text/plain": [
       "<IPython.core.display.Markdown object>"
      ]
     },
     "metadata": {},
     "output_type": "display_data"
    },
    {
     "data": {
      "text/html": [
       "<h4 id='Uneigentliches Supremum und Infimum'>==== Uneigentliches Supremum und Infimum ====</h4>"
      ],
      "text/plain": [
       "<IPython.core.display.HTML object>"
      ]
     },
     "metadata": {},
     "output_type": "display_data"
    },
    {
     "data": {
      "text/html": [
       "<h5>Seitenaufrufe des Artikels 'Mathe für Nicht-Freaks: Uneigentliches Supremum und Infimum'</h5>"
      ],
      "text/plain": [
       "<IPython.core.display.HTML object>"
      ]
     },
     "metadata": {},
     "output_type": "display_data"
    },
    {
     "name": "stdout",
     "output_type": "stream",
     "text": [
      "2018:     3.135 ┬      +430 (+16%)\n",
      "2017:     2.705 ┘      \n"
     ]
    },
    {
     "data": {
      "text/html": [
       "<h5>Bearbeitungen im Artikel 'Mathe für Nicht-Freaks: Uneigentliches Supremum und Infimum'</h5>"
      ],
      "text/plain": [
       "<IPython.core.display.HTML object>"
      ]
     },
     "metadata": {},
     "output_type": "display_data"
    },
    {
     "name": "stdout",
     "output_type": "stream",
     "text": [
      "2018:         1 ┬        -7 (-88%)\n",
      "2017:         8 ┘      \n"
     ]
    },
    {
     "data": {
      "text/markdown": [
       "[Zurück zum Inhaltsverzeichnis](#Inhaltsverzeichnis)"
      ],
      "text/plain": [
       "<IPython.core.display.Markdown object>"
      ]
     },
     "metadata": {},
     "output_type": "display_data"
    },
    {
     "data": {
      "text/html": [
       "<h4 id='Supremum und Infimum bestimmen und beweisen'>==== Supremum und Infimum bestimmen und beweisen ====</h4>"
      ],
      "text/plain": [
       "<IPython.core.display.HTML object>"
      ]
     },
     "metadata": {},
     "output_type": "display_data"
    },
    {
     "data": {
      "text/html": [
       "<h5>Seitenaufrufe des Artikels 'Mathe für Nicht-Freaks: Supremum und Infimum bestimmen und beweisen'</h5>"
      ],
      "text/plain": [
       "<IPython.core.display.HTML object>"
      ]
     },
     "metadata": {},
     "output_type": "display_data"
    },
    {
     "name": "stdout",
     "output_type": "stream",
     "text": [
      "2018:    28.287 ┬      +242 ( +1%)\n",
      "2017:    28.045 ┘      \n"
     ]
    },
    {
     "data": {
      "text/html": [
       "<h5>Bearbeitungen im Artikel 'Mathe für Nicht-Freaks: Supremum und Infimum bestimmen und beweisen'</h5>"
      ],
      "text/plain": [
       "<IPython.core.display.HTML object>"
      ]
     },
     "metadata": {},
     "output_type": "display_data"
    },
    {
     "name": "stdout",
     "output_type": "stream",
     "text": [
      "2018:        19 ┬        -7 (-27%)\n",
      "2017:        26 ┘      \n"
     ]
    },
    {
     "data": {
      "text/markdown": [
       "[Zurück zum Inhaltsverzeichnis](#Inhaltsverzeichnis)"
      ],
      "text/plain": [
       "<IPython.core.display.Markdown object>"
      ]
     },
     "metadata": {},
     "output_type": "display_data"
    },
    {
     "data": {
      "text/html": [
       "<h4 id='Eigenschaften Supremum und Infimum'>==== Eigenschaften Supremum und Infimum ====</h4>"
      ],
      "text/plain": [
       "<IPython.core.display.HTML object>"
      ]
     },
     "metadata": {},
     "output_type": "display_data"
    },
    {
     "data": {
      "text/html": [
       "<h5>Seitenaufrufe des Artikels 'Mathe für Nicht-Freaks: Supremum und Infimum: Eigenschaften'</h5>"
      ],
      "text/plain": [
       "<IPython.core.display.HTML object>"
      ]
     },
     "metadata": {},
     "output_type": "display_data"
    },
    {
     "name": "stdout",
     "output_type": "stream",
     "text": [
      "2018:    14.040 ┬    +3.450 (+33%)\n",
      "2017:    10.590 ┘      \n"
     ]
    },
    {
     "data": {
      "text/html": [
       "<h5>Bearbeitungen im Artikel 'Mathe für Nicht-Freaks: Supremum und Infimum: Eigenschaften'</h5>"
      ],
      "text/plain": [
       "<IPython.core.display.HTML object>"
      ]
     },
     "metadata": {},
     "output_type": "display_data"
    },
    {
     "name": "stdout",
     "output_type": "stream",
     "text": [
      "2018:         5 ┬       -39 (-89%)\n",
      "2017:        44 ┘      \n"
     ]
    },
    {
     "data": {
      "text/markdown": [
       "[Zurück zum Inhaltsverzeichnis](#Inhaltsverzeichnis)"
      ],
      "text/plain": [
       "<IPython.core.display.Markdown object>"
      ]
     },
     "metadata": {},
     "output_type": "display_data"
    },
    {
     "data": {
      "text/html": [
       "<h3 id='Wurzel reeller Zahlen'>=== Wurzel reeller Zahlen ===</h3>"
      ],
      "text/plain": [
       "<IPython.core.display.HTML object>"
      ]
     },
     "metadata": {},
     "output_type": "display_data"
    },
    {
     "data": {
      "text/markdown": [
       "[Zurück zum Inhaltsverzeichnis](#Inhaltsverzeichnis)"
      ],
      "text/plain": [
       "<IPython.core.display.Markdown object>"
      ]
     },
     "metadata": {},
     "output_type": "display_data"
    },
    {
     "data": {
      "text/html": [
       "<h4 id='Wurzel reeller Zahlen'>==== Wurzel reeller Zahlen ====</h4>"
      ],
      "text/plain": [
       "<IPython.core.display.HTML object>"
      ]
     },
     "metadata": {},
     "output_type": "display_data"
    },
    {
     "data": {
      "text/html": [
       "<h5>Seitenaufrufe des Artikels 'Mathe für Nicht-Freaks: Wurzel'</h5>"
      ],
      "text/plain": [
       "<IPython.core.display.HTML object>"
      ]
     },
     "metadata": {},
     "output_type": "display_data"
    },
    {
     "name": "stdout",
     "output_type": "stream",
     "text": [
      "2018:     4.824 ┬    +1.595 (+49%)\n",
      "2017:     3.229 ┘      \n"
     ]
    },
    {
     "data": {
      "text/html": [
       "<h5>Bearbeitungen im Artikel 'Mathe für Nicht-Freaks: Wurzel'</h5>"
      ],
      "text/plain": [
       "<IPython.core.display.HTML object>"
      ]
     },
     "metadata": {},
     "output_type": "display_data"
    },
    {
     "name": "stdout",
     "output_type": "stream",
     "text": [
      "2018:         0 ┬       -18 (-100%)\n",
      "2017:        18 ┘      \n"
     ]
    },
    {
     "data": {
      "text/html": [
       "<h5>Vergleich der Seitenaufrufe zum Wikipedia-Artikel</h5>"
      ],
      "text/plain": [
       "<IPython.core.display.HTML object>"
      ]
     },
     "metadata": {},
     "output_type": "display_data"
    },
    {
     "name": "stdout",
     "output_type": "stream",
     "text": [
      "Wikipedia-Artikel: Wurzel (Mathematik)\n",
      "Views 2018:    125.737 ┬   -21.648 (-15%)\n",
      "Views 2017:    147.385 ┘      \n",
      "\n",
      "MFNF / Wikipedia – 2018:   4%\n",
      "MFNF / Wikipedia – 2017:   2%\n"
     ]
    },
    {
     "data": {
      "text/markdown": [
       "[Zurück zum Inhaltsverzeichnis](#Inhaltsverzeichnis)"
      ],
      "text/plain": [
       "<IPython.core.display.Markdown object>"
      ]
     },
     "metadata": {},
     "output_type": "display_data"
    },
    {
     "data": {
      "text/html": [
       "<h4 id='Lösungen von Potenzgleichungen'>==== Lösungen von Potenzgleichungen ====</h4>"
      ],
      "text/plain": [
       "<IPython.core.display.HTML object>"
      ]
     },
     "metadata": {},
     "output_type": "display_data"
    },
    {
     "data": {
      "text/html": [
       "<h5>Seitenaufrufe des Artikels 'Mathe für Nicht-Freaks: Potenzgleichungen'</h5>"
      ],
      "text/plain": [
       "<IPython.core.display.HTML object>"
      ]
     },
     "metadata": {},
     "output_type": "display_data"
    },
    {
     "name": "stdout",
     "output_type": "stream",
     "text": [
      "2018:     1.198 ┬       -55 ( -4%)\n",
      "2017:     1.253 ┘      \n"
     ]
    },
    {
     "data": {
      "text/html": [
       "<h5>Bearbeitungen im Artikel 'Mathe für Nicht-Freaks: Potenzgleichungen'</h5>"
      ],
      "text/plain": [
       "<IPython.core.display.HTML object>"
      ]
     },
     "metadata": {},
     "output_type": "display_data"
    },
    {
     "name": "stdout",
     "output_type": "stream",
     "text": [
      "2018:         0 ┬        -8 (-100%)\n",
      "2017:         8 ┘      \n"
     ]
    },
    {
     "data": {
      "text/markdown": [
       "[Zurück zum Inhaltsverzeichnis](#Inhaltsverzeichnis)"
      ],
      "text/plain": [
       "<IPython.core.display.Markdown object>"
      ]
     },
     "metadata": {},
     "output_type": "display_data"
    },
    {
     "data": {
      "text/html": [
       "<h4 id='Rechenregeln'>==== Rechenregeln ====</h4>"
      ],
      "text/plain": [
       "<IPython.core.display.HTML object>"
      ]
     },
     "metadata": {},
     "output_type": "display_data"
    },
    {
     "data": {
      "text/html": [
       "<h5>Seitenaufrufe des Artikels 'Mathe für Nicht-Freaks: Rechenregeln der Wurzel'</h5>"
      ],
      "text/plain": [
       "<IPython.core.display.HTML object>"
      ]
     },
     "metadata": {},
     "output_type": "display_data"
    },
    {
     "name": "stdout",
     "output_type": "stream",
     "text": [
      "2018:     2.168 ┬      +874 (+68%)\n",
      "2017:     1.294 ┘      \n"
     ]
    },
    {
     "data": {
      "text/html": [
       "<h5>Bearbeitungen im Artikel 'Mathe für Nicht-Freaks: Rechenregeln der Wurzel'</h5>"
      ],
      "text/plain": [
       "<IPython.core.display.HTML object>"
      ]
     },
     "metadata": {},
     "output_type": "display_data"
    },
    {
     "name": "stdout",
     "output_type": "stream",
     "text": [
      "2018:         4 ┬        +0 ( +0%)\n",
      "2017:         4 ┘      \n"
     ]
    },
    {
     "data": {
      "text/markdown": [
       "[Zurück zum Inhaltsverzeichnis](#Inhaltsverzeichnis)"
      ],
      "text/plain": [
       "<IPython.core.display.Markdown object>"
      ]
     },
     "metadata": {},
     "output_type": "display_data"
    },
    {
     "data": {
      "text/html": [
       "<h4 id='Verallgemeinerte Potenzen'>==== Verallgemeinerte Potenzen ====</h4>"
      ],
      "text/plain": [
       "<IPython.core.display.HTML object>"
      ]
     },
     "metadata": {},
     "output_type": "display_data"
    },
    {
     "data": {
      "text/html": [
       "<h5>Seitenaufrufe des Artikels 'Mathe für Nicht-Freaks: Potenzen mit rationalem Exponenten'</h5>"
      ],
      "text/plain": [
       "<IPython.core.display.HTML object>"
      ]
     },
     "metadata": {},
     "output_type": "display_data"
    },
    {
     "name": "stdout",
     "output_type": "stream",
     "text": [
      "2018:     1.808 ┬      +717 (+66%)\n",
      "2017:     1.091 ┘      \n"
     ]
    },
    {
     "data": {
      "text/html": [
       "<h5>Bearbeitungen im Artikel 'Mathe für Nicht-Freaks: Potenzen mit rationalem Exponenten'</h5>"
      ],
      "text/plain": [
       "<IPython.core.display.HTML object>"
      ]
     },
     "metadata": {},
     "output_type": "display_data"
    },
    {
     "name": "stdout",
     "output_type": "stream",
     "text": [
      "2018:         0 ┬        -1 (-100%)\n",
      "2017:         1 ┘      \n"
     ]
    },
    {
     "data": {
      "text/markdown": [
       "[Zurück zum Inhaltsverzeichnis](#Inhaltsverzeichnis)"
      ],
      "text/plain": [
       "<IPython.core.display.Markdown object>"
      ]
     },
     "metadata": {},
     "output_type": "display_data"
    },
    {
     "data": {
      "text/html": [
       "<h4 id='Aufgaben'>==== Aufgaben ====</h4>"
      ],
      "text/plain": [
       "<IPython.core.display.HTML object>"
      ]
     },
     "metadata": {},
     "output_type": "display_data"
    },
    {
     "data": {
      "text/html": [
       "<h5>Seitenaufrufe des Artikels 'Mathe für Nicht-Freaks: Aufgaben zu Wurzeln'</h5>"
      ],
      "text/plain": [
       "<IPython.core.display.HTML object>"
      ]
     },
     "metadata": {},
     "output_type": "display_data"
    },
    {
     "name": "stdout",
     "output_type": "stream",
     "text": [
      "2018:       816 ┬      +146 (+22%)\n",
      "2017:       670 ┘      \n"
     ]
    },
    {
     "data": {
      "text/html": [
       "<h5>Bearbeitungen im Artikel 'Mathe für Nicht-Freaks: Aufgaben zu Wurzeln'</h5>"
      ],
      "text/plain": [
       "<IPython.core.display.HTML object>"
      ]
     },
     "metadata": {},
     "output_type": "display_data"
    },
    {
     "name": "stdout",
     "output_type": "stream",
     "text": [
      "2018:         3 ┬        +1 (+50%)\n",
      "2017:         2 ┘      \n"
     ]
    },
    {
     "data": {
      "text/markdown": [
       "[Zurück zum Inhaltsverzeichnis](#Inhaltsverzeichnis)"
      ],
      "text/plain": [
       "<IPython.core.display.Markdown object>"
      ]
     },
     "metadata": {},
     "output_type": "display_data"
    },
    {
     "data": {
      "text/html": [
       "<h3 id='Folgen'>=== Folgen ===</h3>"
      ],
      "text/plain": [
       "<IPython.core.display.HTML object>"
      ]
     },
     "metadata": {},
     "output_type": "display_data"
    },
    {
     "data": {
      "text/markdown": [
       "[Zurück zum Inhaltsverzeichnis](#Inhaltsverzeichnis)"
      ],
      "text/plain": [
       "<IPython.core.display.Markdown object>"
      ]
     },
     "metadata": {},
     "output_type": "display_data"
    },
    {
     "data": {
      "text/html": [
       "<h4 id='Definition'>==== Definition ====</h4>"
      ],
      "text/plain": [
       "<IPython.core.display.HTML object>"
      ]
     },
     "metadata": {},
     "output_type": "display_data"
    },
    {
     "data": {
      "text/html": [
       "<h5>Seitenaufrufe des Artikels 'Mathe für Nicht-Freaks: Folge'</h5>"
      ],
      "text/plain": [
       "<IPython.core.display.HTML object>"
      ]
     },
     "metadata": {},
     "output_type": "display_data"
    },
    {
     "name": "stdout",
     "output_type": "stream",
     "text": [
      "2018:    10.994 ┬    -1.131 ( -9%)\n",
      "2017:    12.125 ┘      \n"
     ]
    },
    {
     "data": {
      "text/html": [
       "<h5>Bearbeitungen im Artikel 'Mathe für Nicht-Freaks: Folge'</h5>"
      ],
      "text/plain": [
       "<IPython.core.display.HTML object>"
      ]
     },
     "metadata": {},
     "output_type": "display_data"
    },
    {
     "name": "stdout",
     "output_type": "stream",
     "text": [
      "2018:         3 ┬       -58 (-95%)\n",
      "2017:        61 ┘      \n"
     ]
    },
    {
     "data": {
      "text/html": [
       "<h5>Vergleich der Seitenaufrufe zum Wikipedia-Artikel</h5>"
      ],
      "text/plain": [
       "<IPython.core.display.HTML object>"
      ]
     },
     "metadata": {},
     "output_type": "display_data"
    },
    {
     "name": "stdout",
     "output_type": "stream",
     "text": [
      "Wikipedia-Artikel: Folge (Mathematik)\n",
      "Views 2018:     67.360 ┬    -3.691 ( -5%)\n",
      "Views 2017:     71.051 ┘      \n",
      "\n",
      "MFNF / Wikipedia – 2018:  16%\n",
      "MFNF / Wikipedia – 2017:  17%\n"
     ]
    },
    {
     "data": {
      "text/markdown": [
       "[Zurück zum Inhaltsverzeichnis](#Inhaltsverzeichnis)"
      ],
      "text/plain": [
       "<IPython.core.display.Markdown object>"
      ]
     },
     "metadata": {},
     "output_type": "display_data"
    },
    {
     "data": {
      "text/html": [
       "<h4 id='Explizite und rekursive Bildungsgesetze'>==== Explizite und rekursive Bildungsgesetze ====</h4>"
      ],
      "text/plain": [
       "<IPython.core.display.HTML object>"
      ]
     },
     "metadata": {},
     "output_type": "display_data"
    },
    {
     "data": {
      "text/html": [
       "<h5>Seitenaufrufe des Artikels 'Mathe für Nicht-Freaks: Explizite und rekursive Bildungsgesetze für Folgen'</h5>"
      ],
      "text/plain": [
       "<IPython.core.display.HTML object>"
      ]
     },
     "metadata": {},
     "output_type": "display_data"
    },
    {
     "name": "stdout",
     "output_type": "stream",
     "text": [
      "2018:    30.439 ┬      -199 ( -1%)\n",
      "2017:    30.638 ┘      \n"
     ]
    },
    {
     "data": {
      "text/html": [
       "<h5>Bearbeitungen im Artikel 'Mathe für Nicht-Freaks: Explizite und rekursive Bildungsgesetze für Folgen'</h5>"
      ],
      "text/plain": [
       "<IPython.core.display.HTML object>"
      ]
     },
     "metadata": {},
     "output_type": "display_data"
    },
    {
     "name": "stdout",
     "output_type": "stream",
     "text": [
      "2018:         2 ┬       -49 (-96%)\n",
      "2017:        51 ┘      \n"
     ]
    },
    {
     "data": {
      "text/markdown": [
       "[Zurück zum Inhaltsverzeichnis](#Inhaltsverzeichnis)"
      ],
      "text/plain": [
       "<IPython.core.display.Markdown object>"
      ]
     },
     "metadata": {},
     "output_type": "display_data"
    },
    {
     "data": {
      "text/html": [
       "<h4 id='Beispiele und Eigenschaften'>==== Beispiele und Eigenschaften ====</h4>"
      ],
      "text/plain": [
       "<IPython.core.display.HTML object>"
      ]
     },
     "metadata": {},
     "output_type": "display_data"
    },
    {
     "data": {
      "text/html": [
       "<h5>Seitenaufrufe des Artikels 'Mathe für Nicht-Freaks: Beispiele und Eigenschaften von Folgen'</h5>"
      ],
      "text/plain": [
       "<IPython.core.display.HTML object>"
      ]
     },
     "metadata": {},
     "output_type": "display_data"
    },
    {
     "name": "stdout",
     "output_type": "stream",
     "text": [
      "2018:    15.534 ┬    +2.362 (+18%)\n",
      "2017:    13.172 ┘      \n"
     ]
    },
    {
     "data": {
      "text/html": [
       "<h5>Bearbeitungen im Artikel 'Mathe für Nicht-Freaks: Beispiele und Eigenschaften von Folgen'</h5>"
      ],
      "text/plain": [
       "<IPython.core.display.HTML object>"
      ]
     },
     "metadata": {},
     "output_type": "display_data"
    },
    {
     "name": "stdout",
     "output_type": "stream",
     "text": [
      "2018:        19 ┬       -49 (-72%)\n",
      "2017:        68 ┘      \n"
     ]
    },
    {
     "data": {
      "text/markdown": [
       "[Zurück zum Inhaltsverzeichnis](#Inhaltsverzeichnis)"
      ],
      "text/plain": [
       "<IPython.core.display.Markdown object>"
      ]
     },
     "metadata": {},
     "output_type": "display_data"
    },
    {
     "data": {
      "text/html": [
       "<h4 id='Aufgaben'>==== Aufgaben ====</h4>"
      ],
      "text/plain": [
       "<IPython.core.display.HTML object>"
      ]
     },
     "metadata": {},
     "output_type": "display_data"
    },
    {
     "data": {
      "text/html": [
       "<h5>Seitenaufrufe des Artikels 'Mathe für Nicht-Freaks: Aufgaben zu Folgen'</h5>"
      ],
      "text/plain": [
       "<IPython.core.display.HTML object>"
      ]
     },
     "metadata": {},
     "output_type": "display_data"
    },
    {
     "name": "stdout",
     "output_type": "stream",
     "text": [
      "2018:     2.228 ┬      +204 (+10%)\n",
      "2017:     2.024 ┘      \n"
     ]
    },
    {
     "data": {
      "text/html": [
       "<h5>Bearbeitungen im Artikel 'Mathe für Nicht-Freaks: Aufgaben zu Folgen'</h5>"
      ],
      "text/plain": [
       "<IPython.core.display.HTML object>"
      ]
     },
     "metadata": {},
     "output_type": "display_data"
    },
    {
     "name": "stdout",
     "output_type": "stream",
     "text": [
      "2018:         2 ┬        -5 (-71%)\n",
      "2017:         7 ┘      \n"
     ]
    },
    {
     "data": {
      "text/markdown": [
       "[Zurück zum Inhaltsverzeichnis](#Inhaltsverzeichnis)"
      ],
      "text/plain": [
       "<IPython.core.display.Markdown object>"
      ]
     },
     "metadata": {},
     "output_type": "display_data"
    },
    {
     "data": {
      "text/html": [
       "<h3 id='Konvergenz und Divergenz'>=== Konvergenz und Divergenz ===</h3>"
      ],
      "text/plain": [
       "<IPython.core.display.HTML object>"
      ]
     },
     "metadata": {},
     "output_type": "display_data"
    },
    {
     "data": {
      "text/markdown": [
       "[Zurück zum Inhaltsverzeichnis](#Inhaltsverzeichnis)"
      ],
      "text/plain": [
       "<IPython.core.display.Markdown object>"
      ]
     },
     "metadata": {},
     "output_type": "display_data"
    },
    {
     "data": {
      "text/html": [
       "<h4 id='Definition Grenzwert'>==== Definition Grenzwert ====</h4>"
      ],
      "text/plain": [
       "<IPython.core.display.HTML object>"
      ]
     },
     "metadata": {},
     "output_type": "display_data"
    },
    {
     "data": {
      "text/html": [
       "<h5>Seitenaufrufe des Artikels 'Mathe für Nicht-Freaks: Grenzwert: Konvergenz und Divergenz'</h5>"
      ],
      "text/plain": [
       "<IPython.core.display.HTML object>"
      ]
     },
     "metadata": {},
     "output_type": "display_data"
    },
    {
     "name": "stdout",
     "output_type": "stream",
     "text": [
      "2018:    62.127 ┬    +3.222 ( +5%)\n",
      "2017:    58.905 ┘      \n"
     ]
    },
    {
     "data": {
      "text/html": [
       "<h5>Bearbeitungen im Artikel 'Mathe für Nicht-Freaks: Grenzwert: Konvergenz und Divergenz'</h5>"
      ],
      "text/plain": [
       "<IPython.core.display.HTML object>"
      ]
     },
     "metadata": {},
     "output_type": "display_data"
    },
    {
     "name": "stdout",
     "output_type": "stream",
     "text": [
      "2018:         7 ┬       -76 (-92%)\n",
      "2017:        83 ┘      \n"
     ]
    },
    {
     "data": {
      "text/html": [
       "<h5>Vergleich der Seitenaufrufe zum Wikipedia-Artikel</h5>"
      ],
      "text/plain": [
       "<IPython.core.display.HTML object>"
      ]
     },
     "metadata": {},
     "output_type": "display_data"
    },
    {
     "name": "stdout",
     "output_type": "stream",
     "text": [
      "Wikipedia-Artikel: Grenzwert (Folge)\n",
      "Views 2018:     94.573 ┬   -15.832 (-14%)\n",
      "Views 2017:    110.405 ┘      \n",
      "\n",
      "MFNF / Wikipedia – 2018:  66%\n",
      "MFNF / Wikipedia – 2017:  53%\n"
     ]
    },
    {
     "data": {
      "text/markdown": [
       "[Zurück zum Inhaltsverzeichnis](#Inhaltsverzeichnis)"
      ],
      "text/plain": [
       "<IPython.core.display.Markdown object>"
      ]
     },
     "metadata": {},
     "output_type": "display_data"
    },
    {
     "data": {
      "text/html": [
       "<h4 id='Konvergenz und Divergenz beweisen'>==== Konvergenz und Divergenz beweisen ====</h4>"
      ],
      "text/plain": [
       "<IPython.core.display.HTML object>"
      ]
     },
     "metadata": {},
     "output_type": "display_data"
    },
    {
     "data": {
      "text/html": [
       "<h5>Seitenaufrufe des Artikels 'Mathe für Nicht-Freaks: Konvergenz und Divergenz beweisen'</h5>"
      ],
      "text/plain": [
       "<IPython.core.display.HTML object>"
      ]
     },
     "metadata": {},
     "output_type": "display_data"
    },
    {
     "name": "stdout",
     "output_type": "stream",
     "text": [
      "2018:    64.112 ┬   +10.796 (+20%)\n",
      "2017:    53.316 ┘      \n"
     ]
    },
    {
     "data": {
      "text/html": [
       "<h5>Bearbeitungen im Artikel 'Mathe für Nicht-Freaks: Konvergenz und Divergenz beweisen'</h5>"
      ],
      "text/plain": [
       "<IPython.core.display.HTML object>"
      ]
     },
     "metadata": {},
     "output_type": "display_data"
    },
    {
     "name": "stdout",
     "output_type": "stream",
     "text": [
      "2018:        14 ┬       -27 (-66%)\n",
      "2017:        41 ┘      \n"
     ]
    },
    {
     "data": {
      "text/markdown": [
       "[Zurück zum Inhaltsverzeichnis](#Inhaltsverzeichnis)"
      ],
      "text/plain": [
       "<IPython.core.display.Markdown object>"
      ]
     },
     "metadata": {},
     "output_type": "display_data"
    },
    {
     "data": {
      "text/html": [
       "<h4 id='Beispiele für Grenzwerte'>==== Beispiele für Grenzwerte ====</h4>"
      ],
      "text/plain": [
       "<IPython.core.display.HTML object>"
      ]
     },
     "metadata": {},
     "output_type": "display_data"
    },
    {
     "data": {
      "text/html": [
       "<h5>Seitenaufrufe des Artikels 'Mathe für Nicht-Freaks: Grenzwert: Beispiele'</h5>"
      ],
      "text/plain": [
       "<IPython.core.display.HTML object>"
      ]
     },
     "metadata": {},
     "output_type": "display_data"
    },
    {
     "name": "stdout",
     "output_type": "stream",
     "text": [
      "2018:    56.396 ┬   +10.931 (+24%)\n",
      "2017:    45.465 ┘      \n"
     ]
    },
    {
     "data": {
      "text/html": [
       "<h5>Bearbeitungen im Artikel 'Mathe für Nicht-Freaks: Grenzwert: Beispiele'</h5>"
      ],
      "text/plain": [
       "<IPython.core.display.HTML object>"
      ]
     },
     "metadata": {},
     "output_type": "display_data"
    },
    {
     "name": "stdout",
     "output_type": "stream",
     "text": [
      "2018:         2 ┬       -44 (-96%)\n",
      "2017:        46 ┘      \n"
     ]
    },
    {
     "data": {
      "text/markdown": [
       "[Zurück zum Inhaltsverzeichnis](#Inhaltsverzeichnis)"
      ],
      "text/plain": [
       "<IPython.core.display.Markdown object>"
      ]
     },
     "metadata": {},
     "output_type": "display_data"
    },
    {
     "data": {
      "text/html": [
       "<h4 id='Unbeschränkte Folgen divergieren'>==== Unbeschränkte Folgen divergieren ====</h4>"
      ],
      "text/plain": [
       "<IPython.core.display.HTML object>"
      ]
     },
     "metadata": {},
     "output_type": "display_data"
    },
    {
     "data": {
      "text/html": [
       "<h5>Seitenaufrufe des Artikels 'Mathe für Nicht-Freaks: Unbeschränkte Folgen divergieren'</h5>"
      ],
      "text/plain": [
       "<IPython.core.display.HTML object>"
      ]
     },
     "metadata": {},
     "output_type": "display_data"
    },
    {
     "name": "stdout",
     "output_type": "stream",
     "text": [
      "2018:     6.592 ┬      +601 (+10%)\n",
      "2017:     5.991 ┘      \n"
     ]
    },
    {
     "data": {
      "text/html": [
       "<h5>Bearbeitungen im Artikel 'Mathe für Nicht-Freaks: Unbeschränkte Folgen divergieren'</h5>"
      ],
      "text/plain": [
       "<IPython.core.display.HTML object>"
      ]
     },
     "metadata": {},
     "output_type": "display_data"
    },
    {
     "name": "stdout",
     "output_type": "stream",
     "text": [
      "2018:         1 ┬       -20 (-95%)\n",
      "2017:        21 ┘      \n"
     ]
    },
    {
     "data": {
      "text/markdown": [
       "[Zurück zum Inhaltsverzeichnis](#Inhaltsverzeichnis)"
      ],
      "text/plain": [
       "<IPython.core.display.Markdown object>"
      ]
     },
     "metadata": {},
     "output_type": "display_data"
    },
    {
     "data": {
      "text/html": [
       "<h4 id='Grenzwertsätze'>==== Grenzwertsätze ====</h4>"
      ],
      "text/plain": [
       "<IPython.core.display.HTML object>"
      ]
     },
     "metadata": {},
     "output_type": "display_data"
    },
    {
     "data": {
      "text/html": [
       "<h5>Seitenaufrufe des Artikels 'Mathe für Nicht-Freaks: Grenzwertsätze: Grenzwert von Folgen berechnen'</h5>"
      ],
      "text/plain": [
       "<IPython.core.display.HTML object>"
      ]
     },
     "metadata": {},
     "output_type": "display_data"
    },
    {
     "name": "stdout",
     "output_type": "stream",
     "text": [
      "2018:    47.329 ┬   +10.825 (+30%)\n",
      "2017:    36.504 ┘      \n"
     ]
    },
    {
     "data": {
      "text/html": [
       "<h5>Bearbeitungen im Artikel 'Mathe für Nicht-Freaks: Grenzwertsätze: Grenzwert von Folgen berechnen'</h5>"
      ],
      "text/plain": [
       "<IPython.core.display.HTML object>"
      ]
     },
     "metadata": {},
     "output_type": "display_data"
    },
    {
     "name": "stdout",
     "output_type": "stream",
     "text": [
      "2018:         7 ┬       -61 (-90%)\n",
      "2017:        68 ┘      \n"
     ]
    },
    {
     "data": {
      "text/markdown": [
       "[Zurück zum Inhaltsverzeichnis](#Inhaltsverzeichnis)"
      ],
      "text/plain": [
       "<IPython.core.display.Markdown object>"
      ]
     },
     "metadata": {},
     "output_type": "display_data"
    },
    {
     "data": {
      "text/html": [
       "<h4 id='Der Sandwichsatz'>==== Der Sandwichsatz ====</h4>"
      ],
      "text/plain": [
       "<IPython.core.display.HTML object>"
      ]
     },
     "metadata": {},
     "output_type": "display_data"
    },
    {
     "data": {
      "text/html": [
       "<h5>Seitenaufrufe des Artikels 'Mathe für Nicht-Freaks: Sandwichsatz, Einschnürungssatz, Einschließungssatz'</h5>"
      ],
      "text/plain": [
       "<IPython.core.display.HTML object>"
      ]
     },
     "metadata": {},
     "output_type": "display_data"
    },
    {
     "name": "stdout",
     "output_type": "stream",
     "text": [
      "2018:    12.724 ┬    +1.750 (+16%)\n",
      "2017:    10.974 ┘      \n"
     ]
    },
    {
     "data": {
      "text/html": [
       "<h5>Bearbeitungen im Artikel 'Mathe für Nicht-Freaks: Sandwichsatz, Einschnürungssatz, Einschließungssatz'</h5>"
      ],
      "text/plain": [
       "<IPython.core.display.HTML object>"
      ]
     },
     "metadata": {},
     "output_type": "display_data"
    },
    {
     "name": "stdout",
     "output_type": "stream",
     "text": [
      "2018:         4 ┬       -37 (-90%)\n",
      "2017:        41 ┘      \n"
     ]
    },
    {
     "data": {
      "text/html": [
       "<h5>Vergleich der Seitenaufrufe zum Wikipedia-Artikel</h5>"
      ],
      "text/plain": [
       "<IPython.core.display.HTML object>"
      ]
     },
     "metadata": {},
     "output_type": "display_data"
    },
    {
     "name": "stdout",
     "output_type": "stream",
     "text": [
      "Wikipedia-Artikel: Einschnürungssatz\n",
      "Views 2018:      9.642 ┬    -1.395 (-13%)\n",
      "Views 2017:     11.037 ┘      \n",
      "\n",
      "MFNF / Wikipedia – 2018: 132%\n",
      "MFNF / Wikipedia – 2017:  99%\n"
     ]
    },
    {
     "data": {
      "text/markdown": [
       "[Zurück zum Inhaltsverzeichnis](#Inhaltsverzeichnis)"
      ],
      "text/plain": [
       "<IPython.core.display.Markdown object>"
      ]
     },
     "metadata": {},
     "output_type": "display_data"
    },
    {
     "data": {
      "text/html": [
       "<h4 id='Monotoniekriterium'>==== Monotoniekriterium ====</h4>"
      ],
      "text/plain": [
       "<IPython.core.display.HTML object>"
      ]
     },
     "metadata": {},
     "output_type": "display_data"
    },
    {
     "data": {
      "text/html": [
       "<h5>Seitenaufrufe des Artikels 'Mathe für Nicht-Freaks: Monotoniekriterium für Folgen'</h5>"
      ],
      "text/plain": [
       "<IPython.core.display.HTML object>"
      ]
     },
     "metadata": {},
     "output_type": "display_data"
    },
    {
     "name": "stdout",
     "output_type": "stream",
     "text": [
      "2018:    12.369 ┬    +4.066 (+49%)\n",
      "2017:     8.303 ┘      \n"
     ]
    },
    {
     "data": {
      "text/html": [
       "<h5>Bearbeitungen im Artikel 'Mathe für Nicht-Freaks: Monotoniekriterium für Folgen'</h5>"
      ],
      "text/plain": [
       "<IPython.core.display.HTML object>"
      ]
     },
     "metadata": {},
     "output_type": "display_data"
    },
    {
     "name": "stdout",
     "output_type": "stream",
     "text": [
      "2018:         2 ┬        +0 ( +0%)\n",
      "2017:         2 ┘      \n"
     ]
    },
    {
     "data": {
      "text/markdown": [
       "[Zurück zum Inhaltsverzeichnis](#Inhaltsverzeichnis)"
      ],
      "text/plain": [
       "<IPython.core.display.Markdown object>"
      ]
     },
     "metadata": {},
     "output_type": "display_data"
    },
    {
     "data": {
      "text/html": [
       "<h4 id='Konvergenzbeweise rekursiver Folgen'>==== Konvergenzbeweise rekursiver Folgen ====</h4>"
      ],
      "text/plain": [
       "<IPython.core.display.HTML object>"
      ]
     },
     "metadata": {},
     "output_type": "display_data"
    },
    {
     "data": {
      "text/html": [
       "<h5>Seitenaufrufe des Artikels 'Mathe für Nicht-Freaks: Konvergenz rekursiver Folgen beweisen'</h5>"
      ],
      "text/plain": [
       "<IPython.core.display.HTML object>"
      ]
     },
     "metadata": {},
     "output_type": "display_data"
    },
    {
     "name": "stdout",
     "output_type": "stream",
     "text": [
      "2018:    26.085 ┬    +2.449 (+10%)\n",
      "2017:    23.636 ┘      \n"
     ]
    },
    {
     "data": {
      "text/html": [
       "<h5>Bearbeitungen im Artikel 'Mathe für Nicht-Freaks: Konvergenz rekursiver Folgen beweisen'</h5>"
      ],
      "text/plain": [
       "<IPython.core.display.HTML object>"
      ]
     },
     "metadata": {},
     "output_type": "display_data"
    },
    {
     "name": "stdout",
     "output_type": "stream",
     "text": [
      "2018:        10 ┬        -9 (-47%)\n",
      "2017:        19 ┘      \n"
     ]
    },
    {
     "data": {
      "text/markdown": [
       "[Zurück zum Inhaltsverzeichnis](#Inhaltsverzeichnis)"
      ],
      "text/plain": [
       "<IPython.core.display.Markdown object>"
      ]
     },
     "metadata": {},
     "output_type": "display_data"
    },
    {
     "data": {
      "text/html": [
       "<h4 id='Aufgaben'>==== Aufgaben ====</h4>"
      ],
      "text/plain": [
       "<IPython.core.display.HTML object>"
      ]
     },
     "metadata": {},
     "output_type": "display_data"
    },
    {
     "data": {
      "text/html": [
       "<h5>Seitenaufrufe des Artikels 'Mathe für Nicht-Freaks: Aufgaben zur Konvergenz und Divergenz'</h5>"
      ],
      "text/plain": [
       "<IPython.core.display.HTML object>"
      ]
     },
     "metadata": {},
     "output_type": "display_data"
    },
    {
     "name": "stdout",
     "output_type": "stream",
     "text": [
      "2018:    18.513 ┬   +10.268 (+125%)\n",
      "2017:     8.245 ┘      \n"
     ]
    },
    {
     "data": {
      "text/html": [
       "<h5>Bearbeitungen im Artikel 'Mathe für Nicht-Freaks: Aufgaben zur Konvergenz und Divergenz'</h5>"
      ],
      "text/plain": [
       "<IPython.core.display.HTML object>"
      ]
     },
     "metadata": {},
     "output_type": "display_data"
    },
    {
     "name": "stdout",
     "output_type": "stream",
     "text": [
      "2018:         7 ┬        -6 (-46%)\n",
      "2017:        13 ┘      \n"
     ]
    },
    {
     "data": {
      "text/markdown": [
       "[Zurück zum Inhaltsverzeichnis](#Inhaltsverzeichnis)"
      ],
      "text/plain": [
       "<IPython.core.display.Markdown object>"
      ]
     },
     "metadata": {},
     "output_type": "display_data"
    },
    {
     "data": {
      "text/html": [
       "<h3 id='Teilfolgen, Häufungspunkte und Cauchy-Folgen'>=== Teilfolgen, Häufungspunkte und Cauchy-Folgen ===</h3>"
      ],
      "text/plain": [
       "<IPython.core.display.HTML object>"
      ]
     },
     "metadata": {},
     "output_type": "display_data"
    },
    {
     "data": {
      "text/markdown": [
       "[Zurück zum Inhaltsverzeichnis](#Inhaltsverzeichnis)"
      ],
      "text/plain": [
       "<IPython.core.display.Markdown object>"
      ]
     },
     "metadata": {},
     "output_type": "display_data"
    },
    {
     "data": {
      "text/html": [
       "<h4 id='Teilfolgen'>==== Teilfolgen ====</h4>"
      ],
      "text/plain": [
       "<IPython.core.display.HTML object>"
      ]
     },
     "metadata": {},
     "output_type": "display_data"
    },
    {
     "data": {
      "text/html": [
       "<h5>Seitenaufrufe des Artikels 'Mathe für Nicht-Freaks: Teilfolge'</h5>"
      ],
      "text/plain": [
       "<IPython.core.display.HTML object>"
      ]
     },
     "metadata": {},
     "output_type": "display_data"
    },
    {
     "name": "stdout",
     "output_type": "stream",
     "text": [
      "2018:    12.073 ┬      +418 ( +4%)\n",
      "2017:    11.655 ┘      \n"
     ]
    },
    {
     "data": {
      "text/html": [
       "<h5>Bearbeitungen im Artikel 'Mathe für Nicht-Freaks: Teilfolge'</h5>"
      ],
      "text/plain": [
       "<IPython.core.display.HTML object>"
      ]
     },
     "metadata": {},
     "output_type": "display_data"
    },
    {
     "name": "stdout",
     "output_type": "stream",
     "text": [
      "2018:         9 ┬       -13 (-59%)\n",
      "2017:        22 ┘      \n"
     ]
    },
    {
     "data": {
      "text/html": [
       "<h5>Vergleich der Seitenaufrufe zum Wikipedia-Artikel</h5>"
      ],
      "text/plain": [
       "<IPython.core.display.HTML object>"
      ]
     },
     "metadata": {},
     "output_type": "display_data"
    },
    {
     "name": "stdout",
     "output_type": "stream",
     "text": [
      "Wikipedia-Artikel: Teilfolge\n",
      "Views 2018:      8.616 ┬        +0 ( +0%)\n",
      "Views 2017:      8.616 ┘      \n",
      "\n",
      "MFNF / Wikipedia – 2018: 140%\n",
      "MFNF / Wikipedia – 2017: 135%\n"
     ]
    },
    {
     "data": {
      "text/markdown": [
       "[Zurück zum Inhaltsverzeichnis](#Inhaltsverzeichnis)"
      ],
      "text/plain": [
       "<IPython.core.display.Markdown object>"
      ]
     },
     "metadata": {},
     "output_type": "display_data"
    },
    {
     "data": {
      "text/html": [
       "<h4 id='Häufungspunkte von Folgen'>==== Häufungspunkte von Folgen ====</h4>"
      ],
      "text/plain": [
       "<IPython.core.display.HTML object>"
      ]
     },
     "metadata": {},
     "output_type": "display_data"
    },
    {
     "data": {
      "text/html": [
       "<h5>Seitenaufrufe des Artikels 'Mathe für Nicht-Freaks: Häufungspunkt einer Folge'</h5>"
      ],
      "text/plain": [
       "<IPython.core.display.HTML object>"
      ]
     },
     "metadata": {},
     "output_type": "display_data"
    },
    {
     "name": "stdout",
     "output_type": "stream",
     "text": [
      "2018:    19.339 ┬    -1.616 ( -8%)\n",
      "2017:    20.955 ┘      \n"
     ]
    },
    {
     "data": {
      "text/html": [
       "<h5>Bearbeitungen im Artikel 'Mathe für Nicht-Freaks: Häufungspunkt einer Folge'</h5>"
      ],
      "text/plain": [
       "<IPython.core.display.HTML object>"
      ]
     },
     "metadata": {},
     "output_type": "display_data"
    },
    {
     "name": "stdout",
     "output_type": "stream",
     "text": [
      "2018:         0 ┬       -42 (-100%)\n",
      "2017:        42 ┘      \n"
     ]
    },
    {
     "data": {
      "text/html": [
       "<h5>Vergleich der Seitenaufrufe zum Wikipedia-Artikel</h5>"
      ],
      "text/plain": [
       "<IPython.core.display.HTML object>"
      ]
     },
     "metadata": {},
     "output_type": "display_data"
    },
    {
     "name": "stdout",
     "output_type": "stream",
     "text": [
      "Wikipedia-Artikel: Häufungspunkt\n",
      "Views 2018:     28.279 ┬      -830 ( -3%)\n",
      "Views 2017:     29.109 ┘      \n",
      "\n",
      "MFNF / Wikipedia – 2018:  68%\n",
      "MFNF / Wikipedia – 2017:  72%\n"
     ]
    },
    {
     "data": {
      "text/markdown": [
       "[Zurück zum Inhaltsverzeichnis](#Inhaltsverzeichnis)"
      ],
      "text/plain": [
       "<IPython.core.display.Markdown object>"
      ]
     },
     "metadata": {},
     "output_type": "display_data"
    },
    {
     "data": {
      "text/html": [
       "<h4 id='Häufungs- und Berührpunkte von Mengen'>==== Häufungs- und Berührpunkte von Mengen ====</h4>"
      ],
      "text/plain": [
       "<IPython.core.display.HTML object>"
      ]
     },
     "metadata": {},
     "output_type": "display_data"
    },
    {
     "data": {
      "text/html": [
       "<h5>Seitenaufrufe des Artikels 'Mathe für Nicht-Freaks: Häufungspunkt und Berührpunkt einer Menge'</h5>"
      ],
      "text/plain": [
       "<IPython.core.display.HTML object>"
      ]
     },
     "metadata": {},
     "output_type": "display_data"
    },
    {
     "name": "stdout",
     "output_type": "stream",
     "text": [
      "2018:     6.606 ┬      -299 ( -4%)\n",
      "2017:     6.905 ┘      \n"
     ]
    },
    {
     "data": {
      "text/html": [
       "<h5>Bearbeitungen im Artikel 'Mathe für Nicht-Freaks: Häufungspunkt und Berührpunkt einer Menge'</h5>"
      ],
      "text/plain": [
       "<IPython.core.display.HTML object>"
      ]
     },
     "metadata": {},
     "output_type": "display_data"
    },
    {
     "name": "stdout",
     "output_type": "stream",
     "text": [
      "2018:         1 ┬        -9 (-90%)\n",
      "2017:        10 ┘      \n"
     ]
    },
    {
     "data": {
      "text/markdown": [
       "[Zurück zum Inhaltsverzeichnis](#Inhaltsverzeichnis)"
      ],
      "text/plain": [
       "<IPython.core.display.Markdown object>"
      ]
     },
     "metadata": {},
     "output_type": "display_data"
    },
    {
     "data": {
      "text/html": [
       "<h4 id='Satz von Bolzano-Weierstraß'>==== Satz von Bolzano-Weierstraß ====</h4>"
      ],
      "text/plain": [
       "<IPython.core.display.HTML object>"
      ]
     },
     "metadata": {},
     "output_type": "display_data"
    },
    {
     "data": {
      "text/html": [
       "<h5>Seitenaufrufe des Artikels 'Mathe für Nicht-Freaks: Satz von Bolzano-Weierstraß'</h5>"
      ],
      "text/plain": [
       "<IPython.core.display.HTML object>"
      ]
     },
     "metadata": {},
     "output_type": "display_data"
    },
    {
     "name": "stdout",
     "output_type": "stream",
     "text": [
      "2018:     8.994 ┬      +575 ( +7%)\n",
      "2017:     8.419 ┘      \n"
     ]
    },
    {
     "data": {
      "text/html": [
       "<h5>Bearbeitungen im Artikel 'Mathe für Nicht-Freaks: Satz von Bolzano-Weierstraß'</h5>"
      ],
      "text/plain": [
       "<IPython.core.display.HTML object>"
      ]
     },
     "metadata": {},
     "output_type": "display_data"
    },
    {
     "name": "stdout",
     "output_type": "stream",
     "text": [
      "2018:         7 ┬       -12 (-63%)\n",
      "2017:        19 ┘      \n"
     ]
    },
    {
     "data": {
      "text/html": [
       "<h5>Vergleich der Seitenaufrufe zum Wikipedia-Artikel</h5>"
      ],
      "text/plain": [
       "<IPython.core.display.HTML object>"
      ]
     },
     "metadata": {},
     "output_type": "display_data"
    },
    {
     "name": "stdout",
     "output_type": "stream",
     "text": [
      "Wikipedia-Artikel: Satz von Bolzano-Weierstraß\n",
      "Views 2018:     24.430 ┬      +283 ( +1%)\n",
      "Views 2017:     24.147 ┘      \n",
      "\n",
      "MFNF / Wikipedia – 2018:  37%\n",
      "MFNF / Wikipedia – 2017:  35%\n"
     ]
    },
    {
     "data": {
      "text/markdown": [
       "[Zurück zum Inhaltsverzeichnis](#Inhaltsverzeichnis)"
      ],
      "text/plain": [
       "<IPython.core.display.Markdown object>"
      ]
     },
     "metadata": {},
     "output_type": "display_data"
    },
    {
     "data": {
      "text/html": [
       "<h4 id='Bestimmte Divergenz'>==== Bestimmte Divergenz ====</h4>"
      ],
      "text/plain": [
       "<IPython.core.display.HTML object>"
      ]
     },
     "metadata": {},
     "output_type": "display_data"
    },
    {
     "data": {
      "text/html": [
       "<h5>Seitenaufrufe des Artikels 'Mathe für Nicht-Freaks: Bestimmte Divergenz, uneigentliche Konvergenz'</h5>"
      ],
      "text/plain": [
       "<IPython.core.display.HTML object>"
      ]
     },
     "metadata": {},
     "output_type": "display_data"
    },
    {
     "name": "stdout",
     "output_type": "stream",
     "text": [
      "2018:    10.398 ┬    +3.168 (+44%)\n",
      "2017:     7.230 ┘      \n"
     ]
    },
    {
     "data": {
      "text/html": [
       "<h5>Bearbeitungen im Artikel 'Mathe für Nicht-Freaks: Bestimmte Divergenz, uneigentliche Konvergenz'</h5>"
      ],
      "text/plain": [
       "<IPython.core.display.HTML object>"
      ]
     },
     "metadata": {},
     "output_type": "display_data"
    },
    {
     "name": "stdout",
     "output_type": "stream",
     "text": [
      "2018:         5 ┬       -11 (-69%)\n",
      "2017:        16 ┘      \n"
     ]
    },
    {
     "data": {
      "text/markdown": [
       "[Zurück zum Inhaltsverzeichnis](#Inhaltsverzeichnis)"
      ],
      "text/plain": [
       "<IPython.core.display.Markdown object>"
      ]
     },
     "metadata": {},
     "output_type": "display_data"
    },
    {
     "data": {
      "text/html": [
       "<h4 id='Bestimmte Divergenz: Regeln'>==== Bestimmte Divergenz: Regeln ====</h4>"
      ],
      "text/plain": [
       "<IPython.core.display.HTML object>"
      ]
     },
     "metadata": {},
     "output_type": "display_data"
    },
    {
     "data": {
      "text/html": [
       "<h5>Seitenaufrufe des Artikels 'Mathe für Nicht-Freaks: Rechenregeln der bestimmten Divergenz'</h5>"
      ],
      "text/plain": [
       "<IPython.core.display.HTML object>"
      ]
     },
     "metadata": {},
     "output_type": "display_data"
    },
    {
     "name": "stdout",
     "output_type": "stream",
     "text": [
      "2018:     1.944 ┬      +757 (+64%)\n",
      "2017:     1.187 ┘      \n"
     ]
    },
    {
     "data": {
      "text/html": [
       "<h5>Bearbeitungen im Artikel 'Mathe für Nicht-Freaks: Rechenregeln der bestimmten Divergenz'</h5>"
      ],
      "text/plain": [
       "<IPython.core.display.HTML object>"
      ]
     },
     "metadata": {},
     "output_type": "display_data"
    },
    {
     "name": "stdout",
     "output_type": "stream",
     "text": [
      "2018:         3 ┬        -1 (-25%)\n",
      "2017:         4 ┘      \n"
     ]
    },
    {
     "data": {
      "text/markdown": [
       "[Zurück zum Inhaltsverzeichnis](#Inhaltsverzeichnis)"
      ],
      "text/plain": [
       "<IPython.core.display.Markdown object>"
      ]
     },
     "metadata": {},
     "output_type": "display_data"
    },
    {
     "data": {
      "text/html": [
       "<h4 id='Lim sup und Lim inf'>==== Lim sup und Lim inf ====</h4>"
      ],
      "text/plain": [
       "<IPython.core.display.HTML object>"
      ]
     },
     "metadata": {},
     "output_type": "display_data"
    },
    {
     "data": {
      "text/html": [
       "<h5>Seitenaufrufe des Artikels 'Mathe für Nicht-Freaks: Lim sup und Lim inf'</h5>"
      ],
      "text/plain": [
       "<IPython.core.display.HTML object>"
      ]
     },
     "metadata": {},
     "output_type": "display_data"
    },
    {
     "name": "stdout",
     "output_type": "stream",
     "text": [
      "2018:    24.039 ┬    +2.562 (+12%)\n",
      "2017:    21.477 ┘      \n"
     ]
    },
    {
     "data": {
      "text/html": [
       "<h5>Bearbeitungen im Artikel 'Mathe für Nicht-Freaks: Lim sup und Lim inf'</h5>"
      ],
      "text/plain": [
       "<IPython.core.display.HTML object>"
      ]
     },
     "metadata": {},
     "output_type": "display_data"
    },
    {
     "name": "stdout",
     "output_type": "stream",
     "text": [
      "2018:        14 ┬       -56 (-80%)\n",
      "2017:        70 ┘      \n"
     ]
    },
    {
     "data": {
      "text/html": [
       "<h5>Vergleich der Seitenaufrufe zum Wikipedia-Artikel</h5>"
      ],
      "text/plain": [
       "<IPython.core.display.HTML object>"
      ]
     },
     "metadata": {},
     "output_type": "display_data"
    },
    {
     "name": "stdout",
     "output_type": "stream",
     "text": [
      "Wikipedia-Artikel: Limes superior und Limes inferior\n",
      "Views 2018:     34.843 ┬      -156 ( -0%)\n",
      "Views 2017:     34.999 ┘      \n",
      "\n",
      "MFNF / Wikipedia – 2018:  69%\n",
      "MFNF / Wikipedia – 2017:  61%\n"
     ]
    },
    {
     "data": {
      "text/markdown": [
       "[Zurück zum Inhaltsverzeichnis](#Inhaltsverzeichnis)"
      ],
      "text/plain": [
       "<IPython.core.display.Markdown object>"
      ]
     },
     "metadata": {},
     "output_type": "display_data"
    },
    {
     "data": {
      "text/html": [
       "<h4 id='Cauchy-Folgen'>==== Cauchy-Folgen ====</h4>"
      ],
      "text/plain": [
       "<IPython.core.display.HTML object>"
      ]
     },
     "metadata": {},
     "output_type": "display_data"
    },
    {
     "data": {
      "text/html": [
       "<h5>Seitenaufrufe des Artikels 'Mathe für Nicht-Freaks: Cauchy-Folgen und das Cauchy-Kriterium'</h5>"
      ],
      "text/plain": [
       "<IPython.core.display.HTML object>"
      ]
     },
     "metadata": {},
     "output_type": "display_data"
    },
    {
     "name": "stdout",
     "output_type": "stream",
     "text": [
      "2018:    25.434 ┬    +2.857 (+13%)\n",
      "2017:    22.577 ┘      \n"
     ]
    },
    {
     "data": {
      "text/html": [
       "<h5>Bearbeitungen im Artikel 'Mathe für Nicht-Freaks: Cauchy-Folgen und das Cauchy-Kriterium'</h5>"
      ],
      "text/plain": [
       "<IPython.core.display.HTML object>"
      ]
     },
     "metadata": {},
     "output_type": "display_data"
    },
    {
     "name": "stdout",
     "output_type": "stream",
     "text": [
      "2018:         7 ┬       -15 (-68%)\n",
      "2017:        22 ┘      \n"
     ]
    },
    {
     "data": {
      "text/html": [
       "<h5>Vergleich der Seitenaufrufe zum Wikipedia-Artikel</h5>"
      ],
      "text/plain": [
       "<IPython.core.display.HTML object>"
      ]
     },
     "metadata": {},
     "output_type": "display_data"
    },
    {
     "name": "stdout",
     "output_type": "stream",
     "text": [
      "Wikipedia-Artikel: Cauchy-Folge\n",
      "Views 2018:     39.495 ┬    +2.077 ( +6%)\n",
      "Views 2017:     37.418 ┘      \n",
      "\n",
      "MFNF / Wikipedia – 2018:  64%\n",
      "MFNF / Wikipedia – 2017:  60%\n"
     ]
    },
    {
     "data": {
      "text/markdown": [
       "[Zurück zum Inhaltsverzeichnis](#Inhaltsverzeichnis)"
      ],
      "text/plain": [
       "<IPython.core.display.Markdown object>"
      ]
     },
     "metadata": {},
     "output_type": "display_data"
    },
    {
     "data": {
      "text/html": [
       "<h4 id='Aufgaben'>==== Aufgaben ====</h4>"
      ],
      "text/plain": [
       "<IPython.core.display.HTML object>"
      ]
     },
     "metadata": {},
     "output_type": "display_data"
    },
    {
     "data": {
      "text/html": [
       "<h5>Seitenaufrufe des Artikels 'Mathe für Nicht-Freaks: Aufgaben zu Teilfolgen, Häufungspunkte und Cauchy-Folgen'</h5>"
      ],
      "text/plain": [
       "<IPython.core.display.HTML object>"
      ]
     },
     "metadata": {},
     "output_type": "display_data"
    },
    {
     "name": "stdout",
     "output_type": "stream",
     "text": [
      "2018:     3.312 ┬    +1.331 (+67%)\n",
      "2017:     1.981 ┘      \n"
     ]
    },
    {
     "data": {
      "text/html": [
       "<h5>Bearbeitungen im Artikel 'Mathe für Nicht-Freaks: Aufgaben zu Teilfolgen, Häufungspunkte und Cauchy-Folgen'</h5>"
      ],
      "text/plain": [
       "<IPython.core.display.HTML object>"
      ]
     },
     "metadata": {},
     "output_type": "display_data"
    },
    {
     "name": "stdout",
     "output_type": "stream",
     "text": [
      "2018:        11 ┬        -2 (-15%)\n",
      "2017:        13 ┘      \n"
     ]
    },
    {
     "data": {
      "text/markdown": [
       "[Zurück zum Inhaltsverzeichnis](#Inhaltsverzeichnis)"
      ],
      "text/plain": [
       "<IPython.core.display.Markdown object>"
      ]
     },
     "metadata": {},
     "output_type": "display_data"
    },
    {
     "data": {
      "text/html": [
       "<h3 id='Reihen'>=== Reihen ===</h3>"
      ],
      "text/plain": [
       "<IPython.core.display.HTML object>"
      ]
     },
     "metadata": {},
     "output_type": "display_data"
    },
    {
     "data": {
      "text/markdown": [
       "[Zurück zum Inhaltsverzeichnis](#Inhaltsverzeichnis)"
      ],
      "text/plain": [
       "<IPython.core.display.Markdown object>"
      ]
     },
     "metadata": {},
     "output_type": "display_data"
    },
    {
     "data": {
      "text/html": [
       "<h4 id='Begriff der Reihe'>==== Begriff der Reihe ====</h4>"
      ],
      "text/plain": [
       "<IPython.core.display.HTML object>"
      ]
     },
     "metadata": {},
     "output_type": "display_data"
    },
    {
     "data": {
      "text/html": [
       "<h5>Seitenaufrufe des Artikels 'Mathe für Nicht-Freaks: Reihe'</h5>"
      ],
      "text/plain": [
       "<IPython.core.display.HTML object>"
      ]
     },
     "metadata": {},
     "output_type": "display_data"
    },
    {
     "name": "stdout",
     "output_type": "stream",
     "text": [
      "2018:    25.564 ┬    +9.329 (+57%)\n",
      "2017:    16.235 ┘      \n"
     ]
    },
    {
     "data": {
      "text/html": [
       "<h5>Bearbeitungen im Artikel 'Mathe für Nicht-Freaks: Reihe'</h5>"
      ],
      "text/plain": [
       "<IPython.core.display.HTML object>"
      ]
     },
     "metadata": {},
     "output_type": "display_data"
    },
    {
     "name": "stdout",
     "output_type": "stream",
     "text": [
      "2018:        19 ┬       -41 (-68%)\n",
      "2017:        60 ┘      \n"
     ]
    },
    {
     "data": {
      "text/html": [
       "<h5>Vergleich der Seitenaufrufe zum Wikipedia-Artikel</h5>"
      ],
      "text/plain": [
       "<IPython.core.display.HTML object>"
      ]
     },
     "metadata": {},
     "output_type": "display_data"
    },
    {
     "name": "stdout",
     "output_type": "stream",
     "text": [
      "Wikipedia-Artikel: Reihe (Mathematik)\n",
      "Views 2018:     76.480 ┬    -7.953 ( -9%)\n",
      "Views 2017:     84.433 ┘      \n",
      "\n",
      "MFNF / Wikipedia – 2018:  33%\n",
      "MFNF / Wikipedia – 2017:  19%\n"
     ]
    },
    {
     "data": {
      "text/markdown": [
       "[Zurück zum Inhaltsverzeichnis](#Inhaltsverzeichnis)"
      ],
      "text/plain": [
       "<IPython.core.display.Markdown object>"
      ]
     },
     "metadata": {},
     "output_type": "display_data"
    },
    {
     "data": {
      "text/html": [
       "<h4 id='Rechenregeln für Reihen'>==== Rechenregeln für Reihen ====</h4>"
      ],
      "text/plain": [
       "<IPython.core.display.HTML object>"
      ]
     },
     "metadata": {},
     "output_type": "display_data"
    },
    {
     "data": {
      "text/html": [
       "<h5>Seitenaufrufe des Artikels 'Mathe für Nicht-Freaks: Rechenregeln für Reihen'</h5>"
      ],
      "text/plain": [
       "<IPython.core.display.HTML object>"
      ]
     },
     "metadata": {},
     "output_type": "display_data"
    },
    {
     "name": "stdout",
     "output_type": "stream",
     "text": [
      "2018:    13.282 ┬    +4.548 (+52%)\n",
      "2017:     8.734 ┘      \n"
     ]
    },
    {
     "data": {
      "text/html": [
       "<h5>Bearbeitungen im Artikel 'Mathe für Nicht-Freaks: Rechenregeln für Reihen'</h5>"
      ],
      "text/plain": [
       "<IPython.core.display.HTML object>"
      ]
     },
     "metadata": {},
     "output_type": "display_data"
    },
    {
     "name": "stdout",
     "output_type": "stream",
     "text": [
      "2018:        21 ┬        -3 (-12%)\n",
      "2017:        24 ┘      \n"
     ]
    },
    {
     "data": {
      "text/markdown": [
       "[Zurück zum Inhaltsverzeichnis](#Inhaltsverzeichnis)"
      ],
      "text/plain": [
       "<IPython.core.display.Markdown object>"
      ]
     },
     "metadata": {},
     "output_type": "display_data"
    },
    {
     "data": {
      "text/html": [
       "<h4 id='Teleskopsumme und Teleskopreihe'>==== Teleskopsumme und Teleskopreihe ====</h4>"
      ],
      "text/plain": [
       "<IPython.core.display.HTML object>"
      ]
     },
     "metadata": {},
     "output_type": "display_data"
    },
    {
     "data": {
      "text/html": [
       "<h5>Seitenaufrufe des Artikels 'Mathe für Nicht-Freaks: Teleskopsumme und Teleskopreihe'</h5>"
      ],
      "text/plain": [
       "<IPython.core.display.HTML object>"
      ]
     },
     "metadata": {},
     "output_type": "display_data"
    },
    {
     "name": "stdout",
     "output_type": "stream",
     "text": [
      "2018:    15.727 ┬    +4.549 (+41%)\n",
      "2017:    11.178 ┘      \n"
     ]
    },
    {
     "data": {
      "text/html": [
       "<h5>Bearbeitungen im Artikel 'Mathe für Nicht-Freaks: Teleskopsumme und Teleskopreihe'</h5>"
      ],
      "text/plain": [
       "<IPython.core.display.HTML object>"
      ]
     },
     "metadata": {},
     "output_type": "display_data"
    },
    {
     "name": "stdout",
     "output_type": "stream",
     "text": [
      "2018:        25 ┬        -5 (-17%)\n",
      "2017:        30 ┘      \n"
     ]
    },
    {
     "data": {
      "text/html": [
       "<h5>Vergleich der Seitenaufrufe zum Wikipedia-Artikel</h5>"
      ],
      "text/plain": [
       "<IPython.core.display.HTML object>"
      ]
     },
     "metadata": {},
     "output_type": "display_data"
    },
    {
     "name": "stdout",
     "output_type": "stream",
     "text": [
      "Wikipedia-Artikel: Teleskopsumme\n",
      "Views 2018:     17.747 ┬      +815 ( +5%)\n",
      "Views 2017:     16.932 ┘      \n",
      "\n",
      "MFNF / Wikipedia – 2018:  89%\n",
      "MFNF / Wikipedia – 2017:  66%\n"
     ]
    },
    {
     "data": {
      "text/markdown": [
       "[Zurück zum Inhaltsverzeichnis](#Inhaltsverzeichnis)"
      ],
      "text/plain": [
       "<IPython.core.display.Markdown object>"
      ]
     },
     "metadata": {},
     "output_type": "display_data"
    },
    {
     "data": {
      "text/html": [
       "<h4 id='Geometrische Reihe'>==== Geometrische Reihe ====</h4>"
      ],
      "text/plain": [
       "<IPython.core.display.HTML object>"
      ]
     },
     "metadata": {},
     "output_type": "display_data"
    },
    {
     "data": {
      "text/html": [
       "<h5>Seitenaufrufe des Artikels 'Mathe für Nicht-Freaks: Geometrische Reihe'</h5>"
      ],
      "text/plain": [
       "<IPython.core.display.HTML object>"
      ]
     },
     "metadata": {},
     "output_type": "display_data"
    },
    {
     "name": "stdout",
     "output_type": "stream",
     "text": [
      "2018:    66.952 ┬   +12.034 (+22%)\n",
      "2017:    54.918 ┘      \n"
     ]
    },
    {
     "data": {
      "text/html": [
       "<h5>Bearbeitungen im Artikel 'Mathe für Nicht-Freaks: Geometrische Reihe'</h5>"
      ],
      "text/plain": [
       "<IPython.core.display.HTML object>"
      ]
     },
     "metadata": {},
     "output_type": "display_data"
    },
    {
     "name": "stdout",
     "output_type": "stream",
     "text": [
      "2018:        22 ┬        -9 (-29%)\n",
      "2017:        31 ┘      \n"
     ]
    },
    {
     "data": {
      "text/html": [
       "<h5>Vergleich der Seitenaufrufe zum Wikipedia-Artikel</h5>"
      ],
      "text/plain": [
       "<IPython.core.display.HTML object>"
      ]
     },
     "metadata": {},
     "output_type": "display_data"
    },
    {
     "name": "stdout",
     "output_type": "stream",
     "text": [
      "Wikipedia-Artikel: Geometrische Reihe\n",
      "Views 2018:    234.314 ┬    -3.069 ( -1%)\n",
      "Views 2017:    237.383 ┘      \n",
      "\n",
      "MFNF / Wikipedia – 2018:  29%\n",
      "MFNF / Wikipedia – 2017:  23%\n"
     ]
    },
    {
     "data": {
      "text/markdown": [
       "[Zurück zum Inhaltsverzeichnis](#Inhaltsverzeichnis)"
      ],
      "text/plain": [
       "<IPython.core.display.Markdown object>"
      ]
     },
     "metadata": {},
     "output_type": "display_data"
    },
    {
     "data": {
      "text/html": [
       "<h4 id='Harmonische Reihe'>==== Harmonische Reihe ====</h4>"
      ],
      "text/plain": [
       "<IPython.core.display.HTML object>"
      ]
     },
     "metadata": {},
     "output_type": "display_data"
    },
    {
     "data": {
      "text/html": [
       "<h5>Seitenaufrufe des Artikels 'Mathe für Nicht-Freaks: Harmonische Reihe'</h5>"
      ],
      "text/plain": [
       "<IPython.core.display.HTML object>"
      ]
     },
     "metadata": {},
     "output_type": "display_data"
    },
    {
     "name": "stdout",
     "output_type": "stream",
     "text": [
      "2018:    27.712 ┬   +10.058 (+57%)\n",
      "2017:    17.654 ┘      \n"
     ]
    },
    {
     "data": {
      "text/html": [
       "<h5>Bearbeitungen im Artikel 'Mathe für Nicht-Freaks: Harmonische Reihe'</h5>"
      ],
      "text/plain": [
       "<IPython.core.display.HTML object>"
      ]
     },
     "metadata": {},
     "output_type": "display_data"
    },
    {
     "name": "stdout",
     "output_type": "stream",
     "text": [
      "2018:        34 ┬       +13 (+62%)\n",
      "2017:        21 ┘      \n"
     ]
    },
    {
     "data": {
      "text/html": [
       "<h5>Vergleich der Seitenaufrufe zum Wikipedia-Artikel</h5>"
      ],
      "text/plain": [
       "<IPython.core.display.HTML object>"
      ]
     },
     "metadata": {},
     "output_type": "display_data"
    },
    {
     "name": "stdout",
     "output_type": "stream",
     "text": [
      "Wikipedia-Artikel: Harmonische Reihe\n",
      "Views 2018:     86.718 ┬    +5.291 ( +6%)\n",
      "Views 2017:     81.427 ┘      \n",
      "\n",
      "MFNF / Wikipedia – 2018:  32%\n",
      "MFNF / Wikipedia – 2017:  22%\n"
     ]
    },
    {
     "data": {
      "text/markdown": [
       "[Zurück zum Inhaltsverzeichnis](#Inhaltsverzeichnis)"
      ],
      "text/plain": [
       "<IPython.core.display.Markdown object>"
      ]
     },
     "metadata": {},
     "output_type": "display_data"
    },
    {
     "data": {
      "text/html": [
       "<h4 id='e-Reihe'>==== e-Reihe ====</h4>"
      ],
      "text/plain": [
       "<IPython.core.display.HTML object>"
      ]
     },
     "metadata": {},
     "output_type": "display_data"
    },
    {
     "data": {
      "text/html": [
       "<h5>Seitenaufrufe des Artikels 'Mathe für Nicht-Freaks: e-Reihe'</h5>"
      ],
      "text/plain": [
       "<IPython.core.display.HTML object>"
      ]
     },
     "metadata": {},
     "output_type": "display_data"
    },
    {
     "name": "stdout",
     "output_type": "stream",
     "text": [
      "2018:    13.486 ┬    +8.650 (+179%)\n",
      "2017:     4.836 ┘      \n"
     ]
    },
    {
     "data": {
      "text/html": [
       "<h5>Bearbeitungen im Artikel 'Mathe für Nicht-Freaks: e-Reihe'</h5>"
      ],
      "text/plain": [
       "<IPython.core.display.HTML object>"
      ]
     },
     "metadata": {},
     "output_type": "display_data"
    },
    {
     "name": "stdout",
     "output_type": "stream",
     "text": [
      "2018:         0 ┬        -6 (-100%)\n",
      "2017:         6 ┘      \n"
     ]
    },
    {
     "data": {
      "text/markdown": [
       "[Zurück zum Inhaltsverzeichnis](#Inhaltsverzeichnis)"
      ],
      "text/plain": [
       "<IPython.core.display.Markdown object>"
      ]
     },
     "metadata": {},
     "output_type": "display_data"
    },
    {
     "data": {
      "text/html": [
       "<h4 id='Absolute Konvergenz einer Reihe'>==== Absolute Konvergenz einer Reihe ====</h4>"
      ],
      "text/plain": [
       "<IPython.core.display.HTML object>"
      ]
     },
     "metadata": {},
     "output_type": "display_data"
    },
    {
     "data": {
      "text/html": [
       "<h5>Seitenaufrufe des Artikels 'Mathe für Nicht-Freaks: Absolute Konvergenz einer Reihe'</h5>"
      ],
      "text/plain": [
       "<IPython.core.display.HTML object>"
      ]
     },
     "metadata": {},
     "output_type": "display_data"
    },
    {
     "name": "stdout",
     "output_type": "stream",
     "text": [
      "2018:    18.100 ┬    +6.210 (+52%)\n",
      "2017:    11.890 ┘      \n"
     ]
    },
    {
     "data": {
      "text/html": [
       "<h5>Bearbeitungen im Artikel 'Mathe für Nicht-Freaks: Absolute Konvergenz einer Reihe'</h5>"
      ],
      "text/plain": [
       "<IPython.core.display.HTML object>"
      ]
     },
     "metadata": {},
     "output_type": "display_data"
    },
    {
     "name": "stdout",
     "output_type": "stream",
     "text": [
      "2018:         3 ┬       -17 (-85%)\n",
      "2017:        20 ┘      \n"
     ]
    },
    {
     "data": {
      "text/html": [
       "<h5>Vergleich der Seitenaufrufe zum Wikipedia-Artikel</h5>"
      ],
      "text/plain": [
       "<IPython.core.display.HTML object>"
      ]
     },
     "metadata": {},
     "output_type": "display_data"
    },
    {
     "name": "stdout",
     "output_type": "stream",
     "text": [
      "Wikipedia-Artikel: Absolut konvergente Reihe\n",
      "Views 2018:     18.262 ┬    -1.537 ( -8%)\n",
      "Views 2017:     19.799 ┘      \n",
      "\n",
      "MFNF / Wikipedia – 2018:  99%\n",
      "MFNF / Wikipedia – 2017:  60%\n"
     ]
    },
    {
     "data": {
      "text/markdown": [
       "[Zurück zum Inhaltsverzeichnis](#Inhaltsverzeichnis)"
      ],
      "text/plain": [
       "<IPython.core.display.Markdown object>"
      ]
     },
     "metadata": {},
     "output_type": "display_data"
    },
    {
     "data": {
      "text/html": [
       "<h4 id='Umordnungssatz für Reihen'>==== Umordnungssatz für Reihen ====</h4>"
      ],
      "text/plain": [
       "<IPython.core.display.HTML object>"
      ]
     },
     "metadata": {},
     "output_type": "display_data"
    },
    {
     "data": {
      "text/html": [
       "<h5>Seitenaufrufe des Artikels 'Mathe für Nicht-Freaks: Umordnungssatz für Reihen'</h5>"
      ],
      "text/plain": [
       "<IPython.core.display.HTML object>"
      ]
     },
     "metadata": {},
     "output_type": "display_data"
    },
    {
     "name": "stdout",
     "output_type": "stream",
     "text": [
      "2018:     7.145 ┬    +2.796 (+64%)\n",
      "2017:     4.349 ┘      \n"
     ]
    },
    {
     "data": {
      "text/html": [
       "<h5>Bearbeitungen im Artikel 'Mathe für Nicht-Freaks: Umordnungssatz für Reihen'</h5>"
      ],
      "text/plain": [
       "<IPython.core.display.HTML object>"
      ]
     },
     "metadata": {},
     "output_type": "display_data"
    },
    {
     "name": "stdout",
     "output_type": "stream",
     "text": [
      "2018:        19 ┬       -29 (-60%)\n",
      "2017:        48 ┘      \n"
     ]
    },
    {
     "data": {
      "text/html": [
       "<h5>Vergleich der Seitenaufrufe zum Wikipedia-Artikel</h5>"
      ],
      "text/plain": [
       "<IPython.core.display.HTML object>"
      ]
     },
     "metadata": {},
     "output_type": "display_data"
    },
    {
     "name": "stdout",
     "output_type": "stream",
     "text": [
      "Wikipedia-Artikel: Umordnung von Reihen\n",
      "Views 2018:      3.302 ┬      -457 (-12%)\n",
      "Views 2017:      3.759 ┘      \n",
      "\n",
      "MFNF / Wikipedia – 2018: 216%\n",
      "MFNF / Wikipedia – 2017: 116%\n"
     ]
    },
    {
     "data": {
      "text/markdown": [
       "[Zurück zum Inhaltsverzeichnis](#Inhaltsverzeichnis)"
      ],
      "text/plain": [
       "<IPython.core.display.Markdown object>"
      ]
     },
     "metadata": {},
     "output_type": "display_data"
    },
    {
     "data": {
      "text/html": [
       "<h4 id='Aufgaben'>==== Aufgaben ====</h4>"
      ],
      "text/plain": [
       "<IPython.core.display.HTML object>"
      ]
     },
     "metadata": {},
     "output_type": "display_data"
    },
    {
     "data": {
      "text/html": [
       "<h5>Seitenaufrufe des Artikels 'Mathe für Nicht-Freaks: Aufgaben zu Reihen'</h5>"
      ],
      "text/plain": [
       "<IPython.core.display.HTML object>"
      ]
     },
     "metadata": {},
     "output_type": "display_data"
    },
    {
     "name": "stdout",
     "output_type": "stream",
     "text": [
      "2018:     3.890 ┬    +1.681 (+76%)\n",
      "2017:     2.209 ┘      \n"
     ]
    },
    {
     "data": {
      "text/html": [
       "<h5>Bearbeitungen im Artikel 'Mathe für Nicht-Freaks: Aufgaben zu Reihen'</h5>"
      ],
      "text/plain": [
       "<IPython.core.display.HTML object>"
      ]
     },
     "metadata": {},
     "output_type": "display_data"
    },
    {
     "name": "stdout",
     "output_type": "stream",
     "text": [
      "2018:        11 ┬        +1 (+10%)\n",
      "2017:        10 ┘      \n"
     ]
    },
    {
     "data": {
      "text/markdown": [
       "[Zurück zum Inhaltsverzeichnis](#Inhaltsverzeichnis)"
      ],
      "text/plain": [
       "<IPython.core.display.Markdown object>"
      ]
     },
     "metadata": {},
     "output_type": "display_data"
    },
    {
     "data": {
      "text/html": [
       "<h3 id='Konvergenzkriterien für Reihen'>=== Konvergenzkriterien für Reihen ===</h3>"
      ],
      "text/plain": [
       "<IPython.core.display.HTML object>"
      ]
     },
     "metadata": {},
     "output_type": "display_data"
    },
    {
     "data": {
      "text/markdown": [
       "[Zurück zum Inhaltsverzeichnis](#Inhaltsverzeichnis)"
      ],
      "text/plain": [
       "<IPython.core.display.Markdown object>"
      ]
     },
     "metadata": {},
     "output_type": "display_data"
    },
    {
     "data": {
      "text/html": [
       "<h4 id='Übersicht Konvergenzkriterien'>==== Übersicht Konvergenzkriterien ====</h4>"
      ],
      "text/plain": [
       "<IPython.core.display.HTML object>"
      ]
     },
     "metadata": {},
     "output_type": "display_data"
    },
    {
     "data": {
      "text/html": [
       "<h5>Seitenaufrufe des Artikels 'Mathe für Nicht-Freaks: Konvergenz und Divergenz einer Reihe beweisen: Konvergenzkriterien'</h5>"
      ],
      "text/plain": [
       "<IPython.core.display.HTML object>"
      ]
     },
     "metadata": {},
     "output_type": "display_data"
    },
    {
     "name": "stdout",
     "output_type": "stream",
     "text": [
      "2018:    57.058 ┬   +14.205 (+33%)\n",
      "2017:    42.853 ┘      \n"
     ]
    },
    {
     "data": {
      "text/html": [
       "<h5>Bearbeitungen im Artikel 'Mathe für Nicht-Freaks: Konvergenz und Divergenz einer Reihe beweisen: Konvergenzkriterien'</h5>"
      ],
      "text/plain": [
       "<IPython.core.display.HTML object>"
      ]
     },
     "metadata": {},
     "output_type": "display_data"
    },
    {
     "name": "stdout",
     "output_type": "stream",
     "text": [
      "2018:        11 ┬        -4 (-27%)\n",
      "2017:        15 ┘      \n"
     ]
    },
    {
     "data": {
      "text/html": [
       "<h5>Vergleich der Seitenaufrufe zum Wikipedia-Artikel</h5>"
      ],
      "text/plain": [
       "<IPython.core.display.HTML object>"
      ]
     },
     "metadata": {},
     "output_type": "display_data"
    },
    {
     "name": "stdout",
     "output_type": "stream",
     "text": [
      "Wikipedia-Artikel: Konvergenzkriterium\n",
      "Views 2018:     31.886 ┬    -3.686 (-10%)\n",
      "Views 2017:     35.572 ┘      \n",
      "\n",
      "MFNF / Wikipedia – 2018: 179%\n",
      "MFNF / Wikipedia – 2017: 120%\n"
     ]
    },
    {
     "data": {
      "text/markdown": [
       "[Zurück zum Inhaltsverzeichnis](#Inhaltsverzeichnis)"
      ],
      "text/plain": [
       "<IPython.core.display.Markdown object>"
      ]
     },
     "metadata": {},
     "output_type": "display_data"
    },
    {
     "data": {
      "text/html": [
       "<h4 id='Cauchy-Kriterium'>==== Cauchy-Kriterium ====</h4>"
      ],
      "text/plain": [
       "<IPython.core.display.HTML object>"
      ]
     },
     "metadata": {},
     "output_type": "display_data"
    },
    {
     "data": {
      "text/html": [
       "<h5>Seitenaufrufe des Artikels 'Mathe für Nicht-Freaks: Cauchy-Kriterium für Reihen'</h5>"
      ],
      "text/plain": [
       "<IPython.core.display.HTML object>"
      ]
     },
     "metadata": {},
     "output_type": "display_data"
    },
    {
     "name": "stdout",
     "output_type": "stream",
     "text": [
      "2018:    12.133 ┬    +1.878 (+18%)\n",
      "2017:    10.255 ┘      \n"
     ]
    },
    {
     "data": {
      "text/html": [
       "<h5>Bearbeitungen im Artikel 'Mathe für Nicht-Freaks: Cauchy-Kriterium für Reihen'</h5>"
      ],
      "text/plain": [
       "<IPython.core.display.HTML object>"
      ]
     },
     "metadata": {},
     "output_type": "display_data"
    },
    {
     "name": "stdout",
     "output_type": "stream",
     "text": [
      "2018:         2 ┬        -4 (-67%)\n",
      "2017:         6 ┘      \n"
     ]
    },
    {
     "data": {
      "text/markdown": [
       "[Zurück zum Inhaltsverzeichnis](#Inhaltsverzeichnis)"
      ],
      "text/plain": [
       "<IPython.core.display.Markdown object>"
      ]
     },
     "metadata": {},
     "output_type": "display_data"
    },
    {
     "data": {
      "text/html": [
       "<h4 id='Trivialkriterium'>==== Trivialkriterium ====</h4>"
      ],
      "text/plain": [
       "<IPython.core.display.HTML object>"
      ]
     },
     "metadata": {},
     "output_type": "display_data"
    },
    {
     "data": {
      "text/html": [
       "<h5>Seitenaufrufe des Artikels 'Mathe für Nicht-Freaks: Trivialkriterium, Nullfolgenkriterium, Divergenzkriterium'</h5>"
      ],
      "text/plain": [
       "<IPython.core.display.HTML object>"
      ]
     },
     "metadata": {},
     "output_type": "display_data"
    },
    {
     "name": "stdout",
     "output_type": "stream",
     "text": [
      "2018:     5.282 ┬    +1.877 (+55%)\n",
      "2017:     3.405 ┘      \n"
     ]
    },
    {
     "data": {
      "text/html": [
       "<h5>Bearbeitungen im Artikel 'Mathe für Nicht-Freaks: Trivialkriterium, Nullfolgenkriterium, Divergenzkriterium'</h5>"
      ],
      "text/plain": [
       "<IPython.core.display.HTML object>"
      ]
     },
     "metadata": {},
     "output_type": "display_data"
    },
    {
     "name": "stdout",
     "output_type": "stream",
     "text": [
      "2018:         2 ┬        -3 (-60%)\n",
      "2017:         5 ┘      \n"
     ]
    },
    {
     "data": {
      "text/html": [
       "<h5>Vergleich der Seitenaufrufe zum Wikipedia-Artikel</h5>"
      ],
      "text/plain": [
       "<IPython.core.display.HTML object>"
      ]
     },
     "metadata": {},
     "output_type": "display_data"
    },
    {
     "name": "stdout",
     "output_type": "stream",
     "text": [
      "Wikipedia-Artikel: Nullfolgenkriterium\n",
      "Views 2018:     13.101 ┬      +162 ( +1%)\n",
      "Views 2017:     12.939 ┘      \n",
      "\n",
      "MFNF / Wikipedia – 2018:  40%\n",
      "MFNF / Wikipedia – 2017:  26%\n"
     ]
    },
    {
     "data": {
      "text/markdown": [
       "[Zurück zum Inhaltsverzeichnis](#Inhaltsverzeichnis)"
      ],
      "text/plain": [
       "<IPython.core.display.Markdown object>"
      ]
     },
     "metadata": {},
     "output_type": "display_data"
    },
    {
     "data": {
      "text/html": [
       "<h4 id='Beschränkte Reihen und Konvergenz'>==== Beschränkte Reihen und Konvergenz ====</h4>"
      ],
      "text/plain": [
       "<IPython.core.display.HTML object>"
      ]
     },
     "metadata": {},
     "output_type": "display_data"
    },
    {
     "data": {
      "text/html": [
       "<h5>Seitenaufrufe des Artikels 'Mathe für Nicht-Freaks: Beschränkte Reihen und Konvergenz'</h5>"
      ],
      "text/plain": [
       "<IPython.core.display.HTML object>"
      ]
     },
     "metadata": {},
     "output_type": "display_data"
    },
    {
     "name": "stdout",
     "output_type": "stream",
     "text": [
      "2018:     6.602 ┬    +1.604 (+32%)\n",
      "2017:     4.998 ┘      \n"
     ]
    },
    {
     "data": {
      "text/html": [
       "<h5>Bearbeitungen im Artikel 'Mathe für Nicht-Freaks: Beschränkte Reihen und Konvergenz'</h5>"
      ],
      "text/plain": [
       "<IPython.core.display.HTML object>"
      ]
     },
     "metadata": {},
     "output_type": "display_data"
    },
    {
     "name": "stdout",
     "output_type": "stream",
     "text": [
      "2018:         0 ┬        -3 (-100%)\n",
      "2017:         3 ┘      \n"
     ]
    },
    {
     "data": {
      "text/markdown": [
       "[Zurück zum Inhaltsverzeichnis](#Inhaltsverzeichnis)"
      ],
      "text/plain": [
       "<IPython.core.display.Markdown object>"
      ]
     },
     "metadata": {},
     "output_type": "display_data"
    },
    {
     "data": {
      "text/html": [
       "<h4 id='Majoranten- und Minorantenkriterium'>==== Majoranten- und Minorantenkriterium ====</h4>"
      ],
      "text/plain": [
       "<IPython.core.display.HTML object>"
      ]
     },
     "metadata": {},
     "output_type": "display_data"
    },
    {
     "data": {
      "text/html": [
       "<h5>Seitenaufrufe des Artikels 'Mathe für Nicht-Freaks: Majorantenkriterium und Minorantenkriterium'</h5>"
      ],
      "text/plain": [
       "<IPython.core.display.HTML object>"
      ]
     },
     "metadata": {},
     "output_type": "display_data"
    },
    {
     "name": "stdout",
     "output_type": "stream",
     "text": [
      "2018:    25.936 ┬    +8.111 (+46%)\n",
      "2017:    17.825 ┘      \n"
     ]
    },
    {
     "data": {
      "text/html": [
       "<h5>Bearbeitungen im Artikel 'Mathe für Nicht-Freaks: Majorantenkriterium und Minorantenkriterium'</h5>"
      ],
      "text/plain": [
       "<IPython.core.display.HTML object>"
      ]
     },
     "metadata": {},
     "output_type": "display_data"
    },
    {
     "name": "stdout",
     "output_type": "stream",
     "text": [
      "2018:         5 ┬       -21 (-81%)\n",
      "2017:        26 ┘      \n"
     ]
    },
    {
     "data": {
      "text/html": [
       "<h5>Vergleich der Seitenaufrufe zum Wikipedia-Artikel</h5>"
      ],
      "text/plain": [
       "<IPython.core.display.HTML object>"
      ]
     },
     "metadata": {},
     "output_type": "display_data"
    },
    {
     "name": "stdout",
     "output_type": "stream",
     "text": [
      "Wikipedia-Artikel: Majorantenkriterium\n",
      "Views 2018:     23.296 ┬    -2.586 (-10%)\n",
      "Views 2017:     25.882 ┘      \n",
      "\n",
      "MFNF / Wikipedia – 2018: 111%\n",
      "MFNF / Wikipedia – 2017:  69%\n"
     ]
    },
    {
     "data": {
      "text/markdown": [
       "[Zurück zum Inhaltsverzeichnis](#Inhaltsverzeichnis)"
      ],
      "text/plain": [
       "<IPython.core.display.Markdown object>"
      ]
     },
     "metadata": {},
     "output_type": "display_data"
    },
    {
     "data": {
      "text/html": [
       "<h4 id='Wurzelkriterium'>==== Wurzelkriterium ====</h4>"
      ],
      "text/plain": [
       "<IPython.core.display.HTML object>"
      ]
     },
     "metadata": {},
     "output_type": "display_data"
    },
    {
     "data": {
      "text/html": [
       "<h5>Seitenaufrufe des Artikels 'Mathe für Nicht-Freaks: Wurzelkriterium'</h5>"
      ],
      "text/plain": [
       "<IPython.core.display.HTML object>"
      ]
     },
     "metadata": {},
     "output_type": "display_data"
    },
    {
     "name": "stdout",
     "output_type": "stream",
     "text": [
      "2018:    13.577 ┬    +3.049 (+29%)\n",
      "2017:    10.528 ┘      \n"
     ]
    },
    {
     "data": {
      "text/html": [
       "<h5>Bearbeitungen im Artikel 'Mathe für Nicht-Freaks: Wurzelkriterium'</h5>"
      ],
      "text/plain": [
       "<IPython.core.display.HTML object>"
      ]
     },
     "metadata": {},
     "output_type": "display_data"
    },
    {
     "name": "stdout",
     "output_type": "stream",
     "text": [
      "2018:         4 ┬       -16 (-80%)\n",
      "2017:        20 ┘      \n"
     ]
    },
    {
     "data": {
      "text/html": [
       "<h5>Vergleich der Seitenaufrufe zum Wikipedia-Artikel</h5>"
      ],
      "text/plain": [
       "<IPython.core.display.HTML object>"
      ]
     },
     "metadata": {},
     "output_type": "display_data"
    },
    {
     "name": "stdout",
     "output_type": "stream",
     "text": [
      "Wikipedia-Artikel: Wurzelkriterium\n",
      "Views 2018:     29.387 ┬      +252 ( +1%)\n",
      "Views 2017:     29.135 ┘      \n",
      "\n",
      "MFNF / Wikipedia – 2018:  46%\n",
      "MFNF / Wikipedia – 2017:  36%\n"
     ]
    },
    {
     "data": {
      "text/markdown": [
       "[Zurück zum Inhaltsverzeichnis](#Inhaltsverzeichnis)"
      ],
      "text/plain": [
       "<IPython.core.display.Markdown object>"
      ]
     },
     "metadata": {},
     "output_type": "display_data"
    },
    {
     "data": {
      "text/html": [
       "<h4 id='Quotientenkriterium'>==== Quotientenkriterium ====</h4>"
      ],
      "text/plain": [
       "<IPython.core.display.HTML object>"
      ]
     },
     "metadata": {},
     "output_type": "display_data"
    },
    {
     "data": {
      "text/html": [
       "<h5>Seitenaufrufe des Artikels 'Mathe für Nicht-Freaks: Quotientenkriterium'</h5>"
      ],
      "text/plain": [
       "<IPython.core.display.HTML object>"
      ]
     },
     "metadata": {},
     "output_type": "display_data"
    },
    {
     "name": "stdout",
     "output_type": "stream",
     "text": [
      "2018:    19.067 ┬    +5.334 (+39%)\n",
      "2017:    13.733 ┘      \n"
     ]
    },
    {
     "data": {
      "text/html": [
       "<h5>Bearbeitungen im Artikel 'Mathe für Nicht-Freaks: Quotientenkriterium'</h5>"
      ],
      "text/plain": [
       "<IPython.core.display.HTML object>"
      ]
     },
     "metadata": {},
     "output_type": "display_data"
    },
    {
     "name": "stdout",
     "output_type": "stream",
     "text": [
      "2018:        28 ┬        -3 (-10%)\n",
      "2017:        31 ┘      \n"
     ]
    },
    {
     "data": {
      "text/html": [
       "<h5>Vergleich der Seitenaufrufe zum Wikipedia-Artikel</h5>"
      ],
      "text/plain": [
       "<IPython.core.display.HTML object>"
      ]
     },
     "metadata": {},
     "output_type": "display_data"
    },
    {
     "name": "stdout",
     "output_type": "stream",
     "text": [
      "Wikipedia-Artikel: Quotientenkriterium\n",
      "Views 2018:     43.329 ┬    -1.708 ( -4%)\n",
      "Views 2017:     45.037 ┘      \n",
      "\n",
      "MFNF / Wikipedia – 2018:  44%\n",
      "MFNF / Wikipedia – 2017:  30%\n"
     ]
    },
    {
     "data": {
      "text/markdown": [
       "[Zurück zum Inhaltsverzeichnis](#Inhaltsverzeichnis)"
      ],
      "text/plain": [
       "<IPython.core.display.Markdown object>"
      ]
     },
     "metadata": {},
     "output_type": "display_data"
    },
    {
     "data": {
      "text/html": [
       "<h4 id='Leibniz-Kriterium'>==== Leibniz-Kriterium ====</h4>"
      ],
      "text/plain": [
       "<IPython.core.display.HTML object>"
      ]
     },
     "metadata": {},
     "output_type": "display_data"
    },
    {
     "data": {
      "text/html": [
       "<h5>Seitenaufrufe des Artikels 'Mathe für Nicht-Freaks: Leibniz-Kriterium'</h5>"
      ],
      "text/plain": [
       "<IPython.core.display.HTML object>"
      ]
     },
     "metadata": {},
     "output_type": "display_data"
    },
    {
     "name": "stdout",
     "output_type": "stream",
     "text": [
      "2018:    18.955 ┬    +6.880 (+57%)\n",
      "2017:    12.075 ┘      \n"
     ]
    },
    {
     "data": {
      "text/html": [
       "<h5>Bearbeitungen im Artikel 'Mathe für Nicht-Freaks: Leibniz-Kriterium'</h5>"
      ],
      "text/plain": [
       "<IPython.core.display.HTML object>"
      ]
     },
     "metadata": {},
     "output_type": "display_data"
    },
    {
     "name": "stdout",
     "output_type": "stream",
     "text": [
      "2018:         4 ┬       -26 (-87%)\n",
      "2017:        30 ┘      \n"
     ]
    },
    {
     "data": {
      "text/html": [
       "<h5>Vergleich der Seitenaufrufe zum Wikipedia-Artikel</h5>"
      ],
      "text/plain": [
       "<IPython.core.display.HTML object>"
      ]
     },
     "metadata": {},
     "output_type": "display_data"
    },
    {
     "name": "stdout",
     "output_type": "stream",
     "text": [
      "Wikipedia-Artikel: Leibniz-Kriterium\n",
      "Views 2018:     37.337 ┬    -1.007 ( -3%)\n",
      "Views 2017:     38.344 ┘      \n",
      "\n",
      "MFNF / Wikipedia – 2018:  51%\n",
      "MFNF / Wikipedia – 2017:  31%\n"
     ]
    },
    {
     "data": {
      "text/markdown": [
       "[Zurück zum Inhaltsverzeichnis](#Inhaltsverzeichnis)"
      ],
      "text/plain": [
       "<IPython.core.display.Markdown object>"
      ]
     },
     "metadata": {},
     "output_type": "display_data"
    },
    {
     "data": {
      "text/html": [
       "<h4 id='Verdichtungskriterium'>==== Verdichtungskriterium ====</h4>"
      ],
      "text/plain": [
       "<IPython.core.display.HTML object>"
      ]
     },
     "metadata": {},
     "output_type": "display_data"
    },
    {
     "data": {
      "text/html": [
       "<h5>Seitenaufrufe des Artikels 'Mathe für Nicht-Freaks: Cauchysches Verdichtungskriterium'</h5>"
      ],
      "text/plain": [
       "<IPython.core.display.HTML object>"
      ]
     },
     "metadata": {},
     "output_type": "display_data"
    },
    {
     "name": "stdout",
     "output_type": "stream",
     "text": [
      "2018:     5.288 ┬      +784 (+17%)\n",
      "2017:     4.504 ┘      \n"
     ]
    },
    {
     "data": {
      "text/html": [
       "<h5>Bearbeitungen im Artikel 'Mathe für Nicht-Freaks: Cauchysches Verdichtungskriterium'</h5>"
      ],
      "text/plain": [
       "<IPython.core.display.HTML object>"
      ]
     },
     "metadata": {},
     "output_type": "display_data"
    },
    {
     "name": "stdout",
     "output_type": "stream",
     "text": [
      "2018:         3 ┬        -4 (-57%)\n",
      "2017:         7 ┘      \n"
     ]
    },
    {
     "data": {
      "text/html": [
       "<h5>Vergleich der Seitenaufrufe zum Wikipedia-Artikel</h5>"
      ],
      "text/plain": [
       "<IPython.core.display.HTML object>"
      ]
     },
     "metadata": {},
     "output_type": "display_data"
    },
    {
     "name": "stdout",
     "output_type": "stream",
     "text": [
      "Wikipedia-Artikel: Cauchysches Verdichtungskriterium\n",
      "Views 2018:      9.694 ┬    -1.429 (-13%)\n",
      "Views 2017:     11.123 ┘      \n",
      "\n",
      "MFNF / Wikipedia – 2018:  55%\n",
      "MFNF / Wikipedia – 2017:  40%\n"
     ]
    },
    {
     "data": {
      "text/markdown": [
       "[Zurück zum Inhaltsverzeichnis](#Inhaltsverzeichnis)"
      ],
      "text/plain": [
       "<IPython.core.display.Markdown object>"
      ]
     },
     "metadata": {},
     "output_type": "display_data"
    },
    {
     "data": {
      "text/html": [
       "<h4 id='Anwendung der Konvergenzkriterien'>==== Anwendung der Konvergenzkriterien ====</h4>"
      ],
      "text/plain": [
       "<IPython.core.display.HTML object>"
      ]
     },
     "metadata": {},
     "output_type": "display_data"
    },
    {
     "data": {
      "text/html": [
       "<h5>Seitenaufrufe des Artikels 'Mathe für Nicht-Freaks: Anwendung der Konvergenzkriterien bei Reihen'</h5>"
      ],
      "text/plain": [
       "<IPython.core.display.HTML object>"
      ]
     },
     "metadata": {},
     "output_type": "display_data"
    },
    {
     "name": "stdout",
     "output_type": "stream",
     "text": [
      "2018:    15.220 ┬   +10.495 (+222%)\n",
      "2017:     4.725 ┘      \n"
     ]
    },
    {
     "data": {
      "text/html": [
       "<h5>Bearbeitungen im Artikel 'Mathe für Nicht-Freaks: Anwendung der Konvergenzkriterien bei Reihen'</h5>"
      ],
      "text/plain": [
       "<IPython.core.display.HTML object>"
      ]
     },
     "metadata": {},
     "output_type": "display_data"
    },
    {
     "name": "stdout",
     "output_type": "stream",
     "text": [
      "2018:         1 ┬       -10 (-91%)\n",
      "2017:        11 ┘      \n"
     ]
    },
    {
     "data": {
      "text/markdown": [
       "[Zurück zum Inhaltsverzeichnis](#Inhaltsverzeichnis)"
      ],
      "text/plain": [
       "<IPython.core.display.Markdown object>"
      ]
     },
     "metadata": {},
     "output_type": "display_data"
    },
    {
     "data": {
      "text/html": [
       "<h4 id='Aufgaben'>==== Aufgaben ====</h4>"
      ],
      "text/plain": [
       "<IPython.core.display.HTML object>"
      ]
     },
     "metadata": {},
     "output_type": "display_data"
    },
    {
     "data": {
      "text/html": [
       "<h5>Seitenaufrufe des Artikels 'Mathe für Nicht-Freaks: Aufgaben zu Konvergenzkriterien für Reihen'</h5>"
      ],
      "text/plain": [
       "<IPython.core.display.HTML object>"
      ]
     },
     "metadata": {},
     "output_type": "display_data"
    },
    {
     "name": "stdout",
     "output_type": "stream",
     "text": [
      "2018:    17.602 ┬   +10.949 (+165%)\n",
      "2017:     6.653 ┘      \n"
     ]
    },
    {
     "data": {
      "text/html": [
       "<h5>Bearbeitungen im Artikel 'Mathe für Nicht-Freaks: Aufgaben zu Konvergenzkriterien für Reihen'</h5>"
      ],
      "text/plain": [
       "<IPython.core.display.HTML object>"
      ]
     },
     "metadata": {},
     "output_type": "display_data"
    },
    {
     "name": "stdout",
     "output_type": "stream",
     "text": [
      "2018:        22 ┬        +8 (+57%)\n",
      "2017:        14 ┘      \n"
     ]
    },
    {
     "data": {
      "text/markdown": [
       "[Zurück zum Inhaltsverzeichnis](#Inhaltsverzeichnis)"
      ],
      "text/plain": [
       "<IPython.core.display.Markdown object>"
      ]
     },
     "metadata": {},
     "output_type": "display_data"
    },
    {
     "data": {
      "text/html": [
       "<h3 id='Exponential- und Logarithmusfunktion'>=== Exponential- und Logarithmusfunktion ===</h3>"
      ],
      "text/plain": [
       "<IPython.core.display.HTML object>"
      ]
     },
     "metadata": {},
     "output_type": "display_data"
    },
    {
     "data": {
      "text/markdown": [
       "[Zurück zum Inhaltsverzeichnis](#Inhaltsverzeichnis)"
      ],
      "text/plain": [
       "<IPython.core.display.Markdown object>"
      ]
     },
     "metadata": {},
     "output_type": "display_data"
    },
    {
     "data": {
      "text/html": [
       "<h4 id='Herleitung und Definition der Exponentialfunktion'>==== Herleitung und Definition der Exponentialfunktion ====</h4>"
      ],
      "text/plain": [
       "<IPython.core.display.HTML object>"
      ]
     },
     "metadata": {},
     "output_type": "display_data"
    },
    {
     "data": {
      "text/html": [
       "<h5>Seitenaufrufe des Artikels 'Mathe für Nicht-Freaks: Herleitung und Definition der Exponentialfunktion'</h5>"
      ],
      "text/plain": [
       "<IPython.core.display.HTML object>"
      ]
     },
     "metadata": {},
     "output_type": "display_data"
    },
    {
     "name": "stdout",
     "output_type": "stream",
     "text": [
      "2018:     5.222 ┬    +2.114 (+68%)\n",
      "2017:     3.108 ┘      \n"
     ]
    },
    {
     "data": {
      "text/html": [
       "<h5>Bearbeitungen im Artikel 'Mathe für Nicht-Freaks: Herleitung und Definition der Exponentialfunktion'</h5>"
      ],
      "text/plain": [
       "<IPython.core.display.HTML object>"
      ]
     },
     "metadata": {},
     "output_type": "display_data"
    },
    {
     "name": "stdout",
     "output_type": "stream",
     "text": [
      "2018:         0 ┬       -49 (-100%)\n",
      "2017:        49 ┘      \n"
     ]
    },
    {
     "data": {
      "text/html": [
       "<h5>Vergleich der Seitenaufrufe zum Wikipedia-Artikel</h5>"
      ],
      "text/plain": [
       "<IPython.core.display.HTML object>"
      ]
     },
     "metadata": {},
     "output_type": "display_data"
    },
    {
     "name": "stdout",
     "output_type": "stream",
     "text": [
      "Wikipedia-Artikel: Exponentialfunktion\n",
      "Views 2018:    320.563 ┬   -19.315 ( -6%)\n",
      "Views 2017:    339.878 ┘      \n",
      "\n",
      "MFNF / Wikipedia – 2018:   2%\n",
      "MFNF / Wikipedia – 2017:   1%\n"
     ]
    },
    {
     "data": {
      "text/markdown": [
       "[Zurück zum Inhaltsverzeichnis](#Inhaltsverzeichnis)"
      ],
      "text/plain": [
       "<IPython.core.display.Markdown object>"
      ]
     },
     "metadata": {},
     "output_type": "display_data"
    },
    {
     "data": {
      "text/html": [
       "<h4 id='Eigenschaften der Exponentialfunktion'>==== Eigenschaften der Exponentialfunktion ====</h4>"
      ],
      "text/plain": [
       "<IPython.core.display.HTML object>"
      ]
     },
     "metadata": {},
     "output_type": "display_data"
    },
    {
     "data": {
      "text/html": [
       "<h5>Seitenaufrufe des Artikels 'Mathe für Nicht-Freaks: Eigenschaften der Exponentialfunktion'</h5>"
      ],
      "text/plain": [
       "<IPython.core.display.HTML object>"
      ]
     },
     "metadata": {},
     "output_type": "display_data"
    },
    {
     "name": "stdout",
     "output_type": "stream",
     "text": [
      "2018:     6.319 ┬    +4.465 (+241%)\n",
      "2017:     1.854 ┘      \n"
     ]
    },
    {
     "data": {
      "text/html": [
       "<h5>Bearbeitungen im Artikel 'Mathe für Nicht-Freaks: Eigenschaften der Exponentialfunktion'</h5>"
      ],
      "text/plain": [
       "<IPython.core.display.HTML object>"
      ]
     },
     "metadata": {},
     "output_type": "display_data"
    },
    {
     "name": "stdout",
     "output_type": "stream",
     "text": [
      "2018:         0 ┬       -22 (-100%)\n",
      "2017:        22 ┘      \n"
     ]
    },
    {
     "data": {
      "text/markdown": [
       "[Zurück zum Inhaltsverzeichnis](#Inhaltsverzeichnis)"
      ],
      "text/plain": [
       "<IPython.core.display.Markdown object>"
      ]
     },
     "metadata": {},
     "output_type": "display_data"
    },
    {
     "data": {
      "text/html": [
       "<h4 id='Logarithmusfunktion'>==== Logarithmusfunktion ====</h4>"
      ],
      "text/plain": [
       "<IPython.core.display.HTML object>"
      ]
     },
     "metadata": {},
     "output_type": "display_data"
    },
    {
     "data": {
      "text/html": [
       "<h5>Seitenaufrufe des Artikels 'Mathe für Nicht-Freaks: Die Logarithmusfunktion'</h5>"
      ],
      "text/plain": [
       "<IPython.core.display.HTML object>"
      ]
     },
     "metadata": {},
     "output_type": "display_data"
    },
    {
     "name": "stdout",
     "output_type": "stream",
     "text": [
      "2018:     1.662 ┬      +903 (+119%)\n",
      "2017:       759 ┘      \n"
     ]
    },
    {
     "data": {
      "text/html": [
       "<h5>Bearbeitungen im Artikel 'Mathe für Nicht-Freaks: Die Logarithmusfunktion'</h5>"
      ],
      "text/plain": [
       "<IPython.core.display.HTML object>"
      ]
     },
     "metadata": {},
     "output_type": "display_data"
    },
    {
     "name": "stdout",
     "output_type": "stream",
     "text": [
      "2018:         3 ┬        -8 (-73%)\n",
      "2017:        11 ┘      \n"
     ]
    },
    {
     "data": {
      "text/html": [
       "<h5>Vergleich der Seitenaufrufe zum Wikipedia-Artikel</h5>"
      ],
      "text/plain": [
       "<IPython.core.display.HTML object>"
      ]
     },
     "metadata": {},
     "output_type": "display_data"
    },
    {
     "name": "stdout",
     "output_type": "stream",
     "text": [
      "Wikipedia-Artikel: Logarithmus\n",
      "Views 2018:    452.356 ┬   -63.472 (-12%)\n",
      "Views 2017:    515.828 ┘      \n",
      "\n",
      "MFNF / Wikipedia – 2018:   0%\n",
      "MFNF / Wikipedia – 2017:   0%\n"
     ]
    },
    {
     "data": {
      "text/markdown": [
       "[Zurück zum Inhaltsverzeichnis](#Inhaltsverzeichnis)"
      ],
      "text/plain": [
       "<IPython.core.display.Markdown object>"
      ]
     },
     "metadata": {},
     "output_type": "display_data"
    },
    {
     "data": {
      "text/html": [
       "<h4 id='Verallgemeinerte Potenzen'>==== Verallgemeinerte Potenzen ====</h4>"
      ],
      "text/plain": [
       "<IPython.core.display.HTML object>"
      ]
     },
     "metadata": {},
     "output_type": "display_data"
    },
    {
     "data": {
      "text/html": [
       "<h5>Seitenaufrufe des Artikels 'Mathe für Nicht-Freaks: Potenzen mit reellen Exponenten'</h5>"
      ],
      "text/plain": [
       "<IPython.core.display.HTML object>"
      ]
     },
     "metadata": {},
     "output_type": "display_data"
    },
    {
     "name": "stdout",
     "output_type": "stream",
     "text": [
      "2018:     1.192 ┬      +492 (+70%)\n",
      "2017:       700 ┘      \n"
     ]
    },
    {
     "data": {
      "text/html": [
       "<h5>Bearbeitungen im Artikel 'Mathe für Nicht-Freaks: Potenzen mit reellen Exponenten'</h5>"
      ],
      "text/plain": [
       "<IPython.core.display.HTML object>"
      ]
     },
     "metadata": {},
     "output_type": "display_data"
    },
    {
     "name": "stdout",
     "output_type": "stream",
     "text": [
      "2018:         0 ┬        -2 (-100%)\n",
      "2017:         2 ┘      \n"
     ]
    },
    {
     "data": {
      "text/markdown": [
       "[Zurück zum Inhaltsverzeichnis](#Inhaltsverzeichnis)"
      ],
      "text/plain": [
       "<IPython.core.display.Markdown object>"
      ]
     },
     "metadata": {},
     "output_type": "display_data"
    },
    {
     "data": {
      "text/html": [
       "<h4 id='Exponential- und Logarithmusfunktion in den komplexen Zahlen'>==== Exponential- und Logarithmusfunktion in den komplexen Zahlen ====</h4>"
      ],
      "text/plain": [
       "<IPython.core.display.HTML object>"
      ]
     },
     "metadata": {},
     "output_type": "display_data"
    },
    {
     "data": {
      "text/html": [
       "<h5>Seitenaufrufe des Artikels 'Mathe für Nicht-Freaks: Exponential- und Logarithmusfunktion in den komplexen Zahlen'</h5>"
      ],
      "text/plain": [
       "<IPython.core.display.HTML object>"
      ]
     },
     "metadata": {},
     "output_type": "display_data"
    },
    {
     "name": "stdout",
     "output_type": "stream",
     "text": [
      "2018:       832 ┬      +319 (+62%)\n",
      "2017:       513 ┘      \n"
     ]
    },
    {
     "data": {
      "text/html": [
       "<h5>Bearbeitungen im Artikel 'Mathe für Nicht-Freaks: Exponential- und Logarithmusfunktion in den komplexen Zahlen'</h5>"
      ],
      "text/plain": [
       "<IPython.core.display.HTML object>"
      ]
     },
     "metadata": {},
     "output_type": "display_data"
    },
    {
     "name": "stdout",
     "output_type": "stream",
     "text": [
      "2018:         0 ┬       -14 (-100%)\n",
      "2017:        14 ┘      \n"
     ]
    },
    {
     "data": {
      "text/markdown": [
       "[Zurück zum Inhaltsverzeichnis](#Inhaltsverzeichnis)"
      ],
      "text/plain": [
       "<IPython.core.display.Markdown object>"
      ]
     },
     "metadata": {},
     "output_type": "display_data"
    },
    {
     "data": {
      "text/html": [
       "<h4 id='Aufgaben'>==== Aufgaben ====</h4>"
      ],
      "text/plain": [
       "<IPython.core.display.HTML object>"
      ]
     },
     "metadata": {},
     "output_type": "display_data"
    },
    {
     "data": {
      "text/html": [
       "<h5>Seitenaufrufe des Artikels 'Mathe für Nicht-Freaks: Aufgaben zur Exponential- und Logarithmusfunktion'</h5>"
      ],
      "text/plain": [
       "<IPython.core.display.HTML object>"
      ]
     },
     "metadata": {},
     "output_type": "display_data"
    },
    {
     "name": "stdout",
     "output_type": "stream",
     "text": [
      "2018:       761 ┬      +296 (+64%)\n",
      "2017:       465 ┘      \n"
     ]
    },
    {
     "data": {
      "text/html": [
       "<h5>Bearbeitungen im Artikel 'Mathe für Nicht-Freaks: Aufgaben zur Exponential- und Logarithmusfunktion'</h5>"
      ],
      "text/plain": [
       "<IPython.core.display.HTML object>"
      ]
     },
     "metadata": {},
     "output_type": "display_data"
    },
    {
     "name": "stdout",
     "output_type": "stream",
     "text": [
      "2018:         0 ┬        -1 (-100%)\n",
      "2017:         1 ┘      \n"
     ]
    },
    {
     "data": {
      "text/markdown": [
       "[Zurück zum Inhaltsverzeichnis](#Inhaltsverzeichnis)"
      ],
      "text/plain": [
       "<IPython.core.display.Markdown object>"
      ]
     },
     "metadata": {},
     "output_type": "display_data"
    },
    {
     "data": {
      "text/html": [
       "<h3 id='Trigonometrische und Hyperbolische Funktionen'>=== Trigonometrische und Hyperbolische Funktionen ===</h3>"
      ],
      "text/plain": [
       "<IPython.core.display.HTML object>"
      ]
     },
     "metadata": {},
     "output_type": "display_data"
    },
    {
     "data": {
      "text/markdown": [
       "[Zurück zum Inhaltsverzeichnis](#Inhaltsverzeichnis)"
      ],
      "text/plain": [
       "<IPython.core.display.Markdown object>"
      ]
     },
     "metadata": {},
     "output_type": "display_data"
    },
    {
     "data": {
      "text/html": [
       "<h4 id='Sinus und Kosinus'>==== Sinus und Kosinus ====</h4>"
      ],
      "text/plain": [
       "<IPython.core.display.HTML object>"
      ]
     },
     "metadata": {},
     "output_type": "display_data"
    },
    {
     "data": {
      "text/html": [
       "<h5>Seitenaufrufe des Artikels 'Mathe für Nicht-Freaks: Sinus und Kosinus'</h5>"
      ],
      "text/plain": [
       "<IPython.core.display.HTML object>"
      ]
     },
     "metadata": {},
     "output_type": "display_data"
    },
    {
     "name": "stdout",
     "output_type": "stream",
     "text": [
      "2018:     6.838 ┬    +4.387 (+179%)\n",
      "2017:     2.451 ┘      \n"
     ]
    },
    {
     "data": {
      "text/html": [
       "<h5>Bearbeitungen im Artikel 'Mathe für Nicht-Freaks: Sinus und Kosinus'</h5>"
      ],
      "text/plain": [
       "<IPython.core.display.HTML object>"
      ]
     },
     "metadata": {},
     "output_type": "display_data"
    },
    {
     "name": "stdout",
     "output_type": "stream",
     "text": [
      "2018:         1 ┬       -53 (-98%)\n",
      "2017:        54 ┘      \n"
     ]
    },
    {
     "data": {
      "text/html": [
       "<h5>Vergleich der Seitenaufrufe zum Wikipedia-Artikel</h5>"
      ],
      "text/plain": [
       "<IPython.core.display.HTML object>"
      ]
     },
     "metadata": {},
     "output_type": "display_data"
    },
    {
     "name": "stdout",
     "output_type": "stream",
     "text": [
      "Wikipedia-Artikel: Sinus und Kosinus\n",
      "Views 2018:    648.019 ┬   -57.320 ( -8%)\n",
      "Views 2017:    705.339 ┘      \n",
      "\n",
      "MFNF / Wikipedia – 2018:   1%\n",
      "MFNF / Wikipedia – 2017:   0%\n"
     ]
    },
    {
     "data": {
      "text/markdown": [
       "[Zurück zum Inhaltsverzeichnis](#Inhaltsverzeichnis)"
      ],
      "text/plain": [
       "<IPython.core.display.Markdown object>"
      ]
     },
     "metadata": {},
     "output_type": "display_data"
    },
    {
     "data": {
      "text/html": [
       "<h4 id='Eigenschaften des Sinus und Kosinus'>==== Eigenschaften des Sinus und Kosinus ====</h4>"
      ],
      "text/plain": [
       "<IPython.core.display.HTML object>"
      ]
     },
     "metadata": {},
     "output_type": "display_data"
    },
    {
     "data": {
      "text/html": [
       "<h5>Seitenaufrufe des Artikels 'Mathe für Nicht-Freaks: Eigenschaften des Sinus und Kosinus'</h5>"
      ],
      "text/plain": [
       "<IPython.core.display.HTML object>"
      ]
     },
     "metadata": {},
     "output_type": "display_data"
    },
    {
     "name": "stdout",
     "output_type": "stream",
     "text": [
      "2018:     2.565 ┬    +1.639 (+177%)\n",
      "2017:       926 ┘      \n"
     ]
    },
    {
     "data": {
      "text/html": [
       "<h5>Bearbeitungen im Artikel 'Mathe für Nicht-Freaks: Eigenschaften des Sinus und Kosinus'</h5>"
      ],
      "text/plain": [
       "<IPython.core.display.HTML object>"
      ]
     },
     "metadata": {},
     "output_type": "display_data"
    },
    {
     "name": "stdout",
     "output_type": "stream",
     "text": [
      "2018:         0 ┬       -46 (-100%)\n",
      "2017:        46 ┘      \n"
     ]
    },
    {
     "data": {
      "text/markdown": [
       "[Zurück zum Inhaltsverzeichnis](#Inhaltsverzeichnis)"
      ],
      "text/plain": [
       "<IPython.core.display.Markdown object>"
      ]
     },
     "metadata": {},
     "output_type": "display_data"
    },
    {
     "data": {
      "text/html": [
       "<h4 id='Arkussinus und Arkuskosinus'>==== Arkussinus und Arkuskosinus ====</h4>"
      ],
      "text/plain": [
       "<IPython.core.display.HTML object>"
      ]
     },
     "metadata": {},
     "output_type": "display_data"
    },
    {
     "data": {
      "text/html": [
       "<h5>Seitenaufrufe des Artikels 'Mathe für Nicht-Freaks: Arkussinus und Arkuskosinus'</h5>"
      ],
      "text/plain": [
       "<IPython.core.display.HTML object>"
      ]
     },
     "metadata": {},
     "output_type": "display_data"
    },
    {
     "name": "stdout",
     "output_type": "stream",
     "text": [
      "2018:     7.195 ┬    +5.284 (+277%)\n",
      "2017:     1.911 ┘      \n"
     ]
    },
    {
     "data": {
      "text/html": [
       "<h5>Bearbeitungen im Artikel 'Mathe für Nicht-Freaks: Arkussinus und Arkuskosinus'</h5>"
      ],
      "text/plain": [
       "<IPython.core.display.HTML object>"
      ]
     },
     "metadata": {},
     "output_type": "display_data"
    },
    {
     "name": "stdout",
     "output_type": "stream",
     "text": [
      "2018:         1 ┬       -25 (-96%)\n",
      "2017:        26 ┘      \n"
     ]
    },
    {
     "data": {
      "text/html": [
       "<h5>Vergleich der Seitenaufrufe zum Wikipedia-Artikel</h5>"
      ],
      "text/plain": [
       "<IPython.core.display.HTML object>"
      ]
     },
     "metadata": {},
     "output_type": "display_data"
    },
    {
     "name": "stdout",
     "output_type": "stream",
     "text": [
      "Wikipedia-Artikel: Arkussinus und Arkuskosinus\n",
      "Views 2018:    122.689 ┬    -8.057 ( -6%)\n",
      "Views 2017:    130.746 ┘      \n",
      "\n",
      "MFNF / Wikipedia – 2018:   6%\n",
      "MFNF / Wikipedia – 2017:   1%\n"
     ]
    },
    {
     "data": {
      "text/markdown": [
       "[Zurück zum Inhaltsverzeichnis](#Inhaltsverzeichnis)"
      ],
      "text/plain": [
       "<IPython.core.display.Markdown object>"
      ]
     },
     "metadata": {},
     "output_type": "display_data"
    },
    {
     "data": {
      "text/html": [
       "<h4 id='Tangens und Kotangens'>==== Tangens und Kotangens ====</h4>"
      ],
      "text/plain": [
       "<IPython.core.display.HTML object>"
      ]
     },
     "metadata": {},
     "output_type": "display_data"
    },
    {
     "data": {
      "text/html": [
       "<h5>Seitenaufrufe des Artikels 'Mathe für Nicht-Freaks: Tangens und Kotangens'</h5>"
      ],
      "text/plain": [
       "<IPython.core.display.HTML object>"
      ]
     },
     "metadata": {},
     "output_type": "display_data"
    },
    {
     "name": "stdout",
     "output_type": "stream",
     "text": [
      "2018:       782 ┬      +360 (+85%)\n",
      "2017:       422 ┘      \n"
     ]
    },
    {
     "data": {
      "text/html": [
       "<h5>Bearbeitungen im Artikel 'Mathe für Nicht-Freaks: Tangens und Kotangens'</h5>"
      ],
      "text/plain": [
       "<IPython.core.display.HTML object>"
      ]
     },
     "metadata": {},
     "output_type": "display_data"
    },
    {
     "name": "stdout",
     "output_type": "stream",
     "text": [
      "2018:         0 ┬        -1 (-100%)\n",
      "2017:         1 ┘      \n"
     ]
    },
    {
     "data": {
      "text/html": [
       "<h5>Vergleich der Seitenaufrufe zum Wikipedia-Artikel</h5>"
      ],
      "text/plain": [
       "<IPython.core.display.HTML object>"
      ]
     },
     "metadata": {},
     "output_type": "display_data"
    },
    {
     "name": "stdout",
     "output_type": "stream",
     "text": [
      "Wikipedia-Artikel: Tangens und Kotangens\n",
      "Views 2018:    323.059 ┬   -17.997 ( -5%)\n",
      "Views 2017:    341.056 ┘      \n",
      "\n",
      "MFNF / Wikipedia – 2018:   0%\n",
      "MFNF / Wikipedia – 2017:   0%\n"
     ]
    },
    {
     "data": {
      "text/markdown": [
       "[Zurück zum Inhaltsverzeichnis](#Inhaltsverzeichnis)"
      ],
      "text/plain": [
       "<IPython.core.display.Markdown object>"
      ]
     },
     "metadata": {},
     "output_type": "display_data"
    },
    {
     "data": {
      "text/html": [
       "<h4 id='Arkustangens und Arkuskotangens'>==== Arkustangens und Arkuskotangens ====</h4>"
      ],
      "text/plain": [
       "<IPython.core.display.HTML object>"
      ]
     },
     "metadata": {},
     "output_type": "display_data"
    },
    {
     "data": {
      "text/html": [
       "<h5>Seitenaufrufe des Artikels 'Mathe für Nicht-Freaks: Arkustangens und Arkuskotangens'</h5>"
      ],
      "text/plain": [
       "<IPython.core.display.HTML object>"
      ]
     },
     "metadata": {},
     "output_type": "display_data"
    },
    {
     "name": "stdout",
     "output_type": "stream",
     "text": [
      "2018:     7.195 ┬    +5.284 (+277%)\n",
      "2017:     1.911 ┘      \n"
     ]
    },
    {
     "data": {
      "text/html": [
       "<h5>Bearbeitungen im Artikel 'Mathe für Nicht-Freaks: Arkustangens und Arkuskotangens'</h5>"
      ],
      "text/plain": [
       "<IPython.core.display.HTML object>"
      ]
     },
     "metadata": {},
     "output_type": "display_data"
    },
    {
     "name": "stdout",
     "output_type": "stream",
     "text": [
      "2018:         1 ┬        -6 (-86%)\n",
      "2017:         7 ┘      \n"
     ]
    },
    {
     "data": {
      "text/html": [
       "<h5>Vergleich der Seitenaufrufe zum Wikipedia-Artikel</h5>"
      ],
      "text/plain": [
       "<IPython.core.display.HTML object>"
      ]
     },
     "metadata": {},
     "output_type": "display_data"
    },
    {
     "name": "stdout",
     "output_type": "stream",
     "text": [
      "Wikipedia-Artikel: Arkustangens und Arkuskotangens\n",
      "Views 2018:    138.846 ┬   -14.940 (-10%)\n",
      "Views 2017:    153.786 ┘      \n",
      "\n",
      "MFNF / Wikipedia – 2018:   5%\n",
      "MFNF / Wikipedia – 2017:   1%\n"
     ]
    },
    {
     "data": {
      "text/markdown": [
       "[Zurück zum Inhaltsverzeichnis](#Inhaltsverzeichnis)"
      ],
      "text/plain": [
       "<IPython.core.display.Markdown object>"
      ]
     },
     "metadata": {},
     "output_type": "display_data"
    },
    {
     "data": {
      "text/html": [
       "<h4 id='Sinus Hyperbolicus und Kosinus Hyperbolicus'>==== Sinus Hyperbolicus und Kosinus Hyperbolicus ====</h4>"
      ],
      "text/plain": [
       "<IPython.core.display.HTML object>"
      ]
     },
     "metadata": {},
     "output_type": "display_data"
    },
    {
     "data": {
      "text/html": [
       "<h5>Seitenaufrufe des Artikels 'Mathe für Nicht-Freaks: Sinus Hyperbolicus und Kosinus Hyperbolicus'</h5>"
      ],
      "text/plain": [
       "<IPython.core.display.HTML object>"
      ]
     },
     "metadata": {},
     "output_type": "display_data"
    },
    {
     "name": "stdout",
     "output_type": "stream",
     "text": [
      "2018:     1.331 ┬      +626 (+89%)\n",
      "2017:       705 ┘      \n"
     ]
    },
    {
     "data": {
      "text/html": [
       "<h5>Bearbeitungen im Artikel 'Mathe für Nicht-Freaks: Sinus Hyperbolicus und Kosinus Hyperbolicus'</h5>"
      ],
      "text/plain": [
       "<IPython.core.display.HTML object>"
      ]
     },
     "metadata": {},
     "output_type": "display_data"
    },
    {
     "name": "stdout",
     "output_type": "stream",
     "text": [
      "2018:         8 ┬        +4 (+100%)\n",
      "2017:         4 ┘      \n"
     ]
    },
    {
     "data": {
      "text/html": [
       "<h5>Vergleich der Seitenaufrufe zum Wikipedia-Artikel</h5>"
      ],
      "text/plain": [
       "<IPython.core.display.HTML object>"
      ]
     },
     "metadata": {},
     "output_type": "display_data"
    },
    {
     "name": "stdout",
     "output_type": "stream",
     "text": [
      "Wikipedia-Artikel: Sinus hyperbolicus und Kosinus hyperbolicus\n",
      "Views 2018:    137.285 ┬    -3.353 ( -2%)\n",
      "Views 2017:    140.638 ┘      \n",
      "\n",
      "MFNF / Wikipedia – 2018:   1%\n",
      "MFNF / Wikipedia – 2017:   1%\n"
     ]
    },
    {
     "data": {
      "text/markdown": [
       "[Zurück zum Inhaltsverzeichnis](#Inhaltsverzeichnis)"
      ],
      "text/plain": [
       "<IPython.core.display.Markdown object>"
      ]
     },
     "metadata": {},
     "output_type": "display_data"
    },
    {
     "data": {
      "text/html": [
       "<h4 id='Aufgaben'>==== Aufgaben ====</h4>"
      ],
      "text/plain": [
       "<IPython.core.display.HTML object>"
      ]
     },
     "metadata": {},
     "output_type": "display_data"
    },
    {
     "data": {
      "text/html": [
       "<h5>Seitenaufrufe des Artikels 'Mathe für Nicht-Freaks: Aufgaben zu trigonometrischen und hyperbolischen Funktionen'</h5>"
      ],
      "text/plain": [
       "<IPython.core.display.HTML object>"
      ]
     },
     "metadata": {},
     "output_type": "display_data"
    },
    {
     "name": "stdout",
     "output_type": "stream",
     "text": [
      "2018:       879 ┬      +346 (+65%)\n",
      "2017:       533 ┘      \n"
     ]
    },
    {
     "data": {
      "text/html": [
       "<h5>Bearbeitungen im Artikel 'Mathe für Nicht-Freaks: Aufgaben zu trigonometrischen und hyperbolischen Funktionen'</h5>"
      ],
      "text/plain": [
       "<IPython.core.display.HTML object>"
      ]
     },
     "metadata": {},
     "output_type": "display_data"
    },
    {
     "name": "stdout",
     "output_type": "stream",
     "text": [
      "2018:         1 ┬        -8 (-89%)\n",
      "2017:         9 ┘      \n"
     ]
    },
    {
     "data": {
      "text/markdown": [
       "[Zurück zum Inhaltsverzeichnis](#Inhaltsverzeichnis)"
      ],
      "text/plain": [
       "<IPython.core.display.Markdown object>"
      ]
     },
     "metadata": {},
     "output_type": "display_data"
    },
    {
     "data": {
      "text/html": [
       "<h3 id='Stetigkeit'>=== Stetigkeit ===</h3>"
      ],
      "text/plain": [
       "<IPython.core.display.HTML object>"
      ]
     },
     "metadata": {},
     "output_type": "display_data"
    },
    {
     "data": {
      "text/markdown": [
       "[Zurück zum Inhaltsverzeichnis](#Inhaltsverzeichnis)"
      ],
      "text/plain": [
       "<IPython.core.display.Markdown object>"
      ]
     },
     "metadata": {},
     "output_type": "display_data"
    },
    {
     "data": {
      "text/html": [
       "<h4 id='Stetigkeit von Funktionen'>==== Stetigkeit von Funktionen ====</h4>"
      ],
      "text/plain": [
       "<IPython.core.display.HTML object>"
      ]
     },
     "metadata": {},
     "output_type": "display_data"
    },
    {
     "data": {
      "text/html": [
       "<h5>Seitenaufrufe des Artikels 'Mathe für Nicht-Freaks: Stetigkeit von Funktionen'</h5>"
      ],
      "text/plain": [
       "<IPython.core.display.HTML object>"
      ]
     },
     "metadata": {},
     "output_type": "display_data"
    },
    {
     "name": "stdout",
     "output_type": "stream",
     "text": [
      "2018:    28.081 ┬    +9.346 (+50%)\n",
      "2017:    18.735 ┘      \n"
     ]
    },
    {
     "data": {
      "text/html": [
       "<h5>Bearbeitungen im Artikel 'Mathe für Nicht-Freaks: Stetigkeit von Funktionen'</h5>"
      ],
      "text/plain": [
       "<IPython.core.display.HTML object>"
      ]
     },
     "metadata": {},
     "output_type": "display_data"
    },
    {
     "name": "stdout",
     "output_type": "stream",
     "text": [
      "2018:         5 ┬       -68 (-93%)\n",
      "2017:        73 ┘      \n"
     ]
    },
    {
     "data": {
      "text/html": [
       "<h5>Vergleich der Seitenaufrufe zum Wikipedia-Artikel</h5>"
      ],
      "text/plain": [
       "<IPython.core.display.HTML object>"
      ]
     },
     "metadata": {},
     "output_type": "display_data"
    },
    {
     "name": "stdout",
     "output_type": "stream",
     "text": [
      "Wikipedia-Artikel: Stetigkeit\n",
      "Views 2018:    114.252 ┬    -7.715 ( -6%)\n",
      "Views 2017:    121.967 ┘      \n",
      "\n",
      "MFNF / Wikipedia – 2018:  25%\n",
      "MFNF / Wikipedia – 2017:  15%\n"
     ]
    },
    {
     "data": {
      "text/markdown": [
       "[Zurück zum Inhaltsverzeichnis](#Inhaltsverzeichnis)"
      ],
      "text/plain": [
       "<IPython.core.display.Markdown object>"
      ]
     },
     "metadata": {},
     "output_type": "display_data"
    },
    {
     "data": {
      "text/html": [
       "<h4 id='Folgenkriterium'>==== Folgenkriterium ====</h4>"
      ],
      "text/plain": [
       "<IPython.core.display.HTML object>"
      ]
     },
     "metadata": {},
     "output_type": "display_data"
    },
    {
     "data": {
      "text/html": [
       "<h5>Seitenaufrufe des Artikels 'Mathe für Nicht-Freaks: Folgenkriterium der Stetigkeit: Folgenstetigkeit'</h5>"
      ],
      "text/plain": [
       "<IPython.core.display.HTML object>"
      ]
     },
     "metadata": {},
     "output_type": "display_data"
    },
    {
     "name": "stdout",
     "output_type": "stream",
     "text": [
      "2018:    44.957 ┬   +14.854 (+49%)\n",
      "2017:    30.103 ┘      \n"
     ]
    },
    {
     "data": {
      "text/html": [
       "<h5>Bearbeitungen im Artikel 'Mathe für Nicht-Freaks: Folgenkriterium der Stetigkeit: Folgenstetigkeit'</h5>"
      ],
      "text/plain": [
       "<IPython.core.display.HTML object>"
      ]
     },
     "metadata": {},
     "output_type": "display_data"
    },
    {
     "name": "stdout",
     "output_type": "stream",
     "text": [
      "2018:         9 ┬       -70 (-89%)\n",
      "2017:        79 ┘      \n"
     ]
    },
    {
     "data": {
      "text/markdown": [
       "[Zurück zum Inhaltsverzeichnis](#Inhaltsverzeichnis)"
      ],
      "text/plain": [
       "<IPython.core.display.Markdown object>"
      ]
     },
     "metadata": {},
     "output_type": "display_data"
    },
    {
     "data": {
      "text/html": [
       "<h4 id='Epsilon-Delta-Kriterium'>==== Epsilon-Delta-Kriterium ====</h4>"
      ],
      "text/plain": [
       "<IPython.core.display.HTML object>"
      ]
     },
     "metadata": {},
     "output_type": "display_data"
    },
    {
     "data": {
      "text/html": [
       "<h5>Seitenaufrufe des Artikels 'Mathe für Nicht-Freaks: Epsilon-Delta-Kriterium der Stetigkeit'</h5>"
      ],
      "text/plain": [
       "<IPython.core.display.HTML object>"
      ]
     },
     "metadata": {},
     "output_type": "display_data"
    },
    {
     "name": "stdout",
     "output_type": "stream",
     "text": [
      "2018:    33.234 ┬   +11.906 (+56%)\n",
      "2017:    21.328 ┘      \n"
     ]
    },
    {
     "data": {
      "text/html": [
       "<h5>Bearbeitungen im Artikel 'Mathe für Nicht-Freaks: Epsilon-Delta-Kriterium der Stetigkeit'</h5>"
      ],
      "text/plain": [
       "<IPython.core.display.HTML object>"
      ]
     },
     "metadata": {},
     "output_type": "display_data"
    },
    {
     "name": "stdout",
     "output_type": "stream",
     "text": [
      "2018:        11 ┬       -98 (-90%)\n",
      "2017:       109 ┘      \n"
     ]
    },
    {
     "data": {
      "text/markdown": [
       "[Zurück zum Inhaltsverzeichnis](#Inhaltsverzeichnis)"
      ],
      "text/plain": [
       "<IPython.core.display.Markdown object>"
      ]
     },
     "metadata": {},
     "output_type": "display_data"
    },
    {
     "data": {
      "text/html": [
       "<h4 id='Grenzwert von Funktionen'>==== Grenzwert von Funktionen ====</h4>"
      ],
      "text/plain": [
       "<IPython.core.display.HTML object>"
      ]
     },
     "metadata": {},
     "output_type": "display_data"
    },
    {
     "data": {
      "text/html": [
       "<h5>Seitenaufrufe des Artikels 'Mathe für Nicht-Freaks: Grenzwert von Funktionen'</h5>"
      ],
      "text/plain": [
       "<IPython.core.display.HTML object>"
      ]
     },
     "metadata": {},
     "output_type": "display_data"
    },
    {
     "name": "stdout",
     "output_type": "stream",
     "text": [
      "2018:     6.400 ┬    +2.676 (+72%)\n",
      "2017:     3.724 ┘      \n"
     ]
    },
    {
     "data": {
      "text/html": [
       "<h5>Bearbeitungen im Artikel 'Mathe für Nicht-Freaks: Grenzwert von Funktionen'</h5>"
      ],
      "text/plain": [
       "<IPython.core.display.HTML object>"
      ]
     },
     "metadata": {},
     "output_type": "display_data"
    },
    {
     "name": "stdout",
     "output_type": "stream",
     "text": [
      "2018:         1 ┬      -104 (-99%)\n",
      "2017:       105 ┘      \n"
     ]
    },
    {
     "data": {
      "text/html": [
       "<h5>Vergleich der Seitenaufrufe zum Wikipedia-Artikel</h5>"
      ],
      "text/plain": [
       "<IPython.core.display.HTML object>"
      ]
     },
     "metadata": {},
     "output_type": "display_data"
    },
    {
     "name": "stdout",
     "output_type": "stream",
     "text": [
      "Wikipedia-Artikel: Grenzwert (Funktion)\n",
      "Views 2018:     91.493 ┬    +6.663 ( +8%)\n",
      "Views 2017:     84.830 ┘      \n",
      "\n",
      "MFNF / Wikipedia – 2018:   7%\n",
      "MFNF / Wikipedia – 2017:   4%\n"
     ]
    },
    {
     "data": {
      "text/markdown": [
       "[Zurück zum Inhaltsverzeichnis](#Inhaltsverzeichnis)"
      ],
      "text/plain": [
       "<IPython.core.display.Markdown object>"
      ]
     },
     "metadata": {},
     "output_type": "display_data"
    },
    {
     "data": {
      "text/html": [
       "<h4 id='Komposition stetiger Funktionen'>==== Komposition stetiger Funktionen ====</h4>"
      ],
      "text/plain": [
       "<IPython.core.display.HTML object>"
      ]
     },
     "metadata": {},
     "output_type": "display_data"
    },
    {
     "data": {
      "text/html": [
       "<h5>Seitenaufrufe des Artikels 'Mathe für Nicht-Freaks: Komposition stetiger Funktionen'</h5>"
      ],
      "text/plain": [
       "<IPython.core.display.HTML object>"
      ]
     },
     "metadata": {},
     "output_type": "display_data"
    },
    {
     "name": "stdout",
     "output_type": "stream",
     "text": [
      "2018:     9.128 ┬    +2.482 (+37%)\n",
      "2017:     6.646 ┘      \n"
     ]
    },
    {
     "data": {
      "text/html": [
       "<h5>Bearbeitungen im Artikel 'Mathe für Nicht-Freaks: Komposition stetiger Funktionen'</h5>"
      ],
      "text/plain": [
       "<IPython.core.display.HTML object>"
      ]
     },
     "metadata": {},
     "output_type": "display_data"
    },
    {
     "name": "stdout",
     "output_type": "stream",
     "text": [
      "2018:         4 ┬       -31 (-89%)\n",
      "2017:        35 ┘      \n"
     ]
    },
    {
     "data": {
      "text/markdown": [
       "[Zurück zum Inhaltsverzeichnis](#Inhaltsverzeichnis)"
      ],
      "text/plain": [
       "<IPython.core.display.Markdown object>"
      ]
     },
     "metadata": {},
     "output_type": "display_data"
    },
    {
     "data": {
      "text/html": [
       "<h4 id='Stetigkeit beweisen'>==== Stetigkeit beweisen ====</h4>"
      ],
      "text/plain": [
       "<IPython.core.display.HTML object>"
      ]
     },
     "metadata": {},
     "output_type": "display_data"
    },
    {
     "data": {
      "text/html": [
       "<h5>Seitenaufrufe des Artikels 'Mathe für Nicht-Freaks: Stetigkeit beweisen: Epsilon-Delta-Kriterium und Folgenkriterium'</h5>"
      ],
      "text/plain": [
       "<IPython.core.display.HTML object>"
      ]
     },
     "metadata": {},
     "output_type": "display_data"
    },
    {
     "name": "stdout",
     "output_type": "stream",
     "text": [
      "2018:    26.812 ┬   +12.353 (+85%)\n",
      "2017:    14.459 ┘      \n"
     ]
    },
    {
     "data": {
      "text/html": [
       "<h5>Bearbeitungen im Artikel 'Mathe für Nicht-Freaks: Stetigkeit beweisen: Epsilon-Delta-Kriterium und Folgenkriterium'</h5>"
      ],
      "text/plain": [
       "<IPython.core.display.HTML object>"
      ]
     },
     "metadata": {},
     "output_type": "display_data"
    },
    {
     "name": "stdout",
     "output_type": "stream",
     "text": [
      "2018:         4 ┬       -83 (-95%)\n",
      "2017:        87 ┘      \n"
     ]
    },
    {
     "data": {
      "text/markdown": [
       "[Zurück zum Inhaltsverzeichnis](#Inhaltsverzeichnis)"
      ],
      "text/plain": [
       "<IPython.core.display.Markdown object>"
      ]
     },
     "metadata": {},
     "output_type": "display_data"
    },
    {
     "data": {
      "text/html": [
       "<h4 id='Unstetigkeit beweisen'>==== Unstetigkeit beweisen ====</h4>"
      ],
      "text/plain": [
       "<IPython.core.display.HTML object>"
      ]
     },
     "metadata": {},
     "output_type": "display_data"
    },
    {
     "data": {
      "text/html": [
       "<h5>Seitenaufrufe des Artikels 'Mathe für Nicht-Freaks: Unstetigkeit beweisen: Epsilon-Delta-Kriterium und Folgenkriterium'</h5>"
      ],
      "text/plain": [
       "<IPython.core.display.HTML object>"
      ]
     },
     "metadata": {},
     "output_type": "display_data"
    },
    {
     "name": "stdout",
     "output_type": "stream",
     "text": [
      "2018:     3.730 ┬    +1.870 (+101%)\n",
      "2017:     1.860 ┘      \n"
     ]
    },
    {
     "data": {
      "text/html": [
       "<h5>Bearbeitungen im Artikel 'Mathe für Nicht-Freaks: Unstetigkeit beweisen: Epsilon-Delta-Kriterium und Folgenkriterium'</h5>"
      ],
      "text/plain": [
       "<IPython.core.display.HTML object>"
      ]
     },
     "metadata": {},
     "output_type": "display_data"
    },
    {
     "name": "stdout",
     "output_type": "stream",
     "text": [
      "2018:         1 ┬       -36 (-97%)\n",
      "2017:        37 ┘      \n"
     ]
    },
    {
     "data": {
      "text/markdown": [
       "[Zurück zum Inhaltsverzeichnis](#Inhaltsverzeichnis)"
      ],
      "text/plain": [
       "<IPython.core.display.Markdown object>"
      ]
     },
     "metadata": {},
     "output_type": "display_data"
    },
    {
     "data": {
      "text/html": [
       "<h4 id='Zwischenwertsatz'>==== Zwischenwertsatz ====</h4>"
      ],
      "text/plain": [
       "<IPython.core.display.HTML object>"
      ]
     },
     "metadata": {},
     "output_type": "display_data"
    },
    {
     "data": {
      "text/html": [
       "<h5>Seitenaufrufe des Artikels 'Mathe für Nicht-Freaks: Zwischenwertsatz'</h5>"
      ],
      "text/plain": [
       "<IPython.core.display.HTML object>"
      ]
     },
     "metadata": {},
     "output_type": "display_data"
    },
    {
     "name": "stdout",
     "output_type": "stream",
     "text": [
      "2018:    14.899 ┬    +4.876 (+49%)\n",
      "2017:    10.023 ┘      \n"
     ]
    },
    {
     "data": {
      "text/html": [
       "<h5>Bearbeitungen im Artikel 'Mathe für Nicht-Freaks: Zwischenwertsatz'</h5>"
      ],
      "text/plain": [
       "<IPython.core.display.HTML object>"
      ]
     },
     "metadata": {},
     "output_type": "display_data"
    },
    {
     "name": "stdout",
     "output_type": "stream",
     "text": [
      "2018:         7 ┬       -40 (-85%)\n",
      "2017:        47 ┘      \n"
     ]
    },
    {
     "data": {
      "text/html": [
       "<h5>Vergleich der Seitenaufrufe zum Wikipedia-Artikel</h5>"
      ],
      "text/plain": [
       "<IPython.core.display.HTML object>"
      ]
     },
     "metadata": {},
     "output_type": "display_data"
    },
    {
     "name": "stdout",
     "output_type": "stream",
     "text": [
      "Wikipedia-Artikel: Zwischenwertsatz\n",
      "Views 2018:     31.998 ┬      +408 ( +1%)\n",
      "Views 2017:     31.590 ┘      \n",
      "\n",
      "MFNF / Wikipedia – 2018:  47%\n",
      "MFNF / Wikipedia – 2017:  32%\n"
     ]
    },
    {
     "data": {
      "text/markdown": [
       "[Zurück zum Inhaltsverzeichnis](#Inhaltsverzeichnis)"
      ],
      "text/plain": [
       "<IPython.core.display.Markdown object>"
      ]
     },
     "metadata": {},
     "output_type": "display_data"
    },
    {
     "data": {
      "text/html": [
       "<h4 id='Satz vom Minimum und Maximum'>==== Satz vom Minimum und Maximum ====</h4>"
      ],
      "text/plain": [
       "<IPython.core.display.HTML object>"
      ]
     },
     "metadata": {},
     "output_type": "display_data"
    },
    {
     "data": {
      "text/html": [
       "<h5>Seitenaufrufe des Artikels 'Mathe für Nicht-Freaks: Satz vom Minimum und Maximum'</h5>"
      ],
      "text/plain": [
       "<IPython.core.display.HTML object>"
      ]
     },
     "metadata": {},
     "output_type": "display_data"
    },
    {
     "name": "stdout",
     "output_type": "stream",
     "text": [
      "2018:    11.782 ┬    +3.883 (+49%)\n",
      "2017:     7.899 ┘      \n"
     ]
    },
    {
     "data": {
      "text/html": [
       "<h5>Bearbeitungen im Artikel 'Mathe für Nicht-Freaks: Satz vom Minimum und Maximum'</h5>"
      ],
      "text/plain": [
       "<IPython.core.display.HTML object>"
      ]
     },
     "metadata": {},
     "output_type": "display_data"
    },
    {
     "name": "stdout",
     "output_type": "stream",
     "text": [
      "2018:         5 ┬       -44 (-90%)\n",
      "2017:        49 ┘      \n"
     ]
    },
    {
     "data": {
      "text/html": [
       "<h5>Vergleich der Seitenaufrufe zum Wikipedia-Artikel</h5>"
      ],
      "text/plain": [
       "<IPython.core.display.HTML object>"
      ]
     },
     "metadata": {},
     "output_type": "display_data"
    },
    {
     "name": "stdout",
     "output_type": "stream",
     "text": [
      "Wikipedia-Artikel: Satz vom Minimum und Maximum\n",
      "Views 2018:     14.272 ┬    +1.794 (+14%)\n",
      "Views 2017:     12.478 ┘      \n",
      "\n",
      "MFNF / Wikipedia – 2018:  83%\n",
      "MFNF / Wikipedia – 2017:  63%\n"
     ]
    },
    {
     "data": {
      "text/markdown": [
       "[Zurück zum Inhaltsverzeichnis](#Inhaltsverzeichnis)"
      ],
      "text/plain": [
       "<IPython.core.display.Markdown object>"
      ]
     },
     "metadata": {},
     "output_type": "display_data"
    },
    {
     "data": {
      "text/html": [
       "<h4 id='Stetigkeit der Umkehrfunktion'>==== Stetigkeit der Umkehrfunktion ====</h4>"
      ],
      "text/plain": [
       "<IPython.core.display.HTML object>"
      ]
     },
     "metadata": {},
     "output_type": "display_data"
    },
    {
     "data": {
      "text/html": [
       "<h5>Seitenaufrufe des Artikels 'Mathe für Nicht-Freaks: Stetigkeit der Umkehrfunktion'</h5>"
      ],
      "text/plain": [
       "<IPython.core.display.HTML object>"
      ]
     },
     "metadata": {},
     "output_type": "display_data"
    },
    {
     "name": "stdout",
     "output_type": "stream",
     "text": [
      "2018:     6.130 ┬    +2.299 (+60%)\n",
      "2017:     3.831 ┘      \n"
     ]
    },
    {
     "data": {
      "text/html": [
       "<h5>Bearbeitungen im Artikel 'Mathe für Nicht-Freaks: Stetigkeit der Umkehrfunktion'</h5>"
      ],
      "text/plain": [
       "<IPython.core.display.HTML object>"
      ]
     },
     "metadata": {},
     "output_type": "display_data"
    },
    {
     "name": "stdout",
     "output_type": "stream",
     "text": [
      "2018:         3 ┬       -23 (-88%)\n",
      "2017:        26 ┘      \n"
     ]
    },
    {
     "data": {
      "text/markdown": [
       "[Zurück zum Inhaltsverzeichnis](#Inhaltsverzeichnis)"
      ],
      "text/plain": [
       "<IPython.core.display.Markdown object>"
      ]
     },
     "metadata": {},
     "output_type": "display_data"
    },
    {
     "data": {
      "text/html": [
       "<h4 id='Gleichmäßige Stetigkeit'>==== Gleichmäßige Stetigkeit ====</h4>"
      ],
      "text/plain": [
       "<IPython.core.display.HTML object>"
      ]
     },
     "metadata": {},
     "output_type": "display_data"
    },
    {
     "data": {
      "text/html": [
       "<h5>Seitenaufrufe des Artikels 'Mathe für Nicht-Freaks: Gleichmäßige Stetigkeit'</h5>"
      ],
      "text/plain": [
       "<IPython.core.display.HTML object>"
      ]
     },
     "metadata": {},
     "output_type": "display_data"
    },
    {
     "name": "stdout",
     "output_type": "stream",
     "text": [
      "2018:    16.991 ┬    +7.092 (+72%)\n",
      "2017:     9.899 ┘      \n"
     ]
    },
    {
     "data": {
      "text/html": [
       "<h5>Bearbeitungen im Artikel 'Mathe für Nicht-Freaks: Gleichmäßige Stetigkeit'</h5>"
      ],
      "text/plain": [
       "<IPython.core.display.HTML object>"
      ]
     },
     "metadata": {},
     "output_type": "display_data"
    },
    {
     "name": "stdout",
     "output_type": "stream",
     "text": [
      "2018:         5 ┬       -66 (-93%)\n",
      "2017:        71 ┘      \n"
     ]
    },
    {
     "data": {
      "text/html": [
       "<h5>Vergleich der Seitenaufrufe zum Wikipedia-Artikel</h5>"
      ],
      "text/plain": [
       "<IPython.core.display.HTML object>"
      ]
     },
     "metadata": {},
     "output_type": "display_data"
    },
    {
     "name": "stdout",
     "output_type": "stream",
     "text": [
      "Wikipedia-Artikel: Gleichmäßige Stetigkeit\n",
      "Views 2018:     26.356 ┬      -233 ( -1%)\n",
      "Views 2017:     26.589 ┘      \n",
      "\n",
      "MFNF / Wikipedia – 2018:  64%\n",
      "MFNF / Wikipedia – 2017:  37%\n"
     ]
    },
    {
     "data": {
      "text/markdown": [
       "[Zurück zum Inhaltsverzeichnis](#Inhaltsverzeichnis)"
      ],
      "text/plain": [
       "<IPython.core.display.Markdown object>"
      ]
     },
     "metadata": {},
     "output_type": "display_data"
    },
    {
     "data": {
      "text/html": [
       "<h4 id='Lipschitz-Stetigkeit'>==== Lipschitz-Stetigkeit ====</h4>"
      ],
      "text/plain": [
       "<IPython.core.display.HTML object>"
      ]
     },
     "metadata": {},
     "output_type": "display_data"
    },
    {
     "data": {
      "text/html": [
       "<h5>Seitenaufrufe des Artikels 'Mathe für Nicht-Freaks: Lipschitz-Stetigkeit'</h5>"
      ],
      "text/plain": [
       "<IPython.core.display.HTML object>"
      ]
     },
     "metadata": {},
     "output_type": "display_data"
    },
    {
     "name": "stdout",
     "output_type": "stream",
     "text": [
      "2018:    19.813 ┬   +13.574 (+218%)\n",
      "2017:     6.239 ┘      \n"
     ]
    },
    {
     "data": {
      "text/html": [
       "<h5>Bearbeitungen im Artikel 'Mathe für Nicht-Freaks: Lipschitz-Stetigkeit'</h5>"
      ],
      "text/plain": [
       "<IPython.core.display.HTML object>"
      ]
     },
     "metadata": {},
     "output_type": "display_data"
    },
    {
     "name": "stdout",
     "output_type": "stream",
     "text": [
      "2018:        54 ┬       +19 (+54%)\n",
      "2017:        35 ┘      \n"
     ]
    },
    {
     "data": {
      "text/html": [
       "<h5>Vergleich der Seitenaufrufe zum Wikipedia-Artikel</h5>"
      ],
      "text/plain": [
       "<IPython.core.display.HTML object>"
      ]
     },
     "metadata": {},
     "output_type": "display_data"
    },
    {
     "name": "stdout",
     "output_type": "stream",
     "text": [
      "Wikipedia-Artikel: Lipschitz-Stetigkeit\n",
      "Views 2018:     51.361 ┬      +326 ( +1%)\n",
      "Views 2017:     51.035 ┘      \n",
      "\n",
      "MFNF / Wikipedia – 2018:  39%\n",
      "MFNF / Wikipedia – 2017:  12%\n"
     ]
    },
    {
     "data": {
      "text/markdown": [
       "[Zurück zum Inhaltsverzeichnis](#Inhaltsverzeichnis)"
      ],
      "text/plain": [
       "<IPython.core.display.Markdown object>"
      ]
     },
     "metadata": {},
     "output_type": "display_data"
    },
    {
     "data": {
      "text/html": [
       "<h4 id='Aufgaben'>==== Aufgaben ====</h4>"
      ],
      "text/plain": [
       "<IPython.core.display.HTML object>"
      ]
     },
     "metadata": {},
     "output_type": "display_data"
    },
    {
     "data": {
      "text/html": [
       "<h5>Seitenaufrufe des Artikels 'Mathe für Nicht-Freaks: Aufgaben zur Stetigkeit'</h5>"
      ],
      "text/plain": [
       "<IPython.core.display.HTML object>"
      ]
     },
     "metadata": {},
     "output_type": "display_data"
    },
    {
     "name": "stdout",
     "output_type": "stream",
     "text": [
      "2018:     4.582 ┬    +1.369 (+43%)\n",
      "2017:     3.213 ┘      \n"
     ]
    },
    {
     "data": {
      "text/html": [
       "<h5>Bearbeitungen im Artikel 'Mathe für Nicht-Freaks: Aufgaben zur Stetigkeit'</h5>"
      ],
      "text/plain": [
       "<IPython.core.display.HTML object>"
      ]
     },
     "metadata": {},
     "output_type": "display_data"
    },
    {
     "name": "stdout",
     "output_type": "stream",
     "text": [
      "2018:         1 ┬       -15 (-94%)\n",
      "2017:        16 ┘      \n"
     ]
    },
    {
     "data": {
      "text/markdown": [
       "[Zurück zum Inhaltsverzeichnis](#Inhaltsverzeichnis)"
      ],
      "text/plain": [
       "<IPython.core.display.Markdown object>"
      ]
     },
     "metadata": {},
     "output_type": "display_data"
    },
    {
     "data": {
      "text/html": [
       "<h3 id='Ableitung'>=== Ableitung ===</h3>"
      ],
      "text/plain": [
       "<IPython.core.display.HTML object>"
      ]
     },
     "metadata": {},
     "output_type": "display_data"
    },
    {
     "data": {
      "text/markdown": [
       "[Zurück zum Inhaltsverzeichnis](#Inhaltsverzeichnis)"
      ],
      "text/plain": [
       "<IPython.core.display.Markdown object>"
      ]
     },
     "metadata": {},
     "output_type": "display_data"
    },
    {
     "data": {
      "text/html": [
       "<h4 id='Ableitung'>==== Ableitung ====</h4>"
      ],
      "text/plain": [
       "<IPython.core.display.HTML object>"
      ]
     },
     "metadata": {},
     "output_type": "display_data"
    },
    {
     "data": {
      "text/html": [
       "<h5>Seitenaufrufe des Artikels 'Mathe für Nicht-Freaks: Ableitung und Differenzierbarkeit'</h5>"
      ],
      "text/plain": [
       "<IPython.core.display.HTML object>"
      ]
     },
     "metadata": {},
     "output_type": "display_data"
    },
    {
     "name": "stdout",
     "output_type": "stream",
     "text": [
      "2018:    14.655 ┬    +7.226 (+97%)\n",
      "2017:     7.429 ┘      \n"
     ]
    },
    {
     "data": {
      "text/html": [
       "<h5>Bearbeitungen im Artikel 'Mathe für Nicht-Freaks: Ableitung und Differenzierbarkeit'</h5>"
      ],
      "text/plain": [
       "<IPython.core.display.HTML object>"
      ]
     },
     "metadata": {},
     "output_type": "display_data"
    },
    {
     "name": "stdout",
     "output_type": "stream",
     "text": [
      "2018:         2 ┬      -123 (-98%)\n",
      "2017:       125 ┘      \n"
     ]
    },
    {
     "data": {
      "text/html": [
       "<h5>Vergleich der Seitenaufrufe zum Wikipedia-Artikel</h5>"
      ],
      "text/plain": [
       "<IPython.core.display.HTML object>"
      ]
     },
     "metadata": {},
     "output_type": "display_data"
    },
    {
     "name": "stdout",
     "output_type": "stream",
     "text": [
      "Wikipedia-Artikel: Differentialrechnung\n",
      "Views 2018:    210.993 ┬   -16.781 ( -7%)\n",
      "Views 2017:    227.774 ┘      \n",
      "\n",
      "MFNF / Wikipedia – 2018:   7%\n",
      "MFNF / Wikipedia – 2017:   3%\n"
     ]
    },
    {
     "data": {
      "text/markdown": [
       "[Zurück zum Inhaltsverzeichnis](#Inhaltsverzeichnis)"
      ],
      "text/plain": [
       "<IPython.core.display.Markdown object>"
      ]
     },
     "metadata": {},
     "output_type": "display_data"
    },
    {
     "data": {
      "text/html": [
       "<h4 id='Ableitungsregeln'>==== Ableitungsregeln ====</h4>"
      ],
      "text/plain": [
       "<IPython.core.display.HTML object>"
      ]
     },
     "metadata": {},
     "output_type": "display_data"
    },
    {
     "data": {
      "text/html": [
       "<h5>Seitenaufrufe des Artikels 'Mathe für Nicht-Freaks: Ableitungsregeln: Kettenregel, Quotientenregel, Produktregel, Summenregel, Faktorregel'</h5>"
      ],
      "text/plain": [
       "<IPython.core.display.HTML object>"
      ]
     },
     "metadata": {},
     "output_type": "display_data"
    },
    {
     "name": "stdout",
     "output_type": "stream",
     "text": [
      "2018:     2.596 ┬      +415 (+19%)\n",
      "2017:     2.181 ┘      \n"
     ]
    },
    {
     "data": {
      "text/html": [
       "<h5>Bearbeitungen im Artikel 'Mathe für Nicht-Freaks: Ableitungsregeln: Kettenregel, Quotientenregel, Produktregel, Summenregel, Faktorregel'</h5>"
      ],
      "text/plain": [
       "<IPython.core.display.HTML object>"
      ]
     },
     "metadata": {},
     "output_type": "display_data"
    },
    {
     "name": "stdout",
     "output_type": "stream",
     "text": [
      "2018:         1 ┬       -35 (-97%)\n",
      "2017:        36 ┘      \n"
     ]
    },
    {
     "data": {
      "text/markdown": [
       "[Zurück zum Inhaltsverzeichnis](#Inhaltsverzeichnis)"
      ],
      "text/plain": [
       "<IPython.core.display.Markdown object>"
      ]
     },
     "metadata": {},
     "output_type": "display_data"
    },
    {
     "data": {
      "text/html": [
       "<h4 id='Spezielle Ableitungsregeln'>==== Spezielle Ableitungsregeln ====</h4>"
      ],
      "text/plain": [
       "<IPython.core.display.HTML object>"
      ]
     },
     "metadata": {},
     "output_type": "display_data"
    },
    {
     "data": {
      "text/html": [
       "<h5>Seitenaufrufe des Artikels 'Mathe für Nicht-Freaks: Spezielle Ableitungsregeln'</h5>"
      ],
      "text/plain": [
       "<IPython.core.display.HTML object>"
      ]
     },
     "metadata": {},
     "output_type": "display_data"
    },
    {
     "name": "stdout",
     "output_type": "stream",
     "text": [
      "2018:     1.182 ┬      +888 (+302%)\n",
      "2017:       294 ┘      \n"
     ]
    },
    {
     "data": {
      "text/html": [
       "<h5>Bearbeitungen im Artikel 'Mathe für Nicht-Freaks: Spezielle Ableitungsregeln'</h5>"
      ],
      "text/plain": [
       "<IPython.core.display.HTML object>"
      ]
     },
     "metadata": {},
     "output_type": "display_data"
    },
    {
     "name": "stdout",
     "output_type": "stream",
     "text": [
      "2018:         1 ┬        -1 (-50%)\n",
      "2017:         2 ┘      \n"
     ]
    },
    {
     "data": {
      "text/markdown": [
       "[Zurück zum Inhaltsverzeichnis](#Inhaltsverzeichnis)"
      ],
      "text/plain": [
       "<IPython.core.display.Markdown object>"
      ]
     },
     "metadata": {},
     "output_type": "display_data"
    },
    {
     "data": {
      "text/html": [
       "<h4 id='Ableitung der Umkehrfunktion'>==== Ableitung der Umkehrfunktion ====</h4>"
      ],
      "text/plain": [
       "<IPython.core.display.HTML object>"
      ]
     },
     "metadata": {},
     "output_type": "display_data"
    },
    {
     "data": {
      "text/html": [
       "<h5>Seitenaufrufe des Artikels 'Mathe für Nicht-Freaks: Ableitung der Umkehrfunktion'</h5>"
      ],
      "text/plain": [
       "<IPython.core.display.HTML object>"
      ]
     },
     "metadata": {},
     "output_type": "display_data"
    },
    {
     "name": "stdout",
     "output_type": "stream",
     "text": [
      "2018:     5.025 ┬    +1.870 (+59%)\n",
      "2017:     3.155 ┘      \n"
     ]
    },
    {
     "data": {
      "text/html": [
       "<h5>Bearbeitungen im Artikel 'Mathe für Nicht-Freaks: Ableitung der Umkehrfunktion'</h5>"
      ],
      "text/plain": [
       "<IPython.core.display.HTML object>"
      ]
     },
     "metadata": {},
     "output_type": "display_data"
    },
    {
     "name": "stdout",
     "output_type": "stream",
     "text": [
      "2018:         2 ┬       -20 (-91%)\n",
      "2017:        22 ┘      \n"
     ]
    },
    {
     "data": {
      "text/markdown": [
       "[Zurück zum Inhaltsverzeichnis](#Inhaltsverzeichnis)"
      ],
      "text/plain": [
       "<IPython.core.display.Markdown object>"
      ]
     },
     "metadata": {},
     "output_type": "display_data"
    },
    {
     "data": {
      "text/html": [
       "<h4 id='Beispiele für Ableitungen'>==== Beispiele für Ableitungen ====</h4>"
      ],
      "text/plain": [
       "<IPython.core.display.HTML object>"
      ]
     },
     "metadata": {},
     "output_type": "display_data"
    },
    {
     "data": {
      "text/html": [
       "<h5>Seitenaufrufe des Artikels 'Mathe für Nicht-Freaks: Beispiele für Ableitungen'</h5>"
      ],
      "text/plain": [
       "<IPython.core.display.HTML object>"
      ]
     },
     "metadata": {},
     "output_type": "display_data"
    },
    {
     "name": "stdout",
     "output_type": "stream",
     "text": [
      "2018:     1.519 ┬      +152 (+11%)\n",
      "2017:     1.367 ┘      \n"
     ]
    },
    {
     "data": {
      "text/html": [
       "<h5>Bearbeitungen im Artikel 'Mathe für Nicht-Freaks: Beispiele für Ableitungen'</h5>"
      ],
      "text/plain": [
       "<IPython.core.display.HTML object>"
      ]
     },
     "metadata": {},
     "output_type": "display_data"
    },
    {
     "name": "stdout",
     "output_type": "stream",
     "text": [
      "2018:         2 ┬       -15 (-88%)\n",
      "2017:        17 ┘      \n"
     ]
    },
    {
     "data": {
      "text/markdown": [
       "[Zurück zum Inhaltsverzeichnis](#Inhaltsverzeichnis)"
      ],
      "text/plain": [
       "<IPython.core.display.Markdown object>"
      ]
     },
     "metadata": {},
     "output_type": "display_data"
    },
    {
     "data": {
      "text/html": [
       "<h4 id='Ableitung höherer Ordnung'>==== Ableitung höherer Ordnung ====</h4>"
      ],
      "text/plain": [
       "<IPython.core.display.HTML object>"
      ]
     },
     "metadata": {},
     "output_type": "display_data"
    },
    {
     "data": {
      "text/html": [
       "<h5>Seitenaufrufe des Artikels 'Mathe für Nicht-Freaks: Ableitung höherer Ordnung'</h5>"
      ],
      "text/plain": [
       "<IPython.core.display.HTML object>"
      ]
     },
     "metadata": {},
     "output_type": "display_data"
    },
    {
     "name": "stdout",
     "output_type": "stream",
     "text": [
      "2018:     3.728 ┬    +1.988 (+114%)\n",
      "2017:     1.740 ┘      \n"
     ]
    },
    {
     "data": {
      "text/html": [
       "<h5>Bearbeitungen im Artikel 'Mathe für Nicht-Freaks: Ableitung höherer Ordnung'</h5>"
      ],
      "text/plain": [
       "<IPython.core.display.HTML object>"
      ]
     },
     "metadata": {},
     "output_type": "display_data"
    },
    {
     "name": "stdout",
     "output_type": "stream",
     "text": [
      "2018:         9 ┬        -7 (-44%)\n",
      "2017:        16 ┘      \n"
     ]
    },
    {
     "data": {
      "text/markdown": [
       "[Zurück zum Inhaltsverzeichnis](#Inhaltsverzeichnis)"
      ],
      "text/plain": [
       "<IPython.core.display.Markdown object>"
      ]
     },
     "metadata": {},
     "output_type": "display_data"
    },
    {
     "data": {
      "text/html": [
       "<h4 id='Satz von Rolle'>==== Satz von Rolle ====</h4>"
      ],
      "text/plain": [
       "<IPython.core.display.HTML object>"
      ]
     },
     "metadata": {},
     "output_type": "display_data"
    },
    {
     "data": {
      "text/html": [
       "<h5>Seitenaufrufe des Artikels 'Mathe für Nicht-Freaks: Satz von Rolle'</h5>"
      ],
      "text/plain": [
       "<IPython.core.display.HTML object>"
      ]
     },
     "metadata": {},
     "output_type": "display_data"
    },
    {
     "name": "stdout",
     "output_type": "stream",
     "text": [
      "2018:     6.059 ┬    +2.064 (+52%)\n",
      "2017:     3.995 ┘      \n"
     ]
    },
    {
     "data": {
      "text/html": [
       "<h5>Bearbeitungen im Artikel 'Mathe für Nicht-Freaks: Satz von Rolle'</h5>"
      ],
      "text/plain": [
       "<IPython.core.display.HTML object>"
      ]
     },
     "metadata": {},
     "output_type": "display_data"
    },
    {
     "name": "stdout",
     "output_type": "stream",
     "text": [
      "2018:         7 ┬        -5 (-42%)\n",
      "2017:        12 ┘      \n"
     ]
    },
    {
     "data": {
      "text/html": [
       "<h5>Vergleich der Seitenaufrufe zum Wikipedia-Artikel</h5>"
      ],
      "text/plain": [
       "<IPython.core.display.HTML object>"
      ]
     },
     "metadata": {},
     "output_type": "display_data"
    },
    {
     "name": "stdout",
     "output_type": "stream",
     "text": [
      "Wikipedia-Artikel: Satz von Rolle\n",
      "Views 2018:     17.116 ┬    +2.925 (+21%)\n",
      "Views 2017:     14.191 ┘      \n",
      "\n",
      "MFNF / Wikipedia – 2018:  35%\n",
      "MFNF / Wikipedia – 2017:  28%\n"
     ]
    },
    {
     "data": {
      "text/markdown": [
       "[Zurück zum Inhaltsverzeichnis](#Inhaltsverzeichnis)"
      ],
      "text/plain": [
       "<IPython.core.display.Markdown object>"
      ]
     },
     "metadata": {},
     "output_type": "display_data"
    },
    {
     "data": {
      "text/html": [
       "<h4 id='Mittelwertsatz'>==== Mittelwertsatz ====</h4>"
      ],
      "text/plain": [
       "<IPython.core.display.HTML object>"
      ]
     },
     "metadata": {},
     "output_type": "display_data"
    },
    {
     "data": {
      "text/html": [
       "<h5>Seitenaufrufe des Artikels 'Mathe für Nicht-Freaks: Mittelwertsatz'</h5>"
      ],
      "text/plain": [
       "<IPython.core.display.HTML object>"
      ]
     },
     "metadata": {},
     "output_type": "display_data"
    },
    {
     "name": "stdout",
     "output_type": "stream",
     "text": [
      "2018:    19.038 ┬    +7.981 (+72%)\n",
      "2017:    11.057 ┘      \n"
     ]
    },
    {
     "data": {
      "text/html": [
       "<h5>Bearbeitungen im Artikel 'Mathe für Nicht-Freaks: Mittelwertsatz'</h5>"
      ],
      "text/plain": [
       "<IPython.core.display.HTML object>"
      ]
     },
     "metadata": {},
     "output_type": "display_data"
    },
    {
     "name": "stdout",
     "output_type": "stream",
     "text": [
      "2018:         5 ┬       -41 (-89%)\n",
      "2017:        46 ┘      \n"
     ]
    },
    {
     "data": {
      "text/html": [
       "<h5>Vergleich der Seitenaufrufe zum Wikipedia-Artikel</h5>"
      ],
      "text/plain": [
       "<IPython.core.display.HTML object>"
      ]
     },
     "metadata": {},
     "output_type": "display_data"
    },
    {
     "name": "stdout",
     "output_type": "stream",
     "text": [
      "Wikipedia-Artikel: Mittelwertsatz der Differentialrechnung\n",
      "Views 2018:     56.798 ┬      -423 ( -1%)\n",
      "Views 2017:     57.221 ┘      \n",
      "\n",
      "MFNF / Wikipedia – 2018:  34%\n",
      "MFNF / Wikipedia – 2017:  19%\n"
     ]
    },
    {
     "data": {
      "text/markdown": [
       "[Zurück zum Inhaltsverzeichnis](#Inhaltsverzeichnis)"
      ],
      "text/plain": [
       "<IPython.core.display.Markdown object>"
      ]
     },
     "metadata": {},
     "output_type": "display_data"
    },
    {
     "data": {
      "text/html": [
       "<h4 id='Konstanzkriterium'>==== Konstanzkriterium ====</h4>"
      ],
      "text/plain": [
       "<IPython.core.display.HTML object>"
      ]
     },
     "metadata": {},
     "output_type": "display_data"
    },
    {
     "data": {
      "text/html": [
       "<h5>Seitenaufrufe des Artikels 'Mathe für Nicht-Freaks: Konstanzkriterium: Zusammenhang zwischen Konstanz einer Funktion und ihrer Ableitung'</h5>"
      ],
      "text/plain": [
       "<IPython.core.display.HTML object>"
      ]
     },
     "metadata": {},
     "output_type": "display_data"
    },
    {
     "name": "stdout",
     "output_type": "stream",
     "text": [
      "2018:     1.875 ┬       -17 ( -1%)\n",
      "2017:     1.892 ┘      \n"
     ]
    },
    {
     "data": {
      "text/html": [
       "<h5>Bearbeitungen im Artikel 'Mathe für Nicht-Freaks: Konstanzkriterium: Zusammenhang zwischen Konstanz einer Funktion und ihrer Ableitung'</h5>"
      ],
      "text/plain": [
       "<IPython.core.display.HTML object>"
      ]
     },
     "metadata": {},
     "output_type": "display_data"
    },
    {
     "name": "stdout",
     "output_type": "stream",
     "text": [
      "2018:         1 ┬       -19 (-95%)\n",
      "2017:        20 ┘      \n"
     ]
    },
    {
     "data": {
      "text/markdown": [
       "[Zurück zum Inhaltsverzeichnis](#Inhaltsverzeichnis)"
      ],
      "text/plain": [
       "<IPython.core.display.Markdown object>"
      ]
     },
     "metadata": {},
     "output_type": "display_data"
    },
    {
     "data": {
      "text/html": [
       "<h4 id='Monotoniekriterium'>==== Monotoniekriterium ====</h4>"
      ],
      "text/plain": [
       "<IPython.core.display.HTML object>"
      ]
     },
     "metadata": {},
     "output_type": "display_data"
    },
    {
     "data": {
      "text/html": [
       "<h5>Seitenaufrufe des Artikels 'Mathe für Nicht-Freaks: Monotoniekriterium: Zusammenhang zwischen Monotonie und Ableitung einer Funktion'</h5>"
      ],
      "text/plain": [
       "<IPython.core.display.HTML object>"
      ]
     },
     "metadata": {},
     "output_type": "display_data"
    },
    {
     "name": "stdout",
     "output_type": "stream",
     "text": [
      "2018:     4.686 ┬    +3.627 (+342%)\n",
      "2017:     1.059 ┘      \n"
     ]
    },
    {
     "data": {
      "text/html": [
       "<h5>Bearbeitungen im Artikel 'Mathe für Nicht-Freaks: Monotoniekriterium: Zusammenhang zwischen Monotonie und Ableitung einer Funktion'</h5>"
      ],
      "text/plain": [
       "<IPython.core.display.HTML object>"
      ]
     },
     "metadata": {},
     "output_type": "display_data"
    },
    {
     "name": "stdout",
     "output_type": "stream",
     "text": [
      "2018:         1 ┬       -10 (-91%)\n",
      "2017:        11 ┘      \n"
     ]
    },
    {
     "data": {
      "text/markdown": [
       "[Zurück zum Inhaltsverzeichnis](#Inhaltsverzeichnis)"
      ],
      "text/plain": [
       "<IPython.core.display.Markdown object>"
      ]
     },
     "metadata": {},
     "output_type": "display_data"
    },
    {
     "data": {
      "text/html": [
       "<h4 id='Ableitung und lokale Extrema'>==== Ableitung und lokale Extrema ====</h4>"
      ],
      "text/plain": [
       "<IPython.core.display.HTML object>"
      ]
     },
     "metadata": {},
     "output_type": "display_data"
    },
    {
     "data": {
      "text/html": [
       "<h5>Seitenaufrufe des Artikels 'Mathe für Nicht-Freaks: Ableitung und lokale Extrema'</h5>"
      ],
      "text/plain": [
       "<IPython.core.display.HTML object>"
      ]
     },
     "metadata": {},
     "output_type": "display_data"
    },
    {
     "name": "stdout",
     "output_type": "stream",
     "text": [
      "2018:     6.632 ┬    +3.425 (+107%)\n",
      "2017:     3.207 ┘      \n"
     ]
    },
    {
     "data": {
      "text/html": [
       "<h5>Bearbeitungen im Artikel 'Mathe für Nicht-Freaks: Ableitung und lokale Extrema'</h5>"
      ],
      "text/plain": [
       "<IPython.core.display.HTML object>"
      ]
     },
     "metadata": {},
     "output_type": "display_data"
    },
    {
     "name": "stdout",
     "output_type": "stream",
     "text": [
      "2018:         9 ┬       -29 (-76%)\n",
      "2017:        38 ┘      \n"
     ]
    },
    {
     "data": {
      "text/html": [
       "<h5>Vergleich der Seitenaufrufe zum Wikipedia-Artikel</h5>"
      ],
      "text/plain": [
       "<IPython.core.display.HTML object>"
      ]
     },
     "metadata": {},
     "output_type": "display_data"
    },
    {
     "name": "stdout",
     "output_type": "stream",
     "text": [
      "Wikipedia-Artikel: Extremwert\n",
      "Views 2018:     55.451 ┬      -376 ( -1%)\n",
      "Views 2017:     55.827 ┘      \n",
      "\n",
      "MFNF / Wikipedia – 2018:  12%\n",
      "MFNF / Wikipedia – 2017:   6%\n"
     ]
    },
    {
     "data": {
      "text/markdown": [
       "[Zurück zum Inhaltsverzeichnis](#Inhaltsverzeichnis)"
      ],
      "text/plain": [
       "<IPython.core.display.Markdown object>"
      ]
     },
     "metadata": {},
     "output_type": "display_data"
    },
    {
     "data": {
      "text/html": [
       "<h4 id='Regel von L'Hospital'>==== Regel von L'Hospital ====</h4>"
      ],
      "text/plain": [
       "<IPython.core.display.HTML object>"
      ]
     },
     "metadata": {},
     "output_type": "display_data"
    },
    {
     "data": {
      "text/html": [
       "<h5>Seitenaufrufe des Artikels 'Mathe für Nicht-Freaks: Regel von L'Hospital'</h5>"
      ],
      "text/plain": [
       "<IPython.core.display.HTML object>"
      ]
     },
     "metadata": {},
     "output_type": "display_data"
    },
    {
     "name": "stdout",
     "output_type": "stream",
     "text": [
      "2018:     8.608 ┬    +5.398 (+168%)\n",
      "2017:     3.210 ┘      \n"
     ]
    },
    {
     "data": {
      "text/html": [
       "<h5>Bearbeitungen im Artikel 'Mathe für Nicht-Freaks: Regel von L'Hospital'</h5>"
      ],
      "text/plain": [
       "<IPython.core.display.HTML object>"
      ]
     },
     "metadata": {},
     "output_type": "display_data"
    },
    {
     "name": "stdout",
     "output_type": "stream",
     "text": [
      "2018:        16 ┬        +9 (+129%)\n",
      "2017:         7 ┘      \n"
     ]
    },
    {
     "data": {
      "text/markdown": [
       "[Zurück zum Inhaltsverzeichnis](#Inhaltsverzeichnis)"
      ],
      "text/plain": [
       "<IPython.core.display.Markdown object>"
      ]
     },
     "metadata": {},
     "output_type": "display_data"
    },
    {
     "data": {
      "text/html": [
       "<h4 id='Übersicht: Stetigkeit und Differenzierbarkeit'>==== Übersicht: Stetigkeit und Differenzierbarkeit ====</h4>"
      ],
      "text/plain": [
       "<IPython.core.display.HTML object>"
      ]
     },
     "metadata": {},
     "output_type": "display_data"
    },
    {
     "data": {
      "text/html": [
       "<h5>Seitenaufrufe des Artikels 'Mathe für Nicht-Freaks: Übersicht: Stetigkeit und Differenzierbarkeit'</h5>"
      ],
      "text/plain": [
       "<IPython.core.display.HTML object>"
      ]
     },
     "metadata": {},
     "output_type": "display_data"
    },
    {
     "name": "stdout",
     "output_type": "stream",
     "text": [
      "2018:     2.549 ┬    +1.901 (+293%)\n",
      "2017:       648 ┘      \n"
     ]
    },
    {
     "data": {
      "text/html": [
       "<h5>Bearbeitungen im Artikel 'Mathe für Nicht-Freaks: Übersicht: Stetigkeit und Differenzierbarkeit'</h5>"
      ],
      "text/plain": [
       "<IPython.core.display.HTML object>"
      ]
     },
     "metadata": {},
     "output_type": "display_data"
    },
    {
     "name": "stdout",
     "output_type": "stream",
     "text": [
      "2018:         3 ┬        -6 (-67%)\n",
      "2017:         9 ┘      \n"
     ]
    },
    {
     "data": {
      "text/markdown": [
       "[Zurück zum Inhaltsverzeichnis](#Inhaltsverzeichnis)"
      ],
      "text/plain": [
       "<IPython.core.display.Markdown object>"
      ]
     },
     "metadata": {},
     "output_type": "display_data"
    },
    {
     "data": {
      "text/html": [
       "<h4 id='Aufgaben 1'>==== Aufgaben 1 ====</h4>"
      ],
      "text/plain": [
       "<IPython.core.display.HTML object>"
      ]
     },
     "metadata": {},
     "output_type": "display_data"
    },
    {
     "data": {
      "text/html": [
       "<h5>Seitenaufrufe des Artikels 'Mathe für Nicht-Freaks: Aufgaben zur Ableitung 1'</h5>"
      ],
      "text/plain": [
       "<IPython.core.display.HTML object>"
      ]
     },
     "metadata": {},
     "output_type": "display_data"
    },
    {
     "name": "stdout",
     "output_type": "stream",
     "text": [
      "2018:     1.965 ┬      +308 (+19%)\n",
      "2017:     1.657 ┘      \n"
     ]
    },
    {
     "data": {
      "text/html": [
       "<h5>Bearbeitungen im Artikel 'Mathe für Nicht-Freaks: Aufgaben zur Ableitung 1'</h5>"
      ],
      "text/plain": [
       "<IPython.core.display.HTML object>"
      ]
     },
     "metadata": {},
     "output_type": "display_data"
    },
    {
     "name": "stdout",
     "output_type": "stream",
     "text": [
      "2018:         2 ┬        -1 (-33%)\n",
      "2017:         3 ┘      \n"
     ]
    },
    {
     "data": {
      "text/markdown": [
       "[Zurück zum Inhaltsverzeichnis](#Inhaltsverzeichnis)"
      ],
      "text/plain": [
       "<IPython.core.display.Markdown object>"
      ]
     },
     "metadata": {},
     "output_type": "display_data"
    },
    {
     "data": {
      "text/html": [
       "<h4 id='Aufgaben 2'>==== Aufgaben 2 ====</h4>"
      ],
      "text/plain": [
       "<IPython.core.display.HTML object>"
      ]
     },
     "metadata": {},
     "output_type": "display_data"
    },
    {
     "data": {
      "text/html": [
       "<h5>Seitenaufrufe des Artikels 'Mathe für Nicht-Freaks: Aufgaben zur Ableitung 2'</h5>"
      ],
      "text/plain": [
       "<IPython.core.display.HTML object>"
      ]
     },
     "metadata": {},
     "output_type": "display_data"
    },
    {
     "name": "stdout",
     "output_type": "stream",
     "text": [
      "2018:       998 ┬      +257 (+35%)\n",
      "2017:       741 ┘      \n"
     ]
    },
    {
     "data": {
      "text/html": [
       "<h5>Bearbeitungen im Artikel 'Mathe für Nicht-Freaks: Aufgaben zur Ableitung 2'</h5>"
      ],
      "text/plain": [
       "<IPython.core.display.HTML object>"
      ]
     },
     "metadata": {},
     "output_type": "display_data"
    },
    {
     "name": "stdout",
     "output_type": "stream",
     "text": [
      "2018:         5 ┬        +2 (+67%)\n",
      "2017:         3 ┘      \n"
     ]
    },
    {
     "data": {
      "text/markdown": [
       "[Zurück zum Inhaltsverzeichnis](#Inhaltsverzeichnis)"
      ],
      "text/plain": [
       "<IPython.core.display.Markdown object>"
      ]
     },
     "metadata": {},
     "output_type": "display_data"
    },
    {
     "data": {
      "text/html": [
       "<h4 id='Aufgaben 3'>==== Aufgaben 3 ====</h4>"
      ],
      "text/plain": [
       "<IPython.core.display.HTML object>"
      ]
     },
     "metadata": {},
     "output_type": "display_data"
    },
    {
     "data": {
      "text/html": [
       "<h5>Seitenaufrufe des Artikels 'Mathe für Nicht-Freaks: Aufgaben zur Ableitung 3'</h5>"
      ],
      "text/plain": [
       "<IPython.core.display.HTML object>"
      ]
     },
     "metadata": {},
     "output_type": "display_data"
    },
    {
     "name": "stdout",
     "output_type": "stream",
     "text": [
      "2018:       909 ┬      +251 (+38%)\n",
      "2017:       658 ┘      \n"
     ]
    },
    {
     "data": {
      "text/html": [
       "<h5>Bearbeitungen im Artikel 'Mathe für Nicht-Freaks: Aufgaben zur Ableitung 3'</h5>"
      ],
      "text/plain": [
       "<IPython.core.display.HTML object>"
      ]
     },
     "metadata": {},
     "output_type": "display_data"
    },
    {
     "name": "stdout",
     "output_type": "stream",
     "text": [
      "2018:         2 ┬        -4 (-67%)\n",
      "2017:         6 ┘      \n"
     ]
    },
    {
     "data": {
      "text/markdown": [
       "[Zurück zum Inhaltsverzeichnis](#Inhaltsverzeichnis)"
      ],
      "text/plain": [
       "<IPython.core.display.Markdown object>"
      ]
     },
     "metadata": {},
     "output_type": "display_data"
    },
    {
     "data": {
      "text/html": [
       "<h4 id='Aufgaben 4'>==== Aufgaben 4 ====</h4>"
      ],
      "text/plain": [
       "<IPython.core.display.HTML object>"
      ]
     },
     "metadata": {},
     "output_type": "display_data"
    },
    {
     "data": {
      "text/html": [
       "<h5>Seitenaufrufe des Artikels 'Mathe für Nicht-Freaks: Aufgaben zur Ableitung 4'</h5>"
      ],
      "text/plain": [
       "<IPython.core.display.HTML object>"
      ]
     },
     "metadata": {},
     "output_type": "display_data"
    },
    {
     "name": "stdout",
     "output_type": "stream",
     "text": [
      "2018:       945 ┬      +331 (+54%)\n",
      "2017:       614 ┘      \n"
     ]
    },
    {
     "data": {
      "text/html": [
       "<h5>Bearbeitungen im Artikel 'Mathe für Nicht-Freaks: Aufgaben zur Ableitung 4'</h5>"
      ],
      "text/plain": [
       "<IPython.core.display.HTML object>"
      ]
     },
     "metadata": {},
     "output_type": "display_data"
    },
    {
     "name": "stdout",
     "output_type": "stream",
     "text": [
      "2018:        14 ┬       +12 (+600%)\n",
      "2017:         2 ┘      \n"
     ]
    },
    {
     "data": {
      "text/markdown": [
       "[Zurück zum Inhaltsverzeichnis](#Inhaltsverzeichnis)"
      ],
      "text/plain": [
       "<IPython.core.display.Markdown object>"
      ]
     },
     "metadata": {},
     "output_type": "display_data"
    },
    {
     "data": {
      "text/html": [
       "<h3 id='Integrale'>=== Integrale ===</h3>"
      ],
      "text/plain": [
       "<IPython.core.display.HTML object>"
      ]
     },
     "metadata": {},
     "output_type": "display_data"
    },
    {
     "data": {
      "text/markdown": [
       "[Zurück zum Inhaltsverzeichnis](#Inhaltsverzeichnis)"
      ],
      "text/plain": [
       "<IPython.core.display.Markdown object>"
      ]
     },
     "metadata": {},
     "output_type": "display_data"
    },
    {
     "data": {
      "text/html": [
       "<h4 id='Das Integral'>==== Das Integral ====</h4>"
      ],
      "text/plain": [
       "<IPython.core.display.HTML object>"
      ]
     },
     "metadata": {},
     "output_type": "display_data"
    },
    {
     "data": {
      "text/html": [
       "<h5>Seitenaufrufe des Artikels 'Mathe für Nicht-Freaks: Integral einer Funktion'</h5>"
      ],
      "text/plain": [
       "<IPython.core.display.HTML object>"
      ]
     },
     "metadata": {},
     "output_type": "display_data"
    },
    {
     "name": "stdout",
     "output_type": "stream",
     "text": [
      "2018:     4.340 ┬    +1.173 (+37%)\n",
      "2017:     3.167 ┘      \n"
     ]
    },
    {
     "data": {
      "text/html": [
       "<h5>Bearbeitungen im Artikel 'Mathe für Nicht-Freaks: Integral einer Funktion'</h5>"
      ],
      "text/plain": [
       "<IPython.core.display.HTML object>"
      ]
     },
     "metadata": {},
     "output_type": "display_data"
    },
    {
     "name": "stdout",
     "output_type": "stream",
     "text": [
      "2018:         3 ┬       -20 (-87%)\n",
      "2017:        23 ┘      \n"
     ]
    },
    {
     "data": {
      "text/html": [
       "<h5>Vergleich der Seitenaufrufe zum Wikipedia-Artikel</h5>"
      ],
      "text/plain": [
       "<IPython.core.display.HTML object>"
      ]
     },
     "metadata": {},
     "output_type": "display_data"
    },
    {
     "name": "stdout",
     "output_type": "stream",
     "text": [
      "Wikipedia-Artikel: Integralrechnung\n",
      "Views 2018:    202.605 ┬   -29.193 (-13%)\n",
      "Views 2017:    231.798 ┘      \n",
      "\n",
      "MFNF / Wikipedia – 2018:   2%\n",
      "MFNF / Wikipedia – 2017:   1%\n"
     ]
    },
    {
     "data": {
      "text/markdown": [
       "[Zurück zum Inhaltsverzeichnis](#Inhaltsverzeichnis)"
      ],
      "text/plain": [
       "<IPython.core.display.Markdown object>"
      ]
     },
     "metadata": {},
     "output_type": "display_data"
    },
    {
     "data": {
      "text/html": [
       "<h4 id='Riemannintegral'>==== Riemannintegral ====</h4>"
      ],
      "text/plain": [
       "<IPython.core.display.HTML object>"
      ]
     },
     "metadata": {},
     "output_type": "display_data"
    },
    {
     "data": {
      "text/html": [
       "<h5>Seitenaufrufe des Artikels 'Mathe für Nicht-Freaks: Riemannintegral'</h5>"
      ],
      "text/plain": [
       "<IPython.core.display.HTML object>"
      ]
     },
     "metadata": {},
     "output_type": "display_data"
    },
    {
     "name": "stdout",
     "output_type": "stream",
     "text": [
      "2018:     9.696 ┬    +5.223 (+117%)\n",
      "2017:     4.473 ┘      \n"
     ]
    },
    {
     "data": {
      "text/html": [
       "<h5>Bearbeitungen im Artikel 'Mathe für Nicht-Freaks: Riemannintegral'</h5>"
      ],
      "text/plain": [
       "<IPython.core.display.HTML object>"
      ]
     },
     "metadata": {},
     "output_type": "display_data"
    },
    {
     "name": "stdout",
     "output_type": "stream",
     "text": [
      "2018:         8 ┬       -54 (-87%)\n",
      "2017:        62 ┘      \n"
     ]
    },
    {
     "data": {
      "text/html": [
       "<h5>Vergleich der Seitenaufrufe zum Wikipedia-Artikel</h5>"
      ],
      "text/plain": [
       "<IPython.core.display.HTML object>"
      ]
     },
     "metadata": {},
     "output_type": "display_data"
    },
    {
     "name": "stdout",
     "output_type": "stream",
     "text": [
      "Wikipedia-Artikel: Riemannsches Integral\n",
      "Views 2018:     50.652 ┬    -2.599 ( -5%)\n",
      "Views 2017:     53.251 ┘      \n",
      "\n",
      "MFNF / Wikipedia – 2018:  19%\n",
      "MFNF / Wikipedia – 2017:   8%\n"
     ]
    },
    {
     "data": {
      "text/markdown": [
       "[Zurück zum Inhaltsverzeichnis](#Inhaltsverzeichnis)"
      ],
      "text/plain": [
       "<IPython.core.display.Markdown object>"
      ]
     },
     "metadata": {},
     "output_type": "display_data"
    },
    {
     "data": {
      "text/html": [
       "<h4 id='Eigenschaften des Riemannintegrals'>==== Eigenschaften des Riemannintegrals ====</h4>"
      ],
      "text/plain": [
       "<IPython.core.display.HTML object>"
      ]
     },
     "metadata": {},
     "output_type": "display_data"
    },
    {
     "data": {
      "text/html": [
       "<h5>Seitenaufrufe des Artikels 'Mathe für Nicht-Freaks: Eigenschaften des Riemannintegrals'</h5>"
      ],
      "text/plain": [
       "<IPython.core.display.HTML object>"
      ]
     },
     "metadata": {},
     "output_type": "display_data"
    },
    {
     "name": "stdout",
     "output_type": "stream",
     "text": [
      "2018:     2.420 ┬    +1.268 (+110%)\n",
      "2017:     1.152 ┘      \n"
     ]
    },
    {
     "data": {
      "text/html": [
       "<h5>Bearbeitungen im Artikel 'Mathe für Nicht-Freaks: Eigenschaften des Riemannintegrals'</h5>"
      ],
      "text/plain": [
       "<IPython.core.display.HTML object>"
      ]
     },
     "metadata": {},
     "output_type": "display_data"
    },
    {
     "name": "stdout",
     "output_type": "stream",
     "text": [
      "2018:         0 ┬       -13 (-100%)\n",
      "2017:        13 ┘      \n"
     ]
    },
    {
     "data": {
      "text/markdown": [
       "[Zurück zum Inhaltsverzeichnis](#Inhaltsverzeichnis)"
      ],
      "text/plain": [
       "<IPython.core.display.Markdown object>"
      ]
     },
     "metadata": {},
     "output_type": "display_data"
    },
    {
     "data": {
      "text/html": [
       "<h4 id='Regelintegral'>==== Regelintegral ====</h4>"
      ],
      "text/plain": [
       "<IPython.core.display.HTML object>"
      ]
     },
     "metadata": {},
     "output_type": "display_data"
    },
    {
     "data": {
      "text/html": [
       "<h5>Seitenaufrufe des Artikels 'Mathe für Nicht-Freaks: Regelintegral'</h5>"
      ],
      "text/plain": [
       "<IPython.core.display.HTML object>"
      ]
     },
     "metadata": {},
     "output_type": "display_data"
    },
    {
     "name": "stdout",
     "output_type": "stream",
     "text": [
      "2018:     2.614 ┬      +991 (+61%)\n",
      "2017:     1.623 ┘      \n"
     ]
    },
    {
     "data": {
      "text/html": [
       "<h5>Bearbeitungen im Artikel 'Mathe für Nicht-Freaks: Regelintegral'</h5>"
      ],
      "text/plain": [
       "<IPython.core.display.HTML object>"
      ]
     },
     "metadata": {},
     "output_type": "display_data"
    },
    {
     "name": "stdout",
     "output_type": "stream",
     "text": [
      "2018:         0 ┬       -19 (-100%)\n",
      "2017:        19 ┘      \n"
     ]
    },
    {
     "data": {
      "text/markdown": [
       "[Zurück zum Inhaltsverzeichnis](#Inhaltsverzeichnis)"
      ],
      "text/plain": [
       "<IPython.core.display.Markdown object>"
      ]
     },
     "metadata": {},
     "output_type": "display_data"
    },
    {
     "data": {
      "text/html": [
       "<h4 id='Mittelwertsatz für Integrale'>==== Mittelwertsatz für Integrale ====</h4>"
      ],
      "text/plain": [
       "<IPython.core.display.HTML object>"
      ]
     },
     "metadata": {},
     "output_type": "display_data"
    },
    {
     "data": {
      "text/html": [
       "<h5>Seitenaufrufe des Artikels 'Mathe für Nicht-Freaks: Mittelwertsatz für Integrale'</h5>"
      ],
      "text/plain": [
       "<IPython.core.display.HTML object>"
      ]
     },
     "metadata": {},
     "output_type": "display_data"
    },
    {
     "name": "stdout",
     "output_type": "stream",
     "text": [
      "2018:     7.433 ┬    +5.945 (+400%)\n",
      "2017:     1.488 ┘      \n"
     ]
    },
    {
     "data": {
      "text/html": [
       "<h5>Bearbeitungen im Artikel 'Mathe für Nicht-Freaks: Mittelwertsatz für Integrale'</h5>"
      ],
      "text/plain": [
       "<IPython.core.display.HTML object>"
      ]
     },
     "metadata": {},
     "output_type": "display_data"
    },
    {
     "name": "stdout",
     "output_type": "stream",
     "text": [
      "2018:         0 ┬       -38 (-100%)\n",
      "2017:        38 ┘      \n"
     ]
    },
    {
     "data": {
      "text/html": [
       "<h5>Vergleich der Seitenaufrufe zum Wikipedia-Artikel</h5>"
      ],
      "text/plain": [
       "<IPython.core.display.HTML object>"
      ]
     },
     "metadata": {},
     "output_type": "display_data"
    },
    {
     "name": "stdout",
     "output_type": "stream",
     "text": [
      "Wikipedia-Artikel: Mittelwertsatz der Integralrechnung\n",
      "Views 2018:     22.095 ┬    -2.507 (-10%)\n",
      "Views 2017:     24.602 ┘      \n",
      "\n",
      "MFNF / Wikipedia – 2018:  34%\n",
      "MFNF / Wikipedia – 2017:   6%\n"
     ]
    },
    {
     "data": {
      "text/markdown": [
       "[Zurück zum Inhaltsverzeichnis](#Inhaltsverzeichnis)"
      ],
      "text/plain": [
       "<IPython.core.display.Markdown object>"
      ]
     },
     "metadata": {},
     "output_type": "display_data"
    },
    {
     "data": {
      "text/html": [
       "<h4 id='Hauptsatz der Differential- und Integralrechnung'>==== Hauptsatz der Differential- und Integralrechnung ====</h4>"
      ],
      "text/plain": [
       "<IPython.core.display.HTML object>"
      ]
     },
     "metadata": {},
     "output_type": "display_data"
    },
    {
     "data": {
      "text/html": [
       "<h5>Seitenaufrufe des Artikels 'Mathe für Nicht-Freaks: Hauptsatz der Differential- und Integralrechnung'</h5>"
      ],
      "text/plain": [
       "<IPython.core.display.HTML object>"
      ]
     },
     "metadata": {},
     "output_type": "display_data"
    },
    {
     "name": "stdout",
     "output_type": "stream",
     "text": [
      "2018:    15.372 ┬    +8.136 (+112%)\n",
      "2017:     7.236 ┘      \n"
     ]
    },
    {
     "data": {
      "text/html": [
       "<h5>Bearbeitungen im Artikel 'Mathe für Nicht-Freaks: Hauptsatz der Differential- und Integralrechnung'</h5>"
      ],
      "text/plain": [
       "<IPython.core.display.HTML object>"
      ]
     },
     "metadata": {},
     "output_type": "display_data"
    },
    {
     "name": "stdout",
     "output_type": "stream",
     "text": [
      "2018:         5 ┬      -100 (-95%)\n",
      "2017:       105 ┘      \n"
     ]
    },
    {
     "data": {
      "text/html": [
       "<h5>Vergleich der Seitenaufrufe zum Wikipedia-Artikel</h5>"
      ],
      "text/plain": [
       "<IPython.core.display.HTML object>"
      ]
     },
     "metadata": {},
     "output_type": "display_data"
    },
    {
     "name": "stdout",
     "output_type": "stream",
     "text": [
      "Wikipedia-Artikel: Fundamentalsatz der Analysis\n",
      "Views 2018:     62.312 ┬   +23.114 (+59%)\n",
      "Views 2017:     39.198 ┘      \n",
      "\n",
      "MFNF / Wikipedia – 2018:  25%\n",
      "MFNF / Wikipedia – 2017:  18%\n"
     ]
    },
    {
     "data": {
      "text/markdown": [
       "[Zurück zum Inhaltsverzeichnis](#Inhaltsverzeichnis)"
      ],
      "text/plain": [
       "<IPython.core.display.Markdown object>"
      ]
     },
     "metadata": {},
     "output_type": "display_data"
    },
    {
     "data": {
      "text/html": [
       "<h4 id='Substitutionsregel'>==== Substitutionsregel ====</h4>"
      ],
      "text/plain": [
       "<IPython.core.display.HTML object>"
      ]
     },
     "metadata": {},
     "output_type": "display_data"
    },
    {
     "data": {
      "text/html": [
       "<h5>Seitenaufrufe des Artikels 'Mathe für Nicht-Freaks: Substitutionsregel für Integrale'</h5>"
      ],
      "text/plain": [
       "<IPython.core.display.HTML object>"
      ]
     },
     "metadata": {},
     "output_type": "display_data"
    },
    {
     "name": "stdout",
     "output_type": "stream",
     "text": [
      "2018:     7.255 ┬    +3.072 (+73%)\n",
      "2017:     4.183 ┘      \n"
     ]
    },
    {
     "data": {
      "text/html": [
       "<h5>Bearbeitungen im Artikel 'Mathe für Nicht-Freaks: Substitutionsregel für Integrale'</h5>"
      ],
      "text/plain": [
       "<IPython.core.display.HTML object>"
      ]
     },
     "metadata": {},
     "output_type": "display_data"
    },
    {
     "name": "stdout",
     "output_type": "stream",
     "text": [
      "2018:        42 ┬       -68 (-62%)\n",
      "2017:       110 ┘      \n"
     ]
    },
    {
     "data": {
      "text/html": [
       "<h5>Vergleich der Seitenaufrufe zum Wikipedia-Artikel</h5>"
      ],
      "text/plain": [
       "<IPython.core.display.HTML object>"
      ]
     },
     "metadata": {},
     "output_type": "display_data"
    },
    {
     "name": "stdout",
     "output_type": "stream",
     "text": [
      "Wikipedia-Artikel: Integration durch Substitution\n",
      "Views 2018:     73.440 ┬    -6.510 ( -8%)\n",
      "Views 2017:     79.950 ┘      \n",
      "\n",
      "MFNF / Wikipedia – 2018:  10%\n",
      "MFNF / Wikipedia – 2017:   5%\n"
     ]
    },
    {
     "data": {
      "text/markdown": [
       "[Zurück zum Inhaltsverzeichnis](#Inhaltsverzeichnis)"
      ],
      "text/plain": [
       "<IPython.core.display.Markdown object>"
      ]
     },
     "metadata": {},
     "output_type": "display_data"
    },
    {
     "data": {
      "text/html": [
       "<h4 id='Partielle Integration'>==== Partielle Integration ====</h4>"
      ],
      "text/plain": [
       "<IPython.core.display.HTML object>"
      ]
     },
     "metadata": {},
     "output_type": "display_data"
    },
    {
     "data": {
      "text/html": [
       "<h5>Seitenaufrufe des Artikels 'Mathe für Nicht-Freaks: Partielle Integration'</h5>"
      ],
      "text/plain": [
       "<IPython.core.display.HTML object>"
      ]
     },
     "metadata": {},
     "output_type": "display_data"
    },
    {
     "name": "stdout",
     "output_type": "stream",
     "text": [
      "2018:     4.193 ┬    +2.001 (+91%)\n",
      "2017:     2.192 ┘      \n"
     ]
    },
    {
     "data": {
      "text/html": [
       "<h5>Bearbeitungen im Artikel 'Mathe für Nicht-Freaks: Partielle Integration'</h5>"
      ],
      "text/plain": [
       "<IPython.core.display.HTML object>"
      ]
     },
     "metadata": {},
     "output_type": "display_data"
    },
    {
     "name": "stdout",
     "output_type": "stream",
     "text": [
      "2018:        24 ┬       -48 (-67%)\n",
      "2017:        72 ┘      \n"
     ]
    },
    {
     "data": {
      "text/html": [
       "<h5>Vergleich der Seitenaufrufe zum Wikipedia-Artikel</h5>"
      ],
      "text/plain": [
       "<IPython.core.display.HTML object>"
      ]
     },
     "metadata": {},
     "output_type": "display_data"
    },
    {
     "name": "stdout",
     "output_type": "stream",
     "text": [
      "Wikipedia-Artikel: Partielle Integration\n",
      "Views 2018:    184.937 ┬    -9.354 ( -5%)\n",
      "Views 2017:    194.291 ┘      \n",
      "\n",
      "MFNF / Wikipedia – 2018:   2%\n",
      "MFNF / Wikipedia – 2017:   1%\n"
     ]
    },
    {
     "data": {
      "text/markdown": [
       "[Zurück zum Inhaltsverzeichnis](#Inhaltsverzeichnis)"
      ],
      "text/plain": [
       "<IPython.core.display.Markdown object>"
      ]
     },
     "metadata": {},
     "output_type": "display_data"
    },
    {
     "data": {
      "text/html": [
       "<h4 id='Uneigentliche Integrale'>==== Uneigentliche Integrale ====</h4>"
      ],
      "text/plain": [
       "<IPython.core.display.HTML object>"
      ]
     },
     "metadata": {},
     "output_type": "display_data"
    },
    {
     "data": {
      "text/html": [
       "<h5>Seitenaufrufe des Artikels 'Mathe für Nicht-Freaks: Uneigentliche Integrale'</h5>"
      ],
      "text/plain": [
       "<IPython.core.display.HTML object>"
      ]
     },
     "metadata": {},
     "output_type": "display_data"
    },
    {
     "name": "stdout",
     "output_type": "stream",
     "text": [
      "2018:       780 ┬      +696 (+829%)\n",
      "2017:        84 ┘      \n"
     ]
    },
    {
     "data": {
      "text/html": [
       "<h5>Bearbeitungen im Artikel 'Mathe für Nicht-Freaks: Uneigentliche Integrale'</h5>"
      ],
      "text/plain": [
       "<IPython.core.display.HTML object>"
      ]
     },
     "metadata": {},
     "output_type": "display_data"
    },
    {
     "name": "stdout",
     "output_type": "stream",
     "text": [
      "2018:         2 ┬        +2        \n",
      "2017:         0 ┘      \n"
     ]
    },
    {
     "data": {
      "text/markdown": [
       "[Zurück zum Inhaltsverzeichnis](#Inhaltsverzeichnis)"
      ],
      "text/plain": [
       "<IPython.core.display.Markdown object>"
      ]
     },
     "metadata": {},
     "output_type": "display_data"
    },
    {
     "data": {
      "text/html": [
       "<h4 id='Beispiele für Integrale'>==== Beispiele für Integrale ====</h4>"
      ],
      "text/plain": [
       "<IPython.core.display.HTML object>"
      ]
     },
     "metadata": {},
     "output_type": "display_data"
    },
    {
     "data": {
      "text/html": [
       "<h5>Seitenaufrufe des Artikels 'Mathe für Nicht-Freaks: Beispiele für Integrale'</h5>"
      ],
      "text/plain": [
       "<IPython.core.display.HTML object>"
      ]
     },
     "metadata": {},
     "output_type": "display_data"
    },
    {
     "name": "stdout",
     "output_type": "stream",
     "text": [
      "2018:     1.083 ┬      +264 (+32%)\n",
      "2017:       819 ┘      \n"
     ]
    },
    {
     "data": {
      "text/html": [
       "<h5>Bearbeitungen im Artikel 'Mathe für Nicht-Freaks: Beispiele für Integrale'</h5>"
      ],
      "text/plain": [
       "<IPython.core.display.HTML object>"
      ]
     },
     "metadata": {},
     "output_type": "display_data"
    },
    {
     "name": "stdout",
     "output_type": "stream",
     "text": [
      "2018:         3 ┬       -49 (-94%)\n",
      "2017:        52 ┘      \n"
     ]
    },
    {
     "data": {
      "text/markdown": [
       "[Zurück zum Inhaltsverzeichnis](#Inhaltsverzeichnis)"
      ],
      "text/plain": [
       "<IPython.core.display.Markdown object>"
      ]
     },
     "metadata": {},
     "output_type": "display_data"
    },
    {
     "data": {
      "text/html": [
       "<h4 id='Aufgaben'>==== Aufgaben ====</h4>"
      ],
      "text/plain": [
       "<IPython.core.display.HTML object>"
      ]
     },
     "metadata": {},
     "output_type": "display_data"
    },
    {
     "data": {
      "text/html": [
       "<h5>Seitenaufrufe des Artikels 'Mathe für Nicht-Freaks: Aufgaben zu Integralen'</h5>"
      ],
      "text/plain": [
       "<IPython.core.display.HTML object>"
      ]
     },
     "metadata": {},
     "output_type": "display_data"
    },
    {
     "name": "stdout",
     "output_type": "stream",
     "text": [
      "2018:     1.778 ┬      +896 (+102%)\n",
      "2017:       882 ┘      \n"
     ]
    },
    {
     "data": {
      "text/html": [
       "<h5>Bearbeitungen im Artikel 'Mathe für Nicht-Freaks: Aufgaben zu Integralen'</h5>"
      ],
      "text/plain": [
       "<IPython.core.display.HTML object>"
      ]
     },
     "metadata": {},
     "output_type": "display_data"
    },
    {
     "name": "stdout",
     "output_type": "stream",
     "text": [
      "2018:        16 ┬       -17 (-52%)\n",
      "2017:        33 ┘      \n"
     ]
    },
    {
     "data": {
      "text/markdown": [
       "[Zurück zum Inhaltsverzeichnis](#Inhaltsverzeichnis)"
      ],
      "text/plain": [
       "<IPython.core.display.Markdown object>"
      ]
     },
     "metadata": {},
     "output_type": "display_data"
    },
    {
     "data": {
      "text/html": [
       "<h2 id='Lineare Algebra 1'>== Lineare Algebra 1 ==</h2>"
      ],
      "text/plain": [
       "<IPython.core.display.HTML object>"
      ]
     },
     "metadata": {},
     "output_type": "display_data"
    },
    {
     "data": {
      "text/html": [
       "<h6>Artikel + Unterartikel: Seitenaufrufe 2018</h6>"
      ],
      "text/plain": [
       "<IPython.core.display.HTML object>"
      ]
     },
     "metadata": {},
     "output_type": "display_data"
    },
    {
     "data": {
      "image/png": "[encoded data removed]",
      "text/plain": [
       "<matplotlib.figure.Figure at 0x7fc9b60b4dd8>"
      ]
     },
     "metadata": {},
     "output_type": "display_data"
    },
    {
     "name": "stdout",
     "output_type": "stream",
     "text": [
      "Summe:   353.716\n",
      "Mean:      5.705\n"
     ]
    },
    {
     "data": {
      "text/html": [
       "<h6>Artikel + Unterartikel: Seitenaufrufe 2017</h6>"
      ],
      "text/plain": [
       "<IPython.core.display.HTML object>"
      ]
     },
     "metadata": {},
     "output_type": "display_data"
    },
    {
     "data": {
      "image/png": "[encoded data removed]",
      "text/plain": [
       "<matplotlib.figure.Figure at 0x7fc9b5fbb860>"
      ]
     },
     "metadata": {},
     "output_type": "display_data"
    },
    {
     "name": "stdout",
     "output_type": "stream",
     "text": [
      "Summe:   192.884\n",
      "Mean:      3.111\n"
     ]
    },
    {
     "data": {
      "text/html": [
       "<h6>Artikel + Unterartikel: Differenz Seitenaufrufe 2018 zu 2017</h6>"
      ],
      "text/plain": [
       "<IPython.core.display.HTML object>"
      ]
     },
     "metadata": {},
     "output_type": "display_data"
    },
    {
     "data": {
      "image/png": "[encoded data removed]",
      "text/plain": [
       "<matplotlib.figure.Figure at 0x7fc9b46574e0>"
      ]
     },
     "metadata": {},
     "output_type": "display_data"
    },
    {
     "name": "stdout",
     "output_type": "stream",
     "text": [
      "Summe:   160.832\n",
      "Mean:      2.594\n"
     ]
    },
    {
     "data": {
      "text/html": [
       "<h6>Artikel + Unterartikel: Bearbeitungen 2018</h6>"
      ],
      "text/plain": [
       "<IPython.core.display.HTML object>"
      ]
     },
     "metadata": {},
     "output_type": "display_data"
    },
    {
     "data": {
      "image/png": "[encoded data removed]",
      "text/plain": [
       "<matplotlib.figure.Figure at 0x7fc9b4793d68>"
      ]
     },
     "metadata": {},
     "output_type": "display_data"
    },
    {
     "name": "stdout",
     "output_type": "stream",
     "text": [
      "Summe:     1.583\n",
      "Mean:         25\n"
     ]
    },
    {
     "data": {
      "text/html": [
       "<h6>Artikel + Unterartikel: Bearbeitungen 2017</h6>"
      ],
      "text/plain": [
       "<IPython.core.display.HTML object>"
      ]
     },
     "metadata": {},
     "output_type": "display_data"
    },
    {
     "data": {
      "image/png": "[encoded data removed]",
      "text/plain": [
       "<matplotlib.figure.Figure at 0x7fc9b60bfa20>"
      ]
     },
     "metadata": {},
     "output_type": "display_data"
    },
    {
     "name": "stdout",
     "output_type": "stream",
     "text": [
      "Summe:       995\n",
      "Mean:         16\n"
     ]
    },
    {
     "data": {
      "text/html": [
       "<h6>Artikel + Unterartikel: Differenz Bearbeitungen 2018 zu 2017</h6>"
      ],
      "text/plain": [
       "<IPython.core.display.HTML object>"
      ]
     },
     "metadata": {},
     "output_type": "display_data"
    },
    {
     "data": {
      "image/png": "[encoded data removed]",
      "text/plain": [
       "<matplotlib.figure.Figure at 0x7fc9b6100b00>"
      ]
     },
     "metadata": {},
     "output_type": "display_data"
    },
    {
     "name": "stdout",
     "output_type": "stream",
     "text": [
      "Summe:       588\n",
      "Mean:          9\n"
     ]
    },
    {
     "data": {
      "text/html": [
       "<h6>Artikel + Unterartikel: Quotient Seitenaufrufe MFNF / Wikipedia</h6>"
      ],
      "text/plain": [
       "<IPython.core.display.HTML object>"
      ]
     },
     "metadata": {},
     "output_type": "display_data"
    },
    {
     "data": {
      "image/png": "[encoded data removed]",
      "text/plain": [
       "<matplotlib.figure.Figure at 0x7fc9b2797e10>"
      ]
     },
     "metadata": {},
     "output_type": "display_data"
    },
    {
     "name": "stdout",
     "output_type": "stream",
     "text": [
      "Mean:   0%\n"
     ]
    },
    {
     "data": {
      "text/html": [
       "<h5>Anzahl Autor*innen (Artikel + Unterartikel)</h5>"
      ],
      "text/plain": [
       "<IPython.core.display.HTML object>"
      ]
     },
     "metadata": {},
     "output_type": "display_data"
    },
    {
     "data": {
      "text/markdown": [
       "Autor*in haben mehr als 12 Bearbeitungen im betrachteten Zeitraum "
      ],
      "text/plain": [
       "<IPython.core.display.Markdown object>"
      ]
     },
     "metadata": {},
     "output_type": "display_data"
    },
    {
     "name": "stdout",
     "output_type": "stream",
     "text": [
      "2018:        16 ┬        +9 (+129%)\n",
      "2017:         7 ┘      \n"
     ]
    },
    {
     "data": {
      "text/html": [
       "<h5>Anzahl sehr aktive Autor*innen (Artikel + Unterartikel)</h5>"
      ],
      "text/plain": [
       "<IPython.core.display.HTML object>"
      ]
     },
     "metadata": {},
     "output_type": "display_data"
    },
    {
     "data": {
      "text/markdown": [
       "Autor*in haben mehr als 120 Bearbeitungen im betrachteten Zeitraum"
      ],
      "text/plain": [
       "<IPython.core.display.Markdown object>"
      ]
     },
     "metadata": {},
     "output_type": "display_data"
    },
    {
     "name": "stdout",
     "output_type": "stream",
     "text": [
      "2018:         5 ┬        +4 (+400%)\n",
      "2017:         1 ┘      \n"
     ]
    },
    {
     "data": {
      "text/html": [
       "<h5>Seitenaufrufe des Artikels 'Mathe für Nicht-Freaks: Lineare Algebra 1'</h5>"
      ],
      "text/plain": [
       "<IPython.core.display.HTML object>"
      ]
     },
     "metadata": {},
     "output_type": "display_data"
    },
    {
     "name": "stdout",
     "output_type": "stream",
     "text": [
      "2018:    28.148 ┬    +9.763 (+53%)\n",
      "2017:    18.385 ┘      \n"
     ]
    },
    {
     "data": {
      "text/html": [
       "<h5>Bearbeitungen im Artikel 'Mathe für Nicht-Freaks: Lineare Algebra 1'</h5>"
      ],
      "text/plain": [
       "<IPython.core.display.HTML object>"
      ]
     },
     "metadata": {},
     "output_type": "display_data"
    },
    {
     "name": "stdout",
     "output_type": "stream",
     "text": [
      "2018:         0 ┬        -1 (-100%)\n",
      "2017:         1 ┘      \n"
     ]
    },
    {
     "data": {
      "text/markdown": [
       "[Zurück zum Inhaltsverzeichnis](#Inhaltsverzeichnis)"
      ],
      "text/plain": [
       "<IPython.core.display.Markdown object>"
      ]
     },
     "metadata": {},
     "output_type": "display_data"
    },
    {
     "data": {
      "text/html": [
       "<h3 id='Einführung in die lineare Algebra'>=== Einführung in die lineare Algebra ===</h3>"
      ],
      "text/plain": [
       "<IPython.core.display.HTML object>"
      ]
     },
     "metadata": {},
     "output_type": "display_data"
    },
    {
     "data": {
      "text/markdown": [
       "[Zurück zum Inhaltsverzeichnis](#Inhaltsverzeichnis)"
      ],
      "text/plain": [
       "<IPython.core.display.Markdown object>"
      ]
     },
     "metadata": {},
     "output_type": "display_data"
    },
    {
     "data": {
      "text/html": [
       "<h4 id='Was ist Algebra?'>==== Was ist Algebra? ====</h4>"
      ],
      "text/plain": [
       "<IPython.core.display.HTML object>"
      ]
     },
     "metadata": {},
     "output_type": "display_data"
    },
    {
     "data": {
      "text/html": [
       "<h5>Seitenaufrufe des Artikels 'Mathe für Nicht-Freaks: Was ist Algebra?'</h5>"
      ],
      "text/plain": [
       "<IPython.core.display.HTML object>"
      ]
     },
     "metadata": {},
     "output_type": "display_data"
    },
    {
     "name": "stdout",
     "output_type": "stream",
     "text": [
      "2018:    10.102 ┬    +1.851 (+22%)\n",
      "2017:     8.251 ┘      \n"
     ]
    },
    {
     "data": {
      "text/html": [
       "<h5>Bearbeitungen im Artikel 'Mathe für Nicht-Freaks: Was ist Algebra?'</h5>"
      ],
      "text/plain": [
       "<IPython.core.display.HTML object>"
      ]
     },
     "metadata": {},
     "output_type": "display_data"
    },
    {
     "name": "stdout",
     "output_type": "stream",
     "text": [
      "2018:       121 ┬      +111 (+1110%)\n",
      "2017:        10 ┘      \n"
     ]
    },
    {
     "data": {
      "text/markdown": [
       "[Zurück zum Inhaltsverzeichnis](#Inhaltsverzeichnis)"
      ],
      "text/plain": [
       "<IPython.core.display.Markdown object>"
      ]
     },
     "metadata": {},
     "output_type": "display_data"
    },
    {
     "data": {
      "text/html": [
       "<h4 id='Eigenschaften algebraischer Strukturen'>==== Eigenschaften algebraischer Strukturen ====</h4>"
      ],
      "text/plain": [
       "<IPython.core.display.HTML object>"
      ]
     },
     "metadata": {},
     "output_type": "display_data"
    },
    {
     "data": {
      "text/html": [
       "<h5>Seitenaufrufe des Artikels 'Mathe für Nicht-Freaks: Grundlegende Eigenschaften algebraischer Strukturen'</h5>"
      ],
      "text/plain": [
       "<IPython.core.display.HTML object>"
      ]
     },
     "metadata": {},
     "output_type": "display_data"
    },
    {
     "name": "stdout",
     "output_type": "stream",
     "text": [
      "2018:       711 ┬      +711        \n",
      "2017:         0 ┘      \n"
     ]
    },
    {
     "data": {
      "text/html": [
       "<h5>Bearbeitungen im Artikel 'Mathe für Nicht-Freaks: Grundlegende Eigenschaften algebraischer Strukturen'</h5>"
      ],
      "text/plain": [
       "<IPython.core.display.HTML object>"
      ]
     },
     "metadata": {},
     "output_type": "display_data"
    },
    {
     "name": "stdout",
     "output_type": "stream",
     "text": [
      "2018:         2 ┬        +2        \n",
      "2017:         0 ┘      \n"
     ]
    },
    {
     "data": {
      "text/markdown": [
       "[Zurück zum Inhaltsverzeichnis](#Inhaltsverzeichnis)"
      ],
      "text/plain": [
       "<IPython.core.display.Markdown object>"
      ]
     },
     "metadata": {},
     "output_type": "display_data"
    },
    {
     "data": {
      "text/html": [
       "<h4 id='Gruppen'>==== Gruppen ====</h4>"
      ],
      "text/plain": [
       "<IPython.core.display.HTML object>"
      ]
     },
     "metadata": {},
     "output_type": "display_data"
    },
    {
     "data": {
      "text/html": [
       "<h5>Seitenaufrufe des Artikels 'Mathe für Nicht-Freaks: Gruppen'</h5>"
      ],
      "text/plain": [
       "<IPython.core.display.HTML object>"
      ]
     },
     "metadata": {},
     "output_type": "display_data"
    },
    {
     "name": "stdout",
     "output_type": "stream",
     "text": [
      "2018:     1.617 ┬    +1.617        \n",
      "2017:         0 ┘      \n"
     ]
    },
    {
     "data": {
      "text/html": [
       "<h5>Bearbeitungen im Artikel 'Mathe für Nicht-Freaks: Gruppen'</h5>"
      ],
      "text/plain": [
       "<IPython.core.display.HTML object>"
      ]
     },
     "metadata": {},
     "output_type": "display_data"
    },
    {
     "name": "stdout",
     "output_type": "stream",
     "text": [
      "2018:        18 ┬       +18        \n",
      "2017:         0 ┘      \n"
     ]
    },
    {
     "data": {
      "text/markdown": [
       "[Zurück zum Inhaltsverzeichnis](#Inhaltsverzeichnis)"
      ],
      "text/plain": [
       "<IPython.core.display.Markdown object>"
      ]
     },
     "metadata": {},
     "output_type": "display_data"
    },
    {
     "data": {
      "text/html": [
       "<h4 id='Ringe'>==== Ringe ====</h4>"
      ],
      "text/plain": [
       "<IPython.core.display.HTML object>"
      ]
     },
     "metadata": {},
     "output_type": "display_data"
    },
    {
     "data": {
      "text/html": [
       "<h5>Seitenaufrufe des Artikels 'Mathe für Nicht-Freaks: Ringe'</h5>"
      ],
      "text/plain": [
       "<IPython.core.display.HTML object>"
      ]
     },
     "metadata": {},
     "output_type": "display_data"
    },
    {
     "name": "stdout",
     "output_type": "stream",
     "text": [
      "2018:     2.275 ┬    +2.080 (+1067%)\n",
      "2017:       195 ┘      \n"
     ]
    },
    {
     "data": {
      "text/html": [
       "<h5>Bearbeitungen im Artikel 'Mathe für Nicht-Freaks: Ringe'</h5>"
      ],
      "text/plain": [
       "<IPython.core.display.HTML object>"
      ]
     },
     "metadata": {},
     "output_type": "display_data"
    },
    {
     "name": "stdout",
     "output_type": "stream",
     "text": [
      "2018:       143 ┬      +143        \n",
      "2017:         0 ┘      \n"
     ]
    },
    {
     "data": {
      "text/markdown": [
       "[Zurück zum Inhaltsverzeichnis](#Inhaltsverzeichnis)"
      ],
      "text/plain": [
       "<IPython.core.display.Markdown object>"
      ]
     },
     "metadata": {},
     "output_type": "display_data"
    },
    {
     "data": {
      "text/html": [
       "<h4 id='Körper'>==== Körper ====</h4>"
      ],
      "text/plain": [
       "<IPython.core.display.HTML object>"
      ]
     },
     "metadata": {},
     "output_type": "display_data"
    },
    {
     "data": {
      "text/html": [
       "<h5>Seitenaufrufe des Artikels 'Mathe für Nicht-Freaks: Körper'</h5>"
      ],
      "text/plain": [
       "<IPython.core.display.HTML object>"
      ]
     },
     "metadata": {},
     "output_type": "display_data"
    },
    {
     "name": "stdout",
     "output_type": "stream",
     "text": [
      "2018:       807 ┬      +807        \n",
      "2017:         0 ┘      \n"
     ]
    },
    {
     "data": {
      "text/html": [
       "<h5>Bearbeitungen im Artikel 'Mathe für Nicht-Freaks: Körper'</h5>"
      ],
      "text/plain": [
       "<IPython.core.display.HTML object>"
      ]
     },
     "metadata": {},
     "output_type": "display_data"
    },
    {
     "name": "stdout",
     "output_type": "stream",
     "text": [
      "2018:        24 ┬       +24        \n",
      "2017:         0 ┘      \n"
     ]
    },
    {
     "data": {
      "text/markdown": [
       "[Zurück zum Inhaltsverzeichnis](#Inhaltsverzeichnis)"
      ],
      "text/plain": [
       "<IPython.core.display.Markdown object>"
      ]
     },
     "metadata": {},
     "output_type": "display_data"
    },
    {
     "data": {
      "text/html": [
       "<h4 id='Übersicht zu algebraischer Strukturen'>==== Übersicht zu algebraischer Strukturen ====</h4>"
      ],
      "text/plain": [
       "<IPython.core.display.HTML object>"
      ]
     },
     "metadata": {},
     "output_type": "display_data"
    },
    {
     "data": {
      "text/html": [
       "<h5>Seitenaufrufe des Artikels 'Mathe für Nicht-Freaks: Übersicht zu algebraischer Strukturen'</h5>"
      ],
      "text/plain": [
       "<IPython.core.display.HTML object>"
      ]
     },
     "metadata": {},
     "output_type": "display_data"
    },
    {
     "name": "stdout",
     "output_type": "stream",
     "text": [
      "2018:       424 ┬      +424        \n",
      "2017:         0 ┘      \n"
     ]
    },
    {
     "data": {
      "text/html": [
       "<h5>Bearbeitungen im Artikel 'Mathe für Nicht-Freaks: Übersicht zu algebraischer Strukturen'</h5>"
      ],
      "text/plain": [
       "<IPython.core.display.HTML object>"
      ]
     },
     "metadata": {},
     "output_type": "display_data"
    },
    {
     "name": "stdout",
     "output_type": "stream",
     "text": [
      "2018:         1 ┬        +1        \n",
      "2017:         0 ┘      \n"
     ]
    },
    {
     "data": {
      "text/markdown": [
       "[Zurück zum Inhaltsverzeichnis](#Inhaltsverzeichnis)"
      ],
      "text/plain": [
       "<IPython.core.display.Markdown object>"
      ]
     },
     "metadata": {},
     "output_type": "display_data"
    },
    {
     "data": {
      "text/html": [
       "<h4 id='Vektorbegriff aus der Schule'>==== Vektorbegriff aus der Schule ====</h4>"
      ],
      "text/plain": [
       "<IPython.core.display.HTML object>"
      ]
     },
     "metadata": {},
     "output_type": "display_data"
    },
    {
     "data": {
      "text/html": [
       "<h5>Seitenaufrufe des Artikels 'Mathe für Nicht-Freaks: Vektoren und Vektorräume in der Schule'</h5>"
      ],
      "text/plain": [
       "<IPython.core.display.HTML object>"
      ]
     },
     "metadata": {},
     "output_type": "display_data"
    },
    {
     "name": "stdout",
     "output_type": "stream",
     "text": [
      "2018:       796 ┬      +796        \n",
      "2017:         0 ┘      \n"
     ]
    },
    {
     "data": {
      "text/html": [
       "<h5>Bearbeitungen im Artikel 'Mathe für Nicht-Freaks: Vektoren und Vektorräume in der Schule'</h5>"
      ],
      "text/plain": [
       "<IPython.core.display.HTML object>"
      ]
     },
     "metadata": {},
     "output_type": "display_data"
    },
    {
     "name": "stdout",
     "output_type": "stream",
     "text": [
      "2018:        45 ┬       +45        \n",
      "2017:         0 ┘      \n"
     ]
    },
    {
     "data": {
      "text/markdown": [
       "[Zurück zum Inhaltsverzeichnis](#Inhaltsverzeichnis)"
      ],
      "text/plain": [
       "<IPython.core.display.Markdown object>"
      ]
     },
     "metadata": {},
     "output_type": "display_data"
    },
    {
     "data": {
      "text/html": [
       "<h3 id='Vektorräume'>=== Vektorräume ===</h3>"
      ],
      "text/plain": [
       "<IPython.core.display.HTML object>"
      ]
     },
     "metadata": {},
     "output_type": "display_data"
    },
    {
     "data": {
      "text/markdown": [
       "[Zurück zum Inhaltsverzeichnis](#Inhaltsverzeichnis)"
      ],
      "text/plain": [
       "<IPython.core.display.Markdown object>"
      ]
     },
     "metadata": {},
     "output_type": "display_data"
    },
    {
     "data": {
      "text/html": [
       "<h4 id='Einführung in den Vektorraum'>==== Einführung in den Vektorraum ====</h4>"
      ],
      "text/plain": [
       "<IPython.core.display.HTML object>"
      ]
     },
     "metadata": {},
     "output_type": "display_data"
    },
    {
     "data": {
      "text/html": [
       "<h5>Seitenaufrufe des Artikels 'Mathe für Nicht-Freaks: Einführung in den Vektorraum'</h5>"
      ],
      "text/plain": [
       "<IPython.core.display.HTML object>"
      ]
     },
     "metadata": {},
     "output_type": "display_data"
    },
    {
     "name": "stdout",
     "output_type": "stream",
     "text": [
      "2018:     2.709 ┬    +2.709        \n",
      "2017:         0 ┘      \n"
     ]
    },
    {
     "data": {
      "text/html": [
       "<h5>Bearbeitungen im Artikel 'Mathe für Nicht-Freaks: Einführung in den Vektorraum'</h5>"
      ],
      "text/plain": [
       "<IPython.core.display.HTML object>"
      ]
     },
     "metadata": {},
     "output_type": "display_data"
    },
    {
     "name": "stdout",
     "output_type": "stream",
     "text": [
      "2018:       122 ┬      +122        \n",
      "2017:         0 ┘      \n"
     ]
    },
    {
     "data": {
      "text/markdown": [
       "[Zurück zum Inhaltsverzeichnis](#Inhaltsverzeichnis)"
      ],
      "text/plain": [
       "<IPython.core.display.Markdown object>"
      ]
     },
     "metadata": {},
     "output_type": "display_data"
    },
    {
     "data": {
      "text/html": [
       "<h4 id='Vektorraum'>==== Vektorraum ====</h4>"
      ],
      "text/plain": [
       "<IPython.core.display.HTML object>"
      ]
     },
     "metadata": {},
     "output_type": "display_data"
    },
    {
     "data": {
      "text/html": [
       "<h5>Seitenaufrufe des Artikels 'Mathe für Nicht-Freaks: Vektorraum'</h5>"
      ],
      "text/plain": [
       "<IPython.core.display.HTML object>"
      ]
     },
     "metadata": {},
     "output_type": "display_data"
    },
    {
     "name": "stdout",
     "output_type": "stream",
     "text": [
      "2018:    17.384 ┬    +9.466 (+120%)\n",
      "2017:     7.918 ┘      \n"
     ]
    },
    {
     "data": {
      "text/html": [
       "<h5>Bearbeitungen im Artikel 'Mathe für Nicht-Freaks: Vektorraum'</h5>"
      ],
      "text/plain": [
       "<IPython.core.display.HTML object>"
      ]
     },
     "metadata": {},
     "output_type": "display_data"
    },
    {
     "name": "stdout",
     "output_type": "stream",
     "text": [
      "2018:        73 ┬       +61 (+508%)\n",
      "2017:        12 ┘      \n"
     ]
    },
    {
     "data": {
      "text/markdown": [
       "[Zurück zum Inhaltsverzeichnis](#Inhaltsverzeichnis)"
      ],
      "text/plain": [
       "<IPython.core.display.Markdown object>"
      ]
     },
     "metadata": {},
     "output_type": "display_data"
    },
    {
     "data": {
      "text/html": [
       "<h4 id='Eigenschaften von Vektorräumen'>==== Eigenschaften von Vektorräumen ====</h4>"
      ],
      "text/plain": [
       "<IPython.core.display.HTML object>"
      ]
     },
     "metadata": {},
     "output_type": "display_data"
    },
    {
     "data": {
      "text/html": [
       "<h5>Seitenaufrufe des Artikels 'Mathe für Nicht-Freaks: Vektorraum: Eigenschaften'</h5>"
      ],
      "text/plain": [
       "<IPython.core.display.HTML object>"
      ]
     },
     "metadata": {},
     "output_type": "display_data"
    },
    {
     "name": "stdout",
     "output_type": "stream",
     "text": [
      "2018:     4.733 ┬    +2.505 (+112%)\n",
      "2017:     2.228 ┘      \n"
     ]
    },
    {
     "data": {
      "text/html": [
       "<h5>Bearbeitungen im Artikel 'Mathe für Nicht-Freaks: Vektorraum: Eigenschaften'</h5>"
      ],
      "text/plain": [
       "<IPython.core.display.HTML object>"
      ]
     },
     "metadata": {},
     "output_type": "display_data"
    },
    {
     "name": "stdout",
     "output_type": "stream",
     "text": [
      "2018:        24 ┬       +16 (+200%)\n",
      "2017:         8 ┘      \n"
     ]
    },
    {
     "data": {
      "text/markdown": [
       "[Zurück zum Inhaltsverzeichnis](#Inhaltsverzeichnis)"
      ],
      "text/plain": [
       "<IPython.core.display.Markdown object>"
      ]
     },
     "metadata": {},
     "output_type": "display_data"
    },
    {
     "data": {
      "text/html": [
       "<h4 id='Beweise für Vektorräume führen'>==== Beweise für Vektorräume führen ====</h4>"
      ],
      "text/plain": [
       "<IPython.core.display.HTML object>"
      ]
     },
     "metadata": {},
     "output_type": "display_data"
    },
    {
     "data": {
      "text/html": [
       "<h5>Seitenaufrufe des Artikels 'Mathe für Nicht-Freaks: Beweise für Vektorräume führen'</h5>"
      ],
      "text/plain": [
       "<IPython.core.display.HTML object>"
      ]
     },
     "metadata": {},
     "output_type": "display_data"
    },
    {
     "name": "stdout",
     "output_type": "stream",
     "text": [
      "2018:       431 ┬      +431        \n",
      "2017:         0 ┘      \n"
     ]
    },
    {
     "data": {
      "text/html": [
       "<h5>Bearbeitungen im Artikel 'Mathe für Nicht-Freaks: Beweise für Vektorräume führen'</h5>"
      ],
      "text/plain": [
       "<IPython.core.display.HTML object>"
      ]
     },
     "metadata": {},
     "output_type": "display_data"
    },
    {
     "name": "stdout",
     "output_type": "stream",
     "text": [
      "2018:         2 ┬        +2        \n",
      "2017:         0 ┘      \n"
     ]
    },
    {
     "data": {
      "text/markdown": [
       "[Zurück zum Inhaltsverzeichnis](#Inhaltsverzeichnis)"
      ],
      "text/plain": [
       "<IPython.core.display.Markdown object>"
      ]
     },
     "metadata": {},
     "output_type": "display_data"
    },
    {
     "data": {
      "text/html": [
       "<h4 id='Der Körper als Vektorraum'>==== Der Körper als Vektorraum ====</h4>"
      ],
      "text/plain": [
       "<IPython.core.display.HTML object>"
      ]
     },
     "metadata": {},
     "output_type": "display_data"
    },
    {
     "data": {
      "text/html": [
       "<h5>Seitenaufrufe des Artikels 'Mathe für Nicht-Freaks: Vektorraum: Körper'</h5>"
      ],
      "text/plain": [
       "<IPython.core.display.HTML object>"
      ]
     },
     "metadata": {},
     "output_type": "display_data"
    },
    {
     "name": "stdout",
     "output_type": "stream",
     "text": [
      "2018:     2.139 ┬      +187 (+10%)\n",
      "2017:     1.952 ┘      \n"
     ]
    },
    {
     "data": {
      "text/html": [
       "<h5>Bearbeitungen im Artikel 'Mathe für Nicht-Freaks: Vektorraum: Körper'</h5>"
      ],
      "text/plain": [
       "<IPython.core.display.HTML object>"
      ]
     },
     "metadata": {},
     "output_type": "display_data"
    },
    {
     "name": "stdout",
     "output_type": "stream",
     "text": [
      "2018:         2 ┬       -20 (-91%)\n",
      "2017:        22 ┘      \n"
     ]
    },
    {
     "data": {
      "text/markdown": [
       "[Zurück zum Inhaltsverzeichnis](#Inhaltsverzeichnis)"
      ],
      "text/plain": [
       "<IPython.core.display.Markdown object>"
      ]
     },
     "metadata": {},
     "output_type": "display_data"
    },
    {
     "data": {
      "text/html": [
       "<h4 id='Koordinatenräume'>==== Koordinatenräume ====</h4>"
      ],
      "text/plain": [
       "<IPython.core.display.HTML object>"
      ]
     },
     "metadata": {},
     "output_type": "display_data"
    },
    {
     "data": {
      "text/html": [
       "<h5>Seitenaufrufe des Artikels 'Mathe für Nicht-Freaks: Koordinatenräume'</h5>"
      ],
      "text/plain": [
       "<IPython.core.display.HTML object>"
      ]
     },
     "metadata": {},
     "output_type": "display_data"
    },
    {
     "name": "stdout",
     "output_type": "stream",
     "text": [
      "2018:     1.316 ┬      +308 (+31%)\n",
      "2017:     1.008 ┘      \n"
     ]
    },
    {
     "data": {
      "text/html": [
       "<h5>Bearbeitungen im Artikel 'Mathe für Nicht-Freaks: Koordinatenräume'</h5>"
      ],
      "text/plain": [
       "<IPython.core.display.HTML object>"
      ]
     },
     "metadata": {},
     "output_type": "display_data"
    },
    {
     "name": "stdout",
     "output_type": "stream",
     "text": [
      "2018:         0 ┬        -7 (-100%)\n",
      "2017:         7 ┘      \n"
     ]
    },
    {
     "data": {
      "text/markdown": [
       "[Zurück zum Inhaltsverzeichnis](#Inhaltsverzeichnis)"
      ],
      "text/plain": [
       "<IPython.core.display.Markdown object>"
      ]
     },
     "metadata": {},
     "output_type": "display_data"
    },
    {
     "data": {
      "text/html": [
       "<h4 id='Folgenräume'>==== Folgenräume ====</h4>"
      ],
      "text/plain": [
       "<IPython.core.display.HTML object>"
      ]
     },
     "metadata": {},
     "output_type": "display_data"
    },
    {
     "data": {
      "text/html": [
       "<h5>Seitenaufrufe des Artikels 'Mathe für Nicht-Freaks: Folgenräume'</h5>"
      ],
      "text/plain": [
       "<IPython.core.display.HTML object>"
      ]
     },
     "metadata": {},
     "output_type": "display_data"
    },
    {
     "name": "stdout",
     "output_type": "stream",
     "text": [
      "2018:     1.668 ┬      +817 (+96%)\n",
      "2017:       851 ┘      \n"
     ]
    },
    {
     "data": {
      "text/html": [
       "<h5>Bearbeitungen im Artikel 'Mathe für Nicht-Freaks: Folgenräume'</h5>"
      ],
      "text/plain": [
       "<IPython.core.display.HTML object>"
      ]
     },
     "metadata": {},
     "output_type": "display_data"
    },
    {
     "name": "stdout",
     "output_type": "stream",
     "text": [
      "2018:         0 ┬        -6 (-100%)\n",
      "2017:         6 ┘      \n"
     ]
    },
    {
     "data": {
      "text/markdown": [
       "[Zurück zum Inhaltsverzeichnis](#Inhaltsverzeichnis)"
      ],
      "text/plain": [
       "<IPython.core.display.Markdown object>"
      ]
     },
     "metadata": {},
     "output_type": "display_data"
    },
    {
     "data": {
      "text/html": [
       "<h4 id='Funktionsräume'>==== Funktionsräume ====</h4>"
      ],
      "text/plain": [
       "<IPython.core.display.HTML object>"
      ]
     },
     "metadata": {},
     "output_type": "display_data"
    },
    {
     "data": {
      "text/html": [
       "<h5>Seitenaufrufe des Artikels 'Mathe für Nicht-Freaks: Funktionsräume'</h5>"
      ],
      "text/plain": [
       "<IPython.core.display.HTML object>"
      ]
     },
     "metadata": {},
     "output_type": "display_data"
    },
    {
     "name": "stdout",
     "output_type": "stream",
     "text": [
      "2018:     1.259 ┬      +352 (+39%)\n",
      "2017:       907 ┘      \n"
     ]
    },
    {
     "data": {
      "text/html": [
       "<h5>Bearbeitungen im Artikel 'Mathe für Nicht-Freaks: Funktionsräume'</h5>"
      ],
      "text/plain": [
       "<IPython.core.display.HTML object>"
      ]
     },
     "metadata": {},
     "output_type": "display_data"
    },
    {
     "name": "stdout",
     "output_type": "stream",
     "text": [
      "2018:         0 ┬        -5 (-100%)\n",
      "2017:         5 ┘      \n"
     ]
    },
    {
     "data": {
      "text/markdown": [
       "[Zurück zum Inhaltsverzeichnis](#Inhaltsverzeichnis)"
      ],
      "text/plain": [
       "<IPython.core.display.Markdown object>"
      ]
     },
     "metadata": {},
     "output_type": "display_data"
    },
    {
     "data": {
      "text/html": [
       "<h4 id='Untervektorraum'>==== Untervektorraum ====</h4>"
      ],
      "text/plain": [
       "<IPython.core.display.HTML object>"
      ]
     },
     "metadata": {},
     "output_type": "display_data"
    },
    {
     "data": {
      "text/html": [
       "<h5>Seitenaufrufe des Artikels 'Mathe für Nicht-Freaks: Untervektorraum'</h5>"
      ],
      "text/plain": [
       "<IPython.core.display.HTML object>"
      ]
     },
     "metadata": {},
     "output_type": "display_data"
    },
    {
     "name": "stdout",
     "output_type": "stream",
     "text": [
      "2018:    29.222 ┬   +11.792 (+68%)\n",
      "2017:    17.430 ┘      \n"
     ]
    },
    {
     "data": {
      "text/html": [
       "<h5>Bearbeitungen im Artikel 'Mathe für Nicht-Freaks: Untervektorraum'</h5>"
      ],
      "text/plain": [
       "<IPython.core.display.HTML object>"
      ]
     },
     "metadata": {},
     "output_type": "display_data"
    },
    {
     "name": "stdout",
     "output_type": "stream",
     "text": [
      "2018:        69 ┬       +58 (+527%)\n",
      "2017:        11 ┘      \n"
     ]
    },
    {
     "data": {
      "text/markdown": [
       "[Zurück zum Inhaltsverzeichnis](#Inhaltsverzeichnis)"
      ],
      "text/plain": [
       "<IPython.core.display.Markdown object>"
      ]
     },
     "metadata": {},
     "output_type": "display_data"
    },
    {
     "data": {
      "text/html": [
       "<h4 id='Vereinigung und Durchschnitt von Vektorräumen'>==== Vereinigung und Durchschnitt von Vektorräumen ====</h4>"
      ],
      "text/plain": [
       "<IPython.core.display.HTML object>"
      ]
     },
     "metadata": {},
     "output_type": "display_data"
    },
    {
     "data": {
      "text/html": [
       "<h5>Seitenaufrufe des Artikels 'Mathe für Nicht-Freaks: Vereinigung und Durchschnitt von Vektorräumen'</h5>"
      ],
      "text/plain": [
       "<IPython.core.display.HTML object>"
      ]
     },
     "metadata": {},
     "output_type": "display_data"
    },
    {
     "name": "stdout",
     "output_type": "stream",
     "text": [
      "2018:    12.542 ┬    +2.601 (+26%)\n",
      "2017:     9.941 ┘      \n"
     ]
    },
    {
     "data": {
      "text/html": [
       "<h5>Bearbeitungen im Artikel 'Mathe für Nicht-Freaks: Vereinigung und Durchschnitt von Vektorräumen'</h5>"
      ],
      "text/plain": [
       "<IPython.core.display.HTML object>"
      ]
     },
     "metadata": {},
     "output_type": "display_data"
    },
    {
     "name": "stdout",
     "output_type": "stream",
     "text": [
      "2018:        20 ┬       +16 (+400%)\n",
      "2017:         4 ┘      \n"
     ]
    },
    {
     "data": {
      "text/markdown": [
       "[Zurück zum Inhaltsverzeichnis](#Inhaltsverzeichnis)"
      ],
      "text/plain": [
       "<IPython.core.display.Markdown object>"
      ]
     },
     "metadata": {},
     "output_type": "display_data"
    },
    {
     "data": {
      "text/html": [
       "<h4 id='Nebenklassen eines Vektorraums'>==== Nebenklassen eines Vektorraums ====</h4>"
      ],
      "text/plain": [
       "<IPython.core.display.HTML object>"
      ]
     },
     "metadata": {},
     "output_type": "display_data"
    },
    {
     "data": {
      "text/html": [
       "<h5>Seitenaufrufe des Artikels 'Mathe für Nicht-Freaks: Nebenklassen eines Vektorraums'</h5>"
      ],
      "text/plain": [
       "<IPython.core.display.HTML object>"
      ]
     },
     "metadata": {},
     "output_type": "display_data"
    },
    {
     "name": "stdout",
     "output_type": "stream",
     "text": [
      "2018:     1.308 ┬      +852 (+187%)\n",
      "2017:       456 ┘      \n"
     ]
    },
    {
     "data": {
      "text/html": [
       "<h5>Bearbeitungen im Artikel 'Mathe für Nicht-Freaks: Nebenklassen eines Vektorraums'</h5>"
      ],
      "text/plain": [
       "<IPython.core.display.HTML object>"
      ]
     },
     "metadata": {},
     "output_type": "display_data"
    },
    {
     "name": "stdout",
     "output_type": "stream",
     "text": [
      "2018:       111 ┬      +111        \n",
      "2017:         0 ┘      \n"
     ]
    },
    {
     "data": {
      "text/markdown": [
       "[Zurück zum Inhaltsverzeichnis](#Inhaltsverzeichnis)"
      ],
      "text/plain": [
       "<IPython.core.display.Markdown object>"
      ]
     },
     "metadata": {},
     "output_type": "display_data"
    },
    {
     "data": {
      "text/html": [
       "<h4 id='Summe und direkte Summe'>==== Summe und direkte Summe ====</h4>"
      ],
      "text/plain": [
       "<IPython.core.display.HTML object>"
      ]
     },
     "metadata": {},
     "output_type": "display_data"
    },
    {
     "data": {
      "text/html": [
       "<h5>Seitenaufrufe des Artikels 'Mathe für Nicht-Freaks: Vektorraum: Summe und direkte Summe'</h5>"
      ],
      "text/plain": [
       "<IPython.core.display.HTML object>"
      ]
     },
     "metadata": {},
     "output_type": "display_data"
    },
    {
     "name": "stdout",
     "output_type": "stream",
     "text": [
      "2018:    14.837 ┬    +3.082 (+26%)\n",
      "2017:    11.755 ┘      \n"
     ]
    },
    {
     "data": {
      "text/html": [
       "<h5>Bearbeitungen im Artikel 'Mathe für Nicht-Freaks: Vektorraum: Summe und direkte Summe'</h5>"
      ],
      "text/plain": [
       "<IPython.core.display.HTML object>"
      ]
     },
     "metadata": {},
     "output_type": "display_data"
    },
    {
     "name": "stdout",
     "output_type": "stream",
     "text": [
      "2018:        30 ┬       +15 (+100%)\n",
      "2017:        15 ┘      \n"
     ]
    },
    {
     "data": {
      "text/markdown": [
       "[Zurück zum Inhaltsverzeichnis](#Inhaltsverzeichnis)"
      ],
      "text/plain": [
       "<IPython.core.display.Markdown object>"
      ]
     },
     "metadata": {},
     "output_type": "display_data"
    },
    {
     "data": {
      "text/html": [
       "<h4 id='Faktorraum'>==== Faktorraum ====</h4>"
      ],
      "text/plain": [
       "<IPython.core.display.HTML object>"
      ]
     },
     "metadata": {},
     "output_type": "display_data"
    },
    {
     "data": {
      "text/html": [
       "<h5>Seitenaufrufe des Artikels 'Mathe für Nicht-Freaks: Faktorraum, Quotientenraum'</h5>"
      ],
      "text/plain": [
       "<IPython.core.display.HTML object>"
      ]
     },
     "metadata": {},
     "output_type": "display_data"
    },
    {
     "name": "stdout",
     "output_type": "stream",
     "text": [
      "2018:     5.714 ┬    +3.680 (+181%)\n",
      "2017:     2.034 ┘      \n"
     ]
    },
    {
     "data": {
      "text/html": [
       "<h5>Bearbeitungen im Artikel 'Mathe für Nicht-Freaks: Faktorraum, Quotientenraum'</h5>"
      ],
      "text/plain": [
       "<IPython.core.display.HTML object>"
      ]
     },
     "metadata": {},
     "output_type": "display_data"
    },
    {
     "name": "stdout",
     "output_type": "stream",
     "text": [
      "2018:       123 ┬      +114 (+1267%)\n",
      "2017:         9 ┘      \n"
     ]
    },
    {
     "data": {
      "text/markdown": [
       "[Zurück zum Inhaltsverzeichnis](#Inhaltsverzeichnis)"
      ],
      "text/plain": [
       "<IPython.core.display.Markdown object>"
      ]
     },
     "metadata": {},
     "output_type": "display_data"
    },
    {
     "data": {
      "text/html": [
       "<h4 id='Konstruierte direkte Summe'>==== Konstruierte direkte Summe ====</h4>"
      ],
      "text/plain": [
       "<IPython.core.display.HTML object>"
      ]
     },
     "metadata": {},
     "output_type": "display_data"
    },
    {
     "data": {
      "text/html": [
       "<h5>Seitenaufrufe des Artikels 'Mathe für Nicht-Freaks: Konstruierte direkte Summe'</h5>"
      ],
      "text/plain": [
       "<IPython.core.display.HTML object>"
      ]
     },
     "metadata": {},
     "output_type": "display_data"
    },
    {
     "name": "stdout",
     "output_type": "stream",
     "text": [
      "2018:       202 ┬      +202        \n",
      "2017:         0 ┘      \n"
     ]
    },
    {
     "data": {
      "text/html": [
       "<h5>Bearbeitungen im Artikel 'Mathe für Nicht-Freaks: Konstruierte direkte Summe'</h5>"
      ],
      "text/plain": [
       "<IPython.core.display.HTML object>"
      ]
     },
     "metadata": {},
     "output_type": "display_data"
    },
    {
     "name": "stdout",
     "output_type": "stream",
     "text": [
      "2018:        13 ┬       +13        \n",
      "2017:         0 ┘      \n"
     ]
    },
    {
     "data": {
      "text/markdown": [
       "[Zurück zum Inhaltsverzeichnis](#Inhaltsverzeichnis)"
      ],
      "text/plain": [
       "<IPython.core.display.Markdown object>"
      ]
     },
     "metadata": {},
     "output_type": "display_data"
    },
    {
     "data": {
      "text/html": [
       "<h3 id='Linearkombinationen, Erzeugendensystem und Basis'>=== Linearkombinationen, Erzeugendensystem und Basis ===</h3>"
      ],
      "text/plain": [
       "<IPython.core.display.HTML object>"
      ]
     },
     "metadata": {},
     "output_type": "display_data"
    },
    {
     "data": {
      "text/markdown": [
       "[Zurück zum Inhaltsverzeichnis](#Inhaltsverzeichnis)"
      ],
      "text/plain": [
       "<IPython.core.display.Markdown object>"
      ]
     },
     "metadata": {},
     "output_type": "display_data"
    },
    {
     "data": {
      "text/html": [
       "<h4 id='Linearkombinationen'>==== Linearkombinationen ====</h4>"
      ],
      "text/plain": [
       "<IPython.core.display.HTML object>"
      ]
     },
     "metadata": {},
     "output_type": "display_data"
    },
    {
     "data": {
      "text/html": [
       "<h5>Seitenaufrufe des Artikels 'Mathe für Nicht-Freaks: Linearkombinationen'</h5>"
      ],
      "text/plain": [
       "<IPython.core.display.HTML object>"
      ]
     },
     "metadata": {},
     "output_type": "display_data"
    },
    {
     "name": "stdout",
     "output_type": "stream",
     "text": [
      "2018:     1.209 ┬    +1.209        \n",
      "2017:         0 ┘      \n"
     ]
    },
    {
     "data": {
      "text/html": [
       "<h5>Bearbeitungen im Artikel 'Mathe für Nicht-Freaks: Linearkombinationen'</h5>"
      ],
      "text/plain": [
       "<IPython.core.display.HTML object>"
      ]
     },
     "metadata": {},
     "output_type": "display_data"
    },
    {
     "name": "stdout",
     "output_type": "stream",
     "text": [
      "2018:        63 ┬       +63        \n",
      "2017:         0 ┘      \n"
     ]
    },
    {
     "data": {
      "text/markdown": [
       "[Zurück zum Inhaltsverzeichnis](#Inhaltsverzeichnis)"
      ],
      "text/plain": [
       "<IPython.core.display.Markdown object>"
      ]
     },
     "metadata": {},
     "output_type": "display_data"
    },
    {
     "data": {
      "text/html": [
       "<h4 id='Spann einer Menge'>==== Spann einer Menge ====</h4>"
      ],
      "text/plain": [
       "<IPython.core.display.HTML object>"
      ]
     },
     "metadata": {},
     "output_type": "display_data"
    },
    {
     "data": {
      "text/html": [
       "<h5>Seitenaufrufe des Artikels 'Mathe für Nicht-Freaks: Spann, Erzeugnis, lineare Hülle'</h5>"
      ],
      "text/plain": [
       "<IPython.core.display.HTML object>"
      ]
     },
     "metadata": {},
     "output_type": "display_data"
    },
    {
     "name": "stdout",
     "output_type": "stream",
     "text": [
      "2018:     3.456 ┬    +3.456        \n",
      "2017:         0 ┘      \n"
     ]
    },
    {
     "data": {
      "text/html": [
       "<h5>Bearbeitungen im Artikel 'Mathe für Nicht-Freaks: Spann, Erzeugnis, lineare Hülle'</h5>"
      ],
      "text/plain": [
       "<IPython.core.display.HTML object>"
      ]
     },
     "metadata": {},
     "output_type": "display_data"
    },
    {
     "name": "stdout",
     "output_type": "stream",
     "text": [
      "2018:        55 ┬       +55        \n",
      "2017:         0 ┘      \n"
     ]
    },
    {
     "data": {
      "text/markdown": [
       "[Zurück zum Inhaltsverzeichnis](#Inhaltsverzeichnis)"
      ],
      "text/plain": [
       "<IPython.core.display.Markdown object>"
      ]
     },
     "metadata": {},
     "output_type": "display_data"
    },
    {
     "data": {
      "text/html": [
       "<h4 id='Erzeugendensystem'>==== Erzeugendensystem ====</h4>"
      ],
      "text/plain": [
       "<IPython.core.display.HTML object>"
      ]
     },
     "metadata": {},
     "output_type": "display_data"
    },
    {
     "data": {
      "text/html": [
       "<h5>Seitenaufrufe des Artikels 'Mathe für Nicht-Freaks: Erzeugendensystem'</h5>"
      ],
      "text/plain": [
       "<IPython.core.display.HTML object>"
      ]
     },
     "metadata": {},
     "output_type": "display_data"
    },
    {
     "name": "stdout",
     "output_type": "stream",
     "text": [
      "2018:    12.269 ┬    +5.196 (+73%)\n",
      "2017:     7.073 ┘      \n"
     ]
    },
    {
     "data": {
      "text/html": [
       "<h5>Bearbeitungen im Artikel 'Mathe für Nicht-Freaks: Erzeugendensystem'</h5>"
      ],
      "text/plain": [
       "<IPython.core.display.HTML object>"
      ]
     },
     "metadata": {},
     "output_type": "display_data"
    },
    {
     "name": "stdout",
     "output_type": "stream",
     "text": [
      "2018:        68 ┬       +47 (+224%)\n",
      "2017:        21 ┘      \n"
     ]
    },
    {
     "data": {
      "text/markdown": [
       "[Zurück zum Inhaltsverzeichnis](#Inhaltsverzeichnis)"
      ],
      "text/plain": [
       "<IPython.core.display.Markdown object>"
      ]
     },
     "metadata": {},
     "output_type": "display_data"
    },
    {
     "data": {
      "text/html": [
       "<h4 id='Lineare Unabhängigkeit von Vektoren'>==== Lineare Unabhängigkeit von Vektoren ====</h4>"
      ],
      "text/plain": [
       "<IPython.core.display.HTML object>"
      ]
     },
     "metadata": {},
     "output_type": "display_data"
    },
    {
     "data": {
      "text/html": [
       "<h5>Seitenaufrufe des Artikels 'Mathe für Nicht-Freaks: Lineare Unabhängigkeit von Vektoren'</h5>"
      ],
      "text/plain": [
       "<IPython.core.display.HTML object>"
      ]
     },
     "metadata": {},
     "output_type": "display_data"
    },
    {
     "name": "stdout",
     "output_type": "stream",
     "text": [
      "2018:    14.439 ┬    +4.936 (+52%)\n",
      "2017:     9.503 ┘      \n"
     ]
    },
    {
     "data": {
      "text/html": [
       "<h5>Bearbeitungen im Artikel 'Mathe für Nicht-Freaks: Lineare Unabhängigkeit von Vektoren'</h5>"
      ],
      "text/plain": [
       "<IPython.core.display.HTML object>"
      ]
     },
     "metadata": {},
     "output_type": "display_data"
    },
    {
     "name": "stdout",
     "output_type": "stream",
     "text": [
      "2018:        77 ┬       +64 (+492%)\n",
      "2017:        13 ┘      \n"
     ]
    },
    {
     "data": {
      "text/markdown": [
       "[Zurück zum Inhaltsverzeichnis](#Inhaltsverzeichnis)"
      ],
      "text/plain": [
       "<IPython.core.display.Markdown object>"
      ]
     },
     "metadata": {},
     "output_type": "display_data"
    },
    {
     "data": {
      "text/html": [
       "<h4 id='Basis eines Vektorraums'>==== Basis eines Vektorraums ====</h4>"
      ],
      "text/plain": [
       "<IPython.core.display.HTML object>"
      ]
     },
     "metadata": {},
     "output_type": "display_data"
    },
    {
     "data": {
      "text/html": [
       "<h5>Seitenaufrufe des Artikels 'Mathe für Nicht-Freaks: Vektorraum: Basis'</h5>"
      ],
      "text/plain": [
       "<IPython.core.display.HTML object>"
      ]
     },
     "metadata": {},
     "output_type": "display_data"
    },
    {
     "name": "stdout",
     "output_type": "stream",
     "text": [
      "2018:    17.012 ┬    +7.957 (+88%)\n",
      "2017:     9.055 ┘      \n"
     ]
    },
    {
     "data": {
      "text/html": [
       "<h5>Bearbeitungen im Artikel 'Mathe für Nicht-Freaks: Vektorraum: Basis'</h5>"
      ],
      "text/plain": [
       "<IPython.core.display.HTML object>"
      ]
     },
     "metadata": {},
     "output_type": "display_data"
    },
    {
     "name": "stdout",
     "output_type": "stream",
     "text": [
      "2018:        77 ┬       +61 (+381%)\n",
      "2017:        16 ┘      \n"
     ]
    },
    {
     "data": {
      "text/markdown": [
       "[Zurück zum Inhaltsverzeichnis](#Inhaltsverzeichnis)"
      ],
      "text/plain": [
       "<IPython.core.display.Markdown object>"
      ]
     },
     "metadata": {},
     "output_type": "display_data"
    },
    {
     "data": {
      "text/html": [
       "<h4 id='Dimension eines Vektorraums'>==== Dimension eines Vektorraums ====</h4>"
      ],
      "text/plain": [
       "<IPython.core.display.HTML object>"
      ]
     },
     "metadata": {},
     "output_type": "display_data"
    },
    {
     "data": {
      "text/html": [
       "<h5>Seitenaufrufe des Artikels 'Mathe für Nicht-Freaks: Vektorraum: Dimension'</h5>"
      ],
      "text/plain": [
       "<IPython.core.display.HTML object>"
      ]
     },
     "metadata": {},
     "output_type": "display_data"
    },
    {
     "name": "stdout",
     "output_type": "stream",
     "text": [
      "2018:    11.531 ┬    +7.409 (+180%)\n",
      "2017:     4.122 ┘      \n"
     ]
    },
    {
     "data": {
      "text/html": [
       "<h5>Bearbeitungen im Artikel 'Mathe für Nicht-Freaks: Vektorraum: Dimension'</h5>"
      ],
      "text/plain": [
       "<IPython.core.display.HTML object>"
      ]
     },
     "metadata": {},
     "output_type": "display_data"
    },
    {
     "name": "stdout",
     "output_type": "stream",
     "text": [
      "2018:        48 ┬       +29 (+153%)\n",
      "2017:        19 ┘      \n"
     ]
    },
    {
     "data": {
      "text/markdown": [
       "[Zurück zum Inhaltsverzeichnis](#Inhaltsverzeichnis)"
      ],
      "text/plain": [
       "<IPython.core.display.Markdown object>"
      ]
     },
     "metadata": {},
     "output_type": "display_data"
    },
    {
     "data": {
      "text/html": [
       "<h3 id='Lineare Abbildungen'>=== Lineare Abbildungen ===</h3>"
      ],
      "text/plain": [
       "<IPython.core.display.HTML object>"
      ]
     },
     "metadata": {},
     "output_type": "display_data"
    },
    {
     "data": {
      "text/markdown": [
       "[Zurück zum Inhaltsverzeichnis](#Inhaltsverzeichnis)"
      ],
      "text/plain": [
       "<IPython.core.display.Markdown object>"
      ]
     },
     "metadata": {},
     "output_type": "display_data"
    },
    {
     "data": {
      "text/html": [
       "<h4 id='Lineare Abbildungen'>==== Lineare Abbildungen ====</h4>"
      ],
      "text/plain": [
       "<IPython.core.display.HTML object>"
      ]
     },
     "metadata": {},
     "output_type": "display_data"
    },
    {
     "data": {
      "text/html": [
       "<h5>Seitenaufrufe des Artikels 'Mathe für Nicht-Freaks: Lineare Abbildungen, Homomorphismus'</h5>"
      ],
      "text/plain": [
       "<IPython.core.display.HTML object>"
      ]
     },
     "metadata": {},
     "output_type": "display_data"
    },
    {
     "name": "stdout",
     "output_type": "stream",
     "text": [
      "2018:     7.098 ┬    +2.235 (+46%)\n",
      "2017:     4.863 ┘      \n"
     ]
    },
    {
     "data": {
      "text/html": [
       "<h5>Bearbeitungen im Artikel 'Mathe für Nicht-Freaks: Lineare Abbildungen, Homomorphismus'</h5>"
      ],
      "text/plain": [
       "<IPython.core.display.HTML object>"
      ]
     },
     "metadata": {},
     "output_type": "display_data"
    },
    {
     "name": "stdout",
     "output_type": "stream",
     "text": [
      "2018:       130 ┬       +77 (+145%)\n",
      "2017:        53 ┘      \n"
     ]
    },
    {
     "data": {
      "text/markdown": [
       "[Zurück zum Inhaltsverzeichnis](#Inhaltsverzeichnis)"
      ],
      "text/plain": [
       "<IPython.core.display.Markdown object>"
      ]
     },
     "metadata": {},
     "output_type": "display_data"
    },
    {
     "data": {
      "text/html": [
       "<h4 id='Eigenschaften linearer Abbildungen'>==== Eigenschaften linearer Abbildungen ====</h4>"
      ],
      "text/plain": [
       "<IPython.core.display.HTML object>"
      ]
     },
     "metadata": {},
     "output_type": "display_data"
    },
    {
     "data": {
      "text/html": [
       "<h5>Seitenaufrufe des Artikels 'Mathe für Nicht-Freaks: Lineare Abbildungen: Eigenschaften'</h5>"
      ],
      "text/plain": [
       "<IPython.core.display.HTML object>"
      ]
     },
     "metadata": {},
     "output_type": "display_data"
    },
    {
     "name": "stdout",
     "output_type": "stream",
     "text": [
      "2018:     2.063 ┬    +1.020 (+98%)\n",
      "2017:     1.043 ┘      \n"
     ]
    },
    {
     "data": {
      "text/html": [
       "<h5>Bearbeitungen im Artikel 'Mathe für Nicht-Freaks: Lineare Abbildungen: Eigenschaften'</h5>"
      ],
      "text/plain": [
       "<IPython.core.display.HTML object>"
      ]
     },
     "metadata": {},
     "output_type": "display_data"
    },
    {
     "name": "stdout",
     "output_type": "stream",
     "text": [
      "2018:         2 ┬       -36 (-95%)\n",
      "2017:        38 ┘      \n"
     ]
    },
    {
     "data": {
      "text/markdown": [
       "[Zurück zum Inhaltsverzeichnis](#Inhaltsverzeichnis)"
      ],
      "text/plain": [
       "<IPython.core.display.Markdown object>"
      ]
     },
     "metadata": {},
     "output_type": "display_data"
    },
    {
     "data": {
      "text/html": [
       "<h4 id='Prinzip der linearen Fortsetzung'>==== Prinzip der linearen Fortsetzung ====</h4>"
      ],
      "text/plain": [
       "<IPython.core.display.HTML object>"
      ]
     },
     "metadata": {},
     "output_type": "display_data"
    },
    {
     "data": {
      "text/html": [
       "<h5>Seitenaufrufe des Artikels 'Mathe für Nicht-Freaks: Prinzip der linearen Fortsetzung'</h5>"
      ],
      "text/plain": [
       "<IPython.core.display.HTML object>"
      ]
     },
     "metadata": {},
     "output_type": "display_data"
    },
    {
     "name": "stdout",
     "output_type": "stream",
     "text": [
      "2018:     3.624 ┬    +2.403 (+197%)\n",
      "2017:     1.221 ┘      \n"
     ]
    },
    {
     "data": {
      "text/html": [
       "<h5>Bearbeitungen im Artikel 'Mathe für Nicht-Freaks: Prinzip der linearen Fortsetzung'</h5>"
      ],
      "text/plain": [
       "<IPython.core.display.HTML object>"
      ]
     },
     "metadata": {},
     "output_type": "display_data"
    },
    {
     "name": "stdout",
     "output_type": "stream",
     "text": [
      "2018:         1 ┬       -24 (-96%)\n",
      "2017:        25 ┘      \n"
     ]
    },
    {
     "data": {
      "text/markdown": [
       "[Zurück zum Inhaltsverzeichnis](#Inhaltsverzeichnis)"
      ],
      "text/plain": [
       "<IPython.core.display.Markdown object>"
      ]
     },
     "metadata": {},
     "output_type": "display_data"
    },
    {
     "data": {
      "text/html": [
       "<h4 id='Beispiele für lineare Abbildungen'>==== Beispiele für lineare Abbildungen ====</h4>"
      ],
      "text/plain": [
       "<IPython.core.display.HTML object>"
      ]
     },
     "metadata": {},
     "output_type": "display_data"
    },
    {
     "data": {
      "text/html": [
       "<h5>Seitenaufrufe des Artikels 'Mathe für Nicht-Freaks: Lineare Abbildungen: Beispiele'</h5>"
      ],
      "text/plain": [
       "<IPython.core.display.HTML object>"
      ]
     },
     "metadata": {},
     "output_type": "display_data"
    },
    {
     "name": "stdout",
     "output_type": "stream",
     "text": [
      "2018:    24.595 ┬   +19.146 (+351%)\n",
      "2017:     5.449 ┘      \n"
     ]
    },
    {
     "data": {
      "text/html": [
       "<h5>Bearbeitungen im Artikel 'Mathe für Nicht-Freaks: Lineare Abbildungen: Beispiele'</h5>"
      ],
      "text/plain": [
       "<IPython.core.display.HTML object>"
      ]
     },
     "metadata": {},
     "output_type": "display_data"
    },
    {
     "name": "stdout",
     "output_type": "stream",
     "text": [
      "2018:         4 ┬      -150 (-97%)\n",
      "2017:       154 ┘      \n"
     ]
    },
    {
     "data": {
      "text/markdown": [
       "[Zurück zum Inhaltsverzeichnis](#Inhaltsverzeichnis)"
      ],
      "text/plain": [
       "<IPython.core.display.Markdown object>"
      ]
     },
     "metadata": {},
     "output_type": "display_data"
    },
    {
     "data": {
      "text/html": [
       "<h4 id='Bild einer linearen Abbildung'>==== Bild einer linearen Abbildung ====</h4>"
      ],
      "text/plain": [
       "<IPython.core.display.HTML object>"
      ]
     },
     "metadata": {},
     "output_type": "display_data"
    },
    {
     "data": {
      "text/html": [
       "<h5>Seitenaufrufe des Artikels 'Mathe für Nicht-Freaks: Lineare Abbildung: Bild'</h5>"
      ],
      "text/plain": [
       "<IPython.core.display.HTML object>"
      ]
     },
     "metadata": {},
     "output_type": "display_data"
    },
    {
     "name": "stdout",
     "output_type": "stream",
     "text": [
      "2018:    19.073 ┬    +1.589 ( +9%)\n",
      "2017:    17.484 ┘      \n"
     ]
    },
    {
     "data": {
      "text/html": [
       "<h5>Bearbeitungen im Artikel 'Mathe für Nicht-Freaks: Lineare Abbildung: Bild'</h5>"
      ],
      "text/plain": [
       "<IPython.core.display.HTML object>"
      ]
     },
     "metadata": {},
     "output_type": "display_data"
    },
    {
     "name": "stdout",
     "output_type": "stream",
     "text": [
      "2018:         5 ┬        -9 (-64%)\n",
      "2017:        14 ┘      \n"
     ]
    },
    {
     "data": {
      "text/markdown": [
       "[Zurück zum Inhaltsverzeichnis](#Inhaltsverzeichnis)"
      ],
      "text/plain": [
       "<IPython.core.display.Markdown object>"
      ]
     },
     "metadata": {},
     "output_type": "display_data"
    },
    {
     "data": {
      "text/html": [
       "<h4 id='Kern einer linearen Abbildung'>==== Kern einer linearen Abbildung ====</h4>"
      ],
      "text/plain": [
       "<IPython.core.display.HTML object>"
      ]
     },
     "metadata": {},
     "output_type": "display_data"
    },
    {
     "data": {
      "text/html": [
       "<h5>Seitenaufrufe des Artikels 'Mathe für Nicht-Freaks: Lineare Abbildung: Kern'</h5>"
      ],
      "text/plain": [
       "<IPython.core.display.HTML object>"
      ]
     },
     "metadata": {},
     "output_type": "display_data"
    },
    {
     "name": "stdout",
     "output_type": "stream",
     "text": [
      "2018:    12.405 ┬    -8.329 (-40%)\n",
      "2017:    20.734 ┘      \n"
     ]
    },
    {
     "data": {
      "text/html": [
       "<h5>Bearbeitungen im Artikel 'Mathe für Nicht-Freaks: Lineare Abbildung: Kern'</h5>"
      ],
      "text/plain": [
       "<IPython.core.display.HTML object>"
      ]
     },
     "metadata": {},
     "output_type": "display_data"
    },
    {
     "name": "stdout",
     "output_type": "stream",
     "text": [
      "2018:         5 ┬       -13 (-72%)\n",
      "2017:        18 ┘      \n"
     ]
    },
    {
     "data": {
      "text/markdown": [
       "[Zurück zum Inhaltsverzeichnis](#Inhaltsverzeichnis)"
      ],
      "text/plain": [
       "<IPython.core.display.Markdown object>"
      ]
     },
     "metadata": {},
     "output_type": "display_data"
    },
    {
     "data": {
      "text/html": [
       "<h4 id='Arten linearer Abbildungen'>==== Arten linearer Abbildungen ====</h4>"
      ],
      "text/plain": [
       "<IPython.core.display.HTML object>"
      ]
     },
     "metadata": {},
     "output_type": "display_data"
    },
    {
     "data": {
      "text/html": [
       "<h5>Seitenaufrufe des Artikels 'Mathe für Nicht-Freaks: Arten linearer Abbildungen'</h5>"
      ],
      "text/plain": [
       "<IPython.core.display.HTML object>"
      ]
     },
     "metadata": {},
     "output_type": "display_data"
    },
    {
     "name": "stdout",
     "output_type": "stream",
     "text": [
      "2018:     2.720 ┬    +1.696 (+166%)\n",
      "2017:     1.024 ┘      \n"
     ]
    },
    {
     "data": {
      "text/html": [
       "<h5>Bearbeitungen im Artikel 'Mathe für Nicht-Freaks: Arten linearer Abbildungen'</h5>"
      ],
      "text/plain": [
       "<IPython.core.display.HTML object>"
      ]
     },
     "metadata": {},
     "output_type": "display_data"
    },
    {
     "name": "stdout",
     "output_type": "stream",
     "text": [
      "2018:         4 ┬       -87 (-96%)\n",
      "2017:        91 ┘      \n"
     ]
    },
    {
     "data": {
      "text/markdown": [
       "[Zurück zum Inhaltsverzeichnis](#Inhaltsverzeichnis)"
      ],
      "text/plain": [
       "<IPython.core.display.Markdown object>"
      ]
     },
     "metadata": {},
     "output_type": "display_data"
    },
    {
     "data": {
      "text/html": [
       "<h4 id='Vektorraum linearer Abbildungen'>==== Vektorraum linearer Abbildungen ====</h4>"
      ],
      "text/plain": [
       "<IPython.core.display.HTML object>"
      ]
     },
     "metadata": {},
     "output_type": "display_data"
    },
    {
     "data": {
      "text/html": [
       "<h5>Seitenaufrufe des Artikels 'Mathe für Nicht-Freaks: Vektorraum linearer Abbildungen'</h5>"
      ],
      "text/plain": [
       "<IPython.core.display.HTML object>"
      ]
     },
     "metadata": {},
     "output_type": "display_data"
    },
    {
     "name": "stdout",
     "output_type": "stream",
     "text": [
      "2018:     2.940 ┬    +1.561 (+113%)\n",
      "2017:     1.379 ┘      \n"
     ]
    },
    {
     "data": {
      "text/html": [
       "<h5>Bearbeitungen im Artikel 'Mathe für Nicht-Freaks: Vektorraum linearer Abbildungen'</h5>"
      ],
      "text/plain": [
       "<IPython.core.display.HTML object>"
      ]
     },
     "metadata": {},
     "output_type": "display_data"
    },
    {
     "name": "stdout",
     "output_type": "stream",
     "text": [
      "2018:         2 ┬        -9 (-82%)\n",
      "2017:        11 ┘      \n"
     ]
    },
    {
     "data": {
      "text/markdown": [
       "[Zurück zum Inhaltsverzeichnis](#Inhaltsverzeichnis)"
      ],
      "text/plain": [
       "<IPython.core.display.Markdown object>"
      ]
     },
     "metadata": {},
     "output_type": "display_data"
    },
    {
     "data": {
      "text/html": [
       "<h4 id='Aufgaben'>==== Aufgaben ====</h4>"
      ],
      "text/plain": [
       "<IPython.core.display.HTML object>"
      ]
     },
     "metadata": {},
     "output_type": "display_data"
    },
    {
     "data": {
      "text/html": [
       "<h5>Seitenaufrufe des Artikels 'Mathe für Nicht-Freaks: Aufgaben zu linearen Abbildungen'</h5>"
      ],
      "text/plain": [
       "<IPython.core.display.HTML object>"
      ]
     },
     "metadata": {},
     "output_type": "display_data"
    },
    {
     "name": "stdout",
     "output_type": "stream",
     "text": [
      "2018:     1.705 ┬      +840 (+97%)\n",
      "2017:       865 ┘      \n"
     ]
    },
    {
     "data": {
      "text/html": [
       "<h5>Bearbeitungen im Artikel 'Mathe für Nicht-Freaks: Aufgaben zu linearen Abbildungen'</h5>"
      ],
      "text/plain": [
       "<IPython.core.display.HTML object>"
      ]
     },
     "metadata": {},
     "output_type": "display_data"
    },
    {
     "name": "stdout",
     "output_type": "stream",
     "text": [
      "2018:         2 ┬       -20 (-91%)\n",
      "2017:        22 ┘      \n"
     ]
    },
    {
     "data": {
      "text/markdown": [
       "[Zurück zum Inhaltsverzeichnis](#Inhaltsverzeichnis)"
      ],
      "text/plain": [
       "<IPython.core.display.Markdown object>"
      ]
     },
     "metadata": {},
     "output_type": "display_data"
    },
    {
     "data": {
      "text/html": [
       "<h3 id='Matrizen'>=== Matrizen ===</h3>"
      ],
      "text/plain": [
       "<IPython.core.display.HTML object>"
      ]
     },
     "metadata": {},
     "output_type": "display_data"
    },
    {
     "data": {
      "text/markdown": [
       "[Zurück zum Inhaltsverzeichnis](#Inhaltsverzeichnis)"
      ],
      "text/plain": [
       "<IPython.core.display.Markdown object>"
      ]
     },
     "metadata": {},
     "output_type": "display_data"
    },
    {
     "data": {
      "text/html": [
       "<h4 id='Definition der Matrix'>==== Definition der Matrix ====</h4>"
      ],
      "text/plain": [
       "<IPython.core.display.HTML object>"
      ]
     },
     "metadata": {},
     "output_type": "display_data"
    },
    {
     "data": {
      "text/html": [
       "<h5>Seitenaufrufe des Artikels 'Mathe für Nicht-Freaks: Definition der Matrix'</h5>"
      ],
      "text/plain": [
       "<IPython.core.display.HTML object>"
      ]
     },
     "metadata": {},
     "output_type": "display_data"
    },
    {
     "name": "stdout",
     "output_type": "stream",
     "text": [
      "2018:     3.034 ┬    +1.767 (+139%)\n",
      "2017:     1.267 ┘      \n"
     ]
    },
    {
     "data": {
      "text/html": [
       "<h5>Bearbeitungen im Artikel 'Mathe für Nicht-Freaks: Definition der Matrix'</h5>"
      ],
      "text/plain": [
       "<IPython.core.display.HTML object>"
      ]
     },
     "metadata": {},
     "output_type": "display_data"
    },
    {
     "name": "stdout",
     "output_type": "stream",
     "text": [
      "2018:         5 ┬       -24 (-83%)\n",
      "2017:        29 ┘      \n"
     ]
    },
    {
     "data": {
      "text/markdown": [
       "[Zurück zum Inhaltsverzeichnis](#Inhaltsverzeichnis)"
      ],
      "text/plain": [
       "<IPython.core.display.Markdown object>"
      ]
     },
     "metadata": {},
     "output_type": "display_data"
    },
    {
     "data": {
      "text/html": [
       "<h4 id='Arten von Matrizen'>==== Arten von Matrizen ====</h4>"
      ],
      "text/plain": [
       "<IPython.core.display.HTML object>"
      ]
     },
     "metadata": {},
     "output_type": "display_data"
    },
    {
     "data": {
      "text/html": [
       "<h5>Seitenaufrufe des Artikels 'Mathe für Nicht-Freaks: Arten von Matrizen'</h5>"
      ],
      "text/plain": [
       "<IPython.core.display.HTML object>"
      ]
     },
     "metadata": {},
     "output_type": "display_data"
    },
    {
     "name": "stdout",
     "output_type": "stream",
     "text": [
      "2018:     3.003 ┬    +1.839 (+158%)\n",
      "2017:     1.164 ┘      \n"
     ]
    },
    {
     "data": {
      "text/html": [
       "<h5>Bearbeitungen im Artikel 'Mathe für Nicht-Freaks: Arten von Matrizen'</h5>"
      ],
      "text/plain": [
       "<IPython.core.display.HTML object>"
      ]
     },
     "metadata": {},
     "output_type": "display_data"
    },
    {
     "name": "stdout",
     "output_type": "stream",
     "text": [
      "2018:         3 ┬       -21 (-88%)\n",
      "2017:        24 ┘      \n"
     ]
    },
    {
     "data": {
      "text/markdown": [
       "[Zurück zum Inhaltsverzeichnis](#Inhaltsverzeichnis)"
      ],
      "text/plain": [
       "<IPython.core.display.Markdown object>"
      ]
     },
     "metadata": {},
     "output_type": "display_data"
    },
    {
     "data": {
      "text/html": [
       "<h4 id='Einführung in Abbildungsmatrizen und Rechnen mit Matrizen'>==== Einführung in Abbildungsmatrizen und Rechnen mit Matrizen ====</h4>"
      ],
      "text/plain": [
       "<IPython.core.display.HTML object>"
      ]
     },
     "metadata": {},
     "output_type": "display_data"
    },
    {
     "data": {
      "text/html": [
       "<h5>Seitenaufrufe des Artikels 'Mathe für Nicht-Freaks: Lineare Abbildung und darstellende Matrix'</h5>"
      ],
      "text/plain": [
       "<IPython.core.display.HTML object>"
      ]
     },
     "metadata": {},
     "output_type": "display_data"
    },
    {
     "name": "stdout",
     "output_type": "stream",
     "text": [
      "2018:    24.864 ┬   +18.156 (+271%)\n",
      "2017:     6.708 ┘      \n"
     ]
    },
    {
     "data": {
      "text/html": [
       "<h5>Bearbeitungen im Artikel 'Mathe für Nicht-Freaks: Lineare Abbildung und darstellende Matrix'</h5>"
      ],
      "text/plain": [
       "<IPython.core.display.HTML object>"
      ]
     },
     "metadata": {},
     "output_type": "display_data"
    },
    {
     "name": "stdout",
     "output_type": "stream",
     "text": [
      "2018:         3 ┬       -36 (-92%)\n",
      "2017:        39 ┘      \n"
     ]
    },
    {
     "data": {
      "text/markdown": [
       "[Zurück zum Inhaltsverzeichnis](#Inhaltsverzeichnis)"
      ],
      "text/plain": [
       "<IPython.core.display.Markdown object>"
      ]
     },
     "metadata": {},
     "output_type": "display_data"
    },
    {
     "data": {
      "text/html": [
       "<h4 id='Abbildungsmatrizen'>==== Abbildungsmatrizen ====</h4>"
      ],
      "text/plain": [
       "<IPython.core.display.HTML object>"
      ]
     },
     "metadata": {},
     "output_type": "display_data"
    },
    {
     "data": {
      "text/html": [
       "<h5>Seitenaufrufe des Artikels 'Mathe für Nicht-Freaks: Abbildungsmatrizen'</h5>"
      ],
      "text/plain": [
       "<IPython.core.display.HTML object>"
      ]
     },
     "metadata": {},
     "output_type": "display_data"
    },
    {
     "name": "stdout",
     "output_type": "stream",
     "text": [
      "2018:    17.101 ┬   +14.469 (+550%)\n",
      "2017:     2.632 ┘      \n"
     ]
    },
    {
     "data": {
      "text/html": [
       "<h5>Bearbeitungen im Artikel 'Mathe für Nicht-Freaks: Abbildungsmatrizen'</h5>"
      ],
      "text/plain": [
       "<IPython.core.display.HTML object>"
      ]
     },
     "metadata": {},
     "output_type": "display_data"
    },
    {
     "name": "stdout",
     "output_type": "stream",
     "text": [
      "2018:         7 ┬       -16 (-70%)\n",
      "2017:        23 ┘      \n"
     ]
    },
    {
     "data": {
      "text/markdown": [
       "[Zurück zum Inhaltsverzeichnis](#Inhaltsverzeichnis)"
      ],
      "text/plain": [
       "<IPython.core.display.Markdown object>"
      ]
     },
     "metadata": {},
     "output_type": "display_data"
    },
    {
     "data": {
      "text/html": [
       "<h4 id='Gleichheit, Addition und Skalarmultiplikation von Matrizen'>==== Gleichheit, Addition und Skalarmultiplikation von Matrizen ====</h4>"
      ],
      "text/plain": [
       "<IPython.core.display.HTML object>"
      ]
     },
     "metadata": {},
     "output_type": "display_data"
    },
    {
     "data": {
      "text/html": [
       "<h5>Seitenaufrufe des Artikels 'Mathe für Nicht-Freaks: Vektorielle Operationen für Matrizen'</h5>"
      ],
      "text/plain": [
       "<IPython.core.display.HTML object>"
      ]
     },
     "metadata": {},
     "output_type": "display_data"
    },
    {
     "name": "stdout",
     "output_type": "stream",
     "text": [
      "2018:       876 ┬        -9 ( -1%)\n",
      "2017:       885 ┘      \n"
     ]
    },
    {
     "data": {
      "text/html": [
       "<h5>Bearbeitungen im Artikel 'Mathe für Nicht-Freaks: Vektorielle Operationen für Matrizen'</h5>"
      ],
      "text/plain": [
       "<IPython.core.display.HTML object>"
      ]
     },
     "metadata": {},
     "output_type": "display_data"
    },
    {
     "name": "stdout",
     "output_type": "stream",
     "text": [
      "2018:         1 ┬       -46 (-98%)\n",
      "2017:        47 ┘      \n"
     ]
    },
    {
     "data": {
      "text/markdown": [
       "[Zurück zum Inhaltsverzeichnis](#Inhaltsverzeichnis)"
      ],
      "text/plain": [
       "<IPython.core.display.Markdown object>"
      ]
     },
     "metadata": {},
     "output_type": "display_data"
    },
    {
     "data": {
      "text/html": [
       "<h4 id='Matrizenmultiplikation'>==== Matrizenmultiplikation ====</h4>"
      ],
      "text/plain": [
       "<IPython.core.display.HTML object>"
      ]
     },
     "metadata": {},
     "output_type": "display_data"
    },
    {
     "data": {
      "text/html": [
       "<h5>Seitenaufrufe des Artikels 'Mathe für Nicht-Freaks: Matrizenmultiplikation'</h5>"
      ],
      "text/plain": [
       "<IPython.core.display.HTML object>"
      ]
     },
     "metadata": {},
     "output_type": "display_data"
    },
    {
     "name": "stdout",
     "output_type": "stream",
     "text": [
      "2018:     5.676 ┬    +3.621 (+176%)\n",
      "2017:     2.055 ┘      \n"
     ]
    },
    {
     "data": {
      "text/html": [
       "<h5>Bearbeitungen im Artikel 'Mathe für Nicht-Freaks: Matrizenmultiplikation'</h5>"
      ],
      "text/plain": [
       "<IPython.core.display.HTML object>"
      ]
     },
     "metadata": {},
     "output_type": "display_data"
    },
    {
     "name": "stdout",
     "output_type": "stream",
     "text": [
      "2018:         9 ┬      -102 (-92%)\n",
      "2017:       111 ┘      \n"
     ]
    },
    {
     "data": {
      "text/markdown": [
       "[Zurück zum Inhaltsverzeichnis](#Inhaltsverzeichnis)"
      ],
      "text/plain": [
       "<IPython.core.display.Markdown object>"
      ]
     },
     "metadata": {},
     "output_type": "display_data"
    },
    {
     "data": {
      "text/html": [
       "<h4 id='Basiswechselmatrizen'>==== Basiswechselmatrizen ====</h4>"
      ],
      "text/plain": [
       "<IPython.core.display.HTML object>"
      ]
     },
     "metadata": {},
     "output_type": "display_data"
    },
    {
     "data": {
      "text/html": [
       "<h5>Seitenaufrufe des Artikels 'Mathe für Nicht-Freaks: Basiswechselmatrizen'</h5>"
      ],
      "text/plain": [
       "<IPython.core.display.HTML object>"
      ]
     },
     "metadata": {},
     "output_type": "display_data"
    },
    {
     "name": "stdout",
     "output_type": "stream",
     "text": [
      "2018:       866 ┬      +364 (+73%)\n",
      "2017:       502 ┘      \n"
     ]
    },
    {
     "data": {
      "text/html": [
       "<h5>Bearbeitungen im Artikel 'Mathe für Nicht-Freaks: Basiswechselmatrizen'</h5>"
      ],
      "text/plain": [
       "<IPython.core.display.HTML object>"
      ]
     },
     "metadata": {},
     "output_type": "display_data"
    },
    {
     "name": "stdout",
     "output_type": "stream",
     "text": [
      "2018:         0 ┬        +0        \n",
      "2017:         0 ┘      \n"
     ]
    },
    {
     "data": {
      "text/markdown": [
       "[Zurück zum Inhaltsverzeichnis](#Inhaltsverzeichnis)"
      ],
      "text/plain": [
       "<IPython.core.display.Markdown object>"
      ]
     },
     "metadata": {},
     "output_type": "display_data"
    },
    {
     "data": {
      "text/html": [
       "<h4 id='Rang einer Matrix'>==== Rang einer Matrix ====</h4>"
      ],
      "text/plain": [
       "<IPython.core.display.HTML object>"
      ]
     },
     "metadata": {},
     "output_type": "display_data"
    },
    {
     "data": {
      "text/html": [
       "<h5>Seitenaufrufe des Artikels 'Mathe für Nicht-Freaks: Matrix: Rang'</h5>"
      ],
      "text/plain": [
       "<IPython.core.display.HTML object>"
      ]
     },
     "metadata": {},
     "output_type": "display_data"
    },
    {
     "name": "stdout",
     "output_type": "stream",
     "text": [
      "2018:         0 ┬        +0        \n",
      "2017:         0 ┘      \n"
     ]
    },
    {
     "data": {
      "text/html": [
       "<h5>Bearbeitungen im Artikel 'Mathe für Nicht-Freaks: Matrix: Rang'</h5>"
      ],
      "text/plain": [
       "<IPython.core.display.HTML object>"
      ]
     },
     "metadata": {},
     "output_type": "display_data"
    },
    {
     "name": "stdout",
     "output_type": "stream",
     "text": [
      "2018:         0 ┬        +0        \n",
      "2017:         0 ┘      \n"
     ]
    },
    {
     "data": {
      "text/markdown": [
       "[Zurück zum Inhaltsverzeichnis](#Inhaltsverzeichnis)"
      ],
      "text/plain": [
       "<IPython.core.display.Markdown object>"
      ]
     },
     "metadata": {},
     "output_type": "display_data"
    },
    {
     "data": {
      "text/html": [
       "<h4 id='Zeilenstufenform einer Matrix'>==== Zeilenstufenform einer Matrix ====</h4>"
      ],
      "text/plain": [
       "<IPython.core.display.HTML object>"
      ]
     },
     "metadata": {},
     "output_type": "display_data"
    },
    {
     "data": {
      "text/html": [
       "<h5>Seitenaufrufe des Artikels 'Mathe für Nicht-Freaks: Matrix: Zeilenstufenform'</h5>"
      ],
      "text/plain": [
       "<IPython.core.display.HTML object>"
      ]
     },
     "metadata": {},
     "output_type": "display_data"
    },
    {
     "name": "stdout",
     "output_type": "stream",
     "text": [
      "2018:         0 ┬        +0        \n",
      "2017:         0 ┘      \n"
     ]
    },
    {
     "data": {
      "text/html": [
       "<h5>Bearbeitungen im Artikel 'Mathe für Nicht-Freaks: Matrix: Zeilenstufenform'</h5>"
      ],
      "text/plain": [
       "<IPython.core.display.HTML object>"
      ]
     },
     "metadata": {},
     "output_type": "display_data"
    },
    {
     "name": "stdout",
     "output_type": "stream",
     "text": [
      "2018:         0 ┬        +0        \n",
      "2017:         0 ┘      \n"
     ]
    },
    {
     "data": {
      "text/markdown": [
       "[Zurück zum Inhaltsverzeichnis](#Inhaltsverzeichnis)"
      ],
      "text/plain": [
       "<IPython.core.display.Markdown object>"
      ]
     },
     "metadata": {},
     "output_type": "display_data"
    },
    {
     "data": {
      "text/html": [
       "<h4 id='Inverse Matrizen'>==== Inverse Matrizen ====</h4>"
      ],
      "text/plain": [
       "<IPython.core.display.HTML object>"
      ]
     },
     "metadata": {},
     "output_type": "display_data"
    },
    {
     "data": {
      "text/html": [
       "<h5>Seitenaufrufe des Artikels 'Mathe für Nicht-Freaks: Inverse Matrizen'</h5>"
      ],
      "text/plain": [
       "<IPython.core.display.HTML object>"
      ]
     },
     "metadata": {},
     "output_type": "display_data"
    },
    {
     "name": "stdout",
     "output_type": "stream",
     "text": [
      "2018:     1.754 ┬    +1.228 (+233%)\n",
      "2017:       526 ┘      \n"
     ]
    },
    {
     "data": {
      "text/html": [
       "<h5>Bearbeitungen im Artikel 'Mathe für Nicht-Freaks: Inverse Matrizen'</h5>"
      ],
      "text/plain": [
       "<IPython.core.display.HTML object>"
      ]
     },
     "metadata": {},
     "output_type": "display_data"
    },
    {
     "name": "stdout",
     "output_type": "stream",
     "text": [
      "2018:         4 ┬        -3 (-43%)\n",
      "2017:         7 ┘      \n"
     ]
    },
    {
     "data": {
      "text/markdown": [
       "[Zurück zum Inhaltsverzeichnis](#Inhaltsverzeichnis)"
      ],
      "text/plain": [
       "<IPython.core.display.Markdown object>"
      ]
     },
     "metadata": {},
     "output_type": "display_data"
    },
    {
     "data": {
      "text/html": [
       "<h4 id='Aufgaben'>==== Aufgaben ====</h4>"
      ],
      "text/plain": [
       "<IPython.core.display.HTML object>"
      ]
     },
     "metadata": {},
     "output_type": "display_data"
    },
    {
     "data": {
      "text/html": [
       "<h5>Seitenaufrufe des Artikels 'Mathe für Nicht-Freaks: Aufgaben zu Matrizen'</h5>"
      ],
      "text/plain": [
       "<IPython.core.display.HTML object>"
      ]
     },
     "metadata": {},
     "output_type": "display_data"
    },
    {
     "name": "stdout",
     "output_type": "stream",
     "text": [
      "2018:       561 ┬      +561        \n",
      "2017:         0 ┘      \n"
     ]
    },
    {
     "data": {
      "text/html": [
       "<h5>Bearbeitungen im Artikel 'Mathe für Nicht-Freaks: Aufgaben zu Matrizen'</h5>"
      ],
      "text/plain": [
       "<IPython.core.display.HTML object>"
      ]
     },
     "metadata": {},
     "output_type": "display_data"
    },
    {
     "name": "stdout",
     "output_type": "stream",
     "text": [
      "2018:        16 ┬       +16        \n",
      "2017:         0 ┘      \n"
     ]
    },
    {
     "data": {
      "text/markdown": [
       "[Zurück zum Inhaltsverzeichnis](#Inhaltsverzeichnis)"
      ],
      "text/plain": [
       "<IPython.core.display.Markdown object>"
      ]
     },
     "metadata": {},
     "output_type": "display_data"
    },
    {
     "data": {
      "text/html": [
       "<h3 id='Isomorphiesatz und Dimensionsformel'>=== Isomorphiesatz und Dimensionsformel ===</h3>"
      ],
      "text/plain": [
       "<IPython.core.display.HTML object>"
      ]
     },
     "metadata": {},
     "output_type": "display_data"
    },
    {
     "data": {
      "text/markdown": [
       "[Zurück zum Inhaltsverzeichnis](#Inhaltsverzeichnis)"
      ],
      "text/plain": [
       "<IPython.core.display.Markdown object>"
      ]
     },
     "metadata": {},
     "output_type": "display_data"
    },
    {
     "data": {
      "text/html": [
       "<h4 id='Intuition hinter Isomorphiesatz und Dimensionsformel'>==== Intuition hinter Isomorphiesatz und Dimensionsformel ====</h4>"
      ],
      "text/plain": [
       "<IPython.core.display.HTML object>"
      ]
     },
     "metadata": {},
     "output_type": "display_data"
    },
    {
     "data": {
      "text/html": [
       "<h5>Seitenaufrufe des Artikels 'Mathe für Nicht-Freaks: Intuition hinter Isomorphiesatz und Dimensionsformel'</h5>"
      ],
      "text/plain": [
       "<IPython.core.display.HTML object>"
      ]
     },
     "metadata": {},
     "output_type": "display_data"
    },
    {
     "name": "stdout",
     "output_type": "stream",
     "text": [
      "2018:     1.306 ┬      +165 (+14%)\n",
      "2017:     1.141 ┘      \n"
     ]
    },
    {
     "data": {
      "text/html": [
       "<h5>Bearbeitungen im Artikel 'Mathe für Nicht-Freaks: Intuition hinter Isomorphiesatz und Dimensionsformel'</h5>"
      ],
      "text/plain": [
       "<IPython.core.display.HTML object>"
      ]
     },
     "metadata": {},
     "output_type": "display_data"
    },
    {
     "name": "stdout",
     "output_type": "stream",
     "text": [
      "2018:         2 ┬       -61 (-97%)\n",
      "2017:        63 ┘      \n"
     ]
    },
    {
     "data": {
      "text/markdown": [
       "[Zurück zum Inhaltsverzeichnis](#Inhaltsverzeichnis)"
      ],
      "text/plain": [
       "<IPython.core.display.Markdown object>"
      ]
     },
     "metadata": {},
     "output_type": "display_data"
    },
    {
     "data": {
      "text/html": [
       "<h4 id='Isomorphiesatz'>==== Isomorphiesatz ====</h4>"
      ],
      "text/plain": [
       "<IPython.core.display.HTML object>"
      ]
     },
     "metadata": {},
     "output_type": "display_data"
    },
    {
     "data": {
      "text/html": [
       "<h5>Seitenaufrufe des Artikels 'Mathe für Nicht-Freaks: Isomorphiesatz'</h5>"
      ],
      "text/plain": [
       "<IPython.core.display.HTML object>"
      ]
     },
     "metadata": {},
     "output_type": "display_data"
    },
    {
     "name": "stdout",
     "output_type": "stream",
     "text": [
      "2018:     2.588 ┬    +1.074 (+71%)\n",
      "2017:     1.514 ┘      \n"
     ]
    },
    {
     "data": {
      "text/html": [
       "<h5>Bearbeitungen im Artikel 'Mathe für Nicht-Freaks: Isomorphiesatz'</h5>"
      ],
      "text/plain": [
       "<IPython.core.display.HTML object>"
      ]
     },
     "metadata": {},
     "output_type": "display_data"
    },
    {
     "name": "stdout",
     "output_type": "stream",
     "text": [
      "2018:         0 ┬       -14 (-100%)\n",
      "2017:        14 ┘      \n"
     ]
    },
    {
     "data": {
      "text/markdown": [
       "[Zurück zum Inhaltsverzeichnis](#Inhaltsverzeichnis)"
      ],
      "text/plain": [
       "<IPython.core.display.Markdown object>"
      ]
     },
     "metadata": {},
     "output_type": "display_data"
    },
    {
     "data": {
      "text/html": [
       "<h4 id='Dimensionsformel'>==== Dimensionsformel ====</h4>"
      ],
      "text/plain": [
       "<IPython.core.display.HTML object>"
      ]
     },
     "metadata": {},
     "output_type": "display_data"
    },
    {
     "data": {
      "text/html": [
       "<h5>Seitenaufrufe des Artikels 'Mathe für Nicht-Freaks: Dimensionsformel'</h5>"
      ],
      "text/plain": [
       "<IPython.core.display.HTML object>"
      ]
     },
     "metadata": {},
     "output_type": "display_data"
    },
    {
     "name": "stdout",
     "output_type": "stream",
     "text": [
      "2018:     7.640 ┬    +2.629 (+52%)\n",
      "2017:     5.011 ┘      \n"
     ]
    },
    {
     "data": {
      "text/html": [
       "<h5>Bearbeitungen im Artikel 'Mathe für Nicht-Freaks: Dimensionsformel'</h5>"
      ],
      "text/plain": [
       "<IPython.core.display.HTML object>"
      ]
     },
     "metadata": {},
     "output_type": "display_data"
    },
    {
     "name": "stdout",
     "output_type": "stream",
     "text": [
      "2018:         0 ┬       -10 (-100%)\n",
      "2017:        10 ┘      \n"
     ]
    },
    {
     "data": {
      "text/markdown": [
       "[Zurück zum Inhaltsverzeichnis](#Inhaltsverzeichnis)"
      ],
      "text/plain": [
       "<IPython.core.display.Markdown object>"
      ]
     },
     "metadata": {},
     "output_type": "display_data"
    },
    {
     "data": {
      "text/html": [
       "<h3 id='Gleichungssysteme und Matrizen'>=== Gleichungssysteme und Matrizen ===</h3>"
      ],
      "text/plain": [
       "<IPython.core.display.HTML object>"
      ]
     },
     "metadata": {},
     "output_type": "display_data"
    },
    {
     "data": {
      "text/markdown": [
       "[Zurück zum Inhaltsverzeichnis](#Inhaltsverzeichnis)"
      ],
      "text/plain": [
       "<IPython.core.display.Markdown object>"
      ]
     },
     "metadata": {},
     "output_type": "display_data"
    },
    {
     "data": {
      "text/html": [
       "<h4 id='Einführendes Beispiel'>==== Einführendes Beispiel ====</h4>"
      ],
      "text/plain": [
       "<IPython.core.display.HTML object>"
      ]
     },
     "metadata": {},
     "output_type": "display_data"
    },
    {
     "data": {
      "text/html": [
       "<h5>Seitenaufrufe des Artikels 'Mathe für Nicht-Freaks: Gleichungssysteme und Matrizen'</h5>"
      ],
      "text/plain": [
       "<IPython.core.display.HTML object>"
      ]
     },
     "metadata": {},
     "output_type": "display_data"
    },
    {
     "name": "stdout",
     "output_type": "stream",
     "text": [
      "2018:     1.588 ┬      +795 (+100%)\n",
      "2017:       793 ┘      \n"
     ]
    },
    {
     "data": {
      "text/html": [
       "<h5>Bearbeitungen im Artikel 'Mathe für Nicht-Freaks: Gleichungssysteme und Matrizen'</h5>"
      ],
      "text/plain": [
       "<IPython.core.display.HTML object>"
      ]
     },
     "metadata": {},
     "output_type": "display_data"
    },
    {
     "name": "stdout",
     "output_type": "stream",
     "text": [
      "2018:         1 ┬        -4 (-80%)\n",
      "2017:         5 ┘      \n"
     ]
    },
    {
     "data": {
      "text/markdown": [
       "[Zurück zum Inhaltsverzeichnis](#Inhaltsverzeichnis)"
      ],
      "text/plain": [
       "<IPython.core.display.Markdown object>"
      ]
     },
     "metadata": {},
     "output_type": "display_data"
    },
    {
     "data": {
      "text/html": [
       "<h4 id='Gaußverfahren'>==== Gaußverfahren ====</h4>"
      ],
      "text/plain": [
       "<IPython.core.display.HTML object>"
      ]
     },
     "metadata": {},
     "output_type": "display_data"
    },
    {
     "data": {
      "text/html": [
       "<h5>Seitenaufrufe des Artikels 'Mathe für Nicht-Freaks: Gaußverfahren'</h5>"
      ],
      "text/plain": [
       "<IPython.core.display.HTML object>"
      ]
     },
     "metadata": {},
     "output_type": "display_data"
    },
    {
     "name": "stdout",
     "output_type": "stream",
     "text": [
      "2018:         0 ┬        +0        \n",
      "2017:         0 ┘      \n"
     ]
    },
    {
     "data": {
      "text/html": [
       "<h5>Bearbeitungen im Artikel 'Mathe für Nicht-Freaks: Gaußverfahren'</h5>"
      ],
      "text/plain": [
       "<IPython.core.display.HTML object>"
      ]
     },
     "metadata": {},
     "output_type": "display_data"
    },
    {
     "name": "stdout",
     "output_type": "stream",
     "text": [
      "2018:         0 ┬        +0        \n",
      "2017:         0 ┘      \n"
     ]
    },
    {
     "data": {
      "text/markdown": [
       "[Zurück zum Inhaltsverzeichnis](#Inhaltsverzeichnis)"
      ],
      "text/plain": [
       "<IPython.core.display.Markdown object>"
      ]
     },
     "metadata": {},
     "output_type": "display_data"
    },
    {
     "data": {
      "text/html": [
       "<h4 id='Cramer'sche Regel'>==== Cramer'sche Regel ====</h4>"
      ],
      "text/plain": [
       "<IPython.core.display.HTML object>"
      ]
     },
     "metadata": {},
     "output_type": "display_data"
    },
    {
     "data": {
      "text/html": [
       "<h5>Seitenaufrufe des Artikels 'Mathe für Nicht-Freaks: Cramer'sche Regel'</h5>"
      ],
      "text/plain": [
       "<IPython.core.display.HTML object>"
      ]
     },
     "metadata": {},
     "output_type": "display_data"
    },
    {
     "name": "stdout",
     "output_type": "stream",
     "text": [
      "2018:       238 ┬      +238        \n",
      "2017:         0 ┘      \n"
     ]
    },
    {
     "data": {
      "text/html": [
       "<h5>Bearbeitungen im Artikel 'Mathe für Nicht-Freaks: Cramer'sche Regel'</h5>"
      ],
      "text/plain": [
       "<IPython.core.display.HTML object>"
      ]
     },
     "metadata": {},
     "output_type": "display_data"
    },
    {
     "name": "stdout",
     "output_type": "stream",
     "text": [
      "2018:         9 ┬        +9        \n",
      "2017:         0 ┘      \n"
     ]
    },
    {
     "data": {
      "text/markdown": [
       "[Zurück zum Inhaltsverzeichnis](#Inhaltsverzeichnis)"
      ],
      "text/plain": [
       "<IPython.core.display.Markdown object>"
      ]
     },
     "metadata": {},
     "output_type": "display_data"
    },
    {
     "data": {
      "text/html": [
       "<h4 id='Anwendungsbeispiele'>==== Anwendungsbeispiele ====</h4>"
      ],
      "text/plain": [
       "<IPython.core.display.HTML object>"
      ]
     },
     "metadata": {},
     "output_type": "display_data"
    },
    {
     "data": {
      "text/html": [
       "<h5>Seitenaufrufe des Artikels 'Mathe für Nicht-Freaks: Anwendungsbeispiele'</h5>"
      ],
      "text/plain": [
       "<IPython.core.display.HTML object>"
      ]
     },
     "metadata": {},
     "output_type": "display_data"
    },
    {
     "name": "stdout",
     "output_type": "stream",
     "text": [
      "2018:         0 ┬        +0        \n",
      "2017:         0 ┘      \n"
     ]
    },
    {
     "data": {
      "text/html": [
       "<h5>Bearbeitungen im Artikel 'Mathe für Nicht-Freaks: Anwendungsbeispiele'</h5>"
      ],
      "text/plain": [
       "<IPython.core.display.HTML object>"
      ]
     },
     "metadata": {},
     "output_type": "display_data"
    },
    {
     "name": "stdout",
     "output_type": "stream",
     "text": [
      "2018:         0 ┬        +0        \n",
      "2017:         0 ┘      \n"
     ]
    },
    {
     "data": {
      "text/markdown": [
       "[Zurück zum Inhaltsverzeichnis](#Inhaltsverzeichnis)"
      ],
      "text/plain": [
       "<IPython.core.display.Markdown object>"
      ]
     },
     "metadata": {},
     "output_type": "display_data"
    },
    {
     "data": {
      "text/html": [
       "<h3 id='Die Determinante einer Matrix'>=== Die Determinante einer Matrix ===</h3>"
      ],
      "text/plain": [
       "<IPython.core.display.HTML object>"
      ]
     },
     "metadata": {},
     "output_type": "display_data"
    },
    {
     "data": {
      "text/markdown": [
       "[Zurück zum Inhaltsverzeichnis](#Inhaltsverzeichnis)"
      ],
      "text/plain": [
       "<IPython.core.display.Markdown object>"
      ]
     },
     "metadata": {},
     "output_type": "display_data"
    },
    {
     "data": {
      "text/html": [
       "<h4 id='Determinante einer Matrix'>==== Determinante einer Matrix ====</h4>"
      ],
      "text/plain": [
       "<IPython.core.display.HTML object>"
      ]
     },
     "metadata": {},
     "output_type": "display_data"
    },
    {
     "data": {
      "text/html": [
       "<h5>Seitenaufrufe des Artikels 'Mathe für Nicht-Freaks: Determinanten'</h5>"
      ],
      "text/plain": [
       "<IPython.core.display.HTML object>"
      ]
     },
     "metadata": {},
     "output_type": "display_data"
    },
    {
     "name": "stdout",
     "output_type": "stream",
     "text": [
      "2018:     2.758 ┬    +1.198 (+77%)\n",
      "2017:     1.560 ┘      \n"
     ]
    },
    {
     "data": {
      "text/html": [
       "<h5>Bearbeitungen im Artikel 'Mathe für Nicht-Freaks: Determinanten'</h5>"
      ],
      "text/plain": [
       "<IPython.core.display.HTML object>"
      ]
     },
     "metadata": {},
     "output_type": "display_data"
    },
    {
     "name": "stdout",
     "output_type": "stream",
     "text": [
      "2018:        15 ┬        -3 (-17%)\n",
      "2017:        18 ┘      \n"
     ]
    },
    {
     "data": {
      "text/markdown": [
       "[Zurück zum Inhaltsverzeichnis](#Inhaltsverzeichnis)"
      ],
      "text/plain": [
       "<IPython.core.display.Markdown object>"
      ]
     },
     "metadata": {},
     "output_type": "display_data"
    },
    {
     "data": {
      "text/html": [
       "<h4 id='Determinante einer Abbildung'>==== Determinante einer Abbildung ====</h4>"
      ],
      "text/plain": [
       "<IPython.core.display.HTML object>"
      ]
     },
     "metadata": {},
     "output_type": "display_data"
    },
    {
     "data": {
      "text/html": [
       "<h5>Seitenaufrufe des Artikels 'Mathe für Nicht-Freaks: Determinante einer Abbildung'</h5>"
      ],
      "text/plain": [
       "<IPython.core.display.HTML object>"
      ]
     },
     "metadata": {},
     "output_type": "display_data"
    },
    {
     "name": "stdout",
     "output_type": "stream",
     "text": [
      "2018:       367 ┬      +367        \n",
      "2017:         0 ┘      \n"
     ]
    },
    {
     "data": {
      "text/html": [
       "<h5>Bearbeitungen im Artikel 'Mathe für Nicht-Freaks: Determinante einer Abbildung'</h5>"
      ],
      "text/plain": [
       "<IPython.core.display.HTML object>"
      ]
     },
     "metadata": {},
     "output_type": "display_data"
    },
    {
     "name": "stdout",
     "output_type": "stream",
     "text": [
      "2018:         1 ┬        +1        \n",
      "2017:         0 ┘      \n"
     ]
    },
    {
     "data": {
      "text/markdown": [
       "[Zurück zum Inhaltsverzeichnis](#Inhaltsverzeichnis)"
      ],
      "text/plain": [
       "<IPython.core.display.Markdown object>"
      ]
     },
     "metadata": {},
     "output_type": "display_data"
    },
    {
     "data": {
      "text/html": [
       "<h4 id='Eigenschaften der Determinante'>==== Eigenschaften der Determinante ====</h4>"
      ],
      "text/plain": [
       "<IPython.core.display.HTML object>"
      ]
     },
     "metadata": {},
     "output_type": "display_data"
    },
    {
     "data": {
      "text/html": [
       "<h5>Seitenaufrufe des Artikels 'Mathe für Nicht-Freaks: Eigenschaften der Determinante'</h5>"
      ],
      "text/plain": [
       "<IPython.core.display.HTML object>"
      ]
     },
     "metadata": {},
     "output_type": "display_data"
    },
    {
     "name": "stdout",
     "output_type": "stream",
     "text": [
      "2018:       606 ┬      +606        \n",
      "2017:         0 ┘      \n"
     ]
    },
    {
     "data": {
      "text/html": [
       "<h5>Bearbeitungen im Artikel 'Mathe für Nicht-Freaks: Eigenschaften der Determinante'</h5>"
      ],
      "text/plain": [
       "<IPython.core.display.HTML object>"
      ]
     },
     "metadata": {},
     "output_type": "display_data"
    },
    {
     "name": "stdout",
     "output_type": "stream",
     "text": [
      "2018:         4 ┬        +4        \n",
      "2017:         0 ┘      \n"
     ]
    },
    {
     "data": {
      "text/markdown": [
       "[Zurück zum Inhaltsverzeichnis](#Inhaltsverzeichnis)"
      ],
      "text/plain": [
       "<IPython.core.display.Markdown object>"
      ]
     },
     "metadata": {},
     "output_type": "display_data"
    },
    {
     "data": {
      "text/html": [
       "<h4 id='Laplacescher Entwicklungssatz'>==== Laplacescher Entwicklungssatz ====</h4>"
      ],
      "text/plain": [
       "<IPython.core.display.HTML object>"
      ]
     },
     "metadata": {},
     "output_type": "display_data"
    },
    {
     "data": {
      "text/html": [
       "<h5>Seitenaufrufe des Artikels 'Mathe für Nicht-Freaks: Laplacescher Entwicklungssatz'</h5>"
      ],
      "text/plain": [
       "<IPython.core.display.HTML object>"
      ]
     },
     "metadata": {},
     "output_type": "display_data"
    },
    {
     "name": "stdout",
     "output_type": "stream",
     "text": [
      "2018:     1.094 ┬    +1.094        \n",
      "2017:         0 ┘      \n"
     ]
    },
    {
     "data": {
      "text/html": [
       "<h5>Bearbeitungen im Artikel 'Mathe für Nicht-Freaks: Laplacescher Entwicklungssatz'</h5>"
      ],
      "text/plain": [
       "<IPython.core.display.HTML object>"
      ]
     },
     "metadata": {},
     "output_type": "display_data"
    },
    {
     "name": "stdout",
     "output_type": "stream",
     "text": [
      "2018:         9 ┬        +9        \n",
      "2017:         0 ┘      \n"
     ]
    },
    {
     "data": {
      "text/markdown": [
       "[Zurück zum Inhaltsverzeichnis](#Inhaltsverzeichnis)"
      ],
      "text/plain": [
       "<IPython.core.display.Markdown object>"
      ]
     },
     "metadata": {},
     "output_type": "display_data"
    },
    {
     "data": {
      "text/html": [
       "<h4 id='Permutationen'>==== Permutationen ====</h4>"
      ],
      "text/plain": [
       "<IPython.core.display.HTML object>"
      ]
     },
     "metadata": {},
     "output_type": "display_data"
    },
    {
     "data": {
      "text/html": [
       "<h5>Seitenaufrufe des Artikels 'Mathe für Nicht-Freaks: Permutationen'</h5>"
      ],
      "text/plain": [
       "<IPython.core.display.HTML object>"
      ]
     },
     "metadata": {},
     "output_type": "display_data"
    },
    {
     "name": "stdout",
     "output_type": "stream",
     "text": [
      "2018:       239 ┬      +239        \n",
      "2017:         0 ┘      \n"
     ]
    },
    {
     "data": {
      "text/html": [
       "<h5>Bearbeitungen im Artikel 'Mathe für Nicht-Freaks: Permutationen'</h5>"
      ],
      "text/plain": [
       "<IPython.core.display.HTML object>"
      ]
     },
     "metadata": {},
     "output_type": "display_data"
    },
    {
     "name": "stdout",
     "output_type": "stream",
     "text": [
      "2018:         3 ┬        +3        \n",
      "2017:         0 ┘      \n"
     ]
    },
    {
     "data": {
      "text/markdown": [
       "[Zurück zum Inhaltsverzeichnis](#Inhaltsverzeichnis)"
      ],
      "text/plain": [
       "<IPython.core.display.Markdown object>"
      ]
     },
     "metadata": {},
     "output_type": "display_data"
    },
    {
     "data": {
      "text/html": [
       "<h4 id='Leibniz-Formel der Determinante'>==== Leibniz-Formel der Determinante ====</h4>"
      ],
      "text/plain": [
       "<IPython.core.display.HTML object>"
      ]
     },
     "metadata": {},
     "output_type": "display_data"
    },
    {
     "data": {
      "text/html": [
       "<h5>Seitenaufrufe des Artikels 'Mathe für Nicht-Freaks: Leibniz-Formel der Determinante'</h5>"
      ],
      "text/plain": [
       "<IPython.core.display.HTML object>"
      ]
     },
     "metadata": {},
     "output_type": "display_data"
    },
    {
     "name": "stdout",
     "output_type": "stream",
     "text": [
      "2018:       712 ┬      +712        \n",
      "2017:         0 ┘      \n"
     ]
    },
    {
     "data": {
      "text/html": [
       "<h5>Bearbeitungen im Artikel 'Mathe für Nicht-Freaks: Leibniz-Formel der Determinante'</h5>"
      ],
      "text/plain": [
       "<IPython.core.display.HTML object>"
      ]
     },
     "metadata": {},
     "output_type": "display_data"
    },
    {
     "name": "stdout",
     "output_type": "stream",
     "text": [
      "2018:         4 ┬        +4        \n",
      "2017:         0 ┘      \n"
     ]
    },
    {
     "data": {
      "text/markdown": [
       "[Zurück zum Inhaltsverzeichnis](#Inhaltsverzeichnis)"
      ],
      "text/plain": [
       "<IPython.core.display.Markdown object>"
      ]
     },
     "metadata": {},
     "output_type": "display_data"
    },
    {
     "data": {
      "text/html": [
       "<h4 id='Determinante besonderer Matrizen'>==== Determinante besonderer Matrizen ====</h4>"
      ],
      "text/plain": [
       "<IPython.core.display.HTML object>"
      ]
     },
     "metadata": {},
     "output_type": "display_data"
    },
    {
     "data": {
      "text/html": [
       "<h5>Seitenaufrufe des Artikels 'Mathe für Nicht-Freaks: Determinante besonderer Matrizen'</h5>"
      ],
      "text/plain": [
       "<IPython.core.display.HTML object>"
      ]
     },
     "metadata": {},
     "output_type": "display_data"
    },
    {
     "name": "stdout",
     "output_type": "stream",
     "text": [
      "2018:       362 ┬      +362        \n",
      "2017:         0 ┘      \n"
     ]
    },
    {
     "data": {
      "text/html": [
       "<h5>Bearbeitungen im Artikel 'Mathe für Nicht-Freaks: Determinante besonderer Matrizen'</h5>"
      ],
      "text/plain": [
       "<IPython.core.display.HTML object>"
      ]
     },
     "metadata": {},
     "output_type": "display_data"
    },
    {
     "name": "stdout",
     "output_type": "stream",
     "text": [
      "2018:         1 ┬        +1        \n",
      "2017:         0 ┘      \n"
     ]
    },
    {
     "data": {
      "text/markdown": [
       "[Zurück zum Inhaltsverzeichnis](#Inhaltsverzeichnis)"
      ],
      "text/plain": [
       "<IPython.core.display.Markdown object>"
      ]
     },
     "metadata": {},
     "output_type": "display_data"
    },
    {
     "data": {
      "text/html": [
       "<h2 id='Buchanfänge'>== Buchanfänge ==</h2>"
      ],
      "text/plain": [
       "<IPython.core.display.HTML object>"
      ]
     },
     "metadata": {},
     "output_type": "display_data"
    },
    {
     "data": {
      "text/html": [
       "<h6>Artikel + Unterartikel: Seitenaufrufe 2018</h6>"
      ],
      "text/plain": [
       "<IPython.core.display.HTML object>"
      ]
     },
     "metadata": {},
     "output_type": "display_data"
    },
    {
     "data": {
      "image/png": "[encoded data removed]",
      "text/plain": [
       "<matplotlib.figure.Figure at 0x7fc9b2ce2c50>"
      ]
     },
     "metadata": {},
     "output_type": "display_data"
    },
    {
     "name": "stdout",
     "output_type": "stream",
     "text": [
      "Summe:    10.799\n",
      "Mean:      1.079\n"
     ]
    },
    {
     "data": {
      "text/html": [
       "<h6>Artikel + Unterartikel: Seitenaufrufe 2017</h6>"
      ],
      "text/plain": [
       "<IPython.core.display.HTML object>"
      ]
     },
     "metadata": {},
     "output_type": "display_data"
    },
    {
     "data": {
      "image/png": "[encoded data removed]",
      "text/plain": [
       "<matplotlib.figure.Figure at 0x7fc9b5f9d5f8>"
      ]
     },
     "metadata": {},
     "output_type": "display_data"
    },
    {
     "name": "stdout",
     "output_type": "stream",
     "text": [
      "Summe:     5.176\n",
      "Mean:        517\n"
     ]
    },
    {
     "data": {
      "text/html": [
       "<h6>Artikel + Unterartikel: Differenz Seitenaufrufe 2018 zu 2017</h6>"
      ],
      "text/plain": [
       "<IPython.core.display.HTML object>"
      ]
     },
     "metadata": {},
     "output_type": "display_data"
    },
    {
     "data": {
      "image/png": "[encoded data removed]",
      "text/plain": [
       "<matplotlib.figure.Figure at 0x7fc9b6032908>"
      ]
     },
     "metadata": {},
     "output_type": "display_data"
    },
    {
     "name": "stdout",
     "output_type": "stream",
     "text": [
      "Summe:     5.623\n",
      "Mean:        562\n"
     ]
    },
    {
     "data": {
      "text/html": [
       "<h6>Artikel + Unterartikel: Bearbeitungen 2018</h6>"
      ],
      "text/plain": [
       "<IPython.core.display.HTML object>"
      ]
     },
     "metadata": {},
     "output_type": "display_data"
    },
    {
     "data": {
      "image/png": "[encoded data removed]",
      "text/plain": [
       "<matplotlib.figure.Figure at 0x7fc9b60234e0>"
      ]
     },
     "metadata": {},
     "output_type": "display_data"
    },
    {
     "name": "stdout",
     "output_type": "stream",
     "text": [
      "Summe:       122\n",
      "Mean:         12\n"
     ]
    },
    {
     "data": {
      "text/html": [
       "<h6>Artikel + Unterartikel: Bearbeitungen 2017</h6>"
      ],
      "text/plain": [
       "<IPython.core.display.HTML object>"
      ]
     },
     "metadata": {},
     "output_type": "display_data"
    },
    {
     "data": {
      "image/png": "[encoded data removed]",
      "text/plain": [
       "<matplotlib.figure.Figure at 0x7fc9b4659668>"
      ]
     },
     "metadata": {},
     "output_type": "display_data"
    },
    {
     "name": "stdout",
     "output_type": "stream",
     "text": [
      "Summe:         2\n",
      "Mean:          0\n"
     ]
    },
    {
     "data": {
      "text/html": [
       "<h6>Artikel + Unterartikel: Differenz Bearbeitungen 2018 zu 2017</h6>"
      ],
      "text/plain": [
       "<IPython.core.display.HTML object>"
      ]
     },
     "metadata": {},
     "output_type": "display_data"
    },
    {
     "data": {
      "image/png": "[encoded data removed]",
      "text/plain": [
       "<matplotlib.figure.Figure at 0x7fc9b5fe0278>"
      ]
     },
     "metadata": {},
     "output_type": "display_data"
    },
    {
     "name": "stdout",
     "output_type": "stream",
     "text": [
      "Summe:       120\n",
      "Mean:         12\n"
     ]
    },
    {
     "data": {
      "text/html": [
       "<h6>Artikel + Unterartikel: Quotient Seitenaufrufe MFNF / Wikipedia</h6>"
      ],
      "text/plain": [
       "<IPython.core.display.HTML object>"
      ]
     },
     "metadata": {},
     "output_type": "display_data"
    },
    {
     "data": {
      "image/png": "[encoded data removed]",
      "text/plain": [
       "<matplotlib.figure.Figure at 0x7fc9e817cb00>"
      ]
     },
     "metadata": {},
     "output_type": "display_data"
    },
    {
     "name": "stdout",
     "output_type": "stream",
     "text": [
      "Mean:   0%\n"
     ]
    },
    {
     "data": {
      "text/html": [
       "<h5>Anzahl Autor*innen (Artikel + Unterartikel)</h5>"
      ],
      "text/plain": [
       "<IPython.core.display.HTML object>"
      ]
     },
     "metadata": {},
     "output_type": "display_data"
    },
    {
     "data": {
      "text/markdown": [
       "Autor*in haben mehr als 12 Bearbeitungen im betrachteten Zeitraum "
      ],
      "text/plain": [
       "<IPython.core.display.Markdown object>"
      ]
     },
     "metadata": {},
     "output_type": "display_data"
    },
    {
     "name": "stdout",
     "output_type": "stream",
     "text": [
      "2018:         2 ┬        +2        \n",
      "2017:         0 ┘      \n"
     ]
    },
    {
     "data": {
      "text/html": [
       "<h5>Anzahl sehr aktive Autor*innen (Artikel + Unterartikel)</h5>"
      ],
      "text/plain": [
       "<IPython.core.display.HTML object>"
      ]
     },
     "metadata": {},
     "output_type": "display_data"
    },
    {
     "data": {
      "text/markdown": [
       "Autor*in haben mehr als 120 Bearbeitungen im betrachteten Zeitraum"
      ],
      "text/plain": [
       "<IPython.core.display.Markdown object>"
      ]
     },
     "metadata": {},
     "output_type": "display_data"
    },
    {
     "name": "stdout",
     "output_type": "stream",
     "text": [
      "2018:         0 ┬        +0        \n",
      "2017:         0 ┘      \n"
     ]
    },
    {
     "data": {
      "text/html": [
       "<h5>Seitenaufrufe des Artikels 'Mathe für Nicht-Freaks: Buchanfänge'</h5>"
      ],
      "text/plain": [
       "<IPython.core.display.HTML object>"
      ]
     },
     "metadata": {},
     "output_type": "display_data"
    },
    {
     "name": "stdout",
     "output_type": "stream",
     "text": [
      "2018:     4.440 ┬      +366 ( +9%)\n",
      "2017:     4.074 ┘      \n"
     ]
    },
    {
     "data": {
      "text/html": [
       "<h5>Bearbeitungen im Artikel 'Mathe für Nicht-Freaks: Buchanfänge'</h5>"
      ],
      "text/plain": [
       "<IPython.core.display.HTML object>"
      ]
     },
     "metadata": {},
     "output_type": "display_data"
    },
    {
     "name": "stdout",
     "output_type": "stream",
     "text": [
      "2018:         0 ┬        +0        \n",
      "2017:         0 ┘      \n"
     ]
    },
    {
     "data": {
      "text/markdown": [
       "[Zurück zum Inhaltsverzeichnis](#Inhaltsverzeichnis)"
      ],
      "text/plain": [
       "<IPython.core.display.Markdown object>"
      ]
     },
     "metadata": {},
     "output_type": "display_data"
    },
    {
     "data": {
      "text/html": [
       "<h3 id='Real Analysis'>=== Real Analysis ===</h3>"
      ],
      "text/plain": [
       "<IPython.core.display.HTML object>"
      ]
     },
     "metadata": {},
     "output_type": "display_data"
    },
    {
     "data": {
      "text/html": [
       "<h5>Seitenaufrufe des Artikels 'Mathe für Nicht-Freaks: Real Analysis'</h5>"
      ],
      "text/plain": [
       "<IPython.core.display.HTML object>"
      ]
     },
     "metadata": {},
     "output_type": "display_data"
    },
    {
     "name": "stdout",
     "output_type": "stream",
     "text": [
      "2018:       708 ┬      +233 (+49%)\n",
      "2017:       475 ┘      \n"
     ]
    },
    {
     "data": {
      "text/html": [
       "<h5>Bearbeitungen im Artikel 'Mathe für Nicht-Freaks: Real Analysis'</h5>"
      ],
      "text/plain": [
       "<IPython.core.display.HTML object>"
      ]
     },
     "metadata": {},
     "output_type": "display_data"
    },
    {
     "name": "stdout",
     "output_type": "stream",
     "text": [
      "2018:         5 ┬        +3 (+150%)\n",
      "2017:         2 ┘      \n"
     ]
    },
    {
     "data": {
      "text/markdown": [
       "[Zurück zum Inhaltsverzeichnis](#Inhaltsverzeichnis)"
      ],
      "text/plain": [
       "<IPython.core.display.Markdown object>"
      ]
     },
     "metadata": {},
     "output_type": "display_data"
    },
    {
     "data": {
      "text/html": [
       "<h3 id='Algebra'>=== Algebra ===</h3>"
      ],
      "text/plain": [
       "<IPython.core.display.HTML object>"
      ]
     },
     "metadata": {},
     "output_type": "display_data"
    },
    {
     "data": {
      "text/html": [
       "<h5>Seitenaufrufe des Artikels 'Mathe für Nicht-Freaks: Buchanfang Algebra by Morrison69'</h5>"
      ],
      "text/plain": [
       "<IPython.core.display.HTML object>"
      ]
     },
     "metadata": {},
     "output_type": "display_data"
    },
    {
     "name": "stdout",
     "output_type": "stream",
     "text": [
      "2018:       428 ┬      +428        \n",
      "2017:         0 ┘      \n"
     ]
    },
    {
     "data": {
      "text/html": [
       "<h5>Bearbeitungen im Artikel 'Mathe für Nicht-Freaks: Buchanfang Algebra by Morrison69'</h5>"
      ],
      "text/plain": [
       "<IPython.core.display.HTML object>"
      ]
     },
     "metadata": {},
     "output_type": "display_data"
    },
    {
     "name": "stdout",
     "output_type": "stream",
     "text": [
      "2018:         1 ┬        +1        \n",
      "2017:         0 ┘      \n"
     ]
    },
    {
     "data": {
      "text/markdown": [
       "[Zurück zum Inhaltsverzeichnis](#Inhaltsverzeichnis)"
      ],
      "text/plain": [
       "<IPython.core.display.Markdown object>"
      ]
     },
     "metadata": {},
     "output_type": "display_data"
    },
    {
     "data": {
      "text/html": [
       "<h3 id='Gewöhnliche Differentialgleichungen'>=== Gewöhnliche Differentialgleichungen ===</h3>"
      ],
      "text/plain": [
       "<IPython.core.display.HTML object>"
      ]
     },
     "metadata": {},
     "output_type": "display_data"
    },
    {
     "data": {
      "text/html": [
       "<h5>Seitenaufrufe des Artikels 'Mathe für Nicht-Freaks: Buchanfang Gewöhnliche Differentialgleichungen by Stephan Kulla'</h5>"
      ],
      "text/plain": [
       "<IPython.core.display.HTML object>"
      ]
     },
     "metadata": {},
     "output_type": "display_data"
    },
    {
     "name": "stdout",
     "output_type": "stream",
     "text": [
      "2018:       410 ┬      +410        \n",
      "2017:         0 ┘      \n"
     ]
    },
    {
     "data": {
      "text/html": [
       "<h5>Bearbeitungen im Artikel 'Mathe für Nicht-Freaks: Buchanfang Gewöhnliche Differentialgleichungen by Stephan Kulla'</h5>"
      ],
      "text/plain": [
       "<IPython.core.display.HTML object>"
      ]
     },
     "metadata": {},
     "output_type": "display_data"
    },
    {
     "name": "stdout",
     "output_type": "stream",
     "text": [
      "2018:         1 ┬        +1        \n",
      "2017:         0 ┘      \n"
     ]
    },
    {
     "data": {
      "text/markdown": [
       "[Zurück zum Inhaltsverzeichnis](#Inhaltsverzeichnis)"
      ],
      "text/plain": [
       "<IPython.core.display.Markdown object>"
      ]
     },
     "metadata": {},
     "output_type": "display_data"
    },
    {
     "data": {
      "text/html": [
       "<h3 id='Maßtheorie'>=== Maßtheorie ===</h3>"
      ],
      "text/plain": [
       "<IPython.core.display.HTML object>"
      ]
     },
     "metadata": {},
     "output_type": "display_data"
    },
    {
     "data": {
      "text/html": [
       "<h5>Seitenaufrufe des Artikels 'Mathe für Nicht-Freaks: Buchanfang Maßtheorie by Richard4321'</h5>"
      ],
      "text/plain": [
       "<IPython.core.display.HTML object>"
      ]
     },
     "metadata": {},
     "output_type": "display_data"
    },
    {
     "name": "stdout",
     "output_type": "stream",
     "text": [
      "2018:     2.151 ┬    +2.151        \n",
      "2017:         0 ┘      \n"
     ]
    },
    {
     "data": {
      "text/html": [
       "<h5>Bearbeitungen im Artikel 'Mathe für Nicht-Freaks: Buchanfang Maßtheorie by Richard4321'</h5>"
      ],
      "text/plain": [
       "<IPython.core.display.HTML object>"
      ]
     },
     "metadata": {},
     "output_type": "display_data"
    },
    {
     "name": "stdout",
     "output_type": "stream",
     "text": [
      "2018:        69 ┬       +69        \n",
      "2017:         0 ┘      \n"
     ]
    },
    {
     "data": {
      "text/markdown": [
       "[Zurück zum Inhaltsverzeichnis](#Inhaltsverzeichnis)"
      ],
      "text/plain": [
       "<IPython.core.display.Markdown object>"
      ]
     },
     "metadata": {},
     "output_type": "display_data"
    },
    {
     "data": {
      "text/html": [
       "<h3 id='Partielle Differentialgleichungen'>=== Partielle Differentialgleichungen ===</h3>"
      ],
      "text/plain": [
       "<IPython.core.display.HTML object>"
      ]
     },
     "metadata": {},
     "output_type": "display_data"
    },
    {
     "data": {
      "text/html": [
       "<h5>Seitenaufrufe des Artikels 'Mathe für Nicht-Freaks: Buchanfang Partielle Differentialgleichungen by Richard4321'</h5>"
      ],
      "text/plain": [
       "<IPython.core.display.HTML object>"
      ]
     },
     "metadata": {},
     "output_type": "display_data"
    },
    {
     "name": "stdout",
     "output_type": "stream",
     "text": [
      "2018:     1.164 ┬    +1.164        \n",
      "2017:         0 ┘      \n"
     ]
    },
    {
     "data": {
      "text/html": [
       "<h5>Bearbeitungen im Artikel 'Mathe für Nicht-Freaks: Buchanfang Partielle Differentialgleichungen by Richard4321'</h5>"
      ],
      "text/plain": [
       "<IPython.core.display.HTML object>"
      ]
     },
     "metadata": {},
     "output_type": "display_data"
    },
    {
     "name": "stdout",
     "output_type": "stream",
     "text": [
      "2018:        33 ┬       +33        \n",
      "2017:         0 ┘      \n"
     ]
    },
    {
     "data": {
      "text/markdown": [
       "[Zurück zum Inhaltsverzeichnis](#Inhaltsverzeichnis)"
      ],
      "text/plain": [
       "<IPython.core.display.Markdown object>"
      ]
     },
     "metadata": {},
     "output_type": "display_data"
    },
    {
     "data": {
      "text/html": [
       "<h3 id='Kapitelanfänge by Tzeh'>=== Kapitelanfänge by Tzeh ===</h3>"
      ],
      "text/plain": [
       "<IPython.core.display.HTML object>"
      ]
     },
     "metadata": {},
     "output_type": "display_data"
    },
    {
     "data": {
      "text/html": [
       "<h5>Seitenaufrufe des Artikels 'Mathe für Nicht-Freaks: Kapitelanfänge by Tzeh'</h5>"
      ],
      "text/plain": [
       "<IPython.core.display.HTML object>"
      ]
     },
     "metadata": {},
     "output_type": "display_data"
    },
    {
     "name": "stdout",
     "output_type": "stream",
     "text": [
      "2018:       232 ┬      +232        \n",
      "2017:         0 ┘      \n"
     ]
    },
    {
     "data": {
      "text/html": [
       "<h5>Bearbeitungen im Artikel 'Mathe für Nicht-Freaks: Kapitelanfänge by Tzeh'</h5>"
      ],
      "text/plain": [
       "<IPython.core.display.HTML object>"
      ]
     },
     "metadata": {},
     "output_type": "display_data"
    },
    {
     "name": "stdout",
     "output_type": "stream",
     "text": [
      "2018:         1 ┬        +1        \n",
      "2017:         0 ┘      \n"
     ]
    },
    {
     "data": {
      "text/markdown": [
       "[Zurück zum Inhaltsverzeichnis](#Inhaltsverzeichnis)"
      ],
      "text/plain": [
       "<IPython.core.display.Markdown object>"
      ]
     },
     "metadata": {},
     "output_type": "display_data"
    },
    {
     "data": {
      "text/html": [
       "<h3 id='Lineare Algebra'>=== Lineare Algebra ===</h3>"
      ],
      "text/plain": [
       "<IPython.core.display.HTML object>"
      ]
     },
     "metadata": {},
     "output_type": "display_data"
    },
    {
     "data": {
      "text/html": [
       "<h5>Seitenaufrufe des Artikels 'Mathe für Nicht-Freaks: Buchanfang lineare Algebra'</h5>"
      ],
      "text/plain": [
       "<IPython.core.display.HTML object>"
      ]
     },
     "metadata": {},
     "output_type": "display_data"
    },
    {
     "name": "stdout",
     "output_type": "stream",
     "text": [
      "2018:       425 ┬      +425        \n",
      "2017:         0 ┘      \n"
     ]
    },
    {
     "data": {
      "text/html": [
       "<h5>Bearbeitungen im Artikel 'Mathe für Nicht-Freaks: Buchanfang lineare Algebra'</h5>"
      ],
      "text/plain": [
       "<IPython.core.display.HTML object>"
      ]
     },
     "metadata": {},
     "output_type": "display_data"
    },
    {
     "name": "stdout",
     "output_type": "stream",
     "text": [
      "2018:         1 ┬        +1        \n",
      "2017:         0 ┘      \n"
     ]
    },
    {
     "data": {
      "text/markdown": [
       "[Zurück zum Inhaltsverzeichnis](#Inhaltsverzeichnis)"
      ],
      "text/plain": [
       "<IPython.core.display.Markdown object>"
      ]
     },
     "metadata": {},
     "output_type": "display_data"
    },
    {
     "data": {
      "text/html": [
       "<h3 id='Abstellraum'>=== Abstellraum ===</h3>"
      ],
      "text/plain": [
       "<IPython.core.display.HTML object>"
      ]
     },
     "metadata": {},
     "output_type": "display_data"
    },
    {
     "data": {
      "text/html": [
       "<h5>Seitenaufrufe des Artikels 'Mathe für Nicht-Freaks: Abstellraum'</h5>"
      ],
      "text/plain": [
       "<IPython.core.display.HTML object>"
      ]
     },
     "metadata": {},
     "output_type": "display_data"
    },
    {
     "name": "stdout",
     "output_type": "stream",
     "text": [
      "2018:       576 ┬       -51 ( -8%)\n",
      "2017:       627 ┘      \n"
     ]
    },
    {
     "data": {
      "text/html": [
       "<h5>Bearbeitungen im Artikel 'Mathe für Nicht-Freaks: Abstellraum'</h5>"
      ],
      "text/plain": [
       "<IPython.core.display.HTML object>"
      ]
     },
     "metadata": {},
     "output_type": "display_data"
    },
    {
     "name": "stdout",
     "output_type": "stream",
     "text": [
      "2018:         4 ┬        +4        \n",
      "2017:         0 ┘      \n"
     ]
    },
    {
     "data": {
      "text/markdown": [
       "[Zurück zum Inhaltsverzeichnis](#Inhaltsverzeichnis)"
      ],
      "text/plain": [
       "<IPython.core.display.Markdown object>"
      ]
     },
     "metadata": {},
     "output_type": "display_data"
    },
    {
     "data": {
      "text/html": [
       "<h3 id='Taylor Entwicklung'>=== Taylor Entwicklung ===</h3>"
      ],
      "text/plain": [
       "<IPython.core.display.HTML object>"
      ]
     },
     "metadata": {},
     "output_type": "display_data"
    },
    {
     "data": {
      "text/html": [
       "<h5>Seitenaufrufe des Artikels 'Mathe für Nicht-Freaks: Taylor Entwicklung'</h5>"
      ],
      "text/plain": [
       "<IPython.core.display.HTML object>"
      ]
     },
     "metadata": {},
     "output_type": "display_data"
    },
    {
     "name": "stdout",
     "output_type": "stream",
     "text": [
      "2018:       265 ┬      +265        \n",
      "2017:         0 ┘      \n"
     ]
    },
    {
     "data": {
      "text/html": [
       "<h5>Bearbeitungen im Artikel 'Mathe für Nicht-Freaks: Taylor Entwicklung'</h5>"
      ],
      "text/plain": [
       "<IPython.core.display.HTML object>"
      ]
     },
     "metadata": {},
     "output_type": "display_data"
    },
    {
     "name": "stdout",
     "output_type": "stream",
     "text": [
      "2018:         7 ┬        +7        \n",
      "2017:         0 ┘      \n"
     ]
    },
    {
     "data": {
      "text/markdown": [
       "[Zurück zum Inhaltsverzeichnis](#Inhaltsverzeichnis)"
      ],
      "text/plain": [
       "<IPython.core.display.Markdown object>"
      ]
     },
     "metadata": {},
     "output_type": "display_data"
    },
    {
     "data": {
      "text/html": [
       "<h2 id='Autorenportal'>== Autorenportal ==</h2>"
      ],
      "text/plain": [
       "<IPython.core.display.HTML object>"
      ]
     },
     "metadata": {},
     "output_type": "display_data"
    },
    {
     "data": {
      "text/html": [
       "<h6>Artikel + Unterartikel: Seitenaufrufe 2018</h6>"
      ],
      "text/plain": [
       "<IPython.core.display.HTML object>"
      ]
     },
     "metadata": {},
     "output_type": "display_data"
    },
    {
     "data": {
      "image/png": "[encoded data removed]",
      "text/plain": [
       "<matplotlib.figure.Figure at 0x7fc9b5d77ef0>"
      ]
     },
     "metadata": {},
     "output_type": "display_data"
    },
    {
     "name": "stdout",
     "output_type": "stream",
     "text": [
      "Summe:     8.934\n",
      "Mean:        687\n"
     ]
    },
    {
     "data": {
      "text/html": [
       "<h6>Artikel + Unterartikel: Seitenaufrufe 2017</h6>"
      ],
      "text/plain": [
       "<IPython.core.display.HTML object>"
      ]
     },
     "metadata": {},
     "output_type": "display_data"
    },
    {
     "data": {
      "image/png": "[encoded data removed]",
      "text/plain": [
       "<matplotlib.figure.Figure at 0x7fc9b6153d30>"
      ]
     },
     "metadata": {},
     "output_type": "display_data"
    },
    {
     "name": "stdout",
     "output_type": "stream",
     "text": [
      "Summe:     8.837\n",
      "Mean:        679\n"
     ]
    },
    {
     "data": {
      "text/html": [
       "<h6>Artikel + Unterartikel: Differenz Seitenaufrufe 2018 zu 2017</h6>"
      ],
      "text/plain": [
       "<IPython.core.display.HTML object>"
      ]
     },
     "metadata": {},
     "output_type": "display_data"
    },
    {
     "data": {
      "image/png": "[encoded data removed]",
      "text/plain": [
       "<matplotlib.figure.Figure at 0x7fc9b5e7def0>"
      ]
     },
     "metadata": {},
     "output_type": "display_data"
    },
    {
     "name": "stdout",
     "output_type": "stream",
     "text": [
      "Summe:        97\n",
      "Mean:          7\n"
     ]
    },
    {
     "data": {
      "text/html": [
       "<h6>Artikel + Unterartikel: Bearbeitungen 2018</h6>"
      ],
      "text/plain": [
       "<IPython.core.display.HTML object>"
      ]
     },
     "metadata": {},
     "output_type": "display_data"
    },
    {
     "data": {
      "image/png": "[encoded data removed]",
      "text/plain": [
       "<matplotlib.figure.Figure at 0x7fc9b5d55048>"
      ]
     },
     "metadata": {},
     "output_type": "display_data"
    },
    {
     "name": "stdout",
     "output_type": "stream",
     "text": [
      "Summe:       184\n",
      "Mean:         14\n"
     ]
    },
    {
     "data": {
      "text/html": [
       "<h6>Artikel + Unterartikel: Bearbeitungen 2017</h6>"
      ],
      "text/plain": [
       "<IPython.core.display.HTML object>"
      ]
     },
     "metadata": {},
     "output_type": "display_data"
    },
    {
     "data": {
      "image/png": "[encoded data removed]",
      "text/plain": [
       "<matplotlib.figure.Figure at 0x7fc9b5de6978>"
      ]
     },
     "metadata": {},
     "output_type": "display_data"
    },
    {
     "name": "stdout",
     "output_type": "stream",
     "text": [
      "Summe:       366\n",
      "Mean:         28\n"
     ]
    },
    {
     "data": {
      "text/html": [
       "<h6>Artikel + Unterartikel: Differenz Bearbeitungen 2018 zu 2017</h6>"
      ],
      "text/plain": [
       "<IPython.core.display.HTML object>"
      ]
     },
     "metadata": {},
     "output_type": "display_data"
    },
    {
     "data": {
      "image/png": "[encoded data removed]",
      "text/plain": [
       "<matplotlib.figure.Figure at 0x7fc9b5f5a080>"
      ]
     },
     "metadata": {},
     "output_type": "display_data"
    },
    {
     "name": "stdout",
     "output_type": "stream",
     "text": [
      "Summe:      -182\n",
      "Mean:        -14\n"
     ]
    },
    {
     "data": {
      "text/html": [
       "<h6>Artikel + Unterartikel: Quotient Seitenaufrufe MFNF / Wikipedia</h6>"
      ],
      "text/plain": [
       "<IPython.core.display.HTML object>"
      ]
     },
     "metadata": {},
     "output_type": "display_data"
    },
    {
     "data": {
      "image/png": "[encoded data removed]",
      "text/plain": [
       "<matplotlib.figure.Figure at 0x7fc9b83fb2e8>"
      ]
     },
     "metadata": {},
     "output_type": "display_data"
    },
    {
     "name": "stdout",
     "output_type": "stream",
     "text": [
      "Mean:   0%\n"
     ]
    },
    {
     "data": {
      "text/html": [
       "<h5>Anzahl Autor*innen (Artikel + Unterartikel)</h5>"
      ],
      "text/plain": [
       "<IPython.core.display.HTML object>"
      ]
     },
     "metadata": {},
     "output_type": "display_data"
    },
    {
     "data": {
      "text/markdown": [
       "Autor*in haben mehr als 12 Bearbeitungen im betrachteten Zeitraum "
      ],
      "text/plain": [
       "<IPython.core.display.Markdown object>"
      ]
     },
     "metadata": {},
     "output_type": "display_data"
    },
    {
     "name": "stdout",
     "output_type": "stream",
     "text": [
      "2018:         4 ┬        -1 (-20%)\n",
      "2017:         5 ┘      \n"
     ]
    },
    {
     "data": {
      "text/html": [
       "<h5>Anzahl sehr aktive Autor*innen (Artikel + Unterartikel)</h5>"
      ],
      "text/plain": [
       "<IPython.core.display.HTML object>"
      ]
     },
     "metadata": {},
     "output_type": "display_data"
    },
    {
     "data": {
      "text/markdown": [
       "Autor*in haben mehr als 120 Bearbeitungen im betrachteten Zeitraum"
      ],
      "text/plain": [
       "<IPython.core.display.Markdown object>"
      ]
     },
     "metadata": {},
     "output_type": "display_data"
    },
    {
     "name": "stdout",
     "output_type": "stream",
     "text": [
      "2018:         0 ┬        -1 (-100%)\n",
      "2017:         1 ┘      \n"
     ]
    },
    {
     "data": {
      "text/html": [
       "<h5>Seitenaufrufe des Artikels 'Mathe für Nicht-Freaks: Autorenportal'</h5>"
      ],
      "text/plain": [
       "<IPython.core.display.HTML object>"
      ]
     },
     "metadata": {},
     "output_type": "display_data"
    },
    {
     "name": "stdout",
     "output_type": "stream",
     "text": [
      "2018:     1.956 ┬      +513 (+36%)\n",
      "2017:     1.443 ┘      \n"
     ]
    },
    {
     "data": {
      "text/html": [
       "<h5>Bearbeitungen im Artikel 'Mathe für Nicht-Freaks: Autorenportal'</h5>"
      ],
      "text/plain": [
       "<IPython.core.display.HTML object>"
      ]
     },
     "metadata": {},
     "output_type": "display_data"
    },
    {
     "name": "stdout",
     "output_type": "stream",
     "text": [
      "2018:         0 ┬        -1 (-100%)\n",
      "2017:         1 ┘      \n"
     ]
    },
    {
     "data": {
      "text/markdown": [
       "[Zurück zum Inhaltsverzeichnis](#Inhaltsverzeichnis)"
      ],
      "text/plain": [
       "<IPython.core.display.Markdown object>"
      ]
     },
     "metadata": {},
     "output_type": "display_data"
    },
    {
     "data": {
      "text/html": [
       "<h3 id='Hilfeseiten'>=== Hilfeseiten ===</h3>"
      ],
      "text/plain": [
       "<IPython.core.display.HTML object>"
      ]
     },
     "metadata": {},
     "output_type": "display_data"
    },
    {
     "data": {
      "text/markdown": [
       "[Zurück zum Inhaltsverzeichnis](#Inhaltsverzeichnis)"
      ],
      "text/plain": [
       "<IPython.core.display.Markdown object>"
      ]
     },
     "metadata": {},
     "output_type": "display_data"
    },
    {
     "data": {
      "text/html": [
       "<h4 id='Allgemeine Hinweise'>==== Allgemeine Hinweise ====</h4>"
      ],
      "text/plain": [
       "<IPython.core.display.HTML object>"
      ]
     },
     "metadata": {},
     "output_type": "display_data"
    },
    {
     "data": {
      "text/html": [
       "<h5>Seitenaufrufe des Artikels 'Mathe für Nicht-Freaks: Hinweise für Autoren'</h5>"
      ],
      "text/plain": [
       "<IPython.core.display.HTML object>"
      ]
     },
     "metadata": {},
     "output_type": "display_data"
    },
    {
     "name": "stdout",
     "output_type": "stream",
     "text": [
      "2018:       594 ┬      -130 (-18%)\n",
      "2017:       724 ┘      \n"
     ]
    },
    {
     "data": {
      "text/html": [
       "<h5>Bearbeitungen im Artikel 'Mathe für Nicht-Freaks: Hinweise für Autoren'</h5>"
      ],
      "text/plain": [
       "<IPython.core.display.HTML object>"
      ]
     },
     "metadata": {},
     "output_type": "display_data"
    },
    {
     "name": "stdout",
     "output_type": "stream",
     "text": [
      "2018:         4 ┬        -3 (-43%)\n",
      "2017:         7 ┘      \n"
     ]
    },
    {
     "data": {
      "text/markdown": [
       "[Zurück zum Inhaltsverzeichnis](#Inhaltsverzeichnis)"
      ],
      "text/plain": [
       "<IPython.core.display.Markdown object>"
      ]
     },
     "metadata": {},
     "output_type": "display_data"
    },
    {
     "data": {
      "text/html": [
       "<h4 id='Formatierung von Kapiteln'>==== Formatierung von Kapiteln ====</h4>"
      ],
      "text/plain": [
       "<IPython.core.display.HTML object>"
      ]
     },
     "metadata": {},
     "output_type": "display_data"
    },
    {
     "data": {
      "text/html": [
       "<h5>Seitenaufrufe des Artikels 'Mathe für Nicht-Freaks: Formatierung von Kapiteln'</h5>"
      ],
      "text/plain": [
       "<IPython.core.display.HTML object>"
      ]
     },
     "metadata": {},
     "output_type": "display_data"
    },
    {
     "name": "stdout",
     "output_type": "stream",
     "text": [
      "2018:       767 ┬       -75 ( -9%)\n",
      "2017:       842 ┘      \n"
     ]
    },
    {
     "data": {
      "text/html": [
       "<h5>Bearbeitungen im Artikel 'Mathe für Nicht-Freaks: Formatierung von Kapiteln'</h5>"
      ],
      "text/plain": [
       "<IPython.core.display.HTML object>"
      ]
     },
     "metadata": {},
     "output_type": "display_data"
    },
    {
     "name": "stdout",
     "output_type": "stream",
     "text": [
      "2018:        10 ┬        -7 (-41%)\n",
      "2017:        17 ┘      \n"
     ]
    },
    {
     "data": {
      "text/markdown": [
       "[Zurück zum Inhaltsverzeichnis](#Inhaltsverzeichnis)"
      ],
      "text/plain": [
       "<IPython.core.display.Markdown object>"
      ]
     },
     "metadata": {},
     "output_type": "display_data"
    },
    {
     "data": {
      "text/html": [
       "<h4 id='Hilfeseiten und Anleitungen'>==== Hilfeseiten und Anleitungen ====</h4>"
      ],
      "text/plain": [
       "<IPython.core.display.HTML object>"
      ]
     },
     "metadata": {},
     "output_type": "display_data"
    },
    {
     "data": {
      "text/html": [
       "<h5>Seitenaufrufe des Artikels 'Mathe für Nicht-Freaks: Hilfe'</h5>"
      ],
      "text/plain": [
       "<IPython.core.display.HTML object>"
      ]
     },
     "metadata": {},
     "output_type": "display_data"
    },
    {
     "name": "stdout",
     "output_type": "stream",
     "text": [
      "2018:       171 ┬      +171        \n",
      "2017:         0 ┘      \n"
     ]
    },
    {
     "data": {
      "text/html": [
       "<h5>Bearbeitungen im Artikel 'Mathe für Nicht-Freaks: Hilfe'</h5>"
      ],
      "text/plain": [
       "<IPython.core.display.HTML object>"
      ]
     },
     "metadata": {},
     "output_type": "display_data"
    },
    {
     "name": "stdout",
     "output_type": "stream",
     "text": [
      "2018:         1 ┬        +1        \n",
      "2017:         0 ┘      \n"
     ]
    },
    {
     "data": {
      "text/markdown": [
       "[Zurück zum Inhaltsverzeichnis](#Inhaltsverzeichnis)"
      ],
      "text/plain": [
       "<IPython.core.display.Markdown object>"
      ]
     },
     "metadata": {},
     "output_type": "display_data"
    },
    {
     "data": {
      "text/html": [
       "<h3 id='Beispielkapitel'>=== Beispielkapitel ===</h3>"
      ],
      "text/plain": [
       "<IPython.core.display.HTML object>"
      ]
     },
     "metadata": {},
     "output_type": "display_data"
    },
    {
     "data": {
      "text/markdown": [
       "[Zurück zum Inhaltsverzeichnis](#Inhaltsverzeichnis)"
      ],
      "text/plain": [
       "<IPython.core.display.Markdown object>"
      ]
     },
     "metadata": {},
     "output_type": "display_data"
    },
    {
     "data": {
      "text/html": [
       "<h4 id='Grundlegende Formatierungen'>==== Grundlegende Formatierungen ====</h4>"
      ],
      "text/plain": [
       "<IPython.core.display.HTML object>"
      ]
     },
     "metadata": {},
     "output_type": "display_data"
    },
    {
     "data": {
      "text/html": [
       "<h5>Seitenaufrufe des Artikels 'Mathe für Nicht-Freaks: Beispielkapitel: Grundlegende Formatierungen'</h5>"
      ],
      "text/plain": [
       "<IPython.core.display.HTML object>"
      ]
     },
     "metadata": {},
     "output_type": "display_data"
    },
    {
     "name": "stdout",
     "output_type": "stream",
     "text": [
      "2018:       389 ┬      +198 (+104%)\n",
      "2017:       191 ┘      \n"
     ]
    },
    {
     "data": {
      "text/html": [
       "<h5>Bearbeitungen im Artikel 'Mathe für Nicht-Freaks: Beispielkapitel: Grundlegende Formatierungen'</h5>"
      ],
      "text/plain": [
       "<IPython.core.display.HTML object>"
      ]
     },
     "metadata": {},
     "output_type": "display_data"
    },
    {
     "name": "stdout",
     "output_type": "stream",
     "text": [
      "2018:         3 ┬        -9 (-75%)\n",
      "2017:        12 ┘      \n"
     ]
    },
    {
     "data": {
      "text/markdown": [
       "[Zurück zum Inhaltsverzeichnis](#Inhaltsverzeichnis)"
      ],
      "text/plain": [
       "<IPython.core.display.Markdown object>"
      ]
     },
     "metadata": {},
     "output_type": "display_data"
    },
    {
     "data": {
      "text/html": [
       "<h4 id='Semantische Blöcke'>==== Semantische Blöcke ====</h4>"
      ],
      "text/plain": [
       "<IPython.core.display.HTML object>"
      ]
     },
     "metadata": {},
     "output_type": "display_data"
    },
    {
     "data": {
      "text/html": [
       "<h5>Seitenaufrufe des Artikels 'Mathe für Nicht-Freaks: Beispielkapitel: Semantische Blöcke'</h5>"
      ],
      "text/plain": [
       "<IPython.core.display.HTML object>"
      ]
     },
     "metadata": {},
     "output_type": "display_data"
    },
    {
     "name": "stdout",
     "output_type": "stream",
     "text": [
      "2018:       443 ┬      +259 (+141%)\n",
      "2017:       184 ┘      \n"
     ]
    },
    {
     "data": {
      "text/html": [
       "<h5>Bearbeitungen im Artikel 'Mathe für Nicht-Freaks: Beispielkapitel: Semantische Blöcke'</h5>"
      ],
      "text/plain": [
       "<IPython.core.display.HTML object>"
      ]
     },
     "metadata": {},
     "output_type": "display_data"
    },
    {
     "name": "stdout",
     "output_type": "stream",
     "text": [
      "2018:         3 ┬       -12 (-80%)\n",
      "2017:        15 ┘      \n"
     ]
    },
    {
     "data": {
      "text/markdown": [
       "[Zurück zum Inhaltsverzeichnis](#Inhaltsverzeichnis)"
      ],
      "text/plain": [
       "<IPython.core.display.Markdown object>"
      ]
     },
     "metadata": {},
     "output_type": "display_data"
    },
    {
     "data": {
      "text/html": [
       "<h4 id='Inhalte im Druck unterbinden'>==== Inhalte im Druck unterbinden ====</h4>"
      ],
      "text/plain": [
       "<IPython.core.display.HTML object>"
      ]
     },
     "metadata": {},
     "output_type": "display_data"
    },
    {
     "data": {
      "text/html": [
       "<h5>Seitenaufrufe des Artikels 'Mathe für Nicht-Freaks: Beispielkapitel: Inhalte im Druck unterbinden'</h5>"
      ],
      "text/plain": [
       "<IPython.core.display.HTML object>"
      ]
     },
     "metadata": {},
     "output_type": "display_data"
    },
    {
     "name": "stdout",
     "output_type": "stream",
     "text": [
      "2018:       132 ┬       +24 (+22%)\n",
      "2017:       108 ┘      \n"
     ]
    },
    {
     "data": {
      "text/html": [
       "<h5>Bearbeitungen im Artikel 'Mathe für Nicht-Freaks: Beispielkapitel: Inhalte im Druck unterbinden'</h5>"
      ],
      "text/plain": [
       "<IPython.core.display.HTML object>"
      ]
     },
     "metadata": {},
     "output_type": "display_data"
    },
    {
     "name": "stdout",
     "output_type": "stream",
     "text": [
      "2018:         0 ┬        -6 (-100%)\n",
      "2017:         6 ┘      \n"
     ]
    },
    {
     "data": {
      "text/markdown": [
       "[Zurück zum Inhaltsverzeichnis](#Inhaltsverzeichnis)"
      ],
      "text/plain": [
       "<IPython.core.display.Markdown object>"
      ]
     },
     "metadata": {},
     "output_type": "display_data"
    },
    {
     "data": {
      "text/html": [
       "<h3 id='Zusammenarbeit'>=== Zusammenarbeit ===</h3>"
      ],
      "text/plain": [
       "<IPython.core.display.HTML object>"
      ]
     },
     "metadata": {},
     "output_type": "display_data"
    },
    {
     "data": {
      "text/markdown": [
       "[Zurück zum Inhaltsverzeichnis](#Inhaltsverzeichnis)"
      ],
      "text/plain": [
       "<IPython.core.display.Markdown object>"
      ]
     },
     "metadata": {},
     "output_type": "display_data"
    },
    {
     "data": {
      "text/html": [
       "<h4 id='Aktuelle Aufgaben'>==== Aktuelle Aufgaben ====</h4>"
      ],
      "text/plain": [
       "<IPython.core.display.HTML object>"
      ]
     },
     "metadata": {},
     "output_type": "display_data"
    },
    {
     "data": {
      "text/html": [
       "<h5>Seitenaufrufe des Artikels 'Mathe für Nicht-Freaks: Aktuelle Aufgaben'</h5>"
      ],
      "text/plain": [
       "<IPython.core.display.HTML object>"
      ]
     },
     "metadata": {},
     "output_type": "display_data"
    },
    {
     "name": "stdout",
     "output_type": "stream",
     "text": [
      "2018:       458 ┬      -196 (-30%)\n",
      "2017:       654 ┘      \n"
     ]
    },
    {
     "data": {
      "text/html": [
       "<h5>Bearbeitungen im Artikel 'Mathe für Nicht-Freaks: Aktuelle Aufgaben'</h5>"
      ],
      "text/plain": [
       "<IPython.core.display.HTML object>"
      ]
     },
     "metadata": {},
     "output_type": "display_data"
    },
    {
     "name": "stdout",
     "output_type": "stream",
     "text": [
      "2018:         2 ┬       -15 (-88%)\n",
      "2017:        17 ┘      \n"
     ]
    },
    {
     "data": {
      "text/markdown": [
       "[Zurück zum Inhaltsverzeichnis](#Inhaltsverzeichnis)"
      ],
      "text/plain": [
       "<IPython.core.display.Markdown object>"
      ]
     },
     "metadata": {},
     "output_type": "display_data"
    },
    {
     "data": {
      "text/html": [
       "<h4 id='Ideen'>==== Ideen ====</h4>"
      ],
      "text/plain": [
       "<IPython.core.display.HTML object>"
      ]
     },
     "metadata": {},
     "output_type": "display_data"
    },
    {
     "data": {
      "text/html": [
       "<h5>Seitenaufrufe des Artikels 'Mathe für Nicht-Freaks: Ideen'</h5>"
      ],
      "text/plain": [
       "<IPython.core.display.HTML object>"
      ]
     },
     "metadata": {},
     "output_type": "display_data"
    },
    {
     "name": "stdout",
     "output_type": "stream",
     "text": [
      "2018:       285 ┬       -20 ( -7%)\n",
      "2017:       305 ┘      \n"
     ]
    },
    {
     "data": {
      "text/html": [
       "<h5>Bearbeitungen im Artikel 'Mathe für Nicht-Freaks: Ideen'</h5>"
      ],
      "text/plain": [
       "<IPython.core.display.HTML object>"
      ]
     },
     "metadata": {},
     "output_type": "display_data"
    },
    {
     "name": "stdout",
     "output_type": "stream",
     "text": [
      "2018:         4 ┬        +3 (+300%)\n",
      "2017:         1 ┘      \n"
     ]
    },
    {
     "data": {
      "text/markdown": [
       "[Zurück zum Inhaltsverzeichnis](#Inhaltsverzeichnis)"
      ],
      "text/plain": [
       "<IPython.core.display.Markdown object>"
      ]
     },
     "metadata": {},
     "output_type": "display_data"
    },
    {
     "data": {
      "text/html": [
       "<h4 id='Umfragen'>==== Umfragen ====</h4>"
      ],
      "text/plain": [
       "<IPython.core.display.HTML object>"
      ]
     },
     "metadata": {},
     "output_type": "display_data"
    },
    {
     "data": {
      "text/html": [
       "<h5>Seitenaufrufe des Artikels 'Mathe für Nicht-Freaks: Umfragen'</h5>"
      ],
      "text/plain": [
       "<IPython.core.display.HTML object>"
      ]
     },
     "metadata": {},
     "output_type": "display_data"
    },
    {
     "name": "stdout",
     "output_type": "stream",
     "text": [
      "2018:       418 ┬      -107 (-20%)\n",
      "2017:       525 ┘      \n"
     ]
    },
    {
     "data": {
      "text/html": [
       "<h5>Bearbeitungen im Artikel 'Mathe für Nicht-Freaks: Umfragen'</h5>"
      ],
      "text/plain": [
       "<IPython.core.display.HTML object>"
      ]
     },
     "metadata": {},
     "output_type": "display_data"
    },
    {
     "name": "stdout",
     "output_type": "stream",
     "text": [
      "2018:         0 ┬        -9 (-100%)\n",
      "2017:         9 ┘      \n"
     ]
    },
    {
     "data": {
      "text/markdown": [
       "[Zurück zum Inhaltsverzeichnis](#Inhaltsverzeichnis)"
      ],
      "text/plain": [
       "<IPython.core.display.Markdown object>"
      ]
     },
     "metadata": {},
     "output_type": "display_data"
    },
    {
     "data": {
      "text/html": [
       "<h4 id='Sitemap: Übersicht aller Kapitel'>==== Sitemap: Übersicht aller Kapitel ====</h4>"
      ],
      "text/plain": [
       "<IPython.core.display.HTML object>"
      ]
     },
     "metadata": {},
     "output_type": "display_data"
    },
    {
     "data": {
      "text/html": [
       "<h5>Seitenaufrufe des Artikels 'Mathe für Nicht-Freaks: Sitemap'</h5>"
      ],
      "text/plain": [
       "<IPython.core.display.HTML object>"
      ]
     },
     "metadata": {},
     "output_type": "display_data"
    },
    {
     "name": "stdout",
     "output_type": "stream",
     "text": [
      "2018:     2.414 ┬      -730 (-23%)\n",
      "2017:     3.144 ┘      \n"
     ]
    },
    {
     "data": {
      "text/html": [
       "<h5>Bearbeitungen im Artikel 'Mathe für Nicht-Freaks: Sitemap'</h5>"
      ],
      "text/plain": [
       "<IPython.core.display.HTML object>"
      ]
     },
     "metadata": {},
     "output_type": "display_data"
    },
    {
     "name": "stdout",
     "output_type": "stream",
     "text": [
      "2018:       146 ┬      -127 (-47%)\n",
      "2017:       273 ┘      \n"
     ]
    },
    {
     "data": {
      "text/markdown": [
       "[Zurück zum Inhaltsverzeichnis](#Inhaltsverzeichnis)"
      ],
      "text/plain": [
       "<IPython.core.display.Markdown object>"
      ]
     },
     "metadata": {},
     "output_type": "display_data"
    },
    {
     "data": {
      "text/html": [
       "<h4 id='Letzte Änderungen am Projekt'>==== Letzte Änderungen am Projekt ====</h4>"
      ],
      "text/plain": [
       "<IPython.core.display.HTML object>"
      ]
     },
     "metadata": {},
     "output_type": "display_data"
    },
    {
     "data": {
      "text/markdown": [
       "[Zurück zum Inhaltsverzeichnis](#Inhaltsverzeichnis)"
      ],
      "text/plain": [
       "<IPython.core.display.Markdown object>"
      ]
     },
     "metadata": {},
     "output_type": "display_data"
    },
    {
     "data": {
      "text/html": [
       "<h4 id='Projektseiten'>==== Projektseiten ====</h4>"
      ],
      "text/plain": [
       "<IPython.core.display.HTML object>"
      ]
     },
     "metadata": {},
     "output_type": "display_data"
    },
    {
     "data": {
      "text/html": [
       "<h5>Seitenaufrufe des Artikels 'Mathe für Nicht-Freaks: Projekte'</h5>"
      ],
      "text/plain": [
       "<IPython.core.display.HTML object>"
      ]
     },
     "metadata": {},
     "output_type": "display_data"
    },
    {
     "name": "stdout",
     "output_type": "stream",
     "text": [
      "2018:       591 ┬      +181 (+44%)\n",
      "2017:       410 ┘      \n"
     ]
    },
    {
     "data": {
      "text/html": [
       "<h5>Bearbeitungen im Artikel 'Mathe für Nicht-Freaks: Projekte'</h5>"
      ],
      "text/plain": [
       "<IPython.core.display.HTML object>"
      ]
     },
     "metadata": {},
     "output_type": "display_data"
    },
    {
     "name": "stdout",
     "output_type": "stream",
     "text": [
      "2018:        10 ┬        +5 (+100%)\n",
      "2017:         5 ┘      \n"
     ]
    },
    {
     "data": {
      "text/markdown": [
       "[Zurück zum Inhaltsverzeichnis](#Inhaltsverzeichnis)"
      ],
      "text/plain": [
       "<IPython.core.display.Markdown object>"
      ]
     },
     "metadata": {},
     "output_type": "display_data"
    },
    {
     "data": {
      "text/html": [
       "<h4 id='Archiv'>==== Archiv ====</h4>"
      ],
      "text/plain": [
       "<IPython.core.display.HTML object>"
      ]
     },
     "metadata": {},
     "output_type": "display_data"
    },
    {
     "data": {
      "text/html": [
       "<h5>Seitenaufrufe des Artikels 'Mathe für Nicht-Freaks: Archiv'</h5>"
      ],
      "text/plain": [
       "<IPython.core.display.HTML object>"
      ]
     },
     "metadata": {},
     "output_type": "display_data"
    },
    {
     "name": "stdout",
     "output_type": "stream",
     "text": [
      "2018:       316 ┬        +9 ( +3%)\n",
      "2017:       307 ┘      \n"
     ]
    },
    {
     "data": {
      "text/html": [
       "<h5>Bearbeitungen im Artikel 'Mathe für Nicht-Freaks: Archiv'</h5>"
      ],
      "text/plain": [
       "<IPython.core.display.HTML object>"
      ]
     },
     "metadata": {},
     "output_type": "display_data"
    },
    {
     "name": "stdout",
     "output_type": "stream",
     "text": [
      "2018:         1 ┬        -2 (-67%)\n",
      "2017:         3 ┘      \n"
     ]
    },
    {
     "data": {
      "text/markdown": [
       "[Zurück zum Inhaltsverzeichnis](#Inhaltsverzeichnis)"
      ],
      "text/plain": [
       "<IPython.core.display.Markdown object>"
      ]
     },
     "metadata": {},
     "output_type": "display_data"
    }
   ],
   "source": [
    "def report(node, level=1):\n",
    "    h((\"=\" * level) + \" \" + node[\"name\"] +  \" \" + (\"=\" * level), level,hid=node[\"name\"])\n",
    "    \n",
    "    if len(node[\"children\"]) > 0 and level <= 2:\n",
    "        h(\"Artikel + Unterartikel: Seitenaufrufe 2018\", 6)\n",
    "        v1 = collect(views_new, node)\n",
    "        plt.boxplot(v1, 0, \"rs\", 0)\n",
    "        plt.show()\n",
    "        \n",
    "        print(\"Summe: %s\" % d(sum(v1)))\n",
    "        print(\"Mean:  %s\" % d(np.mean(v1)))\n",
    "        \n",
    "        h(\"Artikel + Unterartikel: Seitenaufrufe 2017\", 6)\n",
    "        v2 = collect(views_old, node)\n",
    "        plt.boxplot(v2, 0, \"rs\", 0)\n",
    "        plt.show()\n",
    "        \n",
    "        print(\"Summe: %s\" % d(sum(v2)))\n",
    "        print(\"Mean:  %s\" % d(np.mean(v2)))\n",
    "        \n",
    "        h(\"Artikel + Unterartikel: Differenz Seitenaufrufe 2018 zu 2017\", 6)\n",
    "        wd = collect(views_diff, node)\n",
    "        plt.boxplot(wd, 0, \"rs\", 0)\n",
    "        plt.show()\n",
    "        \n",
    "        print(\"Summe: %s\" % d(sum(wd)))\n",
    "        print(\"Mean:  %s\" % d(np.mean(wd)))\n",
    "        \n",
    "        h(\"Artikel + Unterartikel: Bearbeitungen 2018\", 6)\n",
    "        v1 = collect(revs_new, node)\n",
    "        plt.boxplot(v1, 0, \"rs\", 0)\n",
    "        plt.show()\n",
    "        \n",
    "        print(\"Summe: %s\" % d(sum(v1)))\n",
    "        print(\"Mean:  %s\" % d(np.mean(v1)))\n",
    "        \n",
    "        h(\"Artikel + Unterartikel: Bearbeitungen 2017\", 6)\n",
    "        v2 = collect(revs_old, node)\n",
    "        plt.boxplot(v2, 0, \"rs\", 0)\n",
    "        plt.show()\n",
    "        \n",
    "        print(\"Summe: %s\" % d(sum(v2)))\n",
    "        print(\"Mean:  %s\" % d(np.mean(v2)))\n",
    "        \n",
    "        h(\"Artikel + Unterartikel: Differenz Bearbeitungen 2018 zu 2017\", 6)\n",
    "        wd = collect(revs_diff, node)\n",
    "        plt.boxplot(wd, 0, \"rs\", 0)\n",
    "        plt.show()\n",
    "        \n",
    "        print(\"Summe: %s\" % d(sum(wd)))\n",
    "        print(\"Mean:  %s\" % d(np.mean(wd)))\n",
    "        \n",
    "        h(\"Artikel + Unterartikel: Quotient Seitenaufrufe MFNF / Wikipedia\", 6)\n",
    "        wd_quot = collect(wp_quot_new, node)\n",
    "        plt.boxplot(wd_quot, 0, \"rs\", 0)\n",
    "        plt.xlim((0,1))\n",
    "        plt.show()\n",
    "        \n",
    "        print(\"Mean: %3.0f%%\" % (100*np.mean(wd_quot)))\n",
    "        \n",
    "    \n",
    "    if len(node[\"children\"]) > 0 and level <= 2:\n",
    "        a1 = collect_authors(authors_new, node)\n",
    "        a2 = collect_authors(authors_old, node)\n",
    "\n",
    "        h(\"Anzahl Autor*innen (Artikel + Unterartikel)\", 5)\n",
    "        display_markdown(\"Autor*in haben mehr als 12 Bearbeitungen im betrachteten Zeitraum \")\n",
    "\n",
    "        v1 = len([k for k,v in a1.items() if v >= 12])\n",
    "        v2 = len([k for k,v in a2.items() if v >= 12])\n",
    "\n",
    "        print(\"2018: %s ┬ %s %s\" % (d(v1), diff(v1,v2), quot(v1,v2)))\n",
    "        print(\"2017: %s ┘      \" %  d(v2))\n",
    "\n",
    "        h(\"Anzahl sehr aktive Autor*innen (Artikel + Unterartikel)\", 5)\n",
    "        display_markdown(\"Autor*in haben mehr als 120 Bearbeitungen im betrachteten Zeitraum\")\n",
    "\n",
    "        v1 = len([k for k,v in a1.items() if v >= 120])\n",
    "        v2 = len([k for k,v in a2.items() if v >= 120])\n",
    "\n",
    "        print(\"2018: %s ┬ %s %s\" % (d(v1), diff(v1,v2), quot(v1,v2)))\n",
    "        print(\"2017: %s ┘      \" %  d(v2))\n",
    "    \n",
    "    if \"link\" in node and node[\"link\"]:\n",
    "        h(\"Seitenaufrufe des Artikels '%s'\" % node[\"link\"], 5)\n",
    "        \n",
    "        v1 = views_new(node)\n",
    "        v2 = views_old(node)\n",
    "        \n",
    "        print(\"2018: %s ┬ %s %s\" % (d(v1), diff(v1,v2), quot(v1,v2)))\n",
    "        print(\"2017: %s ┘      \" %  d(v2))\n",
    "        \n",
    "        h(\"Bearbeitungen im Artikel '%s'\" % node[\"link\"], 5)\n",
    "        \n",
    "        v1 = revs_new(node)\n",
    "        v2 = revs_old(node)\n",
    "        \n",
    "        print(\"2018: %s ┬ %s %s\" % (d(v1), diff(v1,v2), quot(v1,v2)))\n",
    "        print(\"2017: %s ┘      \" %  d(v2))\n",
    "        \n",
    "        w = wp_title(node)\n",
    "        \n",
    "        if w:\n",
    "            h(\"Vergleich der Seitenaufrufe zum Wikipedia-Artikel\", 5)\n",
    "            \n",
    "            wp1 = wp_new(node)\n",
    "            wp2 = wp_old(node)\n",
    "            \n",
    "            print(\"Wikipedia-Artikel: %s\" % w)\n",
    "            print(\"Views 2018:  %s ┬ %s %s\" % (d(wp1), diff(wp1,wp2), quot(wp1,wp2)))\n",
    "            print(\"Views 2017:  %s ┘      \" %  d(wp2))\n",
    "            print()\n",
    "            print(\"MFNF / Wikipedia – 2018: %3.0f%%\" % (wp_quot_new(node)*100))\n",
    "            print(\"MFNF / Wikipedia – 2017: %3.0f%%\" % (wp_quot_old(node)*100))\n",
    "    \n",
    "    display_markdown(\"[Zurück zum Inhaltsverzeichnis](#Inhaltsverzeichnis)\")\n",
    "    \n",
    "    for child in node[\"children\"]:\n",
    "        report(child, level+1)\n",
    "\n",
    "report(sitemap)"
   ]
  },
  {
   "cell_type": "code",
   "execution_count": 67,
   "metadata": {},
   "outputs": [
    {
     "data": {
      "text/html": [
       "<h1>Top-Bearbeiter 2018</h1>"
      ],
      "text/plain": [
       "<IPython.core.display.HTML object>"
      ]
     },
     "metadata": {},
     "output_type": "display_data"
    },
    {
     "name": "stdout",
     "output_type": "stream",
     "text": [
      "Stephan Kulla 896\n",
      "Jürgen-Michael Glubrecht 337\n",
      "Michael D'Erchie 309\n",
      "Aurelia Bröskamp 214\n",
      "Zornsches Lemma 202\n",
      "Matheoldie 196\n",
      "Who2010 167\n",
      "EmmaBrink 131\n",
      "Richard4321 86\n",
      "Sonja Weiland 76\n",
      "Morpurgo10 60\n",
      "EulerschesPi 58\n",
      "Claudia4 57\n",
      "Weltkäfer 53\n",
      "Ch1nie 51\n",
      "Sophie Atzpodien 45\n",
      "Chris.brand 43\n",
      "Christian Ivicevic 42\n",
      "Paulk96 38\n",
      "Modronomiesatz 29\n",
      "Guido1234 27\n",
      "Stefanhuber1993 23\n",
      "David235134 22\n",
      "86.56.19.27 22\n",
      "Malakeks 20\n",
      "84.143.243.130 19\n",
      "Fabian Wietschorke 17\n",
      "Postolus 17\n",
      "MJ Studies 17\n",
      "Valentin Roland 16\n",
      "Naturseptime 15\n",
      "82.212.29.179 14\n",
      "84.143.244.158 14\n",
      "Tzeh 12\n",
      "Maths CA 12\n"
     ]
    },
    {
     "data": {
      "text/html": [
       "<h1>Top-Bearbeiter 2017</h1>"
      ],
      "text/plain": [
       "<IPython.core.display.HTML object>"
      ]
     },
     "metadata": {},
     "output_type": "display_data"
    },
    {
     "name": "stdout",
     "output_type": "stream",
     "text": [
      "Stephan Kulla 1424\n",
      "Auswahlaxiom 1059\n",
      "Matheoldie 825\n",
      "Who2010 316\n",
      "EulerschesPi 126\n",
      "0-Brane 99\n",
      "Ch1nie 94\n",
      "Claudia4 90\n",
      "Morpurgo10 86\n",
      "Taschee 81\n",
      "Phoible 73\n",
      "SerloBot 70\n",
      "Richard4321 56\n",
      "Mathpro01 35\n",
      "Michael D'Erchie 33\n",
      "Agnessa power 28\n",
      "SamuelLippl12345 27\n",
      "JennKi 26\n",
      "Einhalbmvquadrat 25\n",
      "Meitnerium266 24\n",
      "Fabian Wietschorke 16\n",
      "Sven87a 16\n",
      "Lukasstockner 15\n",
      "BenniSERLO 15\n",
      "Mattlocke2.0 15\n",
      "138.246.2.236 15\n",
      "Benjamin Wolba 14\n",
      "Vpt93 14\n",
      "KatharinaKircher 13\n",
      "2001:A61:10DE:1:34DE:34B5:AB73:C28F 13\n"
     ]
    }
   ],
   "source": [
    "a1 = collect_authors(authors_new, sitemap)\n",
    "a2 = collect_authors(authors_old, sitemap)\n",
    "\n",
    "h(\"Top-Bearbeiter 2018\", 1)\n",
    "\n",
    "for k,v in sorted(a1.items(), key=lambda x: x[1], reverse=True):\n",
    "    if v >= 12:\n",
    "        print(k, v)\n",
    "        \n",
    "h(\"Top-Bearbeiter 2017\", 1)\n",
    "\n",
    "for k,v in sorted(a2.items(), key=lambda x: x[1], reverse=True):\n",
    "    if v >= 12:\n",
    "        print(k, v)"
   ]
  },
  {
   "cell_type": "code",
   "execution_count": null,
   "metadata": {
    "collapsed": true
   },
   "outputs": [],
   "source": []
  }
 ],
 "metadata": {
  "kernelspec": {
   "display_name": "Python 3",
   "language": "python",
   "name": "python3"
  },
  "language_info": {
   "codemirror_mode": {
    "name": "ipython",
    "version": 3
   },
   "file_extension": ".py",
   "mimetype": "text/x-python",
   "name": "python",
   "nbconvert_exporter": "python",
   "pygments_lexer": "ipython3",
   "version": "3.5.3"
  }
 },
 "nbformat": 4,
 "nbformat_minor": 2
}
